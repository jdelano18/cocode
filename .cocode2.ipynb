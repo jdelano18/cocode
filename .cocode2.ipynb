{
 "cells": [
  {
   "cell_type": "markdown",
   "metadata": {},
   "source": [
    " <div>\n",
    "    \t<img src=\"./coco.png\" style=\"float: left;height: 55px\">\n",
    "    \t<div style=\"height: 75px;text-align: center; padding-top:5px\">\n",
    "        <h1>\n",
    "      \tFeature selection using LinearRegression()\n",
    "        </h1>\n",
    "        <p></p>\n",
    "    \t</div>\n",
    "\t\t</div> "
   ]
  },
  {
   "cell_type": "markdown",
   "metadata": {},
   "source": [
    " <div style=\"height:40px\">\n",
    "<div style=\"width:100%; text-align:center; border-bottom: 1px solid #000; line-height:0.1em; margin:40px 0 20px;\">\n",
    "<span style=\"background:#fff; padding:0 10px; font-size:25px; font-family: 'Open Sans', sans-serif;\">\n",
    "Question\n",
    "</span>\n",
    "</div>\n",
    "</div>\n",
    "\t"
   ]
  },
  {
   "cell_type": "markdown",
   "metadata": {},
   "source": [
    "<p>I am trying to do feature selection using scikit-learn library.\n",
    "My data is simple. Rows are samples and Columns are features. Though original Class label is X and Y, I changed them to numeric for linear regression, X to 0 and Y to 1.</p>\n",
    "\n",
    "<pre><code>G1  G2  G3  ... Gn Class\n",
    "1.0 4.0 5.0 ... 1.0 0\n",
    "4.0 5.0 9.0 ... 1.0 0\n",
    "9.0 6.0 3.0 ... 2.0 1\n",
    "...\n",
    "</code></pre>\n",
    "\n",
    "<p>I used library sklearn.linear_model.LinearRegression(), and it was performed well. Now I am using coef_ value for feature selection. In this case, I have 2 questions.</p>\n",
    "\n",
    "<p>Is it right to use the coef_ value of features? Or are there some other better parameters for feature selection in LinearRegression()?</p>\n",
    "\n",
    "<p>In addition, is there some kind of rule to decide proper threshold(for example, minimum value of coef_ for feature selection)?</p>\n"
   ]
  },
  {
   "cell_type": "markdown",
   "metadata": {},
   "source": [
    " <div style=\"height:40px\">\n",
    "<div style=\"width:100%; text-align:center; border-bottom: 1px solid #000; line-height:0.1em; margin:40px 0 20px;\">\n",
    "<span style=\"background:#fff; padding:0 10px; font-size:25px; font-family: 'Open Sans', sans-serif;\">\n",
    "Answer\n",
    "</span>\n",
    "</div>\n",
    "</div>\n",
    "\t"
   ]
  },
  {
   "cell_type": "markdown",
   "metadata": {},
   "source": [
    "<p>Simply deciding based on coefficient value is plainly illogical. This is because unless you data is normalized value of coefficient do not indicate anything. </p>\n",
    "\n",
    "<p>For ex: suppose one of the feature ranges from (0,1) and its coefficient is say 0.5 while another ranges from (0,10000) and its coefficient is 0.5. Clearly the weight of later feature is much more due to bigger range in generating final output. </p>\n",
    "\n",
    "<p>So, generally what is suggested is to normalize features. i.e $ x' = \\frac{x-mean(x)}{std(x)} $. and then decide based on value of coefficients.</p>\n",
    "\n",
    "<p>Note : To make prediction remember to transform the features.  </p>\n",
    "\n",
    "<p>This might not always work as normalizing may distort the features. There are other heuristics too. You can read them elsewhere. </p>\n",
    "\n",
    "<p>Another way is by elimination, eliminate features one by one and see how important they are. This can be done by checking the p-value in case of regression or simply the error of fit (sum of squares).</p>\n",
    "\n",
    "<p>A suggestion : Seems like you are using linear regression for a classification problem, which is again principally wrong as linear regression assumes output y is continuous where as here y is 0 or 1. You might want to use logistic regression instead. </p>\n"
   ]
  },
  {
   "cell_type": "markdown",
   "metadata": {},
   "source": [
    " <div style=\"height:40px\">\n",
    "<div style=\"width:100%; text-align:center; border-bottom: 1px solid #000; line-height:0.1em; margin:40px 0 20px;\">\n",
    "<span style=\"background:#fff; padding:0 10px; font-size:25px; font-family: 'Open Sans', sans-serif;\">\n",
    "Attribution\n",
    "</span>\n",
    "</div>\n",
    "</div>\n",
    "\t"
   ]
  },
  {
   "cell_type": "markdown",
   "metadata": {},
   "source": [
    "Thank you to [Umang Gupta](https://stackoverflow.com/users/3236925) for providing this answer to [z991](https://stackoverflow.com/users/5620902)'s question on [Stack Overflow](https://stackoverflow.com/). "
   ]
  },
  {
   "cell_type": "markdown",
   "metadata": {},
   "source": [
    "You can check out the link to the original question [here](https://stackoverflow.com/questions/34203443)."
   ]
  }
 ],
 "metadata": {
  "kernelspec": {
   "display_name": "Python 3",
   "language": "python",
   "name": "python3"
  },
  "language_info": {
   "codemirror_mode": {
    "name": "ipython",
    "version": 3
   },
   "file_extension": ".py",
   "mimetype": "text/x-python",
   "name": "python",
   "nbconvert_exporter": "python",
   "pygments_lexer": "ipython3",
   "version": "3.7.0"
  }
 },
 "nbformat": 4,
 "nbformat_minor": 2
}
