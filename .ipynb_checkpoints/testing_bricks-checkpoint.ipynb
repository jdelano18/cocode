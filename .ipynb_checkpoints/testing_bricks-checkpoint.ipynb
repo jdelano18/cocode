{
 "cells": [
  {
   "cell_type": "markdown",
   "metadata": {},
   "source": [
    "---\n",
    "title: \"Run Test Cases In Jupyter Notebooks\"\n",
    "description: \"A unit test verifies that one specific aspect of your code works as it's supposed to. A test case is a collection of unit tests which verify your code's behavior in a wide variety of situations. Python's unittest module provides tools for testing your code. To build a test case, make a class that inherits from\n",
    "unittest.TestCase and write methods that begin with test_.\"\n",
    "tags: Testing, Unit test\n",
    "URL: http://ehmatthes.github.io/pcc/cheatsheets/README.html https://medium.com/@vladbezden/using-python-unittest-in-ipython-or-jupyter-732448724e31\n",
    "Licence: Apache License 2.0\n",
    "Creator: \n",
    "Meta: \"unittest\"\n",
    "\n",
    "---"
   ]
  },
  {
   "cell_type": "markdown",
   "metadata": {},
   "source": [
    "# Key Code&"
   ]
  },
  {
   "cell_type": "code",
   "execution_count": 1,
   "metadata": {},
   "outputs": [],
   "source": [
    "import unittest\n",
    "class MyTester(unittest.TestCase):\n",
    "    \"\"\"Example of how to write a unit test in ipynb\"\"\"\n",
    "    \n",
    "    # Note: methods must start with 'test_'\n",
    "    def test_a_function(self):\n",
    "        pass"
   ]
  },
  {
   "cell_type": "markdown",
   "metadata": {},
   "source": [
    "## Jupyter Notebook specific code"
   ]
  },
  {
   "cell_type": "markdown",
   "metadata": {},
   "source": [
    "`unittest.main` looks at `sys.argv` and the first parameter is what starts the ipynb. Thus, you must pass a list to `argv` so it doesn't look at `sys.argv`. Setting `exit = False` prevents unittest.main from shutting down the kernel."
   ]
  },
  {
   "cell_type": "code",
   "execution_count": 2,
   "metadata": {},
   "outputs": [
    {
     "name": "stderr",
     "output_type": "stream",
     "text": [
      ".\n",
      "----------------------------------------------------------------------\n",
      "Ran 1 test in 0.001s\n",
      "\n",
      "OK\n"
     ]
    }
   ],
   "source": [
    "if __name__ == '__main__':\n",
    "    unittest.main(argv = ['first-arg-is-ignored'], exit=False)"
   ]
  },
  {
   "cell_type": "markdown",
   "metadata": {},
   "source": [
    "## Common Jupyter Error"
   ]
  },
  {
   "cell_type": "code",
   "execution_count": 21,
   "metadata": {
    "scrolled": true
   },
   "outputs": [
    {
     "name": "stderr",
     "output_type": "stream",
     "text": [
      "E\n",
      "======================================================================\n",
      "ERROR: /Users/jimmydelano/Library/Jupyter/runtime/kernel-6680ec17-a1f5-4fab-aa5a-a32ee36026e1 (unittest.loader._FailedTest)\n",
      "----------------------------------------------------------------------\n",
      "AttributeError: module '__main__' has no attribute '/Users/jimmydelano/Library/Jupyter/runtime/kernel-6680ec17-a1f5-4fab-aa5a-a32ee36026e1'\n",
      "\n",
      "----------------------------------------------------------------------\n",
      "Ran 1 test in 0.001s\n",
      "\n",
      "FAILED (errors=1)\n"
     ]
    },
    {
     "ename": "SystemExit",
     "evalue": "True",
     "output_type": "error",
     "traceback": [
      "An exception has occurred, use %tb to see the full traceback.\n",
      "\u001b[0;31mSystemExit\u001b[0m\u001b[0;31m:\u001b[0m True\n"
     ]
    },
    {
     "name": "stderr",
     "output_type": "stream",
     "text": [
      "/Library/Frameworks/Python.framework/Versions/3.7/lib/python3.7/site-packages/IPython/core/interactiveshell.py:2969: UserWarning: To exit: use 'exit', 'quit', or Ctrl-D.\n",
      "  warn(\"To exit: use 'exit', 'quit', or Ctrl-D.\", stacklevel=1)\n"
     ]
    }
   ],
   "source": [
    "import unittest\n",
    "class MyTester(unittest.TestCase):\n",
    "    \"\"\"Example of why this doesn't work in jupyter\"\"\"\n",
    "    def test(self):\n",
    "        pass\n",
    "\n",
    "if __name__ == '__main__':\n",
    "    unittest.main()"
   ]
  },
  {
   "cell_type": "markdown",
   "metadata": {},
   "source": [
    "<br> <br>"
   ]
  },
  {
   "cell_type": "markdown",
   "metadata": {},
   "source": [
    "# Example&"
   ]
  },
  {
   "cell_type": "code",
   "execution_count": 7,
   "metadata": {},
   "outputs": [],
   "source": [
    "def get_full_name(first, last):\n",
    "    full_name = f\"{first} {last}\"\n",
    "    return full_name.title()\n",
    "\n",
    "class MyTester(unittest.TestCase):\n",
    "    \"\"\"Example of how to write a unit test in ipynb\"\"\"\n",
    "    \n",
    "    # Note: methods must start with 'test_'\n",
    "    def test_full_name(self):\n",
    "        name = get_full_name('ariana', 'grande')\n",
    "        self.assertEqual(name,'Ariana Grande')\n",
    "        "
   ]
  },
  {
   "cell_type": "code",
   "execution_count": 8,
   "metadata": {},
   "outputs": [
    {
     "name": "stderr",
     "output_type": "stream",
     "text": [
      ".\n",
      "----------------------------------------------------------------------\n",
      "Ran 1 test in 0.001s\n",
      "\n",
      "OK\n"
     ]
    }
   ],
   "source": [
    "if __name__ == '__main__':\n",
    "    unittest.main(argv=['first-arg-is-ignored'], exit=False)"
   ]
  },
  {
   "cell_type": "markdown",
   "metadata": {},
   "source": [
    "---\n",
    "title: \"Run Test Cases In Python\"\n",
    "description: \"A unit test verifies that one specific aspect of your code works as it's supposed to. A test case is a collection of unit tests which verify your code's behavior in a wide variety of situations. Python's unittest module provides tools for testing your code. To build a test case, make a class that inherits from\n",
    "unittest.TestCase and write methods that begin with test_.\"\n",
    "tags: Testing, Unit test, Python Fundamentals\n",
    "URL: http://ehmatthes.github.io/pcc/cheatsheets/README.html https://medium.com/@vladbezden/using-python-unittest-in-ipython-or-jupyter-732448724e31\n",
    "Licence: Apache License 2.0\n",
    "Creator: \n",
    "Meta: \"unittest\"\n",
    "\n",
    "---"
   ]
  },
  {
   "cell_type": "markdown",
   "metadata": {},
   "source": [
    "# Key Code&"
   ]
  },
  {
   "cell_type": "markdown",
   "metadata": {},
   "source": [
    "**Note:** this cell wont run in a jupyter notebook. See the brick on unittest test cases in jupyter. This is for python scripts only."
   ]
  },
  {
   "cell_type": "code",
   "execution_count": null,
   "metadata": {},
   "outputs": [],
   "source": [
    "import unittest\n",
    "class MyTester(unittest.TestCase):\n",
    "    \"\"\"Example of how to write a unit test in ipynb\"\"\"\n",
    "    \n",
    "    # Note: methods must start with 'test_'\n",
    "    def test_a_function(self):\n",
    "        pass\n",
    "    \n",
    "if __name__ == '__main__':\n",
    "    unittest.main()"
   ]
  },
  {
   "cell_type": "markdown",
   "metadata": {},
   "source": [
    "# Example&"
   ]
  },
  {
   "cell_type": "code",
   "execution_count": 7,
   "metadata": {},
   "outputs": [],
   "source": [
    "def get_full_name(first, last):\n",
    "    full_name = f\"{first} {last}\"\n",
    "    return full_name.title()\n",
    "\n",
    "class MyTester(unittest.TestCase):\n",
    "    \"\"\"Example of how to write a unit test in ipynb\"\"\"\n",
    "    \n",
    "    # Note: methods must start with 'test_'\n",
    "    def test_full_name(self):\n",
    "        name = get_full_name('ariana', 'grande')\n",
    "        self.assertEqual(name,'Ariana Grande')\n",
    "        "
   ]
  },
  {
   "cell_type": "markdown",
   "metadata": {},
   "source": [
    "---\n",
    "title: \"Assert Equal Method For Unittests\"\n",
    "description: \"Python provides a number of assert methods you can use to test your code. Learn how to use the assertEqual method to verify that two things are equal.\"\n",
    "tags: Testing, Unit test\n",
    "URL: http://ehmatthes.github.io/pcc/cheatsheets/README.html\n",
    "Licence: Apache License 2.0\n",
    "Creator: \n",
    "Meta: \"assertEqual unittest test case\"\n",
    "\n",
    "---"
   ]
  },
  {
   "cell_type": "markdown",
   "metadata": {},
   "source": [
    "# Key Code&"
   ]
  },
  {
   "cell_type": "code",
   "execution_count": 1,
   "metadata": {},
   "outputs": [],
   "source": [
    "import unittest"
   ]
  },
  {
   "cell_type": "code",
   "execution_count": null,
   "metadata": {},
   "outputs": [],
   "source": [
    "# verify that a and b are equal\n",
    "self.assertEqual(a, b)"
   ]
  },
  {
   "cell_type": "markdown",
   "metadata": {},
   "source": [
    "# Example&"
   ]
  },
  {
   "cell_type": "code",
   "execution_count": 2,
   "metadata": {
    "scrolled": true
   },
   "outputs": [
    {
     "name": "stderr",
     "output_type": "stream",
     "text": [
      ".\n",
      "----------------------------------------------------------------------\n",
      "Ran 1 test in 0.001s\n",
      "\n",
      "OK\n"
     ]
    }
   ],
   "source": [
    "def reverse(x):\n",
    "    return x[::-1]\n",
    "    \n",
    "class Tester(unittest.TestCase):\n",
    "    def test_reverse(self):\n",
    "        l = reverse([1,2,3,4])\n",
    "        self.assertEqual(l, [4,3,2,1])\n",
    "\n",
    "if __name__ == '__main__':\n",
    "    unittest.main(argv=['first-arg-is-ignored'], exit=False)"
   ]
  },
  {
   "cell_type": "markdown",
   "metadata": {},
   "source": [
    "---\n",
    "title: \"Assert Not Equal Method For Unittests\"\n",
    "description: \"Python provides a number of assert methods you can use to test your code. Learn how to use the assertNotEqual method to verify that two things are not equal.\"\n",
    "tags: Testing, Unit test\n",
    "URL: http://ehmatthes.github.io/pcc/cheatsheets/README.html\n",
    "Licence: Apache License 2.0\n",
    "Creator: \n",
    "Meta: \"assertNotEqual unittest test case\"\n",
    "\n",
    "---"
   ]
  },
  {
   "cell_type": "markdown",
   "metadata": {},
   "source": [
    "# Key Code&"
   ]
  },
  {
   "cell_type": "code",
   "execution_count": 1,
   "metadata": {},
   "outputs": [],
   "source": [
    "import unittest"
   ]
  },
  {
   "cell_type": "code",
   "execution_count": null,
   "metadata": {},
   "outputs": [],
   "source": [
    "# verify that a and b are not equal\n",
    "self.assertNotEqual(a, b)"
   ]
  },
  {
   "cell_type": "markdown",
   "metadata": {},
   "source": [
    "# Example&"
   ]
  },
  {
   "cell_type": "code",
   "execution_count": 4,
   "metadata": {},
   "outputs": [
    {
     "name": "stderr",
     "output_type": "stream",
     "text": [
      ".\n",
      "----------------------------------------------------------------------\n",
      "Ran 1 test in 0.001s\n",
      "\n",
      "OK\n"
     ]
    }
   ],
   "source": [
    "def reverse(x):\n",
    "    return x[::-1]\n",
    "    \n",
    "class Tester(unittest.TestCase):\n",
    "    def test_reverse(self):\n",
    "        l = reverse([1,2,3,4])\n",
    "        self.assertNotEqual(l, [1,2,3,4])\n",
    "\n",
    "if __name__ == '__main__':\n",
    "    unittest.main(argv=['first-arg-is-ignored'], exit=False)"
   ]
  },
  {
   "cell_type": "markdown",
   "metadata": {},
   "source": [
    "---\n",
    "title: \"Assert True Method For Unittests\"\n",
    "description: \"Python provides a number of assert methods you can use to test your code. Learn how to use the assertTrue method to verify that something is True.\"\n",
    "tags: Testing, Unit test\n",
    "URL: http://ehmatthes.github.io/pcc/cheatsheets/README.html\n",
    "Licence: Apache License 2.0\n",
    "Creator: \n",
    "Meta: \"assertTrue unittest test case\"\n",
    "\n",
    "---"
   ]
  },
  {
   "cell_type": "markdown",
   "metadata": {},
   "source": [
    "# Key Code&"
   ]
  },
  {
   "cell_type": "code",
   "execution_count": 1,
   "metadata": {},
   "outputs": [],
   "source": [
    "import unittest"
   ]
  },
  {
   "cell_type": "code",
   "execution_count": null,
   "metadata": {},
   "outputs": [],
   "source": [
    "# verify that a is True\n",
    "self.assertTrue(a)"
   ]
  },
  {
   "cell_type": "markdown",
   "metadata": {},
   "source": [
    "# Example&"
   ]
  },
  {
   "cell_type": "code",
   "execution_count": 5,
   "metadata": {},
   "outputs": [
    {
     "name": "stderr",
     "output_type": "stream",
     "text": [
      ".\n",
      "----------------------------------------------------------------------\n",
      "Ran 1 test in 0.001s\n",
      "\n",
      "OK\n"
     ]
    }
   ],
   "source": [
    "def is_even(n):\n",
    "    return n % 2 == 0\n",
    "    \n",
    "class Tester(unittest.TestCase):\n",
    "    def test_is_even(self):\n",
    "        n = is_even(18)\n",
    "        self.assertTrue(n)\n",
    "\n",
    "if __name__ == '__main__':\n",
    "    unittest.main(argv=['first-arg-is-ignored'], exit=False)"
   ]
  },
  {
   "cell_type": "markdown",
   "metadata": {},
   "source": [
    "---\n",
    "title: \"Assert False Method For Unittests\"\n",
    "description: \"Python provides a number of assert methods you can use to test your code. Learn how to use the assertFalse method to verify that something is False.\"\n",
    "tags: Testing, Unit test\n",
    "URL: http://ehmatthes.github.io/pcc/cheatsheets/README.html\n",
    "Licence: Apache License 2.0\n",
    "Creator: \n",
    "Meta: \"unittest test case\"\n",
    "\n",
    "---"
   ]
  },
  {
   "cell_type": "markdown",
   "metadata": {},
   "source": [
    "# Key Code&"
   ]
  },
  {
   "cell_type": "code",
   "execution_count": 1,
   "metadata": {},
   "outputs": [],
   "source": [
    "import unittest"
   ]
  },
  {
   "cell_type": "code",
   "execution_count": null,
   "metadata": {},
   "outputs": [],
   "source": [
    "# verify that a is False\n",
    "self.assertFalse(a)"
   ]
  },
  {
   "cell_type": "markdown",
   "metadata": {},
   "source": [
    "# Example&"
   ]
  },
  {
   "cell_type": "code",
   "execution_count": 7,
   "metadata": {},
   "outputs": [
    {
     "name": "stderr",
     "output_type": "stream",
     "text": [
      ".\n",
      "----------------------------------------------------------------------\n",
      "Ran 1 test in 0.001s\n",
      "\n",
      "OK\n"
     ]
    }
   ],
   "source": [
    "def is_even(n):\n",
    "    return n % 2 == 0\n",
    "    \n",
    "class Tester(unittest.TestCase):\n",
    "    def test_is_even(self):\n",
    "        n = is_even(19)\n",
    "        self.assertFalse(n)\n",
    "\n",
    "if __name__ == '__main__':\n",
    "    unittest.main(argv=['first-arg-is-ignored'], exit=False)"
   ]
  },
  {
   "cell_type": "markdown",
   "metadata": {},
   "source": [
    "---\n",
    "title: \"Assert In Method For Unittests\"\n",
    "description: \"Python provides a number of assert methods you can use to test your code. Learn how to use the assertIn method to verify that a is in iterable b.\"\n",
    "tags: Testing, Unit test\n",
    "URL: http://ehmatthes.github.io/pcc/cheatsheets/README.html\n",
    "Licence: Apache License 2.0\n",
    "Creator: \n",
    "Meta: \"assertIn unittest test case\"\n",
    "\n",
    "---"
   ]
  },
  {
   "cell_type": "markdown",
   "metadata": {},
   "source": [
    "# Key Code&"
   ]
  },
  {
   "cell_type": "code",
   "execution_count": 1,
   "metadata": {},
   "outputs": [],
   "source": [
    "import unittest"
   ]
  },
  {
   "cell_type": "code",
   "execution_count": null,
   "metadata": {},
   "outputs": [],
   "source": [
    "# verify that a is in b\n",
    "self.assertIn(a, b)"
   ]
  },
  {
   "cell_type": "markdown",
   "metadata": {},
   "source": [
    "# Example&"
   ]
  },
  {
   "cell_type": "code",
   "execution_count": 9,
   "metadata": {},
   "outputs": [
    {
     "name": "stderr",
     "output_type": "stream",
     "text": [
      ".\n",
      "----------------------------------------------------------------------\n",
      "Ran 1 test in 0.001s\n",
      "\n",
      "OK\n"
     ]
    }
   ],
   "source": [
    "def upper(x):\n",
    "    return x.upper()\n",
    "    \n",
    "class Tester(unittest.TestCase):\n",
    "    def test_upper_str(self):\n",
    "        name = upper(\"ariana grande\")\n",
    "        self.assertIn(\"GRAND\", name)\n",
    "\n",
    "if __name__ == '__main__':\n",
    "    unittest.main(argv=['first-arg-is-ignored'], exit=False)"
   ]
  },
  {
   "cell_type": "markdown",
   "metadata": {},
   "source": [
    "---\n",
    "title: \"Assert Not In Method For Unittests\"\n",
    "description: \"Python provides a number of assert methods you can use to test your code. Learn how to use the assertNotIn method to verify that a is not in iterable b.\"\n",
    "tags: Testing, Unit test\n",
    "URL: http://ehmatthes.github.io/pcc/cheatsheets/README.html\n",
    "Licence: Apache License 2.0\n",
    "Creator: \n",
    "Meta: \"assertNotIn unittest test case\"\n",
    "\n",
    "---"
   ]
  },
  {
   "cell_type": "markdown",
   "metadata": {},
   "source": [
    "# Key Code&"
   ]
  },
  {
   "cell_type": "code",
   "execution_count": 1,
   "metadata": {},
   "outputs": [],
   "source": [
    "import unittest"
   ]
  },
  {
   "cell_type": "code",
   "execution_count": null,
   "metadata": {},
   "outputs": [],
   "source": [
    "# verify that a is not in b\n",
    "self.assertNotIn(a, b)"
   ]
  },
  {
   "cell_type": "markdown",
   "metadata": {},
   "source": [
    "# Example&"
   ]
  },
  {
   "cell_type": "code",
   "execution_count": 10,
   "metadata": {},
   "outputs": [
    {
     "name": "stderr",
     "output_type": "stream",
     "text": [
      ".\n",
      "----------------------------------------------------------------------\n",
      "Ran 1 test in 0.001s\n",
      "\n",
      "OK\n"
     ]
    }
   ],
   "source": [
    "def upper(x):\n",
    "    return x.upper()\n",
    "    \n",
    "class Tester(unittest.TestCase):\n",
    "    def test_upper_str(self):\n",
    "        name = upper(\"ariana grande\")\n",
    "        self.assertNotIn(\"grand\", name)\n",
    "\n",
    "if __name__ == '__main__':\n",
    "    unittest.main(argv=['first-arg-is-ignored'], exit=False)"
   ]
  },
  {
   "cell_type": "markdown",
   "metadata": {},
   "source": [
    "---\n",
    "title: \"Assert Greater Method For Unittests\"\n",
    "description: \"Python provides a number of assert methods you can use to test your code. Learn how to use the assertGreater method to verify that a > b.\"\n",
    "tags: Testing, Unit test\n",
    "URL: http://ehmatthes.github.io/pcc/cheatsheets/README.html\n",
    "Licence: Apache License 2.0\n",
    "Creator: \n",
    "Meta: \"assertGreater unittest test case\"\n",
    "\n",
    "---"
   ]
  },
  {
   "cell_type": "markdown",
   "metadata": {},
   "source": [
    "# Key Code&"
   ]
  },
  {
   "cell_type": "code",
   "execution_count": 1,
   "metadata": {},
   "outputs": [],
   "source": [
    "import unittest"
   ]
  },
  {
   "cell_type": "code",
   "execution_count": null,
   "metadata": {},
   "outputs": [],
   "source": [
    "# verify that a > b\n",
    "self.assertGreater(a, b)"
   ]
  },
  {
   "cell_type": "markdown",
   "metadata": {},
   "source": [
    "# Example&"
   ]
  },
  {
   "cell_type": "code",
   "execution_count": 11,
   "metadata": {
    "scrolled": true
   },
   "outputs": [
    {
     "name": "stderr",
     "output_type": "stream",
     "text": [
      ".\n",
      "----------------------------------------------------------------------\n",
      "Ran 1 test in 0.001s\n",
      "\n",
      "OK\n"
     ]
    }
   ],
   "source": [
    "def my_func(x):\n",
    "    return abs(x) * 10\n",
    "    \n",
    "class Tester(unittest.TestCase):\n",
    "    def test_not_negative(self):\n",
    "        n = my_func(-134)\n",
    "        self.assertGreater(n, -1)\n",
    "\n",
    "if __name__ == '__main__':\n",
    "    unittest.main(argv=['first-arg-is-ignored'], exit=False)"
   ]
  },
  {
   "cell_type": "markdown",
   "metadata": {},
   "source": [
    "---\n",
    "title: \"Assert Less Method For Unittests\"\n",
    "description: \"Python provides a number of assert methods you can use to test your code. Learn how to use the assertLess method to verify that a < b.\"\n",
    "tags: Testing, Unit test\n",
    "URL: http://ehmatthes.github.io/pcc/cheatsheets/README.html\n",
    "Licence: Apache License 2.0\n",
    "Creator: \n",
    "Meta: \"assertLess unittest test case\"\n",
    "\n",
    "---"
   ]
  },
  {
   "cell_type": "markdown",
   "metadata": {},
   "source": [
    "# Key Code&"
   ]
  },
  {
   "cell_type": "code",
   "execution_count": 1,
   "metadata": {},
   "outputs": [],
   "source": [
    "import unittest"
   ]
  },
  {
   "cell_type": "code",
   "execution_count": null,
   "metadata": {},
   "outputs": [],
   "source": [
    "# verify that a < b\n",
    "self.assertGreater(a, b)"
   ]
  },
  {
   "cell_type": "markdown",
   "metadata": {},
   "source": [
    "# Example&"
   ]
  },
  {
   "cell_type": "code",
   "execution_count": 12,
   "metadata": {
    "scrolled": true
   },
   "outputs": [
    {
     "name": "stderr",
     "output_type": "stream",
     "text": [
      ".\n",
      "----------------------------------------------------------------------\n",
      "Ran 1 test in 0.001s\n",
      "\n",
      "OK\n"
     ]
    }
   ],
   "source": [
    "def my_func(x):\n",
    "    return abs(x) * 10\n",
    "    \n",
    "class Tester(unittest.TestCase):\n",
    "    def test_not_negative(self):\n",
    "        n = my_func(-134)\n",
    "        self.assertLess(-1, n)\n",
    "\n",
    "if __name__ == '__main__':\n",
    "    unittest.main(argv=['first-arg-is-ignored'], exit=False)"
   ]
  },
  {
   "cell_type": "markdown",
   "metadata": {},
   "source": [
    "---\n",
    "title: \"Assert Greater Equal Method For Unittests\"\n",
    "description: \"Python provides a number of assert methods you can use to test your code. Learn how to use the assertGreaterEqual method to verify that a >= b.\"\n",
    "tags: Testing, Unit test\n",
    "URL: http://ehmatthes.github.io/pcc/cheatsheets/README.html\n",
    "Licence: Apache License 2.0\n",
    "Creator: \n",
    "Meta: \"assertGreaterEqual unittest test case\"\n",
    "\n",
    "---"
   ]
  },
  {
   "cell_type": "markdown",
   "metadata": {},
   "source": [
    "# Key Code&"
   ]
  },
  {
   "cell_type": "code",
   "execution_count": 1,
   "metadata": {},
   "outputs": [],
   "source": [
    "import unittest"
   ]
  },
  {
   "cell_type": "code",
   "execution_count": null,
   "metadata": {},
   "outputs": [],
   "source": [
    "# verify that a >= b\n",
    "self.assertGreaterEqual(a, b)"
   ]
  },
  {
   "cell_type": "markdown",
   "metadata": {},
   "source": [
    "# Example&"
   ]
  },
  {
   "cell_type": "code",
   "execution_count": 13,
   "metadata": {
    "scrolled": true
   },
   "outputs": [
    {
     "name": "stderr",
     "output_type": "stream",
     "text": [
      ".\n",
      "----------------------------------------------------------------------\n",
      "Ran 1 test in 0.001s\n",
      "\n",
      "OK\n"
     ]
    }
   ],
   "source": [
    "def my_func(x):\n",
    "    return abs(x) * 10\n",
    "    \n",
    "class Tester(unittest.TestCase):\n",
    "    def test_not_negative(self):\n",
    "        n = my_func(-134)\n",
    "        self.assertGreaterEqual(n, 1340)\n",
    "\n",
    "if __name__ == '__main__':\n",
    "    unittest.main(argv=['first-arg-is-ignored'], exit=False)"
   ]
  },
  {
   "cell_type": "markdown",
   "metadata": {},
   "source": [
    "---\n",
    "title: \"Assert Less Equal Method For Unittests\"\n",
    "description: \"Python provides a number of assert methods you can use to test your code. Learn how to use the assertLessEqual method to verify that a <= b.\"\n",
    "tags: Testing, Unit test\n",
    "URL: http://ehmatthes.github.io/pcc/cheatsheets/README.html\n",
    "Licence: Apache License 2.0\n",
    "Creator: \n",
    "Meta: \"assertLessEqual unittest test case\"\n",
    "\n",
    "---"
   ]
  },
  {
   "cell_type": "markdown",
   "metadata": {},
   "source": [
    "# Key Code&"
   ]
  },
  {
   "cell_type": "code",
   "execution_count": 1,
   "metadata": {},
   "outputs": [],
   "source": [
    "import unittest"
   ]
  },
  {
   "cell_type": "code",
   "execution_count": null,
   "metadata": {},
   "outputs": [],
   "source": [
    "# verify that a <= b\n",
    "self.assertLessEqual(a, b)"
   ]
  },
  {
   "cell_type": "markdown",
   "metadata": {},
   "source": [
    "# Example&"
   ]
  },
  {
   "cell_type": "code",
   "execution_count": 15,
   "metadata": {
    "scrolled": true
   },
   "outputs": [
    {
     "name": "stderr",
     "output_type": "stream",
     "text": [
      ".\n",
      "----------------------------------------------------------------------\n",
      "Ran 1 test in 0.001s\n",
      "\n",
      "OK\n"
     ]
    }
   ],
   "source": [
    "def my_func(x):\n",
    "    return abs(x) * 10\n",
    "    \n",
    "class Tester(unittest.TestCase):\n",
    "    def test_not_negative(self):\n",
    "        n = my_func(-134)\n",
    "        self.assertLessEqual(1340, n)\n",
    "\n",
    "if __name__ == '__main__':\n",
    "    unittest.main(argv=['first-arg-is-ignored'], exit=False)"
   ]
  },
  {
   "cell_type": "markdown",
   "metadata": {},
   "source": [
    "---\n",
    "title: \"Assert Raises Method For Unittests\"\n",
    "description: \"Python provides a number of assert methods you can use to test your code. Learn how to use the assertRaises method to verify that a function will raise a particular error and that the exceptions error code is what you expect it to be.\"\n",
    "tags: Testing, Unit test\n",
    "URL: http://ehmatthes.github.io/pcc/cheatsheets/README.html\n",
    "Licence: Apache License 2.0\n",
    "Creator: \n",
    "Meta: \"assertRaises unittest test case\"\n",
    "\n",
    "---"
   ]
  },
  {
   "cell_type": "markdown",
   "metadata": {},
   "source": [
    "# Key Code&"
   ]
  },
  {
   "cell_type": "code",
   "execution_count": 1,
   "metadata": {},
   "outputs": [],
   "source": [
    "import unittest"
   ]
  },
  {
   "cell_type": "code",
   "execution_count": null,
   "metadata": {},
   "outputs": [],
   "source": [
    "# verify an exception is raised\n",
    "with self.assertRaises(SomeException):\n",
    "    a_function()"
   ]
  },
  {
   "cell_type": "code",
   "execution_count": null,
   "metadata": {},
   "outputs": [],
   "source": [
    "with self.assertRaises(SomeException) as e:\n",
    "    a_function()\n",
    "the_exception = e.exception\n",
    "self.assertEqual(the_exception.error_code, 404)"
   ]
  },
  {
   "cell_type": "markdown",
   "metadata": {},
   "source": [
    "# Example&"
   ]
  },
  {
   "cell_type": "code",
   "execution_count": 24,
   "metadata": {
    "scrolled": false
   },
   "outputs": [
    {
     "name": "stderr",
     "output_type": "stream",
     "text": [
      "..\n",
      "----------------------------------------------------------------------\n",
      "Ran 2 tests in 0.003s\n",
      "\n",
      "OK\n"
     ]
    }
   ],
   "source": [
    "def safe_divide(a, b):\n",
    "    assert (b != 0), \"No no no, not today\"\n",
    "    return a / b\n",
    "   \n",
    "class Tester(unittest.TestCase):\n",
    "    \n",
    "    def test_raise(self):\n",
    "        with self.assertRaises(NameError):\n",
    "            print(q)\n",
    "            \n",
    "    def test_raise_as(self):\n",
    "        with self.assertRaises(AssertionError) as ae:\n",
    "            safe_divide(5, 0)\n",
    "        self.assertIn(\"no\", str(ae.exception))\n",
    "\n",
    "if __name__ == '__main__':\n",
    "    unittest.main(argv=['first-arg-is-ignored'], exit=False)"
   ]
  },
  {
   "cell_type": "markdown",
   "metadata": {},
   "source": [
    "---\n",
    "title: \"Set Up Method For Unittests\"\n",
    "description: \"When testing a class, you usually have to make an instance of the class. The setUp() method is run before every test. Any instances you make in setUp() are available in every test you write. Learn how to use the setUp method in your test cases.\"\n",
    "tags: Testing, Unit test\n",
    "URL: http://ehmatthes.github.io/pcc/cheatsheets/README.html\n",
    "Licence: Apache License 2.0\n",
    "Creator: \n",
    "Meta: \"setUp unittest test case\"\n",
    "\n",
    "---"
   ]
  },
  {
   "cell_type": "markdown",
   "metadata": {},
   "source": [
    "# Key Code&"
   ]
  },
  {
   "cell_type": "code",
   "execution_count": null,
   "metadata": {},
   "outputs": [],
   "source": [
    "import unittest"
   ]
  },
  {
   "cell_type": "code",
   "execution_count": null,
   "metadata": {},
   "outputs": [],
   "source": [
    "class Tester(unittest.TestCase):\n",
    "    \"\"\"Example\"\"\"\n",
    "    def setUp(self):\n",
    "        self.obj = MyObject()\n",
    "        \n",
    "    def test_something_about_object(self):\n",
    "        # access this object as\n",
    "        self.obj"
   ]
  },
  {
   "cell_type": "markdown",
   "metadata": {},
   "source": [
    "# Example&"
   ]
  },
  {
   "cell_type": "markdown",
   "metadata": {},
   "source": [
    "## Create an example class"
   ]
  },
  {
   "cell_type": "code",
   "execution_count": 25,
   "metadata": {},
   "outputs": [],
   "source": [
    "class Accountant():\n",
    "    \"\"\"Manage a bank account.\"\"\"\n",
    "    \n",
    "    def __init__(self, balance=0):\n",
    "        self.balance = balance\n",
    "        \n",
    "    def deposit(self, amount):\n",
    "        self.balance += amount\n",
    "    \n",
    "    def withdraw(self, amount):\n",
    "        self.balance -= amount"
   ]
  },
  {
   "cell_type": "markdown",
   "metadata": {},
   "source": [
    "## Test its methods"
   ]
  },
  {
   "cell_type": "code",
   "execution_count": 26,
   "metadata": {},
   "outputs": [
    {
     "name": "stderr",
     "output_type": "stream",
     "text": [
      ".....\n",
      "----------------------------------------------------------------------\n",
      "Ran 5 tests in 0.003s\n",
      "\n",
      "OK\n"
     ]
    }
   ],
   "source": [
    "class TestAccountant(unittest.TestCase):\n",
    "    \"\"\"Tests for the class Accountant.\"\"\"\n",
    "\n",
    "    def setUp(self):\n",
    "        self.acc = Accountant()\n",
    "\n",
    "    def test_initial_balance(self):\n",
    "        # Default balance should be 0.\n",
    "        self.assertEqual(self.acc.balance, 0)\n",
    "\n",
    "        # Test non-default balance.\n",
    "        acc = Accountant(100)\n",
    "        self.assertEqual(acc.balance, 100)\n",
    "\n",
    "    def test_deposit(self):\n",
    "        # Test single deposit.\n",
    "        self.acc.deposit(100)\n",
    "        self.assertEqual(self.acc.balance, 100)\n",
    "\n",
    "        # Test multiple deposits.\n",
    "        self.acc.deposit(100)\n",
    "        self.acc.deposit(100)\n",
    "        self.assertEqual(self.acc.balance, 300)\n",
    "\n",
    "    def test_withdrawal(self):\n",
    "        # Test single withdrawal.\n",
    "        self.acc.deposit(1000)\n",
    "        self.acc.withdraw(100)\n",
    "        self.assertEqual(self.acc.balance, 900)\n",
    "        \n",
    "if __name__ == '__main__':\n",
    "    unittest.main(argv=['first-arg-is-ignored'], exit=False)"
   ]
  }
 ],
 "metadata": {
  "kernelspec": {
   "display_name": "Python 3",
   "language": "python",
   "name": "python3"
  },
  "language_info": {
   "codemirror_mode": {
    "name": "ipython",
    "version": 3
   },
   "file_extension": ".py",
   "mimetype": "text/x-python",
   "name": "python",
   "nbconvert_exporter": "python",
   "pygments_lexer": "ipython3",
   "version": "3.7.0"
  }
 },
 "nbformat": 4,
 "nbformat_minor": 2
}
