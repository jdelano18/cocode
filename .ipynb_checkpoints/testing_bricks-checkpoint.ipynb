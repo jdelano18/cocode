{
 "cells": [
  {
   "cell_type": "markdown",
   "metadata": {},
   "source": [
    "# Come back and break up last one later"
   ]
  },
  {
   "cell_type": "markdown",
   "metadata": {},
   "source": [
    "---\n",
    "title: \"Unittest Test Cases In Jupyter Notebooks\"\n",
    "description: \"A unit test verifies that one specific aspect of your code works as it's supposed to. A test case is a collection of unit tests which verify your code's behavior in a wide variety of situations. Python's unittest module provides tools for testing your code. To build a test case, make a class that inherits from\n",
    "unittest.TestCase and write methods that begin with test_.\"\n",
    "tags: Testing, Unit test\n",
    "URL: http://ehmatthes.github.io/pcc/cheatsheets/README.html https://medium.com/@vladbezden/using-python-unittest-in-ipython-or-jupyter-732448724e31\n",
    "Licence: Apache License 2.0\n",
    "Creator: \n",
    "Meta: \"\"\n",
    "\n",
    "---"
   ]
  },
  {
   "cell_type": "markdown",
   "metadata": {},
   "source": [
    "# Key Code&"
   ]
  },
  {
   "cell_type": "code",
   "execution_count": 1,
   "metadata": {},
   "outputs": [],
   "source": [
    "import unittest\n",
    "class MyTester(unittest.TestCase):\n",
    "    \"\"\"Example of how to write a unit test in ipynb\"\"\"\n",
    "    \n",
    "    # Note: methods must start with 'test_'\n",
    "    def test_a_function(self):\n",
    "        pass"
   ]
  },
  {
   "cell_type": "markdown",
   "metadata": {},
   "source": [
    "## Jupyter Notebook specific code"
   ]
  },
  {
   "cell_type": "markdown",
   "metadata": {},
   "source": [
    "`unittest.main` looks at `sys.argv` and the first parameter is what starts the ipynb. Thus, you must pass a list to `argv` so it doesn't look at `sys.argv`. Setting `exit = False` prevents unittest.main from shutting down the kernel."
   ]
  },
  {
   "cell_type": "code",
   "execution_count": 2,
   "metadata": {},
   "outputs": [
    {
     "name": "stderr",
     "output_type": "stream",
     "text": [
      ".\n",
      "----------------------------------------------------------------------\n",
      "Ran 1 test in 0.001s\n",
      "\n",
      "OK\n"
     ]
    }
   ],
   "source": [
    "if __name__ == '__main__':\n",
    "    unittest.main(argv = ['first-arg-is-ignored'], exit=False)"
   ]
  },
  {
   "cell_type": "markdown",
   "metadata": {},
   "source": [
    "## Common Jupyter Error"
   ]
  },
  {
   "cell_type": "code",
   "execution_count": 21,
   "metadata": {
    "scrolled": true
   },
   "outputs": [
    {
     "name": "stderr",
     "output_type": "stream",
     "text": [
      "E\n",
      "======================================================================\n",
      "ERROR: /Users/jimmydelano/Library/Jupyter/runtime/kernel-6680ec17-a1f5-4fab-aa5a-a32ee36026e1 (unittest.loader._FailedTest)\n",
      "----------------------------------------------------------------------\n",
      "AttributeError: module '__main__' has no attribute '/Users/jimmydelano/Library/Jupyter/runtime/kernel-6680ec17-a1f5-4fab-aa5a-a32ee36026e1'\n",
      "\n",
      "----------------------------------------------------------------------\n",
      "Ran 1 test in 0.001s\n",
      "\n",
      "FAILED (errors=1)\n"
     ]
    },
    {
     "ename": "SystemExit",
     "evalue": "True",
     "output_type": "error",
     "traceback": [
      "An exception has occurred, use %tb to see the full traceback.\n",
      "\u001b[0;31mSystemExit\u001b[0m\u001b[0;31m:\u001b[0m True\n"
     ]
    },
    {
     "name": "stderr",
     "output_type": "stream",
     "text": [
      "/Library/Frameworks/Python.framework/Versions/3.7/lib/python3.7/site-packages/IPython/core/interactiveshell.py:2969: UserWarning: To exit: use 'exit', 'quit', or Ctrl-D.\n",
      "  warn(\"To exit: use 'exit', 'quit', or Ctrl-D.\", stacklevel=1)\n"
     ]
    }
   ],
   "source": [
    "import unittest\n",
    "class MyTester(unittest.TestCase):\n",
    "    \"\"\"Example of why this doesn't work in jupyter\"\"\"\n",
    "    def test(self):\n",
    "        pass\n",
    "\n",
    "if __name__ == '__main__':\n",
    "    unittest.main()"
   ]
  },
  {
   "cell_type": "markdown",
   "metadata": {},
   "source": [
    "# Example&"
   ]
  },
  {
   "cell_type": "code",
   "execution_count": 7,
   "metadata": {},
   "outputs": [],
   "source": [
    "def get_full_name(first, last):\n",
    "    full_name = f\"{first} {last}\"\n",
    "    return full_name.title()\n",
    "\n",
    "class MyTester(unittest.TestCase):\n",
    "    \"\"\"Example of how to write a unit test in ipynb\"\"\"\n",
    "    \n",
    "    # Note: methods must start with 'test_'\n",
    "    def test_full_name(self):\n",
    "        name = get_full_name('ariana', 'grande')\n",
    "        self.assertEqual(name,'Ariana Grande')\n",
    "        "
   ]
  },
  {
   "cell_type": "code",
   "execution_count": 8,
   "metadata": {},
   "outputs": [
    {
     "name": "stderr",
     "output_type": "stream",
     "text": [
      ".\n",
      "----------------------------------------------------------------------\n",
      "Ran 1 test in 0.001s\n",
      "\n",
      "OK\n"
     ]
    }
   ],
   "source": [
    "if __name__ == '__main__':\n",
    "    unittest.main(argv=['first-arg-is-ignored'], exit=False)"
   ]
  },
  {
   "cell_type": "markdown",
   "metadata": {},
   "source": [
    "---\n",
    "title: \"Unittest Test Cases In Python\"\n",
    "description: \"A unit test verifies that one specific aspect of your code works as it's supposed to. A test case is a collection of unit tests which verify your code's behavior in a wide variety of situations. Python's unittest module provides tools for testing your code. To build a test case, make a class that inherits from\n",
    "unittest.TestCase and write methods that begin with test_.\"\n",
    "tags: Testing, Unit test, Python Fundamentals\n",
    "URL: http://ehmatthes.github.io/pcc/cheatsheets/README.html https://medium.com/@vladbezden/using-python-unittest-in-ipython-or-jupyter-732448724e31\n",
    "Licence: Apache License 2.0\n",
    "Creator: \n",
    "Meta: \"\"\n",
    "\n",
    "---"
   ]
  },
  {
   "cell_type": "markdown",
   "metadata": {},
   "source": [
    "# Key Code&"
   ]
  },
  {
   "cell_type": "markdown",
   "metadata": {},
   "source": [
    "**Note:** this cell wont run in a jupyter notebook. See the brick on unittest test cases in jupyter. This is for python scripts only."
   ]
  },
  {
   "cell_type": "code",
   "execution_count": null,
   "metadata": {},
   "outputs": [],
   "source": [
    "import unittest\n",
    "class MyTester(unittest.TestCase):\n",
    "    \"\"\"Example of how to write a unit test in ipynb\"\"\"\n",
    "    \n",
    "    # Note: methods must start with 'test_'\n",
    "    def test_a_function(self):\n",
    "        pass\n",
    "    \n",
    "if __name__ == '__main__':\n",
    "    unittest.main()"
   ]
  },
  {
   "cell_type": "markdown",
   "metadata": {},
   "source": [
    "# Example&"
   ]
  },
  {
   "cell_type": "code",
   "execution_count": 7,
   "metadata": {},
   "outputs": [],
   "source": [
    "def get_full_name(first, last):\n",
    "    full_name = f\"{first} {last}\"\n",
    "    return full_name.title()\n",
    "\n",
    "class MyTester(unittest.TestCase):\n",
    "    \"\"\"Example of how to write a unit test in ipynb\"\"\"\n",
    "    \n",
    "    # Note: methods must start with 'test_'\n",
    "    def test_full_name(self):\n",
    "        name = get_full_name('ariana', 'grande')\n",
    "        self.assertEqual(name,'Ariana Grande')\n",
    "        "
   ]
  },
  {
   "cell_type": "markdown",
   "metadata": {},
   "source": [
    "---\n",
    "title: \"Assert Methods For Unit Tests\"\n",
    "description: \"Python provides a number of assert methods you can use to test your code.\"\n",
    "tags: Testing, Unit test\n",
    "URL: http://ehmatthes.github.io/pcc/cheatsheets/README.html\n",
    "Licence: Apache License 2.0\n",
    "Creator: \n",
    "Meta: \"\"\n",
    "\n",
    "---"
   ]
  },
  {
   "cell_type": "markdown",
   "metadata": {},
   "source": [
    "file:///Users/jimmydelano/Downloads/beginners_python_cheat_sheet_pcc_testing.pdf"
   ]
  },
  {
   "cell_type": "markdown",
   "metadata": {},
   "source": [
    "# Key Code&"
   ]
  },
  {
   "cell_type": "code",
   "execution_count": null,
   "metadata": {},
   "outputs": [],
   "source": [
    "import unittest"
   ]
  },
  {
   "cell_type": "code",
   "execution_count": null,
   "metadata": {},
   "outputs": [],
   "source": [
    "# verify that a and b are equal or not equal\n",
    "self.assertEqual(a, b)\n",
    "self.assertNotEqual(a, b)"
   ]
  },
  {
   "cell_type": "code",
   "execution_count": null,
   "metadata": {},
   "outputs": [],
   "source": [
    "# verify that x is True or False\n",
    "self.assertTrue(x)\n",
    "self.assertFalse(x)"
   ]
  },
  {
   "cell_type": "code",
   "execution_count": null,
   "metadata": {},
   "outputs": [],
   "source": [
    "# verify item is in or not in a list\n",
    "self.assertIn(item, list)\n",
    "self.assertNotIn(item, list)"
   ]
  },
  {
   "cell_type": "code",
   "execution_count": null,
   "metadata": {},
   "outputs": [],
   "source": [
    "# verify a is greater (or =) or less (or =) to b\n",
    "self.assertGreater(a, b)\n",
    "self.assertGreaterEqual(a, b)\n",
    "self.assertLess(a, b)\n",
    "self.assertLessEqual(a, b)"
   ]
  },
  {
   "cell_type": "code",
   "execution_count": null,
   "metadata": {},
   "outputs": [],
   "source": [
    "# verify an exception is raised\n",
    "with self.assertRaises(SomeException):\n",
    "    a_function()\n",
    "\n",
    "with self.assertRaises(SomeException) as se:\n",
    "    a_function()\n",
    "the_exception = se.exception\n",
    "self.assertEqual(the_exception.error_code, 404)"
   ]
  },
  {
   "cell_type": "markdown",
   "metadata": {},
   "source": [
    "# Example&"
   ]
  },
  {
   "cell_type": "code",
   "execution_count": 18,
   "metadata": {},
   "outputs": [
    {
     "name": "stderr",
     "output_type": "stream",
     "text": [
      "..\n",
      "----------------------------------------------------------------------\n",
      "Ran 2 tests in 0.001s\n",
      "\n",
      "OK\n"
     ]
    }
   ],
   "source": [
    "import unittest\n",
    "\n",
    "class Tester(unittest.TestCase):\n",
    "    def test_everything(self):\n",
    "        b = True\n",
    "        l = [1,2,3,4,5]\n",
    "        self.assertEqual(b, True)\n",
    "        self.assertNotEqual(b, False)\n",
    "        self.assertTrue(b)\n",
    "        self.assertFalse(not b)\n",
    "        self.assertIn(3, l)\n",
    "        self.assertNotIn(6, l)\n",
    "        \n",
    "        _ = \"...\"\n",
    "        with self.assertRaises(NameError):\n",
    "            print(q)\n",
    "\n",
    "if __name__ == '__main__':\n",
    "    unittest.main(argv=['first-arg-is-ignored'], exit=False)"
   ]
  },
  {
   "cell_type": "markdown",
   "metadata": {},
   "source": [
    "---\n",
    "title: \"The SetUp Method For Unit Tests\"\n",
    "description: \"\"\n",
    "tags: Testing, Unit test\n",
    "URL: http://ehmatthes.github.io/pcc/cheatsheets/README.html\n",
    "Licence: Apache License 2.0\n",
    "Creator: \n",
    "Meta: \"\"\n",
    "\n",
    "---"
   ]
  },
  {
   "cell_type": "markdown",
   "metadata": {},
   "source": [
    "# Key Code&"
   ]
  },
  {
   "cell_type": "code",
   "execution_count": null,
   "metadata": {},
   "outputs": [],
   "source": [
    "import unittest"
   ]
  },
  {
   "cell_type": "code",
   "execution_count": null,
   "metadata": {},
   "outputs": [],
   "source": []
  },
  {
   "cell_type": "markdown",
   "metadata": {},
   "source": [
    "# Example&"
   ]
  },
  {
   "cell_type": "code",
   "execution_count": null,
   "metadata": {},
   "outputs": [],
   "source": []
  }
 ],
 "metadata": {
  "kernelspec": {
   "display_name": "Python 3",
   "language": "python",
   "name": "python3"
  },
  "language_info": {
   "codemirror_mode": {
    "name": "ipython",
    "version": 3
   },
   "file_extension": ".py",
   "mimetype": "text/x-python",
   "name": "python",
   "nbconvert_exporter": "python",
   "pygments_lexer": "ipython3",
   "version": "3.7.0"
  }
 },
 "nbformat": 4,
 "nbformat_minor": 2
}
