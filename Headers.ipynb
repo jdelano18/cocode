{
 "cells": [
  {
   "cell_type": "markdown",
   "metadata": {},
   "source": [
    "---\n",
    "title: \"Headings\"\n",
    "description: \"Different sized headings in Markdown\"\n",
    "tags: Markdown, Basic Brick\n",
    "URL:\n",
    "Licence: BSD\n",
    "\n",
    "---"
   ]
  },
  {
   "cell_type": "markdown",
   "metadata": {},
   "source": [
    "# Headings"
   ]
  },
  {
   "cell_type": "markdown",
   "metadata": {},
   "source": [
    "Use the hashtag followed by a blank space to add a header (# ). The more hashtags you add before the line will reduce the size of the font."
   ]
  },
  {
   "cell_type": "markdown",
   "metadata": {},
   "source": [
    "`# Title` <br>\n",
    "`## Major heading` <br>\n",
    "`### Subheadings` <br>\n",
    "`### 4th level sub heading`"
   ]
  }
 ],
 "metadata": {
  "kernelspec": {
   "display_name": "Python 3",
   "language": "python",
   "name": "python3"
  },
  "language_info": {
   "codemirror_mode": {
    "name": "ipython",
    "version": 3
   },
   "file_extension": ".py",
   "mimetype": "text/x-python",
   "name": "python",
   "nbconvert_exporter": "python",
   "pygments_lexer": "ipython3",
   "version": "3.7.0"
  }
 },
 "nbformat": 4,
 "nbformat_minor": 2
}
