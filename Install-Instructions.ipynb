{
 "cells": [
  {
   "cell_type": "markdown",
   "metadata": {},
   "source": [
    "# Steps to Install CoCode.ai"
   ]
  },
  {
   "cell_type": "markdown",
   "metadata": {},
   "source": [
    "## 1. Install JupyterLab\n",
    "\n",
    "JupyterLab is an interactive development environment for combining jupyter notebooks, code, data, and extensions in python package that can run on your computer. JupyterLab enables you to arrange your work area in a way you see best fit. You can drag and drop different notebooks. Read more about [JupyterLab's release here](https://blog.jupyter.org/jupyterlab-is-ready-for-users-5a6f039b8906). <br> <br>\n",
    "Additional information about downloading JupyterLab can be found here:\n",
    "https://jupyterlab.readthedocs.io/en/stable/getting_started/installation.html"
   ]
  },
  {
   "cell_type": "code",
   "execution_count": null,
   "metadata": {},
   "outputs": [],
   "source": [
    "%%bash\n",
    "pip install jupyterlab"
   ]
  },
  {
   "cell_type": "markdown",
   "metadata": {},
   "source": [
    "## 2. Install CoCode.ai\n",
    "\n",
    "CoCode.ai is a jupyterlab extension. It is a NPM package."
   ]
  },
  {
   "cell_type": "code",
   "execution_count": null,
   "metadata": {},
   "outputs": [],
   "source": [
    "%%bash\n",
    "jupyter labextension install cocode"
   ]
  },
  {
   "cell_type": "markdown",
   "metadata": {},
   "source": [
    "## 3. Start Jupyterlab\n",
    "\n",
    "From your console start jupyterlab. <br> <br>\n",
    "If you have any trouble addtional information can be found here:\n",
    "https://jupyterlab.readthedocs.io/en/stable/getting_started/starting.html"
   ]
  },
  {
   "cell_type": "code",
   "execution_count": null,
   "metadata": {},
   "outputs": [],
   "source": [
    "%%bash\n",
    "jupyter lab"
   ]
  },
  {
   "cell_type": "markdown",
   "metadata": {},
   "source": [
    "## 4. Getting Started with CoCode.ai\n",
    "\n",
    "On the side of your Jupyterlab you will see a new code icon. Click on that and enter your log in information. Please check out this short informational video on how you can use CoCode.ai most effectively."
   ]
  }
 ],
 "metadata": {
  "kernelspec": {
   "display_name": "Python 3",
   "language": "python",
   "name": "python3"
  },
  "language_info": {
   "codemirror_mode": {
    "name": "ipython",
    "version": 3
   },
   "file_extension": ".py",
   "mimetype": "text/x-python",
   "name": "python",
   "nbconvert_exporter": "python",
   "pygments_lexer": "ipython3",
   "version": "3.7.0"
  }
 },
 "nbformat": 4,
 "nbformat_minor": 2
}
