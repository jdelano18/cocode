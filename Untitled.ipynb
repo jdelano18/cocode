{
 "cells": [
  {
   "cell_type": "code",
   "execution_count": 2,
   "metadata": {},
   "outputs": [
    {
     "data": {
      "text/plain": [
       "9.0"
      ]
     },
     "execution_count": 2,
     "metadata": {},
     "output_type": "execute_result"
    }
   ],
   "source": [
    "from math import sqrt\n",
    "sqrt(81)"
   ]
  },
  {
   "cell_type": "code",
   "execution_count": 12,
   "metadata": {},
   "outputs": [],
   "source": [
    "a =['title: \"Bullets and Lists in Markdown\"\\n', 'description: \"How to add bullets and numbered lists in markdown\"\\n']"
   ]
  },
  {
   "cell_type": "code",
   "execution_count": 14,
   "metadata": {},
   "outputs": [
    {
     "data": {
      "text/plain": [
       "('Bullets and Lists in Markdown',\n",
       " 'How to add bullets and numbered lists in markdown')"
      ]
     },
     "execution_count": 14,
     "metadata": {},
     "output_type": "execute_result"
    }
   ],
   "source": [
    "data = ()\n",
    "for item in a:\n",
    "    index = item.find(':')\n",
    "    item = item.strip().replace('\\\"', '')\n",
    "    data += (item[index+2:],)\n",
    "data"
   ]
  },
  {
   "cell_type": "markdown",
   "metadata": {},
   "source": [
    "<div>\n",
    "    <img src=\"./coco.png\" style=\"float: left;height: 55px\">\n",
    "    <div style=\"height: 150px;text-align: center; padding-top:5px\">\n",
    "        <h1>\n",
    "      Importing JSON into Python\n",
    "        </h1>\n",
    "        <p>Train a sequence to sequence (seq2seq) model for Spanish to English translation using tf.keras and eager execution.</p>\n",
    "    </div>\n",
    "</div>"
   ]
  },
  {
   "cell_type": "code",
   "execution_count": 45,
   "metadata": {},
   "outputs": [],
   "source": [
    "import pandas as pd\n",
    "import numpy as np\n",
    "import random\n",
    "import time"
   ]
  },
  {
   "cell_type": "code",
   "execution_count": 46,
   "metadata": {},
   "outputs": [],
   "source": [
    "def strTimeProp(start, end, format, prop):\n",
    "    \"\"\"Get a time at a proportion of a range of two formatted times.\n",
    "\n",
    "    start and end should be strings specifying times formated in the\n",
    "    given format (strftime-style), giving an interval [start, end].\n",
    "    prop specifies how a proportion of the interval to be taken after\n",
    "    start.  The returned time will be in the specified format.\n",
    "    \"\"\"\n",
    "\n",
    "    start_time = time.mktime(time.strptime(start, format))\n",
    "    end_time = time.mktime(time.strptime(end, format))\n",
    "\n",
    "    ptime = start_time + prop * (end_time - start_time)\n",
    "\n",
    "    return time.strftime(format, time.localtime(ptime))\n",
    "\n",
    "\n",
    "def randomDate(start, end, prop):\n",
    "    return strTimeProp(start, end, '%m/%d/%Y', prop)"
   ]
  },
  {
   "cell_type": "code",
   "execution_count": 48,
   "metadata": {},
   "outputs": [
    {
     "data": {
      "text/html": [
       "<div>\n",
       "<style scoped>\n",
       "    .dataframe tbody tr th:only-of-type {\n",
       "        vertical-align: middle;\n",
       "    }\n",
       "\n",
       "    .dataframe tbody tr th {\n",
       "        vertical-align: top;\n",
       "    }\n",
       "\n",
       "    .dataframe thead th {\n",
       "        text-align: right;\n",
       "    }\n",
       "</style>\n",
       "<table border=\"1\" class=\"dataframe\">\n",
       "  <thead>\n",
       "    <tr style=\"text-align: right;\">\n",
       "      <th></th>\n",
       "      <th>access_alpha</th>\n",
       "      <th>access_beta</th>\n",
       "      <th>access_internal</th>\n",
       "      <th>access_live</th>\n",
       "      <th>code</th>\n",
       "      <th>description</th>\n",
       "      <th>tags</th>\n",
       "      <th>title</th>\n",
       "      <th>uid</th>\n",
       "      <th>web_page</th>\n",
       "      <th>claps</th>\n",
       "      <th>date</th>\n",
       "    </tr>\n",
       "  </thead>\n",
       "  <tbody>\n",
       "    <tr>\n",
       "      <th>0</th>\n",
       "      <td>False</td>\n",
       "      <td>False</td>\n",
       "      <td>True</td>\n",
       "      <td>False</td>\n",
       "      <td>{'cells': [{'cell_type': 'markdown', 'metadata...</td>\n",
       "      <td>Pandas select rows containing values</td>\n",
       "      <td>[]</td>\n",
       "      <td>Pandas select rows containing values</td>\n",
       "      <td>6956ef5f-0cb7-4c8a-be53-4ff53c0c868a</td>\n",
       "      <td>NaN</td>\n",
       "      <td>386</td>\n",
       "      <td>08/10/2018</td>\n",
       "    </tr>\n",
       "    <tr>\n",
       "      <th>1</th>\n",
       "      <td>False</td>\n",
       "      <td>False</td>\n",
       "      <td>True</td>\n",
       "      <td>False</td>\n",
       "      <td>{'cells': [{'cell_type': 'markdown', 'metadata...</td>\n",
       "      <td>using the crosstabs method pandas</td>\n",
       "      <td>[]</td>\n",
       "      <td>Pandas Crosstabs</td>\n",
       "      <td>c6e28efe-fbc8-47b0-adba-a4b50ae01359</td>\n",
       "      <td>NaN</td>\n",
       "      <td>2059</td>\n",
       "      <td>03/15/2019</td>\n",
       "    </tr>\n",
       "    <tr>\n",
       "      <th>2</th>\n",
       "      <td>False</td>\n",
       "      <td>False</td>\n",
       "      <td>True</td>\n",
       "      <td>False</td>\n",
       "      <td>{'cells': [{'cell_type': 'markdown', 'metadata...</td>\n",
       "      <td>pandas select rows when the column has certain...</td>\n",
       "      <td>[]</td>\n",
       "      <td>pandas select rows when the column has certain...</td>\n",
       "      <td>534abfa2-aa64-4ec5-9600-17b8a1969b58</td>\n",
       "      <td>NaN</td>\n",
       "      <td>7169</td>\n",
       "      <td>11/10/2018</td>\n",
       "    </tr>\n",
       "    <tr>\n",
       "      <th>3</th>\n",
       "      <td>False</td>\n",
       "      <td>False</td>\n",
       "      <td>True</td>\n",
       "      <td>False</td>\n",
       "      <td>{'cells': [{'cell_type': 'markdown', 'metadata...</td>\n",
       "      <td>Turning a column of prices into floats in pandas</td>\n",
       "      <td>[]</td>\n",
       "      <td>Converting Prices to Floats in Pandas</td>\n",
       "      <td>c3be62b0-6ebf-4fdb-86fc-97fae3f17d1a</td>\n",
       "      <td>NaN</td>\n",
       "      <td>1341</td>\n",
       "      <td>02/08/2019</td>\n",
       "    </tr>\n",
       "    <tr>\n",
       "      <th>4</th>\n",
       "      <td>False</td>\n",
       "      <td>False</td>\n",
       "      <td>True</td>\n",
       "      <td>False</td>\n",
       "      <td>{'cells': [{'cell_type': 'markdown', 'metadata...</td>\n",
       "      <td>find the unique values in a column pandas</td>\n",
       "      <td>[]</td>\n",
       "      <td>Pandas List the Unique Values in a Column</td>\n",
       "      <td>a57e44d4-17fd-4eac-8fcd-092194b6d406</td>\n",
       "      <td>NaN</td>\n",
       "      <td>7498</td>\n",
       "      <td>03/15/2019</td>\n",
       "    </tr>\n",
       "  </tbody>\n",
       "</table>\n",
       "</div>"
      ],
      "text/plain": [
       "   access_alpha  access_beta  access_internal  access_live  \\\n",
       "0         False        False             True        False   \n",
       "1         False        False             True        False   \n",
       "2         False        False             True        False   \n",
       "3         False        False             True        False   \n",
       "4         False        False             True        False   \n",
       "\n",
       "                                                code  \\\n",
       "0  {'cells': [{'cell_type': 'markdown', 'metadata...   \n",
       "1  {'cells': [{'cell_type': 'markdown', 'metadata...   \n",
       "2  {'cells': [{'cell_type': 'markdown', 'metadata...   \n",
       "3  {'cells': [{'cell_type': 'markdown', 'metadata...   \n",
       "4  {'cells': [{'cell_type': 'markdown', 'metadata...   \n",
       "\n",
       "                                         description tags  \\\n",
       "0               Pandas select rows containing values   []   \n",
       "1                  using the crosstabs method pandas   []   \n",
       "2  pandas select rows when the column has certain...   []   \n",
       "3   Turning a column of prices into floats in pandas   []   \n",
       "4          find the unique values in a column pandas   []   \n",
       "\n",
       "                                               title  \\\n",
       "0               Pandas select rows containing values   \n",
       "1                                   Pandas Crosstabs   \n",
       "2  pandas select rows when the column has certain...   \n",
       "3              Converting Prices to Floats in Pandas   \n",
       "4          Pandas List the Unique Values in a Column   \n",
       "\n",
       "                                    uid  web_page  claps        date  \n",
       "0  6956ef5f-0cb7-4c8a-be53-4ff53c0c868a       NaN    386  08/10/2018  \n",
       "1  c6e28efe-fbc8-47b0-adba-a4b50ae01359       NaN   2059  03/15/2019  \n",
       "2  534abfa2-aa64-4ec5-9600-17b8a1969b58       NaN   7169  11/10/2018  \n",
       "3  c3be62b0-6ebf-4fdb-86fc-97fae3f17d1a       NaN   1341  02/08/2019  \n",
       "4  a57e44d4-17fd-4eac-8fcd-092194b6d406       NaN   7498  03/15/2019  "
      ]
     },
     "execution_count": 48,
     "metadata": {},
     "output_type": "execute_result"
    }
   ],
   "source": [
    "df = pd.read_json('brick_list.json')\n",
    "df['claps'] = np.random.randint(1, 9999, len(df))\n",
    "rand_dates = [randomDate(\"6/7/2018\", \"6/7/2019\", random.random()) for _ in df.index]\n",
    "df['date'] = rand_dates\n",
    "df.head()\n",
    "#df.to_json('test.json', orient = 'records')"
   ]
  },
  {
   "cell_type": "code",
   "execution_count": 7,
   "metadata": {},
   "outputs": [],
   "source": [
    "class Test():\n",
    "    \n",
    "    def hey(self):\n",
    "        print(\"hey\")\n",
    "    \n",
    "    def sup(self):\n",
    "        self.hey()"
   ]
  },
  {
   "cell_type": "code",
   "execution_count": 8,
   "metadata": {},
   "outputs": [
    {
     "name": "stdout",
     "output_type": "stream",
     "text": [
      "hey\n",
      "hey\n"
     ]
    }
   ],
   "source": [
    "t = Test()\n",
    "t.hey()\n",
    "t.sup()"
   ]
  },
  {
   "cell_type": "code",
   "execution_count": null,
   "metadata": {},
   "outputs": [],
   "source": []
  }
 ],
 "metadata": {
  "kernelspec": {
   "display_name": "Python 3",
   "language": "python",
   "name": "python3"
  },
  "language_info": {
   "codemirror_mode": {
    "name": "ipython",
    "version": 3
   },
   "file_extension": ".py",
   "mimetype": "text/x-python",
   "name": "python",
   "nbconvert_exporter": "python",
   "pygments_lexer": "ipython3",
   "version": "3.7.0"
  }
 },
 "nbformat": 4,
 "nbformat_minor": 2
}
