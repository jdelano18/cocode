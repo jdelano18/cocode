{
 "cells": [
  {
   "cell_type": "code",
   "execution_count": 8,
   "metadata": {},
   "outputs": [],
   "source": [
    "from os import walk\n",
    "import json"
   ]
  },
  {
   "cell_type": "code",
   "execution_count": 39,
   "metadata": {},
   "outputs": [],
   "source": [
    "class Brick():\n",
    "    def __init__(self, full_path, name, files):\n",
    "        self.full_path = full_path\n",
    "        self.files = files\n",
    "        self.name = name\n",
    "        self._setFiles()\n",
    "        self._setTitle()\n",
    "        self._setDescription()\n",
    "        \n",
    "    def _setFiles(self):\n",
    "        for file in files:\n",
    "            if 'README.md' == file:\n",
    "                with open(self.full_path +'/'+ file, 'r') as myfile:\n",
    "                    self.readme = [line.strip() for line in myfile.readlines()]\n",
    "            if file.endswith('.py'):\n",
    "                with open(self.full_path +'/'+ file, 'r') as myfile:\n",
    "                    self.script = myfile.read()\n",
    "                    \n",
    "    def _setTitle(self):\n",
    "        first_line = self.readme[0]\n",
    "        i = first_line.find('## ')\n",
    "        self.title = first_line[3:] if i != -1 else 'error: somethings wrong'\n",
    "    \n",
    "    def _setDescription(self):\n",
    "        self.description = '\\n'.join(self.readme[5:])\n",
    "\n",
    "    def _firstcell(self):\n",
    "        markdown_cell = {'cell_type': 'markdown', \n",
    "            'metadata': {}, \n",
    "            'source': ['---\\n', \n",
    "            'title: \"'+self.title+'\"\\n', \n",
    "            'description: \"'+self.description+'\"\\n', \n",
    "            'tags: \\n', \n",
    "            'URL: https://github.com/ActiveState/code\\n', \n",
    "            'Licence: \\n', \n",
    "            'Creator: \\n', \n",
    "            'Meta: \\n', \n",
    "            '\\n', \n",
    "            '---']}\n",
    "\n",
    "        return markdown_cell\n",
    "        \n",
    "    def write_to_file(self):\n",
    "        with open ('./template.ipynb') as json_file:\n",
    "            data = json.load(json_file)\n",
    "            \n",
    "            data['cells'].insert(0, self._firstcell())\n",
    "            data['cells'][2]['source'] = self.script\n",
    "\n",
    "        with open ('../inprogress/'+str(self.name)+'.ipynb', 'w') as outfile:\n",
    "            json.dump(data, outfile)"
   ]
  },
  {
   "cell_type": "code",
   "execution_count": 40,
   "metadata": {},
   "outputs": [],
   "source": [
    "mypath='/Users/jimmydelano/active-state/code/recipes/Python/'\n",
    "\n",
    "bricks = []\n",
    "for (dirpath, _, files) in walk(mypath):\n",
    "    if len(dirpath) == len(mypath):\n",
    "        continue\n",
    "    \n",
    "    name = dirpath[len(mypath)+1:]\n",
    "        \n",
    "    b = Brick(dirpath, name, files)\n",
    "    bricks.append(b)"
   ]
  },
  {
   "cell_type": "code",
   "execution_count": 43,
   "metadata": {},
   "outputs": [],
   "source": [
    "for brick in bricks[10:20]:\n",
    "    brick.write_to_file()"
   ]
  },
  {
   "cell_type": "code",
   "execution_count": 44,
   "metadata": {},
   "outputs": [
    {
     "name": "stdout",
     "output_type": "stream",
     "text": [
      "WARNING: You didn't enter a dir_to_convert or dir_to_dump_to. By default, both are now ../inprogress/\n"
     ]
    }
   ],
   "source": [
    "%%bash\n",
    "cd ~/cocode/scripts/\n",
    "python3 midas.py"
   ]
  },
  {
   "cell_type": "markdown",
   "metadata": {},
   "source": [
    "# Test"
   ]
  },
  {
   "cell_type": "code",
   "execution_count": 19,
   "metadata": {},
   "outputs": [],
   "source": [
    "dirpath = '/Users/jimmydelano/active-state/code/recipes/Python/81188_Binary_search/'\n",
    "name = 'tester'\n",
    "files = ['README.md', 'recipe-81188.py', 'LICENSE.md']\n",
    "test = Brick(dirpath, name, files)"
   ]
  },
  {
   "cell_type": "code",
   "execution_count": 20,
   "metadata": {},
   "outputs": [
    {
     "data": {
      "text/plain": [
       "'def binary_search(seq, t):\\n    min = 0\\n    max = len(seq) - 1\\n    while True:\\n        if max < min:\\n            return -1\\n        m = (min + max) // 2\\n        if seq[m] < t:\\n            min = m + 1\\n        elif seq[m] > t:\\n            max = m - 1\\n        else:\\n            return m\\n'"
      ]
     },
     "execution_count": 20,
     "metadata": {},
     "output_type": "execute_result"
    }
   ],
   "source": [
    "test.script"
   ]
  },
  {
   "cell_type": "code",
   "execution_count": 21,
   "metadata": {},
   "outputs": [],
   "source": [
    "test.write_to_file()"
   ]
  },
  {
   "cell_type": "code",
   "execution_count": null,
   "metadata": {},
   "outputs": [],
   "source": []
  }
 ],
 "metadata": {
  "kernelspec": {
   "display_name": "Python 3",
   "language": "python",
   "name": "python3"
  },
  "language_info": {
   "codemirror_mode": {
    "name": "ipython",
    "version": 3
   },
   "file_extension": ".py",
   "mimetype": "text/x-python",
   "name": "python",
   "nbconvert_exporter": "python",
   "pygments_lexer": "ipython3",
   "version": "3.7.0"
  }
 },
 "nbformat": 4,
 "nbformat_minor": 2
}
