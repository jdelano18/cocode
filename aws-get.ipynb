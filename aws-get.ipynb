{
 "cells": [
  {
   "cell_type": "markdown",
   "metadata": {},
   "source": [
    "## old code see iteration in midas"
   ]
  },
  {
   "cell_type": "code",
   "execution_count": 11,
   "metadata": {},
   "outputs": [],
   "source": [
    "import boto3\n",
    "import botocore"
   ]
  },
  {
   "cell_type": "code",
   "execution_count": 12,
   "metadata": {},
   "outputs": [],
   "source": [
    "import logging\n",
    "from botocore.exceptions import ClientError"
   ]
  },
  {
   "cell_type": "markdown",
   "metadata": {},
   "source": [
    "## iteration"
   ]
  },
  {
   "cell_type": "code",
   "execution_count": 13,
   "metadata": {},
   "outputs": [],
   "source": [
    "import json\n",
    "s3 = boto3.resource('s3',\n",
    "                    aws_access_key_id='---',\n",
    "                    aws_secret_access_key= '----')\n",
    "\n",
    "bucket = s3.Bucket('mytestbricks')"
   ]
  },
  {
   "cell_type": "code",
   "execution_count": null,
   "metadata": {
    "scrolled": true
   },
   "outputs": [],
   "source": [
    "for obj, i in zip(bucket.objects.all(), range(len(bucket.objects.all())+1)):\n",
    "    if i % 100 == 0:\n",
    "        print(i) if i%500 == 0 else print('.') \n",
    "                  \n",
    "    key = obj.key\n",
    "    body = obj.get()['Body'].read()\n",
    "    print(key, json.loads(body))\n",
    "    if i == 1:\n",
    "        break"
   ]
  },
  {
   "cell_type": "code",
   "execution_count": null,
   "metadata": {},
   "outputs": [],
   "source": []
  },
  {
   "cell_type": "code",
   "execution_count": null,
   "metadata": {},
   "outputs": [],
   "source": []
  },
  {
   "cell_type": "code",
   "execution_count": null,
   "metadata": {},
   "outputs": [],
   "source": []
  },
  {
   "cell_type": "code",
   "execution_count": null,
   "metadata": {},
   "outputs": [],
   "source": []
  },
  {
   "cell_type": "code",
   "execution_count": 5,
   "metadata": {},
   "outputs": [],
   "source": [
    "test = b'{\"cells\": [{\"cell_type\": \"markdown\", \"metadata\": {}, \"source\": [\"---\\\\n\", \"title: \\\\\"Access Rows of a DataFrame By Index Label (loc)\\\\\"\\\\n\", \"description: \\\\\"The loc attribute of a pandas DataFrame lets you access rows by the index label. The result is a Series object with the DataFrame\\'s column names mapped to the row index labels.\\\\\"\\\\n\", \"tags: Pandas\\\\n\", \"URL: https://github.com/ageron/handson-ml\\\\n\", \"Licence: Apache License 2.0\\\\n\", \"Creator: \\\\n\", \"Meta: \\\\\"\\\\\"\\\\n\", \"\\\\n\", \"---\"]}, {\"cell_type\": \"markdown\", \"metadata\": {}, \"source\": [\" <div>\\\\n    \\\\t<img src=\\\\\"./coco.png\\\\\" style=\\\\\"float: left;height: 55px\\\\\">\\\\n    \\\\t<div style=\\\\\"height: 150px;text-align: center; padding-top:5px\\\\\">\\\\n        <h1>\\\\n      \\\\tAccess Rows of a DataFrame By Index Label (loc)\\\\n        </h1>\\\\n        <p>The loc attribute of a pandas DataFrame lets you access rows by the index label. The result is a Series object with the DataFrame\\'s column names mapped to the row index labels.</p>\\\\n    \\\\t</div>\\\\n\\\\t\\\\t</div> \"]}, {\"cell_type\": \"markdown\", \"metadata\": {}, \"source\": [\" <div style=\\\\\"height:40px\\\\\">\\\\n\\\\t\\\\t<div style=\\\\\"width:100%; text-align:center; border-bottom: 1px solid #000; line-height:0.1em; margin:40px 0 20px;\\\\\">\\\\n    \\\\t<span style=\\\\\"background:#fff; padding:0 10px; font-size:25px; font-family: \\'Open Sans\\', sans-serif;\\\\\">\\\\n        Key Code\\\\n    \\\\t</span>\\\\n\\\\t\\\\t</div>\\\\n\\\\t\\\\t</div>\\\\n\\\\t\\\\t\\\\t\"]}, {\"cell_type\": \"code\", \"execution_count\": null, \"metadata\": {}, \"outputs\": [], \"source\": [\"import pandas as pd\"]}, {\"cell_type\": \"code\", \"execution_count\": null, \"metadata\": {}, \"outputs\": [], \"source\": [\"# single label for a row => Series\\\\n\", \"df.loc[\\'row_label\\']\"]}, {\"cell_type\": \"code\", \"execution_count\": null, \"metadata\": {}, \"outputs\": [], \"source\": [\"# list of labels for many rows => DataFrame\\\\n\", \"df.loc[[\\'row_1\\', \\'row_2\\', \\'...\\']]\"]}, {\"cell_type\": \"markdown\", \"metadata\": {}, \"source\": [\" <div style=\\\\\"height:40px\\\\\">\\\\n\\\\t\\\\t<div style=\\\\\"width:100%; text-align:center; border-bottom: 1px solid #000; line-height:0.1em; margin:40px 0 20px;\\\\\">\\\\n    \\\\t<span style=\\\\\"background:#fff; padding:0 10px; font-size:25px; font-family: \\'Open Sans\\', sans-serif;\\\\\">\\\\n        Example\\\\n    \\\\t</span>\\\\n\\\\t\\\\t</div>\\\\n\\\\t\\\\t</div>\\\\n\\\\t\\\\t\\\\t\"]}, {\"cell_type\": \"markdown\", \"metadata\": {}, \"source\": [\"## Create example DataFrame\"]}, {\"cell_type\": \"code\", \"execution_count\": 36, \"metadata\": {}, \"outputs\": [{\"data\": {\"text/html\": [\"<div>\\\\n\", \"<style scoped>\\\\n\", \"    .dataframe tbody tr th:only-of-type {\\\\n\", \"        vertical-align: middle;\\\\n\", \"    }\\\\n\", \"\\\\n\", \"    .dataframe tbody tr th {\\\\n\", \"        vertical-align: top;\\\\n\", \"    }\\\\n\", \"\\\\n\", \"    .dataframe thead th {\\\\n\", \"        text-align: right;\\\\n\", \"    }\\\\n\", \"</style>\\\\n\", \"<table border=\\\\\"1\\\\\" class=\\\\\"dataframe\\\\\">\\\\n\", \"  <thead>\\\\n\", \"    <tr style=\\\\\"text-align: right;\\\\\">\\\\n\", \"      <th></th>\\\\n\", \"      <th>weight</th>\\\\n\", \"      <th>birthyear</th>\\\\n\", \"      <th>children</th>\\\\n\", \"      <th>hobby</th>\\\\n\", \"    </tr>\\\\n\", \"  </thead>\\\\n\", \"  <tbody>\\\\n\", \"    <tr>\\\\n\", \"      <th>alice</th>\\\\n\", \"      <td>68</td>\\\\n\", \"      <td>1985</td>\\\\n\", \"      <td>NaN</td>\\\\n\", \"      <td>Biking</td>\\\\n\", \"    </tr>\\\\n\", \"    <tr>\\\\n\", \"      <th>bob</th>\\\\n\", \"      <td>83</td>\\\\n\", \"      <td>1984</td>\\\\n\", \"      <td>3.0</td>\\\\n\", \"      <td>Dancing</td>\\\\n\", \"    </tr>\\\\n\", \"    <tr>\\\\n\", \"      <th>charles</th>\\\\n\", \"      <td>112</td>\\\\n\", \"      <td>1992</td>\\\\n\", \"      <td>0.0</td>\\\\n\", \"      <td>NaN</td>\\\\n\", \"    </tr>\\\\n\", \"  </tbody>\\\\n\", \"</table>\\\\n\", \"</div>\"], \"text/plain\": [\"         weight  birthyear  children    hobby\\\\n\", \"alice        68       1985       NaN   Biking\\\\n\", \"bob          83       1984       3.0  Dancing\\\\n\", \"charles     112       1992       0.0      NaN\"]}, \"execution_count\": 36, \"metadata\": {}, \"output_type\": \"execute_result\"}], \"source\": [\"people_dict = {\\\\n\", \"    \\\\\"weight\\\\\": [68, 83, 112],\\\\n\", \"    \\\\\"birthyear\\\\\": [1985, 1984, 1992],\\\\n\", \"    \\\\\"children\\\\\": [np.nan, 3, 0],\\\\n\", \"    \\\\\"hobby\\\\\": [\\\\\"Biking\\\\\", \\\\\"Dancing\\\\\", np.nan],\\\\n\", \"}\\\\n\", \"people = pd.DataFrame(people_dict, index=[\\\\\"alice\\\\\", \\\\\"bob\\\\\", \\\\\"charles\\\\\"])\\\\n\", \"people\"]}, {\"cell_type\": \"markdown\", \"metadata\": {}, \"source\": [\"## Get one row\"]}, {\"cell_type\": \"code\", \"execution_count\": 38, \"metadata\": {}, \"outputs\": [{\"data\": {\"text/plain\": [\"weight           68\\\\n\", \"birthyear      1985\\\\n\", \"children        NaN\\\\n\", \"hobby        Biking\\\\n\", \"Name: alice, dtype: object\"]}, \"execution_count\": 38, \"metadata\": {}, \"output_type\": \"execute_result\"}], \"source\": [\"people.loc[\\'alice\\']\"]}, {\"cell_type\": \"markdown\", \"metadata\": {}, \"source\": [\"## Get multiple rows\"]}, {\"cell_type\": \"code\", \"execution_count\": 39, \"metadata\": {\"scrolled\": true}, \"outputs\": [{\"data\": {\"text/html\": [\"<div>\\\\n\", \"<style scoped>\\\\n\", \"    .dataframe tbody tr th:only-of-type {\\\\n\", \"        vertical-align: middle;\\\\n\", \"    }\\\\n\", \"\\\\n\", \"    .dataframe tbody tr th {\\\\n\", \"        vertical-align: top;\\\\n\", \"    }\\\\n\", \"\\\\n\", \"    .dataframe thead th {\\\\n\", \"        text-align: right;\\\\n\", \"    }\\\\n\", \"</style>\\\\n\", \"<table border=\\\\\"1\\\\\" class=\\\\\"dataframe\\\\\">\\\\n\", \"  <thead>\\\\n\", \"    <tr style=\\\\\"text-align: right;\\\\\">\\\\n\", \"      <th></th>\\\\n\", \"      <th>weight</th>\\\\n\", \"      <th>birthyear</th>\\\\n\", \"      <th>children</th>\\\\n\", \"      <th>hobby</th>\\\\n\", \"    </tr>\\\\n\", \"  </thead>\\\\n\", \"  <tbody>\\\\n\", \"    <tr>\\\\n\", \"      <th>bob</th>\\\\n\", \"      <td>83</td>\\\\n\", \"      <td>1984</td>\\\\n\", \"      <td>3.0</td>\\\\n\", \"      <td>Dancing</td>\\\\n\", \"    </tr>\\\\n\", \"    <tr>\\\\n\", \"      <th>charles</th>\\\\n\", \"      <td>112</td>\\\\n\", \"      <td>1992</td>\\\\n\", \"      <td>0.0</td>\\\\n\", \"      <td>NaN</td>\\\\n\", \"    </tr>\\\\n\", \"  </tbody>\\\\n\", \"</table>\\\\n\", \"</div>\"], \"text/plain\": [\"         weight  birthyear  children    hobby\\\\n\", \"bob          83       1984       3.0  Dancing\\\\n\", \"charles     112       1992       0.0      NaN\"]}, \"execution_count\": 39, \"metadata\": {}, \"output_type\": \"execute_result\"}], \"source\": [\"people.loc[[\\'bob\\', \\'charles\\']]\"]}], \"metadata\": {\"kernelspec\": {\"display_name\": \"Python 3\", \"language\": \"python\", \"name\": \"python3\"}, \"language_info\": {\"codemirror_mode\": {\"name\": \"ipython\", \"version\": 3}, \"file_extension\": \".py\", \"mimetype\": \"text/x-python\", \"name\": \"python\", \"nbconvert_exporter\": \"python\", \"pygments_lexer\": \"ipython3\", \"version\": \"3.6.7\"}}, \"nbformat\": 4, \"nbformat_minor\": 2}'"
   ]
  },
  {
   "cell_type": "code",
   "execution_count": null,
   "metadata": {},
   "outputs": [],
   "source": [
    "import json\n",
    "json.loads(test)"
   ]
  },
  {
   "cell_type": "code",
   "execution_count": null,
   "metadata": {},
   "outputs": [],
   "source": []
  },
  {
   "cell_type": "code",
   "execution_count": 15,
   "metadata": {},
   "outputs": [],
   "source": [
    "nb_stream = bucket.Object('prices_to_floats.ipynb').get()['Body'].read()"
   ]
  },
  {
   "cell_type": "code",
   "execution_count": 16,
   "metadata": {},
   "outputs": [],
   "source": [
    "def bytes_into_brick(nb_stream):\n",
    "    code = json.loads(nb_stream)\n",
    "    new_brick['code'] = json.dumps(code)\n",
    "    temp_id = random.randint(1, 100000000)\n",
    "    # new_brick['id'] = temp_id\n",
    "    return new_brick"
   ]
  },
  {
   "cell_type": "code",
   "execution_count": 29,
   "metadata": {},
   "outputs": [],
   "source": [
    "code = json.loads(nb_stream)\n",
    "del code['cells'][0]"
   ]
  },
  {
   "cell_type": "code",
   "execution_count": 30,
   "metadata": {},
   "outputs": [
    {
     "data": {
      "text/plain": [
       "{'cells': [{'cell_type': 'markdown',\n",
       "   'metadata': {},\n",
       "   'source': ['# Converting Prices to Floats in Pandas']},\n",
       "  {'cell_type': 'code',\n",
       "   'execution_count': 32,\n",
       "   'metadata': {},\n",
       "   'outputs': [],\n",
       "   'source': ['# use the replace method for strings\\n',\n",
       "    \"df['price'] = df['price'].apply(lambda x: str(x).replace('$','')).apply(lambda x: str(x).replace(',','')).astype(float)\"]},\n",
       "  {'cell_type': 'code',\n",
       "   'execution_count': 33,\n",
       "   'metadata': {},\n",
       "   'outputs': [],\n",
       "   'source': ['# use regular expressions\\n',\n",
       "    \"df['price'] = df['price'].replace('[\\\\$,]', '', regex=True).astype(float)\"]},\n",
       "  {'cell_type': 'markdown', 'metadata': {}, 'source': ['---']},\n",
       "  {'cell_type': 'markdown', 'metadata': {}, 'source': ['## Example']},\n",
       "  {'cell_type': 'markdown', 'metadata': {}, 'source': ['### Preliminaries']},\n",
       "  {'cell_type': 'code',\n",
       "   'execution_count': 28,\n",
       "   'metadata': {},\n",
       "   'outputs': [],\n",
       "   'source': ['import pandas as pd\\n',\n",
       "    'import re # optional (only used for 2nd example)']},\n",
       "  {'cell_type': 'code',\n",
       "   'execution_count': 29,\n",
       "   'metadata': {},\n",
       "   'outputs': [{'data': {'text/html': ['<div>\\n',\n",
       "       '<style scoped>\\n',\n",
       "       '    .dataframe tbody tr th:only-of-type {\\n',\n",
       "       '        vertical-align: middle;\\n',\n",
       "       '    }\\n',\n",
       "       '\\n',\n",
       "       '    .dataframe tbody tr th {\\n',\n",
       "       '        vertical-align: top;\\n',\n",
       "       '    }\\n',\n",
       "       '\\n',\n",
       "       '    .dataframe thead th {\\n',\n",
       "       '        text-align: right;\\n',\n",
       "       '    }\\n',\n",
       "       '</style>\\n',\n",
       "       '<table border=\"1\" class=\"dataframe\">\\n',\n",
       "       '  <thead>\\n',\n",
       "       '    <tr style=\"text-align: right;\">\\n',\n",
       "       '      <th></th>\\n',\n",
       "       '      <th>price</th>\\n',\n",
       "       '    </tr>\\n',\n",
       "       '  </thead>\\n',\n",
       "       '  <tbody>\\n',\n",
       "       '    <tr>\\n',\n",
       "       '      <th>0</th>\\n',\n",
       "       '      <td>$7.90</td>\\n',\n",
       "       '    </tr>\\n',\n",
       "       '    <tr>\\n',\n",
       "       '      <th>1</th>\\n',\n",
       "       '      <td>$1.23</td>\\n',\n",
       "       '    </tr>\\n',\n",
       "       '    <tr>\\n',\n",
       "       '      <th>2</th>\\n',\n",
       "       '      <td>$2.16</td>\\n',\n",
       "       '    </tr>\\n',\n",
       "       '    <tr>\\n',\n",
       "       '      <th>3</th>\\n',\n",
       "       '      <td>$1,298.00</td>\\n',\n",
       "       '    </tr>\\n',\n",
       "       '    <tr>\\n',\n",
       "       '      <th>4</th>\\n',\n",
       "       '      <td>$1,000,000.00</td>\\n',\n",
       "       '    </tr>\\n',\n",
       "       '  </tbody>\\n',\n",
       "       '</table>\\n',\n",
       "       '</div>'],\n",
       "      'text/plain': ['           price\\n',\n",
       "       '0          $7.90\\n',\n",
       "       '1          $1.23\\n',\n",
       "       '2          $2.16\\n',\n",
       "       '3      $1,298.00\\n',\n",
       "       '4  $1,000,000.00']},\n",
       "     'execution_count': 29,\n",
       "     'metadata': {},\n",
       "     'output_type': 'execute_result'}],\n",
       "   'source': ['# create some price data\\n',\n",
       "    \"raw_data = {'price': ['$7.90', '$1.23', '$2.16', '$1,298.00', '$1,000,000.00']}\\n\",\n",
       "    \"df = pd.DataFrame(raw_data, columns = ['price'])\\n\",\n",
       "    'df']},\n",
       "  {'cell_type': 'code',\n",
       "   'execution_count': 30,\n",
       "   'metadata': {},\n",
       "   'outputs': [{'data': {'text/html': ['<div>\\n',\n",
       "       '<style scoped>\\n',\n",
       "       '    .dataframe tbody tr th:only-of-type {\\n',\n",
       "       '        vertical-align: middle;\\n',\n",
       "       '    }\\n',\n",
       "       '\\n',\n",
       "       '    .dataframe tbody tr th {\\n',\n",
       "       '        vertical-align: top;\\n',\n",
       "       '    }\\n',\n",
       "       '\\n',\n",
       "       '    .dataframe thead th {\\n',\n",
       "       '        text-align: right;\\n',\n",
       "       '    }\\n',\n",
       "       '</style>\\n',\n",
       "       '<table border=\"1\" class=\"dataframe\">\\n',\n",
       "       '  <thead>\\n',\n",
       "       '    <tr style=\"text-align: right;\">\\n',\n",
       "       '      <th></th>\\n',\n",
       "       '      <th>price</th>\\n',\n",
       "       '    </tr>\\n',\n",
       "       '  </thead>\\n',\n",
       "       '  <tbody>\\n',\n",
       "       '    <tr>\\n',\n",
       "       '      <th>0</th>\\n',\n",
       "       '      <td>7.90</td>\\n',\n",
       "       '    </tr>\\n',\n",
       "       '    <tr>\\n',\n",
       "       '      <th>1</th>\\n',\n",
       "       '      <td>1.23</td>\\n',\n",
       "       '    </tr>\\n',\n",
       "       '    <tr>\\n',\n",
       "       '      <th>2</th>\\n',\n",
       "       '      <td>2.16</td>\\n',\n",
       "       '    </tr>\\n',\n",
       "       '    <tr>\\n',\n",
       "       '      <th>3</th>\\n',\n",
       "       '      <td>1298.00</td>\\n',\n",
       "       '    </tr>\\n',\n",
       "       '    <tr>\\n',\n",
       "       '      <th>4</th>\\n',\n",
       "       '      <td>1000000.00</td>\\n',\n",
       "       '    </tr>\\n',\n",
       "       '  </tbody>\\n',\n",
       "       '</table>\\n',\n",
       "       '</div>'],\n",
       "      'text/plain': ['        price\\n',\n",
       "       '0        7.90\\n',\n",
       "       '1        1.23\\n',\n",
       "       '2        2.16\\n',\n",
       "       '3     1298.00\\n',\n",
       "       '4  1000000.00']},\n",
       "     'execution_count': 30,\n",
       "     'metadata': {},\n",
       "     'output_type': 'execute_result'}],\n",
       "   'source': [\"df['price'] = df['price'].apply(lambda x: str(x).replace('$','')).apply(lambda x: str(x).replace(',','')).astype(float)\\n\",\n",
       "    'df']},\n",
       "  {'cell_type': 'code',\n",
       "   'execution_count': 31,\n",
       "   'metadata': {},\n",
       "   'outputs': [{'data': {'text/plain': ['0          7.90\\n',\n",
       "       '1          1.23\\n',\n",
       "       '2          2.16\\n',\n",
       "       '3       1298.00\\n',\n",
       "       '4    1000000.00\\n',\n",
       "       'Name: price, dtype: float64']},\n",
       "     'execution_count': 31,\n",
       "     'metadata': {},\n",
       "     'output_type': 'execute_result'}],\n",
       "   'source': [\"df['price'].replace('[\\\\$,]', '', regex=True).astype(float)\"]}],\n",
       " 'metadata': {'kernelspec': {'display_name': 'Python 3',\n",
       "   'language': 'python',\n",
       "   'name': 'python3'},\n",
       "  'language_info': {'codemirror_mode': {'name': 'ipython', 'version': 3.0},\n",
       "   'file_extension': '.py',\n",
       "   'mimetype': 'text/x-python',\n",
       "   'name': 'python',\n",
       "   'nbconvert_exporter': 'python',\n",
       "   'pygments_lexer': 'ipython3',\n",
       "   'version': '3.6.7'}},\n",
       " 'nbformat': 4,\n",
       " 'nbformat_minor': 0}"
      ]
     },
     "execution_count": 30,
     "metadata": {},
     "output_type": "execute_result"
    }
   ],
   "source": [
    "code"
   ]
  },
  {
   "cell_type": "code",
   "execution_count": 36,
   "metadata": {},
   "outputs": [
    {
     "data": {
      "text/plain": [
       "b'{\"cells\": [{\"cell_type\": \"markdown\", \"metadata\": {}, \"source\": [\"# Converting Prices to Floats in Pandas\"]}, {\"cell_type\": \"code\", \"execution_count\": 32, \"metadata\": {}, \"outputs\": [], \"source\": [\"# use the replace method for strings\\\\n\", \"df[\\'price\\'] = df[\\'price\\'].apply(lambda x: str(x).replace(\\'$\\',\\'\\')).apply(lambda x: str(x).replace(\\',\\',\\'\\')).astype(float)\"]}, {\"cell_type\": \"code\", \"execution_count\": 33, \"metadata\": {}, \"outputs\": [], \"source\": [\"# use regular expressions\\\\n\", \"df[\\'price\\'] = df[\\'price\\'].replace(\\'[\\\\\\\\$,]\\', \\'\\', regex=True).astype(float)\"]}, {\"cell_type\": \"markdown\", \"metadata\": {}, \"source\": [\"---\"]}, {\"cell_type\": \"markdown\", \"metadata\": {}, \"source\": [\"## Example\"]}, {\"cell_type\": \"markdown\", \"metadata\": {}, \"source\": [\"### Preliminaries\"]}, {\"cell_type\": \"code\", \"execution_count\": 28, \"metadata\": {}, \"outputs\": [], \"source\": [\"import pandas as pd\\\\n\", \"import re # optional (only used for 2nd example)\"]}, {\"cell_type\": \"code\", \"execution_count\": 29, \"metadata\": {}, \"outputs\": [{\"data\": {\"text/html\": [\"<div>\\\\n\", \"<style scoped>\\\\n\", \"    .dataframe tbody tr th:only-of-type {\\\\n\", \"        vertical-align: middle;\\\\n\", \"    }\\\\n\", \"\\\\n\", \"    .dataframe tbody tr th {\\\\n\", \"        vertical-align: top;\\\\n\", \"    }\\\\n\", \"\\\\n\", \"    .dataframe thead th {\\\\n\", \"        text-align: right;\\\\n\", \"    }\\\\n\", \"</style>\\\\n\", \"<table border=\\\\\"1\\\\\" class=\\\\\"dataframe\\\\\">\\\\n\", \"  <thead>\\\\n\", \"    <tr style=\\\\\"text-align: right;\\\\\">\\\\n\", \"      <th></th>\\\\n\", \"      <th>price</th>\\\\n\", \"    </tr>\\\\n\", \"  </thead>\\\\n\", \"  <tbody>\\\\n\", \"    <tr>\\\\n\", \"      <th>0</th>\\\\n\", \"      <td>$7.90</td>\\\\n\", \"    </tr>\\\\n\", \"    <tr>\\\\n\", \"      <th>1</th>\\\\n\", \"      <td>$1.23</td>\\\\n\", \"    </tr>\\\\n\", \"    <tr>\\\\n\", \"      <th>2</th>\\\\n\", \"      <td>$2.16</td>\\\\n\", \"    </tr>\\\\n\", \"    <tr>\\\\n\", \"      <th>3</th>\\\\n\", \"      <td>$1,298.00</td>\\\\n\", \"    </tr>\\\\n\", \"    <tr>\\\\n\", \"      <th>4</th>\\\\n\", \"      <td>$1,000,000.00</td>\\\\n\", \"    </tr>\\\\n\", \"  </tbody>\\\\n\", \"</table>\\\\n\", \"</div>\"], \"text/plain\": [\"           price\\\\n\", \"0          $7.90\\\\n\", \"1          $1.23\\\\n\", \"2          $2.16\\\\n\", \"3      $1,298.00\\\\n\", \"4  $1,000,000.00\"]}, \"execution_count\": 29, \"metadata\": {}, \"output_type\": \"execute_result\"}], \"source\": [\"# create some price data\\\\n\", \"raw_data = {\\'price\\': [\\'$7.90\\', \\'$1.23\\', \\'$2.16\\', \\'$1,298.00\\', \\'$1,000,000.00\\']}\\\\n\", \"df = pd.DataFrame(raw_data, columns = [\\'price\\'])\\\\n\", \"df\"]}, {\"cell_type\": \"code\", \"execution_count\": 30, \"metadata\": {}, \"outputs\": [{\"data\": {\"text/html\": [\"<div>\\\\n\", \"<style scoped>\\\\n\", \"    .dataframe tbody tr th:only-of-type {\\\\n\", \"        vertical-align: middle;\\\\n\", \"    }\\\\n\", \"\\\\n\", \"    .dataframe tbody tr th {\\\\n\", \"        vertical-align: top;\\\\n\", \"    }\\\\n\", \"\\\\n\", \"    .dataframe thead th {\\\\n\", \"        text-align: right;\\\\n\", \"    }\\\\n\", \"</style>\\\\n\", \"<table border=\\\\\"1\\\\\" class=\\\\\"dataframe\\\\\">\\\\n\", \"  <thead>\\\\n\", \"    <tr style=\\\\\"text-align: right;\\\\\">\\\\n\", \"      <th></th>\\\\n\", \"      <th>price</th>\\\\n\", \"    </tr>\\\\n\", \"  </thead>\\\\n\", \"  <tbody>\\\\n\", \"    <tr>\\\\n\", \"      <th>0</th>\\\\n\", \"      <td>7.90</td>\\\\n\", \"    </tr>\\\\n\", \"    <tr>\\\\n\", \"      <th>1</th>\\\\n\", \"      <td>1.23</td>\\\\n\", \"    </tr>\\\\n\", \"    <tr>\\\\n\", \"      <th>2</th>\\\\n\", \"      <td>2.16</td>\\\\n\", \"    </tr>\\\\n\", \"    <tr>\\\\n\", \"      <th>3</th>\\\\n\", \"      <td>1298.00</td>\\\\n\", \"    </tr>\\\\n\", \"    <tr>\\\\n\", \"      <th>4</th>\\\\n\", \"      <td>1000000.00</td>\\\\n\", \"    </tr>\\\\n\", \"  </tbody>\\\\n\", \"</table>\\\\n\", \"</div>\"], \"text/plain\": [\"        price\\\\n\", \"0        7.90\\\\n\", \"1        1.23\\\\n\", \"2        2.16\\\\n\", \"3     1298.00\\\\n\", \"4  1000000.00\"]}, \"execution_count\": 30, \"metadata\": {}, \"output_type\": \"execute_result\"}], \"source\": [\"df[\\'price\\'] = df[\\'price\\'].apply(lambda x: str(x).replace(\\'$\\',\\'\\')).apply(lambda x: str(x).replace(\\',\\',\\'\\')).astype(float)\\\\n\", \"df\"]}, {\"cell_type\": \"code\", \"execution_count\": 31, \"metadata\": {}, \"outputs\": [{\"data\": {\"text/plain\": [\"0          7.90\\\\n\", \"1          1.23\\\\n\", \"2          2.16\\\\n\", \"3       1298.00\\\\n\", \"4    1000000.00\\\\n\", \"Name: price, dtype: float64\"]}, \"execution_count\": 31, \"metadata\": {}, \"output_type\": \"execute_result\"}], \"source\": [\"df[\\'price\\'].replace(\\'[\\\\\\\\$,]\\', \\'\\', regex=True).astype(float)\"]}], \"metadata\": {\"kernelspec\": {\"display_name\": \"Python 3\", \"language\": \"python\", \"name\": \"python3\"}, \"language_info\": {\"codemirror_mode\": {\"name\": \"ipython\", \"version\": 3.0}, \"file_extension\": \".py\", \"mimetype\": \"text/x-python\", \"name\": \"python\", \"nbconvert_exporter\": \"python\", \"pygments_lexer\": \"ipython3\", \"version\": \"3.6.7\"}}, \"nbformat\": 4, \"nbformat_minor\": 0}'"
      ]
     },
     "execution_count": 36,
     "metadata": {},
     "output_type": "execute_result"
    }
   ],
   "source": [
    "bytes(json.dumps(code), 'utf-8')"
   ]
  },
  {
   "cell_type": "code",
   "execution_count": null,
   "metadata": {},
   "outputs": [],
   "source": []
  }
 ],
 "metadata": {
  "kernelspec": {
   "display_name": "Python 3",
   "language": "python",
   "name": "python3"
  },
  "language_info": {
   "codemirror_mode": {
    "name": "ipython",
    "version": 3
   },
   "file_extension": ".py",
   "mimetype": "text/x-python",
   "name": "python",
   "nbconvert_exporter": "python",
   "pygments_lexer": "ipython3",
   "version": "3.7.0"
  }
 },
 "nbformat": 4,
 "nbformat_minor": 2
}
