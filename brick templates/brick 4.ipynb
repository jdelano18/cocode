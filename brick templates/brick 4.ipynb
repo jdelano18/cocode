{
 "cells": [
  {
   "cell_type": "markdown",
   "metadata": {
    "cocode": {
     "tags": "Clustering"
    }
   },
   "source": [
    "---\n",
    "title: \"Match A Word\"\n",
    "description: \"Match a word in Python.\"\n",
    "tags: Clustering\n",
    "URL:\n",
    "Licence: BSD\n",
    "\n",
    "---"
   ]
  },
  {
   "cell_type": "markdown",
   "metadata": {},
   "source": [
    "# Find All Words of a Given Length"
   ]
  },
  {
   "cell_type": "code",
   "execution_count": null,
   "metadata": {},
   "outputs": [],
   "source": [
    "# First, we'll need to import the regular expressions library. \n",
    "# Some description of what it is and why regex is helpful for this problem.\n",
    "import re"
   ]
  },
  {
   "cell_type": "code",
   "execution_count": null,
   "metadata": {},
   "outputs": [],
   "source": [
    "# * EXAMPLE SOLUTION * \n",
    "\n",
    "# Find any word of three letters\n",
    "text = 'The quick brown fox jumped over the lazy brown bear.'\n",
    "re.findall(r'\\b...\\b', text)"
   ]
  },
  {
   "cell_type": "markdown",
   "metadata": {},
   "source": [
    "---"
   ]
  },
  {
   "cell_type": "code",
   "execution_count": null,
   "metadata": {},
   "outputs": [],
   "source": [
    "# here are some examples of where this is used incorrectly\n",
    "re.find(text, r'\\b...\\b') # i don't know find some errors"
   ]
  }
 ],
 "metadata": {
  "kernelspec": {
   "display_name": "Python 3",
   "language": "python",
   "name": "python3"
  },
  "language_info": {
   "codemirror_mode": {
    "name": "ipython",
    "version": 3
   },
   "file_extension": ".py",
   "mimetype": "text/x-python",
   "name": "python",
   "nbconvert_exporter": "python",
   "pygments_lexer": "ipython3",
   "version": "3.7.0"
  }
 },
 "nbformat": 4,
 "nbformat_minor": 2
}
