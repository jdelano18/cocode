{
 "cells": [
  {
   "cell_type": "markdown",
   "metadata": {},
   "source": [
    "---\n",
    "title: \"Change the Data Type of a Column in Pandas\"\n",
    "description: \"How to change the data type for all values in a column of a pandas dataframe.\"\n",
    "tags: Pandas, Data Cleaning / Preprocessing, Text Processing\n",
    "URL:\n",
    "Licence:\n",
    "\n",
    "---"
   ]
  },
  {
   "cell_type": "markdown",
   "metadata": {},
   "source": [
    " <div>\n",
    "    \t<img src=\"./coco.png\" style=\"float: left;height: 55px\">\n",
    "    \t<div style=\"height: 150px;text-align: center; padding-top:5px\">\n",
    "        <h1>\n",
    "      \tChange the Data Type of a Column in Pandas\n",
    "        </h1>\n",
    "        <p>How to change the data type for all values in a column of a pandas dataframe.</p>\n",
    "    \t</div>\n",
    "\t\t</div> "
   ]
  },
  {
   "cell_type": "markdown",
   "metadata": {},
   "source": [
    " <div style=\"height:40px\">\n",
    "\t\t<div style=\"width:100%; text-align:center; border-bottom: 1px solid #000; line-height:0.1em; margin:40px 0 20px;\">\n",
    "    \t<span style=\"background:#fff; padding:0 10px; font-size:25px; font-family: 'Open Sans', sans-serif;\">\n",
    "        Key Code\n",
    "    \t</span>\n",
    "\t\t</div>\n",
    "\t\t</div>\n",
    "\t\t\t"
   ]
  },
  {
   "cell_type": "code",
   "execution_count": null,
   "metadata": {},
   "outputs": [],
   "source": [
    "df[\"col\"] = df[\"col\"].astype(type)"
   ]
  },
  {
   "cell_type": "markdown",
   "metadata": {},
   "source": [
    " <div style=\"height:40px\">\n",
    "\t\t<div style=\"width:100%; text-align:center; border-bottom: 1px solid #000; line-height:0.1em; margin:40px 0 20px;\">\n",
    "    \t<span style=\"background:#fff; padding:0 10px; font-size:25px; font-family: 'Open Sans', sans-serif;\">\n",
    "        Example\n",
    "    \t</span>\n",
    "\t\t</div>\n",
    "\t\t</div>\n",
    "\t\t\t"
   ]
  },
  {
   "cell_type": "markdown",
   "metadata": {},
   "source": [
    "## Preliminaries"
   ]
  },
  {
   "cell_type": "code",
   "execution_count": 1,
   "metadata": {},
   "outputs": [],
   "source": [
    "import pandas as pd"
   ]
  },
  {
   "cell_type": "markdown",
   "metadata": {},
   "source": [
    "## Create some example data"
   ]
  },
  {
   "cell_type": "code",
   "execution_count": 2,
   "metadata": {},
   "outputs": [
    {
     "data": {
      "text/html": [
       "<div>\n",
       "<style scoped>\n",
       "    .dataframe tbody tr th:only-of-type {\n",
       "        vertical-align: middle;\n",
       "    }\n",
       "\n",
       "    .dataframe tbody tr th {\n",
       "        vertical-align: top;\n",
       "    }\n",
       "\n",
       "    .dataframe thead th {\n",
       "        text-align: right;\n",
       "    }\n",
       "</style>\n",
       "<table border=\"1\" class=\"dataframe\">\n",
       "  <thead>\n",
       "    <tr style=\"text-align: right;\">\n",
       "      <th></th>\n",
       "      <th>name</th>\n",
       "      <th>year</th>\n",
       "      <th>reports</th>\n",
       "      <th>coverage</th>\n",
       "    </tr>\n",
       "  </thead>\n",
       "  <tbody>\n",
       "    <tr>\n",
       "      <th>Cochice</th>\n",
       "      <td>Jason</td>\n",
       "      <td>2012</td>\n",
       "      <td>4</td>\n",
       "      <td>25</td>\n",
       "    </tr>\n",
       "    <tr>\n",
       "      <th>Pima</th>\n",
       "      <td>Molly</td>\n",
       "      <td>2012</td>\n",
       "      <td>24</td>\n",
       "      <td>94</td>\n",
       "    </tr>\n",
       "    <tr>\n",
       "      <th>Santa Cruz</th>\n",
       "      <td>Tina</td>\n",
       "      <td>2013</td>\n",
       "      <td>31</td>\n",
       "      <td>57</td>\n",
       "    </tr>\n",
       "    <tr>\n",
       "      <th>Maricopa</th>\n",
       "      <td>Jake</td>\n",
       "      <td>2014</td>\n",
       "      <td>2</td>\n",
       "      <td>62</td>\n",
       "    </tr>\n",
       "    <tr>\n",
       "      <th>Yuma</th>\n",
       "      <td>Amy</td>\n",
       "      <td>2014</td>\n",
       "      <td>3</td>\n",
       "      <td>70</td>\n",
       "    </tr>\n",
       "  </tbody>\n",
       "</table>\n",
       "</div>"
      ],
      "text/plain": [
       "             name  year  reports coverage\n",
       "Cochice     Jason  2012        4       25\n",
       "Pima        Molly  2012       24       94\n",
       "Santa Cruz   Tina  2013       31       57\n",
       "Maricopa     Jake  2014        2       62\n",
       "Yuma          Amy  2014        3       70"
      ]
     },
     "execution_count": 2,
     "metadata": {},
     "output_type": "execute_result"
    }
   ],
   "source": [
    "data = {'name': ['Jason', 'Molly', 'Tina', 'Jake', 'Amy'], \n",
    "        'year': [2012, 2012, 2013, 2014, 2014], \n",
    "        'reports': [4, 24, 31, 2, 3],\n",
    "        'coverage': [\"25\", \"94\", \"57\", \"62\", \"70\"]}\n",
    "df = pd.DataFrame(data, index = ['Cochice', 'Pima', 'Santa Cruz', 'Maricopa', 'Yuma'])\n",
    "df"
   ]
  },
  {
   "cell_type": "markdown",
   "metadata": {},
   "source": [
    "## Convert the 'coverage' column to int's"
   ]
  },
  {
   "cell_type": "code",
   "execution_count": 4,
   "metadata": {},
   "outputs": [
    {
     "data": {
      "text/plain": [
       "name        object\n",
       "year         int64\n",
       "reports      int64\n",
       "coverage     int64\n",
       "dtype: object"
      ]
     },
     "execution_count": 4,
     "metadata": {},
     "output_type": "execute_result"
    }
   ],
   "source": [
    "# Convert a series to python int\n",
    "df[\"coverage\"] = df[\"coverage\"].astype(int)\n",
    "df.dtypes"
   ]
  }
 ],
 "metadata": {
  "kernelspec": {
   "display_name": "Python 3",
   "language": "python",
   "name": "python3"
  },
  "language_info": {
   "codemirror_mode": {
    "name": "ipython",
    "version": 3
   },
   "file_extension": ".py",
   "mimetype": "text/x-python",
   "name": "python",
   "nbconvert_exporter": "python",
   "pygments_lexer": "ipython3",
   "version": "3.7.0"
  }
 },
 "nbformat": 4,
 "nbformat_minor": 2
}
