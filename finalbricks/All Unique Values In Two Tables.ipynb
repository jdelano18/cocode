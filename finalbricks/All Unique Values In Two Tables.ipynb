{
 "cells": [
  {
   "cell_type": "markdown",
   "metadata": {},
   "source": [
    "---\n",
    "title: \"All Unique Values In Two Tables\"\n",
    "description: \"How to find all unique values in two table in an SQL database.\"\n",
    "tags: postgresql, merging_and_joining\n",
    "URL: https://github.com/ActiveState/code\n",
    "Creator: \n",
    "Meta: \n",
    "\n",
    "---"
   ]
  },
  {
   "cell_type": "markdown",
   "metadata": {},
   "source": [
    " <div>\n",
    "    \t<img src=\"./coco.png\" style=\"float: left;height: 55px\">\n",
    "    \t<div style=\"height: 150px;text-align: center; padding-top:5px\">\n",
    "        <h1>\n",
    "      \tAll Unique Values In Two Tables\n",
    "        </h1>\n",
    "        <p>How to find all unique values in two table in an SQL database.</p>\n",
    "    \t</div>\n",
    "\t\t</div> "
   ]
  },
  {
   "cell_type": "markdown",
   "metadata": {},
   "source": [
    " <div style=\"height:40px\">\n",
    "<div style=\"width:100%; text-align:center; border-bottom: 1px solid #000; line-height:0.1em; margin:40px 0 20px;\">\n",
    "<span style=\"background:#fff; padding:0 10px; font-size:25px; font-family: 'Open Sans', sans-serif;\">\n",
    "Example\n",
    "</span>\n",
    "</div>\n",
    "</div>\n",
    "\t"
   ]
  },
  {
   "cell_type": "markdown",
   "metadata": {},
   "source": [
    "## Create Table Of Elves\n",
    "\n",
    "```sql\n",
    "-- Create table called elves\n",
    "CREATE TABLE elves (\n",
    "    -- string variable\n",
    "    name varchar(255),\n",
    "    -- integer variable\n",
    "    age int,\n",
    "    -- string variable\n",
    "    race varchar(255),\n",
    "    -- string variable\n",
    "    weapon varchar(255)\n",
    ")\n",
    "```\n",
    "\n",
    "## Create Table Of Dwarves\n",
    "\n",
    "```sql\n",
    "-- Create table called dwarves\n",
    "CREATE TABLE dwarves (\n",
    "    -- string variable\n",
    "    name varchar(255),\n",
    "    -- integer variable\n",
    "    age int,\n",
    "    -- string variable\n",
    "    race varchar(255),\n",
    "    -- string variable\n",
    "    weapon varchar(255)\n",
    ")\n",
    "```\n",
    "\n",
    "## Insert Rows Into Elf Table\n",
    "\n",
    "```sql\n",
    "INSERT INTO elves (name, age, race, weapon)\n",
    "VALUES ('Dallar Woodfoot', 25, 'Elf', 'Bow'),\n",
    "       ('Cordin Garner', 29, 'Elf', 'Bow'),\n",
    "       ('Keat Knigh', 24, 'Elf', 'Sword'),\n",
    "       ('Colbat Nalor', 124, 'Elf', 'Magic')\n",
    "```\n",
    "\n",
    "## Insert Rows Into Dwarf Table\n",
    "\n",
    "```sql\n",
    "INSERT INTO dwarves (name, age, race, weapon)\n",
    "VALUES ('Kalog', 23, 'Dwarf', 'Axe'),\n",
    "       ('Dranar', 145, 'Dwarf', 'Bow'),\n",
    "       ('Bratar', 12, 'Dwarf', 'Axe'),\n",
    "       ('Dragga', 23, 'Dwarf', 'Axe')\n",
    "```\n",
    "\n",
    "## Find The Combined Unique Values In Two Tables\n",
    "\n",
    "```sql\n",
    "-- Retrieve all weapons from elves\n",
    "SELECT weapon FROM elves\n",
    "-- Combine unique values with...\n",
    "UNION\n",
    "-- Retrieve all weapons from dwarves\n",
    "SELECT weapon FROM dwarves\n",
    "```\n",
    "<table border=\"1\" style=\"border-collapse:collapse\">\n",
    "<tr><th>weapon</th></tr>\n",
    "<tr><td>Bow</td></tr>\n",
    "<tr><td>Bow</td></tr>\n",
    "<tr><td>Sword</td></tr>\n",
    "<tr><td>Magic</td></tr></table>"
   ]
  }
 ],
 "metadata": {
  "kernelspec": {
   "display_name": "Python 3",
   "language": "python",
   "name": "python3"
  },
  "language_info": {
   "codemirror_mode": {
    "name": "ipython",
    "version": 3
   },
   "file_extension": ".py",
   "mimetype": "text/x-python",
   "name": "python",
   "nbconvert_exporter": "python",
   "pygments_lexer": "ipython3",
   "version": "3.7.0"
  }
 },
 "nbformat": 4,
 "nbformat_minor": 2
}
