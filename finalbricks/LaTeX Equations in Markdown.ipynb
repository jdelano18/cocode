{
 "cells": [
  {
   "cell_type": "markdown",
   "metadata": {},
   "source": [
    "---\n",
    "title: \"LaTeX Equations in Markdown\"\n",
    "description: \"How to integrate latex equations into markdown\"\n",
    "tags: Markdown\n",
    "URL: https://en.wikibooks.org/wiki/LaTeX/Mathematics\n",
    "Licence: NA\n",
    "\n",
    "---"
   ]
  },
  {
   "cell_type": "markdown",
   "metadata": {},
   "source": [
    "# Key Code&"
   ]
  },
  {
   "cell_type": "markdown",
   "metadata": {},
   "source": [
    "In line equations and expressions are surrounded by `$`. An in line equation could look like $a^2 + b^2 = c^2$"
   ]
  },
  {
   "cell_type": "markdown",
   "metadata": {},
   "source": [
    "Block equations and expressions are surrounded by `$$`. A block equation could look like:"
   ]
  },
  {
   "cell_type": "markdown",
   "metadata": {},
   "source": [
    "$$\\int_{a}^{b} x^2 dx$$"
   ]
  },
  {
   "cell_type": "markdown",
   "metadata": {},
   "source": [
    "# Learn More&"
   ]
  },
  {
   "cell_type": "markdown",
   "metadata": {},
   "source": [
    "More LaTeX syntax can be found here: https://en.wikibooks.org/wiki/LaTeX/Mathematics"
   ]
  }
 ],
 "metadata": {
  "kernelspec": {
   "display_name": "Python 3",
   "language": "python",
   "name": "python3"
  },
  "language_info": {
   "codemirror_mode": {
    "name": "ipython",
    "version": 3
   },
   "file_extension": ".py",
   "mimetype": "text/x-python",
   "name": "python",
   "nbconvert_exporter": "python",
   "pygments_lexer": "ipython3",
   "version": "3.7.0"
  }
 },
 "nbformat": 4,
 "nbformat_minor": 2
}
