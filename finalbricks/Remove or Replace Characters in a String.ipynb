{
 "cells": [
  {
   "cell_type": "markdown",
   "metadata": {},
   "source": [
    "---\n",
    "title: \"Remove or Replace Characters in a String\"\n",
    "description: \"how to remove and/or replace characters in a string using the replace method and regular expressions\"\n",
    "tags: Data Cleaning / Preprocessing, Text Processing, Regex, Python Fundamentals\n",
    "URL:\n",
    "Licence:\n",
    "\n",
    "---"
   ]
  },
  {
   "cell_type": "markdown",
   "metadata": {},
   "source": [
    " <div>\n",
    "    \t<img src=\"./coco.png\" style=\"float: left;height: 55px\">\n",
    "    \t<div style=\"height: 150px;text-align: center; padding-top:5px\">\n",
    "        <h1>\n",
    "      \tRemove or Replace Characters in a String\n",
    "        </h1>\n",
    "        <p>how to remove and/or replace characters in a string using the replace method and regular expressions</p>\n",
    "    \t</div>\n",
    "\t\t</div> "
   ]
  },
  {
   "cell_type": "markdown",
   "metadata": {},
   "source": [
    " <div style=\"height:40px\">\n",
    "\t\t<div style=\"width:100%; text-align:center; border-bottom: 1px solid #000; line-height:0.1em; margin:40px 0 20px;\">\n",
    "    \t<span style=\"background:#fff; padding:0 10px; font-size:25px; font-family: 'Open Sans', sans-serif;\">\n",
    "        Key Code\n",
    "    \t</span>\n",
    "\t\t</div>\n",
    "\t\t</div>\n",
    "\t\t\t"
   ]
  },
  {
   "cell_type": "code",
   "execution_count": 4,
   "metadata": {},
   "outputs": [
    {
     "data": {
      "text/plain": [
       "\"X XXXXX XX X'X\""
      ]
     },
     "execution_count": 4,
     "metadata": {},
     "output_type": "execute_result"
    }
   ],
   "source": [
    "# method 1) replace with regular expressions .sub\n",
    "re.sub(r'[a-zA-Z]', 'X', \"a bunch of X's\")"
   ]
  },
  {
   "cell_type": "code",
   "execution_count": 6,
   "metadata": {},
   "outputs": [
    {
     "data": {
      "text/plain": [
       "'heo word'"
      ]
     },
     "execution_count": 6,
     "metadata": {},
     "output_type": "execute_result"
    }
   ],
   "source": [
    "# method 2) .replace character with '' to remove\n",
    "\"hello world\".replace('l','')"
   ]
  },
  {
   "cell_type": "markdown",
   "metadata": {},
   "source": [
    " <div style=\"height:40px\">\n",
    "\t\t<div style=\"width:100%; text-align:center; border-bottom: 1px solid #000; line-height:0.1em; margin:40px 0 20px;\">\n",
    "    \t<span style=\"background:#fff; padding:0 10px; font-size:25px; font-family: 'Open Sans', sans-serif;\">\n",
    "        Example\n",
    "    \t</span>\n",
    "\t\t</div>\n",
    "\t\t</div>\n",
    "\t\t\t"
   ]
  },
  {
   "cell_type": "markdown",
   "metadata": {},
   "source": [
    "## Method 1: Regular Expressions"
   ]
  },
  {
   "cell_type": "markdown",
   "metadata": {
    "collapsed": true
   },
   "source": [
    "### Import library"
   ]
  },
  {
   "cell_type": "code",
   "execution_count": 8,
   "metadata": {},
   "outputs": [],
   "source": [
    "import re"
   ]
  },
  {
   "cell_type": "markdown",
   "metadata": {
    "collapsed": true
   },
   "source": [
    "### Create text"
   ]
  },
  {
   "cell_type": "code",
   "execution_count": 9,
   "metadata": {},
   "outputs": [],
   "source": [
    "text_data = ['Interrobang. By Aishwarya Henriette',\n",
    "             'Parking And Going. By Karl Gautier',\n",
    "             'Today Is The night. By Jarek Prakash']"
   ]
  },
  {
   "cell_type": "markdown",
   "metadata": {},
   "source": [
    "### Create and apply function"
   ]
  },
  {
   "cell_type": "code",
   "execution_count": 11,
   "metadata": {},
   "outputs": [
    {
     "data": {
      "text/plain": [
       "['XXXXXXXXXXX. XX XXXXXXXXX XXXXXXXXX',\n",
       " 'XXXXXXX XXX XXXXX. XX XXXX XXXXXXX',\n",
       " 'XXXXX XX XXX XXXXX. XX XXXXX XXXXXXX']"
      ]
     },
     "execution_count": 11,
     "metadata": {},
     "output_type": "execute_result"
    }
   ],
   "source": [
    "def replace_letters_with_X(string: str) -> str:\n",
    "    return re.sub(r'[a-zA-Z]', 'X', string)\n",
    "\n",
    "[replace_letters_with_X(string) for string in text_data]"
   ]
  },
  {
   "cell_type": "markdown",
   "metadata": {},
   "source": [
    " <div style=\"height:40px\">\n",
    "\t\t<div style=\"width:100%; text-align:center; border-bottom: 1px solid #000; line-height:0.1em; margin:40px 0 20px;\">\n",
    "    \t<span style=\"background:#fff; padding:0 10px; font-size:25px; font-family: 'Open Sans', sans-serif;\">\n",
    "        Example\n",
    "    \t</span>\n",
    "\t\t</div>\n",
    "\t\t</div>\n",
    "\t\t\t"
   ]
  },
  {
   "cell_type": "markdown",
   "metadata": {},
   "source": [
    "## Method 2: String.replace()"
   ]
  },
  {
   "cell_type": "markdown",
   "metadata": {
    "scrolled": true
   },
   "source": [
    "### Same text data"
   ]
  },
  {
   "cell_type": "code",
   "execution_count": null,
   "metadata": {},
   "outputs": [],
   "source": [
    "text_data = ['Interrobang. By Aishwarya Henriette',\n",
    "             'Parking And Going. By Karl Gautier',\n",
    "             'Today Is The night. By Jarek Prakash']"
   ]
  },
  {
   "cell_type": "markdown",
   "metadata": {
    "scrolled": true
   },
   "source": [
    "### Remove periods"
   ]
  },
  {
   "cell_type": "code",
   "execution_count": 12,
   "metadata": {},
   "outputs": [
    {
     "data": {
      "text/plain": [
       "['Interrobang By Aishwarya Henriette',\n",
       " 'Parking And Going By Karl Gautier',\n",
       " 'Today Is The night By Jarek Prakash']"
      ]
     },
     "execution_count": 12,
     "metadata": {},
     "output_type": "execute_result"
    }
   ],
   "source": [
    "remove_periods = [string.replace('.', '') for string in text_data]\n",
    "remove_periods"
   ]
  }
 ],
 "metadata": {
  "kernelspec": {
   "display_name": "Python 3",
   "language": "python",
   "name": "python3"
  },
  "language_info": {
   "codemirror_mode": {
    "name": "ipython",
    "version": 3
   },
   "file_extension": ".py",
   "mimetype": "text/x-python",
   "name": "python",
   "nbconvert_exporter": "python",
   "pygments_lexer": "ipython3",
   "version": "3.7.0"
  }
 },
 "nbformat": 4,
 "nbformat_minor": 2
}
