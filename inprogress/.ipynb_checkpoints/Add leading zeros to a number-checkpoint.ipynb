{
 "cells": [
  {
   "cell_type": "markdown",
   "metadata": {},
   "source": [
    "---\n",
    "title: \"Add leading zeros to a number\"\n",
    "description: \"Add any number of leading zeros to a number.\"\n",
    "tags: Python Fundamentals, Mathematics: Basics\n",
    "URL: https://github.com/Richienb/quilt\n",
    "Licence: Apache License 2.0\n",
    "Creator: \n",
    "Meta: \"\"\n",
    "\n",
    "---"
   ]
  },
  {
   "cell_type": "markdown",
   "metadata": {},
   "source": [
    "# Key Code&"
   ]
  },
  {
   "cell_type": "code",
   "execution_count": null,
   "metadata": {},
   "outputs": [],
   "source": [
    "def leadingzero(number, minlength):\n",
    "    \"\"\"\n",
    "    Add leading zeros to a number.\n",
    "\n",
    "    :type number: number\n",
    "    :param number: The number to add the leading zeros to.\n",
    "\n",
    "    :type minlength: integer\n",
    "    :param minlength: If the number is shorter than this length than add leading zeros to make the length correct.\n",
    "\n",
    "    :return: The number with a leading zero\n",
    "    :rtype: string\n",
    "\n",
    "    >>> leadingzero(1, 2)\n",
    "    '01'\n",
    "    \"\"\"\n",
    "\n",
    "    # Return the number as a string with the filled number\n",
    "    return str(number).zfill(int(minlength))"
   ]
  }
 ],
 "metadata": {
  "kernelspec": {
   "display_name": "Python 3",
   "language": "python",
   "name": "python3"
  },
  "language_info": {
   "codemirror_mode": {
    "name": "ipython",
    "version": 3
   },
   "file_extension": ".py",
   "mimetype": "text/x-python",
   "name": "python",
   "nbconvert_exporter": "python",
   "pygments_lexer": "ipython3",
   "version": "3.7.0"
  }
 },
 "nbformat": 4,
 "nbformat_minor": 2
}
