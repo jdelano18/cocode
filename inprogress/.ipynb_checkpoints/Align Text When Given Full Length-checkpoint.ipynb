{
 "cells": [
  {
   "cell_type": "markdown",
   "metadata": {},
   "source": [
    "---\n",
    "title: \"Align Text When Given Full Length\"\n",
    "description: \"Align text orientation left, right or center when given full length.\"\n",
    "tags: Python: Other\n",
    "URL: https://github.com/Richienb/quilt\n",
    "Licence: Apache License 2.0\n",
    "Creator: \n",
    "Meta: \"\"\n",
    "\n",
    "---"
   ]
  },
  {
   "cell_type": "markdown",
   "metadata": {},
   "source": [
    "# Key Code&"
   ]
  },
  {
   "cell_type": "code",
   "execution_count": null,
   "metadata": {},
   "outputs": [],
   "source": [
    "def textalign(text, maxlength, align='left'):\n",
    "    \"\"\"\n",
    "    Align Text When Given Full Length\n",
    "    \"\"\"\n",
    "    if align == 'left':\n",
    "        return text\n",
    "    elif align == 'centre' or align == 'center':\n",
    "        spaces = ' ' * (int((maxlength - len(text)) / 2))\n",
    "    elif align == 'right':\n",
    "        spaces = (maxlength - len(text))\n",
    "    else:\n",
    "        raise ValueError(\"Invalid alignment specified.\")\n",
    "    return spaces + text"
   ]
  }
 ],
 "metadata": {
  "kernelspec": {
   "display_name": "Python 3",
   "language": "python",
   "name": "python3"
  },
  "language_info": {
   "codemirror_mode": {
    "name": "ipython",
    "version": 3
   },
   "file_extension": ".py",
   "mimetype": "text/x-python",
   "name": "python",
   "nbconvert_exporter": "python",
   "pygments_lexer": "ipython3",
   "version": "3.7.0"
  }
 },
 "nbformat": 4,
 "nbformat_minor": 2
}
