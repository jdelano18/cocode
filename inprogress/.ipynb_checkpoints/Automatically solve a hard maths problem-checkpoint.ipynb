{
 "cells": [
  {
   "cell_type": "markdown",
   "metadata": {},
   "source": [
    "---\n",
    "title: \"Automatically solve a math problem\"\n",
    "description: \"Automatically solve a trigonometry problem as a string.\"\n",
    "tags: Python Fundamentals, Mathematics: Basics\n",
    "URL: https://github.com/Richienb/quilt\n",
    "Licence: Apache License 2.0\n",
    "Creator: \n",
    "Meta: \"log acos asin atan cos hypot sin tan trigonometry trig\"\n",
    "\n",
    "---"
   ]
  },
  {
   "cell_type": "markdown",
   "metadata": {},
   "source": [
    "# Key Code&"
   ]
  },
  {
   "cell_type": "code",
   "execution_count": 1,
   "metadata": {},
   "outputs": [],
   "source": [
    "import math\n",
    "def autohard(equation):\n",
    "    \"\"\"\n",
    "    Automatically solve a hard maths problem.\n",
    "\n",
    "    :type equation: string\n",
    "    :param equation: The equation to solve.\n",
    "\n",
    "    >>> autohard(\"log 10\")\n",
    "    2.302585092994046\n",
    "    \"\"\"\n",
    "\n",
    "    try:\n",
    "        # Try to set a variable to an integer\n",
    "        num1 = int(equation.split(\" \")[1])\n",
    "\n",
    "    except ValueError:\n",
    "        # Try to set a variable to a decimal\n",
    "        num1 = float(equation.split(\" \")[1])\n",
    "\n",
    "    # If the lowercase version of the operation equals 'log'\n",
    "    if equation.split(\" \")[0].lower() == \"log\":\n",
    "        # Return the answer\n",
    "        return math.log(num1)\n",
    "\n",
    "    # If the lowercase version of the operation equals 'acos'\n",
    "    elif equation.split(\" \")[0].lower() == \"acos\":\n",
    "        # Return the answer\n",
    "        return math.acos(num1)\n",
    "\n",
    "    # If the lowercase version of the operation equals 'asin'\n",
    "    elif equation.split(\" \")[0].lower() == \"asin\":\n",
    "        # Return the answer\n",
    "        return math.asin(num1)\n",
    "\n",
    "    # If the lowercase version of the operation equals 'atan'\n",
    "    elif equation.split(\" \")[0].lower() == \"atan\":\n",
    "        # Return the answer\n",
    "        return math.atan(num1)\n",
    "\n",
    "    # If the lowercase version of the operation equals 'cos'\n",
    "    elif equation.split(\" \")[0].lower() == \"cos\":\n",
    "        # Return the answer\n",
    "        return math.cos(num1)\n",
    "\n",
    "    # If the lowercase version of the operation equals 'hypot'\n",
    "    elif equation.split(\" \")[0].lower() == \"hypot\":\n",
    "        try:\n",
    "            # Try to set a variable to an integer\n",
    "            num2 = int(equation.split(\" \")[2])\n",
    "\n",
    "        except ValueError:\n",
    "            # Try to set a variable to an decimal\n",
    "            num2 = float(equation.split(\" \")[2])\n",
    "\n",
    "        # Return the answer\n",
    "        return math.hypot(num1, num2)\n",
    "\n",
    "    # If the lowercase version of the operation equals 'sin'\n",
    "    elif equation.split(\" \")[0].lower() == \"sin\":\n",
    "        # Return the answer\n",
    "        return math.sin(num1)\n",
    "\n",
    "    # If the lowercase version of the operation equals 'tan'\n",
    "    elif equation.split(\" \")[0].lower() == \"tan\":\n",
    "        # Return the answer\n",
    "        return math.tan(num1)\n",
    "\n",
    "    # Raise a warning\n",
    "    raise ValueError(\"Invalid operation entered.\")"
   ]
  }
 ],
 "metadata": {
  "kernelspec": {
   "display_name": "Python 3",
   "language": "python",
   "name": "python3"
  },
  "language_info": {
   "codemirror_mode": {
    "name": "ipython",
    "version": 3
   },
   "file_extension": ".py",
   "mimetype": "text/x-python",
   "name": "python",
   "nbconvert_exporter": "python",
   "pygments_lexer": "ipython3",
   "version": "3.7.0"
  }
 },
 "nbformat": 4,
 "nbformat_minor": 2
}
