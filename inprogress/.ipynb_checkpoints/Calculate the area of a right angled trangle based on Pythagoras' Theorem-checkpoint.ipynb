{
 "cells": [
  {
   "cell_type": "markdown",
   "metadata": {},
   "source": [
    "---\n",
    "title: \"Calculate the area of a right trangle\"\n",
    "description: \"Calculate the area of a right angled trangle based on Pythagoras' Theorem: A = 0.5(base * height).\"\n",
    "tags: Python Fundamentals, Mathematics: Basics\n",
    "URL: https://github.com/Richienb/quilt\n",
    "Licence: Apache License 2.0\n",
    "Creator: \n",
    "Meta: \"\"\n",
    "\n",
    "---"
   ]
  },
  {
   "cell_type": "markdown",
   "metadata": {},
   "source": [
    "# Key Code&"
   ]
  },
  {
   "cell_type": "code",
   "execution_count": null,
   "metadata": {},
   "outputs": [],
   "source": [
    "def pythrule(first, second):\n",
    "    \"\"\"\n",
    "    Calculate the area of a right angled trangle based on Pythagoras' Theorem\n",
    "\n",
    "    :type first: number\n",
    "    :param first: The length of the first axis (x or y)\n",
    "\n",
    "    :type second: number\n",
    "    :param second: The length of the second axis (x or y)\n",
    "    \"\"\"\n",
    "\n",
    "    return (first * second) / 2"
   ]
  }
 ],
 "metadata": {
  "kernelspec": {
   "display_name": "Python 3",
   "language": "python",
   "name": "python3"
  },
  "language_info": {
   "codemirror_mode": {
    "name": "ipython",
    "version": 3
   },
   "file_extension": ".py",
   "mimetype": "text/x-python",
   "name": "python",
   "nbconvert_exporter": "python",
   "pygments_lexer": "ipython3",
   "version": "3.7.0"
  }
 },
 "nbformat": 4,
 "nbformat_minor": 2
}
