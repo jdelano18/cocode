{
 "cells": [
  {
   "cell_type": "markdown",
   "metadata": {},
   "source": [
    "---\n",
    "title: \"Calculate the value of Euler's formula of a shape\"\n",
    "description: \"Euler's formula of a shape states that the number of verticies + eqges - faces must equal 2. \"\n",
    "tags: Python Fundamentals, Mathematics: Basics\n",
    "URL: https://github.com/Richienb/quilt\n",
    "Licence: Apache License 2.0\n",
    "Creator: \n",
    "Meta: \"\"\n",
    "\n",
    "---"
   ]
  },
  {
   "cell_type": "markdown",
   "metadata": {},
   "source": [
    "# Key Code&"
   ]
  },
  {
   "cell_type": "code",
   "execution_count": null,
   "metadata": {},
   "outputs": [],
   "source": [
    "def euler(faces, edges, verticies):\n",
    "    \"\"\"\n",
    "    Calculate the value of Euler's formula of a shape.\n",
    "\n",
    "    :type faces: integer\n",
    "    :param faces: The faces of the shape\n",
    "\n",
    "    :type edges: integer\n",
    "    :param edges: The edges of the shape\n",
    "\n",
    "    :type verticies: integer\n",
    "    :param verticies: The verticies of the shape\n",
    "\n",
    "    :return: The result of the euler operation\n",
    "    :rtype: number\n",
    "    \"\"\"\n",
    "\n",
    "    # Return the calculated value\n",
    "    return verticies - edges + faces"
   ]
  }
 ],
 "metadata": {
  "kernelspec": {
   "display_name": "Python 3",
   "language": "python",
   "name": "python3"
  },
  "language_info": {
   "codemirror_mode": {
    "name": "ipython",
    "version": 3
   },
   "file_extension": ".py",
   "mimetype": "text/x-python",
   "name": "python",
   "nbconvert_exporter": "python",
   "pygments_lexer": "ipython3",
   "version": "3.7.0"
  }
 },
 "nbformat": 4,
 "nbformat_minor": 2
}
