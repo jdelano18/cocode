{
 "cells": [
  {
   "cell_type": "markdown",
   "metadata": {},
   "source": [
    "---\n",
    "title: \"Check If A Number Is A Type\"\n",
    "description: \"Check if a number has a particular property. Properties include a triangular, square, cube, even, odd, positive or negative number.\"\n",
    "tags: Python: Other, Mathematics: Basics\n",
    "URL: https://github.com/Richienb/quilt\n",
    "Licence: Apache License 2.0\n",
    "Creator: \n",
    "Meta: \"\"\n",
    "\n",
    "---"
   ]
  },
  {
   "cell_type": "markdown",
   "metadata": {},
   "source": [
    "# Key Code&"
   ]
  },
  {
   "cell_type": "code",
   "execution_count": null,
   "metadata": {},
   "outputs": [],
   "source": [
    "import math\n",
    "def numprop(value, propertyexpected):\n",
    "    \"\"\"\n",
    "    Check If A Number Is A Type\n",
    "    \"\"\"\n",
    "    if propertyexpected == 'triangular':\n",
    "        x = (math.sqrt(8 * value + 1) - 1) / 2\n",
    "        return bool(x - int(x) > 0)\n",
    "    elif propertyexpected == 'square':\n",
    "        return math.sqrt(value).is_integer()\n",
    "    elif propertyexpected == 'cube':\n",
    "        x = value**(1 / 3)\n",
    "        x = int(round(x))\n",
    "        return bool(x**3 == value)\n",
    "    elif propertyexpected == 'even':\n",
    "        return value % 2 == 0\n",
    "    elif propertyexpected == 'odd':\n",
    "        return not value % 2 == 0\n",
    "    elif propertyexpected == 'positive':\n",
    "        return bool(value > 0)\n",
    "    elif propertyexpected == 'negative':\n",
    "        return bool(value < 0)\n",
    "    elif propertyexpected == 'zero':\n",
    "        return bool(value == 0)"
   ]
  }
 ],
 "metadata": {
  "kernelspec": {
   "display_name": "Python 3",
   "language": "python",
   "name": "python3"
  },
  "language_info": {
   "codemirror_mode": {
    "name": "ipython",
    "version": 3
   },
   "file_extension": ".py",
   "mimetype": "text/x-python",
   "name": "python",
   "nbconvert_exporter": "python",
   "pygments_lexer": "ipython3",
   "version": "3.7.0"
  }
 },
 "nbformat": 4,
 "nbformat_minor": 2
}
