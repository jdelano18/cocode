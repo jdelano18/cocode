{
 "cells": [
  {
   "cell_type": "markdown",
   "metadata": {},
   "source": [
    "---\n",
    "title: \"Check if a keyword exists in the Python keyword dictionary\"\n",
    "description: \"Check if a keyword exists in the Python keyword dictionary. Whether to list or check the keywords. Possible options are 'list' and 'in'.\"\n",
    "tags: Python: Other, Dictionaries\n",
    "URL: https://github.com/Richienb/quilt\n",
    "Licence: Apache License 2.0\n",
    "Creator: \n",
    "Meta: \"\"\n",
    "\n",
    "---"
   ]
  },
  {
   "cell_type": "markdown",
   "metadata": {},
   "source": [
    "# Key Code&"
   ]
  },
  {
   "cell_type": "code",
   "execution_count": null,
   "metadata": {},
   "outputs": [],
   "source": [
    "import keyword\n",
    "def pykeyword(operation='list', keywordtotest=None):\n",
    "    \"\"\"\n",
    "    Check if a keyword exists in the Python keyword dictionary.\n",
    "\n",
    "    :type operation: string\n",
    "    :param operation: Whether to list or check the keywords. Possible options are 'list' and 'in'.\n",
    "\n",
    "    :type keywordtotest: string\n",
    "    :param keywordtotest: The keyword to check.\n",
    "\n",
    "    :return: The list of keywords or if a keyword exists.\n",
    "    :rtype: list or boolean\n",
    "\n",
    "    >>> \"True\" in pykeyword(\"list\")\n",
    "    True\n",
    "\n",
    "    >>> pykeyword(\"in\", \"True\")\n",
    "    True\n",
    "\n",
    "    >>> pykeyword(\"in\", \"foo\")\n",
    "    False\n",
    "\n",
    "    >>> pykeyword(\"foo\", \"foo\")\n",
    "    Traceback (most recent call last):\n",
    "      ...\n",
    "    ValueError: Invalid operation specified.\n",
    "    \"\"\"\n",
    "\n",
    "    # If the operation was 'list'\n",
    "    if operation == 'list':\n",
    "        # Return an array of keywords\n",
    "        return str(keyword.kwlist)\n",
    "\n",
    "    # If the operation was 'in'\n",
    "    elif operation == 'in':\n",
    "        # Return a boolean for if the string was a keyword\n",
    "        return keyword.iskeyword(str(keywordtotest))\n",
    "\n",
    "    # Raise a warning\n",
    "    raise ValueError(\"Invalid operation specified.\")\n",
    "\n",
    "\n"
   ]
  }
 ],
 "metadata": {
  "kernelspec": {
   "display_name": "Python 3",
   "language": "python",
   "name": "python3"
  },
  "language_info": {
   "codemirror_mode": {
    "name": "ipython",
    "version": 3
   },
   "file_extension": ".py",
   "mimetype": "text/x-python",
   "name": "python",
   "nbconvert_exporter": "python",
   "pygments_lexer": "ipython3",
   "version": "3.7.0"
  }
 },
 "nbformat": 4,
 "nbformat_minor": 2
}
