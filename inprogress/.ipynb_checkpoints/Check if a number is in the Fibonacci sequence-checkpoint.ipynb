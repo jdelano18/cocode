{
 "cells": [
  {
   "cell_type": "markdown",
   "metadata": {},
   "source": [
    "---\n",
    "title: \"Check if a number is a the Fibonacci number\"\n",
    "description: \"Check if a number falls in the Fibonacci sequence.\"\n",
    "tags: Python: Other, Mathematics: Basics\n",
    "URL: https://github.com/Richienb/quilt\n",
    "Licence: Apache License 2.0\n",
    "Creator: \n",
    "Meta: \"\"\n",
    "\n",
    "---"
   ]
  },
  {
   "cell_type": "markdown",
   "metadata": {},
   "source": [
    "# Key Code&"
   ]
  },
  {
   "cell_type": "code",
   "execution_count": null,
   "metadata": {},
   "outputs": [],
   "source": [
    "def isfib(number):\n",
    "    \"\"\"\n",
    "    Check if a number is in the Fibonacci sequence.\n",
    "\n",
    "    :type number: integer\n",
    "    :param number: Number to check\n",
    "    \"\"\"\n",
    "\n",
    "    num1 = 1\n",
    "    num2 = 1\n",
    "    while True:\n",
    "        if num2 < number:\n",
    "            tempnum = num2\n",
    "            num2 += num1\n",
    "            num1 = tempnum\n",
    "        elif num2 == number:\n",
    "            return True\n",
    "        else:\n",
    "            return False"
   ]
  }
 ],
 "metadata": {
  "kernelspec": {
   "display_name": "Python 3",
   "language": "python",
   "name": "python3"
  },
  "language_info": {
   "codemirror_mode": {
    "name": "ipython",
    "version": 3
   },
   "file_extension": ".py",
   "mimetype": "text/x-python",
   "name": "python",
   "nbconvert_exporter": "python",
   "pygments_lexer": "ipython3",
   "version": "3.7.0"
  }
 },
 "nbformat": 4,
 "nbformat_minor": 2
}
