{
 "cells": [
  {
   "cell_type": "markdown",
   "metadata": {},
   "source": [
    "---\n",
    "title: \"Check if a variable is a specific type\"\n",
    "description: \"Check if a variable matches the type (is an instance of) anotehr variable.\"\n",
    "tags: Python: Other\n",
    "URL: https://github.com/Richienb/quilt\n",
    "Licence: Apache License 2.0\n",
    "Creator: \n",
    "Meta: \"isinstance\"\n",
    "\n",
    "---"
   ]
  },
  {
   "cell_type": "markdown",
   "metadata": {},
   "source": [
    "# Key Code&"
   ]
  },
  {
   "cell_type": "code",
   "execution_count": null,
   "metadata": {},
   "outputs": [],
   "source": [
    "def typematch(variable, expectedtype):\n",
    "    \"\"\"\n",
    "    Check if a variable is a specific type\n",
    "\n",
    "    :type variable: variable\n",
    "    :param variable: The variable to check the type of\n",
    "\n",
    "    :type expectedtype: type\n",
    "    :param expectedtype: The type to check against\n",
    "\n",
    "    >>> typematch(True, bool)\n",
    "    True\n",
    "\n",
    "    >>> typematch(\"foo\", str)\n",
    "    True\n",
    "\n",
    "    >>> typematch(True, str)\n",
    "    False\n",
    "\n",
    "    >>> binboolflip(\"foo\")\n",
    "    Traceback (most recent call last):\n",
    "      ...\n",
    "    ValueError: Invalid item specified.\n",
    "    \"\"\"\n",
    "\n",
    "    # Return the result\n",
    "    return isinstance(variable, expectedtype)"
   ]
  }
 ],
 "metadata": {
  "kernelspec": {
   "display_name": "Python 3",
   "language": "python",
   "name": "python3"
  },
  "language_info": {
   "codemirror_mode": {
    "name": "ipython",
    "version": 3
   },
   "file_extension": ".py",
   "mimetype": "text/x-python",
   "name": "python",
   "nbconvert_exporter": "python",
   "pygments_lexer": "ipython3",
   "version": "3.7.0"
  }
 },
 "nbformat": 4,
 "nbformat_minor": 2
}
