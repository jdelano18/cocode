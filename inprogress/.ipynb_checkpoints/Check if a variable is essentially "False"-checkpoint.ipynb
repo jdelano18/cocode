{
 "cells": [
  {
   "cell_type": "markdown",
   "metadata": {},
   "source": [
    "---\n",
    "title: \"Check if a variable is False or empty\"\n",
    "description: \"Check if a variable is essentially False by seeing if it is 0, empty, nan, or None.\"\n",
    "tags: Python: Other\n",
    "URL: https://github.com/Richienb/quilt\n",
    "Licence: Apache License 2.0\n",
    "Creator: \n",
    "Meta: \"\"\n",
    "\n",
    "---"
   ]
  },
  {
   "cell_type": "markdown",
   "metadata": {},
   "source": [
    "# Key Code&"
   ]
  },
  {
   "cell_type": "code",
   "execution_count": 1,
   "metadata": {},
   "outputs": [],
   "source": [
    "import math\n",
    "def isfalse(variable):\n",
    "    \"\"\"\n",
    "    Check if a variable is essentially \"False\"\n",
    "\n",
    "    :type variable: variable\n",
    "    :param variable: The variable to check\n",
    "    \"\"\"\n",
    "\n",
    "    # Return the answer\n",
    "    return variable in [0, 0.0, False, [], {}, math.nan, \"\", (), None]"
   ]
  }
 ],
 "metadata": {
  "kernelspec": {
   "display_name": "Python 3",
   "language": "python",
   "name": "python3"
  },
  "language_info": {
   "codemirror_mode": {
    "name": "ipython",
    "version": 3
   },
   "file_extension": ".py",
   "mimetype": "text/x-python",
   "name": "python",
   "nbconvert_exporter": "python",
   "pygments_lexer": "ipython3",
   "version": "3.7.0"
  }
 },
 "nbformat": 4,
 "nbformat_minor": 2
}
