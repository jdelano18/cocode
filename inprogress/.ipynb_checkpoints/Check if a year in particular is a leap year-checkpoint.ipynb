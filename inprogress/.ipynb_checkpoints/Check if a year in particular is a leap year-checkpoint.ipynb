{
 "cells": [
  {
   "cell_type": "markdown",
   "metadata": {},
   "source": [
    "---\n",
    "title: \"Check if a year in particular is a leap year\"\n",
    "description: \"Check if a year in particular is a leap year using the calendar module. Leap years occur every 4 years but except for every year divisible by 100 unless that year is also divisible by 400.\"\n",
    "tags: \n",
    "URL: https://github.com/Richienb/quilt\n",
    "Licence: Apache License 2.0\n",
    "Creator: \n",
    "Meta: \"\"\n",
    "\n",
    "---"
   ]
  },
  {
   "cell_type": "markdown",
   "metadata": {},
   "source": [
    "# Key Code&"
   ]
  },
  {
   "cell_type": "code",
   "execution_count": null,
   "metadata": {},
   "outputs": [],
   "source": [
    "import calendar\n",
    "def leapyear(year):\n",
    "    \"\"\"\n",
    "    Check if a year in particular is a leap year\n",
    "\n",
    "    :type year: integer\n",
    "    :param year: The year to check for\n",
    "    \"\"\"\n",
    "\n",
    "    # Return the answer\n",
    "    return bool(calendar.isleap(year))\n"
   ]
  }
 ],
 "metadata": {
  "kernelspec": {
   "display_name": "Python 3",
   "language": "python",
   "name": "python3"
  },
  "language_info": {
   "codemirror_mode": {
    "name": "ipython",
    "version": 3
   },
   "file_extension": ".py",
   "mimetype": "text/x-python",
   "name": "python",
   "nbconvert_exporter": "python",
   "pygments_lexer": "ipython3",
   "version": "3.7.0"
  }
 },
 "nbformat": 4,
 "nbformat_minor": 2
}
