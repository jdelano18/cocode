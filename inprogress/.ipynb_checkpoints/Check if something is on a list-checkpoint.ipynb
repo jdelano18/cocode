{
 "cells": [
  {
   "cell_type": "markdown",
   "metadata": {},
   "source": [
    "---\n",
    "title: \"Check if something is on a list\"\n",
    "description: \"Check if something is on a list of values.\"\n",
    "tags: Lists\n",
    "URL: https://github.com/Richienb/quilt\n",
    "Licence: Apache License 2.0\n",
    "Creator: \n",
    "Meta: \"is in\"\n",
    "\n",
    "---"
   ]
  },
  {
   "cell_type": "markdown",
   "metadata": {},
   "source": [
    "# Key Code&"
   ]
  },
  {
   "cell_type": "code",
   "execution_count": null,
   "metadata": {},
   "outputs": [],
   "source": [
    "def onlist(listtocheck, item):\n",
    "    \"\"\"\n",
    "    Check if something is on a list.\n",
    "\n",
    "    :type listtocheck: list\n",
    "    :param listtocheck: The list to check.\n",
    "\n",
    "    :type item: object\n",
    "    :param item: The item to check if on the list.\n",
    "    \"\"\"\n",
    "\n",
    "    # Return the result\n",
    "    return item in listtocheck"
   ]
  }
 ],
 "metadata": {
  "kernelspec": {
   "display_name": "Python 3",
   "language": "python",
   "name": "python3"
  },
  "language_info": {
   "codemirror_mode": {
    "name": "ipython",
    "version": 3
   },
   "file_extension": ".py",
   "mimetype": "text/x-python",
   "name": "python",
   "nbconvert_exporter": "python",
   "pygments_lexer": "ipython3",
   "version": "3.7.0"
  }
 },
 "nbformat": 4,
 "nbformat_minor": 2
}
