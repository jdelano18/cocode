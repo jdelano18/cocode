{
 "cells": [
  {
   "cell_type": "markdown",
   "metadata": {},
   "source": [
    "---\n",
    "title: \"Choose a random item from a list\"\n",
    "description: \"Choose a random item from a list of values using the random module.\"\n",
    "tags: Python: Other, Lists\n",
    "URL: https://github.com/Richienb/quilt\n",
    "Licence: Apache License 2.0\n",
    "Creator: \n",
    "Meta: \"\"\n",
    "\n",
    "---"
   ]
  },
  {
   "cell_type": "markdown",
   "metadata": {},
   "source": [
    "# Key Code&"
   ]
  },
  {
   "cell_type": "code",
   "execution_count": null,
   "metadata": {},
   "outputs": [],
   "source": [
    "import random\n",
    "def randomstr(valuelist):\n",
    "    \"\"\"\n",
    "    Choose a random item from a list.\n",
    "\n",
    "    :type valuelist: list\n",
    "    :param valuelist: The list to choose a random item from.\n",
    "\n",
    "    :raises IndexError: List not specified.\n",
    "    \"\"\"\n",
    "\n",
    "    # Choose a random item and return it\n",
    "    return random.choice(valuelist)"
   ]
  }
 ],
 "metadata": {
  "kernelspec": {
   "display_name": "Python 3",
   "language": "python",
   "name": "python3"
  },
  "language_info": {
   "codemirror_mode": {
    "name": "ipython",
    "version": 3
   },
   "file_extension": ".py",
   "mimetype": "text/x-python",
   "name": "python",
   "nbconvert_exporter": "python",
   "pygments_lexer": "ipython3",
   "version": "3.7.0"
  }
 },
 "nbformat": 4,
 "nbformat_minor": 2
}
