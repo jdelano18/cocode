{
 "cells": [
  {
   "cell_type": "markdown",
   "metadata": {},
   "source": [
    "---\n",
    "title: \"Compare Two values\"\n",
    "description: \"Compare 2 values with a specific comparison argument: 'is', 'or', 'and'.\"\n",
    "tags: Python: Other\n",
    "URL: https://github.com/Richienb/quilt\n",
    "Licence: Apache License 2.0\n",
    "Creator: \n",
    "Meta: \"\"\n",
    "\n",
    "---"
   ]
  },
  {
   "cell_type": "markdown",
   "metadata": {},
   "source": [
    "# Key Code&"
   ]
  },
  {
   "cell_type": "code",
   "execution_count": null,
   "metadata": {},
   "outputs": [],
   "source": [
    "import string\n",
    "def compare(value1, value2, comparison):\n",
    "    \"\"\"\n",
    "    Compare 2 values\n",
    "\n",
    "    :type value1: object\n",
    "    :param value1: The first value to compare.\n",
    "\n",
    "    :type value2: object\n",
    "    :param value2: The second value to compare.\n",
    "\n",
    "    :type comparison: string\n",
    "    :param comparison: The comparison to make. Can be \"is\", \"or\", \"and\".\n",
    "\n",
    "    :return: If the value is, or, and of another value\n",
    "    :rtype: boolean\n",
    "    \"\"\"\n",
    "    if not isinstance(comparison, str):\n",
    "        raise TypeError(\"Comparison argument must be a string.\")\n",
    "    if comparison == 'is':\n",
    "        return value1 == value2\n",
    "    elif comparison == 'or':\n",
    "        return value1 or value2\n",
    "    elif comparison == 'and':\n",
    "        return value1 and value2\n",
    "    raise ValueError(\"Invalid comparison operator specified.\")"
   ]
  }
 ],
 "metadata": {
  "kernelspec": {
   "display_name": "Python 3",
   "language": "python",
   "name": "python3"
  },
  "language_info": {
   "codemirror_mode": {
    "name": "ipython",
    "version": 3
   },
   "file_extension": ".py",
   "mimetype": "text/x-python",
   "name": "python",
   "nbconvert_exporter": "python",
   "pygments_lexer": "ipython3",
   "version": "3.7.0"
  }
 },
 "nbformat": 4,
 "nbformat_minor": 2
}
