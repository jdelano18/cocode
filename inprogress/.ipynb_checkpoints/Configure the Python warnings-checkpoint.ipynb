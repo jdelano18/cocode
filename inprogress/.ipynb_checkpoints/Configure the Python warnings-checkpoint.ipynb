{
 "cells": [
  {
   "cell_type": "markdown",
   "metadata": {},
   "source": [
    "---\n",
    "title: \"Configure the Python warnings\"\n",
    "description: \"Configure the Python warnings using the filterwarnings method from the warnings module. The options for the action/configuration to set are 'default', 'error', 'ignore', 'always', 'module' and 'once'.\"\n",
    "tags: Python: Other, Error Handling\n",
    "URL: https://github.com/Richienb/quilt\n",
    "Licence: Apache License 2.0\n",
    "Creator: \n",
    "Meta: \"filterwarnings warnings\"\n",
    "\n",
    "---"
   ]
  },
  {
   "cell_type": "markdown",
   "metadata": {},
   "source": [
    "# Key Code&"
   ]
  },
  {
   "cell_type": "code",
   "execution_count": null,
   "metadata": {},
   "outputs": [],
   "source": [
    "import warnings\n",
    "def warnconfig(action='default'):\n",
    "    \"\"\"\n",
    "    Configure the Python warnings.\n",
    "\n",
    "    :type action: string\n",
    "    :param action: The configuration to set. Options are: 'default', 'error', 'ignore', 'always', 'module' and 'once'.\n",
    "    \"\"\"\n",
    "\n",
    "    # If action is 'default'\n",
    "    if action.lower() == 'default':\n",
    "        # Change warning settings\n",
    "        warnings.filterwarnings('default')\n",
    "\n",
    "    # If action is 'error'\n",
    "    elif action.lower() == 'error':\n",
    "        # Change warning settings\n",
    "        warnings.filterwarnings('error')\n",
    "\n",
    "    # If action is 'ignore'\n",
    "    elif action.lower() == 'ignore':\n",
    "        # Change warning settings\n",
    "        warnings.filterwarnings('ignore')\n",
    "\n",
    "    # If action is 'always'\n",
    "    elif action.lower() == 'always':\n",
    "        # Change warning settings\n",
    "        warnings.filterwarnings('always')\n",
    "\n",
    "    # If action is 'module'\n",
    "    elif action.lower() == 'module':\n",
    "        # Change warning settings\n",
    "        warnings.filterwarnings('module')\n",
    "\n",
    "    # If action is 'once'\n",
    "    elif action.lower() == 'once':\n",
    "        # Change warning settings\n",
    "        warnings.filterwarnings('once')\n",
    "\n",
    "    # Raise runtime warning\n",
    "    raise ValueError(\"Invalid action specified.\")\n"
   ]
  }
 ],
 "metadata": {
  "kernelspec": {
   "display_name": "Python 3",
   "language": "python",
   "name": "python3"
  },
  "language_info": {
   "codemirror_mode": {
    "name": "ipython",
    "version": 3
   },
   "file_extension": ".py",
   "mimetype": "text/x-python",
   "name": "python",
   "nbconvert_exporter": "python",
   "pygments_lexer": "ipython3",
   "version": "3.7.0"
  }
 },
 "nbformat": 4,
 "nbformat_minor": 2
}
