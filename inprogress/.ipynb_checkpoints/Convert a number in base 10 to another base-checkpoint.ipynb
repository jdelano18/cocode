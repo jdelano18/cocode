{
 "cells": [
  {
   "cell_type": "markdown",
   "metadata": {},
   "source": [
    "---\n",
    "title: \"Convert a number in base 10 to another base\"\n",
    "description: \"Convert a number in base 10 to another base. This function has useful applications in modular arithmetic.\"\n",
    "tags: Mathematics: Basics\n",
    "URL: https://github.com/Richienb/quilt\n",
    "Licence: Apache License 2.0\n",
    "Creator: \n",
    "Meta: \"\"\n",
    "\n",
    "---"
   ]
  },
  {
   "cell_type": "markdown",
   "metadata": {},
   "source": [
    "# Key Code&"
   ]
  },
  {
   "cell_type": "code",
   "execution_count": null,
   "metadata": {},
   "outputs": [],
   "source": [
    "import string\n",
    "def convertbase(number, base=10):\n",
    "    \"\"\"\n",
    "    Convert a number in base 10 to another base\n",
    "\n",
    "    :type number: number\n",
    "    :param number: The number to convert\n",
    "\n",
    "    :type base: integer\n",
    "    :param base: The base to convert to.\n",
    "    \"\"\"\n",
    "\n",
    "    integer = number\n",
    "    if not integer:\n",
    "        return '0'\n",
    "    sign = 1 if integer > 0 else -1\n",
    "    alphanum = string.digits + string.ascii_lowercase\n",
    "    nums = alphanum[:base]\n",
    "    res = ''\n",
    "    integer *= sign\n",
    "    while integer:\n",
    "        integer, mod = divmod(integer, base)\n",
    "        res += nums[mod]\n",
    "    return ('' if sign == 1 else '-') + res[::-1]\n"
   ]
  }
 ],
 "metadata": {
  "kernelspec": {
   "display_name": "Python 3",
   "language": "python",
   "name": "python3"
  },
  "language_info": {
   "codemirror_mode": {
    "name": "ipython",
    "version": 3
   },
   "file_extension": ".py",
   "mimetype": "text/x-python",
   "name": "python",
   "nbconvert_exporter": "python",
   "pygments_lexer": "ipython3",
   "version": "3.7.0"
  }
 },
 "nbformat": 4,
 "nbformat_minor": 2
}
