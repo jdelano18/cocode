{
 "cells": [
  {
   "cell_type": "markdown",
   "metadata": {},
   "source": [
    "---\n",
    "title: \"Convert a relative directory to an absolute directory\"\n",
    "description: \"Convert a relative directory to an absolute directory using the os.path.abspath method.\"\n",
    "tags: Data Import / Connectivity / Injest, Python: Other\n",
    "URL: https://github.com/Richienb/quilt\n",
    "Licence: Apache License 2.0\n",
    "Creator: \n",
    "Meta: \"os.path.abspath os os.path path abspath\"\n",
    "\n",
    "---"
   ]
  },
  {
   "cell_type": "markdown",
   "metadata": {},
   "source": [
    "# Key Code&"
   ]
  },
  {
   "cell_type": "code",
   "execution_count": null,
   "metadata": {},
   "outputs": [],
   "source": [
    "import os\n",
    "def absolutedir(relativedirectory):\n",
    "    \"\"\"\n",
    "    Convert a relative directory to an absolute directory.\n",
    "\n",
    "    :type relativedirectory: string\n",
    "    :param relativedirectory: The directory path to convert.\n",
    "\n",
    "    >>> absolutedir(\"src\") # doctest: +SKIP\n",
    "    \"C:/Users/richi/Documents/GitHub/quilt/src\"\n",
    "    \"\"\"\n",
    "\n",
    "    # Return the absolute version of the directory\n",
    "    return os.path.abspath(str(relativedirectory))\n"
   ]
  }
 ],
 "metadata": {
  "kernelspec": {
   "display_name": "Python 3",
   "language": "python",
   "name": "python3"
  },
  "language_info": {
   "codemirror_mode": {
    "name": "ipython",
    "version": 3
   },
   "file_extension": ".py",
   "mimetype": "text/x-python",
   "name": "python",
   "nbconvert_exporter": "python",
   "pygments_lexer": "ipython3",
   "version": "3.7.0"
  }
 },
 "nbformat": 4,
 "nbformat_minor": 2
}
