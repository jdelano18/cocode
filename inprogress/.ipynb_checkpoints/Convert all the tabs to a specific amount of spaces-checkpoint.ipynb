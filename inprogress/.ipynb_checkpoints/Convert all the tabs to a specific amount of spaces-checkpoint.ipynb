{
 "cells": [
  {
   "cell_type": "markdown",
   "metadata": {},
   "source": [
    "---\n",
    "title: \"Convert all the tabs to a specific amount of spaces\"\n",
    "description: \"Convert all the tabs to a specific amount of spaces. This method could be useful when you're trying to switch the IDE you're working in.\"\n",
    "tags: Python: Other\n",
    "URL: https://github.com/Richienb/quilt\n",
    "Licence: Apache License 2.0\n",
    "Creator: \n",
    "Meta: \"IDE\"\n",
    "\n",
    "---"
   ]
  },
  {
   "cell_type": "markdown",
   "metadata": {},
   "source": [
    "# Key Code&"
   ]
  },
  {
   "cell_type": "code",
   "execution_count": null,
   "metadata": {},
   "outputs": [],
   "source": [
    "def converttabs(text, spaces=4):\n",
    "    \"\"\"\n",
    "    Convert all the tabs to a specific amount of spaces\n",
    "\n",
    "    :type text: string\n",
    "    :param text: The text to convert tabs to spaces on\n",
    "\n",
    "    :type spaces: integer\n",
    "    :param spaces: The amount of spaces to replace tabs to.\n",
    "    \"\"\"\n",
    "\n",
    "    return text.replace('\\t', ' ' * spaces)\n",
    "\n",
    "\n"
   ]
  }
 ],
 "metadata": {
  "kernelspec": {
   "display_name": "Python 3",
   "language": "python",
   "name": "python3"
  },
  "language_info": {
   "codemirror_mode": {
    "name": "ipython",
    "version": 3
   },
   "file_extension": ".py",
   "mimetype": "text/x-python",
   "name": "python",
   "nbconvert_exporter": "python",
   "pygments_lexer": "ipython3",
   "version": "3.7.0"
  }
 },
 "nbformat": 4,
 "nbformat_minor": 2
}
