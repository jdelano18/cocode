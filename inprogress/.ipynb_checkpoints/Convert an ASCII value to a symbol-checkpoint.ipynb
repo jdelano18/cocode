{
 "cells": [
  {
   "cell_type": "markdown",
   "metadata": {},
   "source": [
    "---\n",
    "title: \"Convert an ASCII value to a symbol\"\n",
    "description: \"Convert an ASCII value to or from its char representation.\"\n",
    "tags: Python: Other, Preprocessing Text\n",
    "URL: https://github.com/Richienb/quilt\n",
    "Licence: Apache License 2.0\n",
    "Creator: \n",
    "Meta: \"\"\n",
    "\n",
    "---"
   ]
  },
  {
   "cell_type": "markdown",
   "metadata": {},
   "source": [
    "# Key Code&"
   ]
  },
  {
   "cell_type": "code",
   "execution_count": null,
   "metadata": {},
   "outputs": [],
   "source": [
    "def convertascii(value, command='to'):\n",
    "    \"\"\"\n",
    "    Convert an ASCII value to a symbol\n",
    "\n",
    "    :type value: string\n",
    "    :param value: The text or the text in ascii form.\n",
    "\n",
    "    :type argument: string\n",
    "    :param argument: The action to perform on the value. Can be \"to\" or \"from\".\n",
    "    \"\"\"\n",
    "    command = command.lower()\n",
    "    if command == 'to':\n",
    "        return chr(value)\n",
    "    elif command == 'from':\n",
    "        return ord(value)\n",
    "    else:\n",
    "        raise ValueError('Invalid operation provided.')\n"
   ]
  }
 ],
 "metadata": {
  "kernelspec": {
   "display_name": "Python 3",
   "language": "python",
   "name": "python3"
  },
  "language_info": {
   "codemirror_mode": {
    "name": "ipython",
    "version": 3
   },
   "file_extension": ".py",
   "mimetype": "text/x-python",
   "name": "python",
   "nbconvert_exporter": "python",
   "pygments_lexer": "ipython3",
   "version": "3.7.0"
  }
 },
 "nbformat": 4,
 "nbformat_minor": 2
}
