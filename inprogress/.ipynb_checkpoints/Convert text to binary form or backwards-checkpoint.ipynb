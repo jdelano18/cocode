{
 "cells": [
  {
   "cell_type": "markdown",
   "metadata": {},
   "source": [
    "---\n",
    "title: \"Convert text to or from binary\"\n",
    "description: \"Convert text to or from it's binary form.\"\n",
    "tags: Python: Other\n",
    "URL: https://github.com/Richienb/quilt\n",
    "Licence: Apache License 2.0\n",
    "Creator: \n",
    "Meta: \"\"\n",
    "\n",
    "---"
   ]
  },
  {
   "cell_type": "markdown",
   "metadata": {},
   "source": [
    "# Key Code&"
   ]
  },
  {
   "cell_type": "code",
   "execution_count": null,
   "metadata": {},
   "outputs": [],
   "source": [
    "def convertbinary(value, argument):\n",
    "    \"\"\"\n",
    "    Convert text to binary form or backwards.\n",
    "\n",
    "    :type value: string\n",
    "    :param value: The text or the binary text\n",
    "\n",
    "    :type argument: string\n",
    "    :param argument: The action to perform on the value. Can be \"to\" or \"from\".\n",
    "    \"\"\"\n",
    "\n",
    "    if argument == 'to':\n",
    "        return bin(value)\n",
    "    elif argument == 'from':\n",
    "        return format(value)\n",
    "    raise ValueError(\"Invalid argument specified.\")\n"
   ]
  }
 ],
 "metadata": {
  "kernelspec": {
   "display_name": "Python 3",
   "language": "python",
   "name": "python3"
  },
  "language_info": {
   "codemirror_mode": {
    "name": "ipython",
    "version": 3
   },
   "file_extension": ".py",
   "mimetype": "text/x-python",
   "name": "python",
   "nbconvert_exporter": "python",
   "pygments_lexer": "ipython3",
   "version": "3.7.0"
  }
 },
 "nbformat": 4,
 "nbformat_minor": 2
}
