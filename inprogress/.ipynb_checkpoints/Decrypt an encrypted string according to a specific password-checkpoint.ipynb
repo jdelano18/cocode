{
 "cells": [
  {
   "cell_type": "markdown",
   "metadata": {},
   "source": [
    "---\n",
    "title: \"Decrypt an encrypted string according to a specific password\"\n",
    "description: \"Decrypt an encrypted string according to a specific password using the base64 module.\"\n",
    "tags: Preprocessing Text, Python: Other\n",
    "URL: https://github.com/Richienb/quilt\n",
    "Licence: Apache License 2.0\n",
    "Creator: \n",
    "Meta: \"\"\n",
    "\n",
    "---"
   ]
  },
  {
   "cell_type": "markdown",
   "metadata": {},
   "source": [
    "# Key Code&"
   ]
  },
  {
   "cell_type": "code",
   "execution_count": null,
   "metadata": {},
   "outputs": [],
   "source": [
    "import base64\n",
    "def decryptstring(enc, password):\n",
    "    \"\"\"\n",
    "    Decrypt an encrypted string according to a specific password.\n",
    "\n",
    "    :type enc: string\n",
    "    :param enc: The encrypted text.\n",
    "\n",
    "    :type pass: string\n",
    "    :param pass: The password used to encrypt the text.\n",
    "    \"\"\"\n",
    "\n",
    "    dec = []\n",
    "    enc = base64.urlsafe_b64decode(enc).decode()\n",
    "    for i in enumerate(enc):\n",
    "        key_c = password[i[0] % len(password)]\n",
    "        dec_c = chr((256 + ord(i[1]) - ord(key_c)) % 256)\n",
    "        dec.append(dec_c)\n",
    "    return \"\".join(dec)\n"
   ]
  }
 ],
 "metadata": {
  "kernelspec": {
   "display_name": "Python 3",
   "language": "python",
   "name": "python3"
  },
  "language_info": {
   "codemirror_mode": {
    "name": "ipython",
    "version": 3
   },
   "file_extension": ".py",
   "mimetype": "text/x-python",
   "name": "python",
   "nbconvert_exporter": "python",
   "pygments_lexer": "ipython3",
   "version": "3.7.0"
  }
 },
 "nbformat": 4,
 "nbformat_minor": 2
}
