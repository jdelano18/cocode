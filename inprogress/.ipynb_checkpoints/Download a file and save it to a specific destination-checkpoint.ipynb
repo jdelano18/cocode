{
 "cells": [
  {
   "cell_type": "markdown",
   "metadata": {},
   "source": [
    "---\n",
    "title: \"Download a file and save it to a specific destination\"\n",
    "description: \"Download a file and save it to a specific destination\"\n",
    "tags: Data Import / Connectivity / Injest\n",
    "URL: https://github.com/Richienb/quilt\n",
    "Licence: Apache License 2.0\n",
    "Creator: \n",
    "Meta: \"\"\n",
    "\n",
    "---"
   ]
  },
  {
   "cell_type": "markdown",
   "metadata": {},
   "source": [
    "# Key Code&"
   ]
  },
  {
   "cell_type": "code",
   "execution_count": null,
   "metadata": {},
   "outputs": [],
   "source": [
    "import urllib\n",
    "def filedownload(source, destination):\n",
    "    \"\"\"\n",
    "    Download a file and save it to a specific destination\n",
    "\n",
    "    :type source: string\n",
    "    :param source: The url to download from\n",
    "\n",
    "    :type destination: string\n",
    "    :param destination: The path to save the file to\n",
    "    \"\"\"\n",
    "\n",
    "    # Initiate the download\n",
    "    urllib.request.urlretrieve(source, destination)\n"
   ]
  }
 ],
 "metadata": {
  "kernelspec": {
   "display_name": "Python 3",
   "language": "python",
   "name": "python3"
  },
  "language_info": {
   "codemirror_mode": {
    "name": "ipython",
    "version": 3
   },
   "file_extension": ".py",
   "mimetype": "text/x-python",
   "name": "python",
   "nbconvert_exporter": "python",
   "pygments_lexer": "ipython3",
   "version": "3.7.0"
  }
 },
 "nbformat": 4,
 "nbformat_minor": 2
}
