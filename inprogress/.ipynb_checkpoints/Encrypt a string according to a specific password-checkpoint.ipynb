{
 "cells": [
  {
   "cell_type": "markdown",
   "metadata": {},
   "source": [
    "---\n",
    "title: \"Encrypt a string according to a specific password\"\n",
    "description: \"Encrypt a string according to a specific password using the base64 module.\"\n",
    "tags: Python: Other\n",
    "URL: https://github.com/Richienb/quilt\n",
    "Licence: Apache License 2.0\n",
    "Creator: \n",
    "Meta: \"\"\n",
    "\n",
    "---"
   ]
  },
  {
   "cell_type": "markdown",
   "metadata": {},
   "source": [
    "# Key Code&"
   ]
  },
  {
   "cell_type": "code",
   "execution_count": null,
   "metadata": {},
   "outputs": [],
   "source": [
    "import base64\n",
    "def encryptstring(text, password):\n",
    "    \"\"\"\n",
    "    Encrypt a string according to a specific password.\n",
    "\n",
    "    :type text: string\n",
    "    :param text: The text to encrypt.\n",
    "\n",
    "    :type pass: string\n",
    "    :param pass: The password to encrypt the text with.\n",
    "    \"\"\"\n",
    "\n",
    "    enc = []\n",
    "    for i in enumerate(text):\n",
    "        key_c = password[i[0] % len(password)]\n",
    "        enc_c = chr((ord(i[1]) + ord(key_c)) % 256)\n",
    "        enc.append(enc_c)\n",
    "    return base64.urlsafe_b64encode(\"\".join(enc).encode()).decode()\n",
    "\n",
    "\n"
   ]
  }
 ],
 "metadata": {
  "kernelspec": {
   "display_name": "Python 3",
   "language": "python",
   "name": "python3"
  },
  "language_info": {
   "codemirror_mode": {
    "name": "ipython",
    "version": 3
   },
   "file_extension": ".py",
   "mimetype": "text/x-python",
   "name": "python",
   "nbconvert_exporter": "python",
   "pygments_lexer": "ipython3",
   "version": "3.7.0"
  }
 },
 "nbformat": 4,
 "nbformat_minor": 2
}
