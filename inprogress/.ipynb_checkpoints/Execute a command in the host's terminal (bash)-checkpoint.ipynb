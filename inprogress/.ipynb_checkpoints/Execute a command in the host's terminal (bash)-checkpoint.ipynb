{
 "cells": [
  {
   "cell_type": "markdown",
   "metadata": {},
   "source": [
    "---\n",
    "title: \"Execute a command in the host's terminal (bash)\"\n",
    "description: \"Execute a command in the host's terminal (bash) from python using the subprocess module.\"\n",
    "tags: Bash, Python: Other\n",
    "URL: https://github.com/Richienb/quilt\n",
    "Licence: Apache License 2.0\n",
    "Creator: \n",
    "Meta: \"\"\n",
    "\n",
    "---"
   ]
  },
  {
   "cell_type": "markdown",
   "metadata": {},
   "source": [
    "# Key Code&"
   ]
  },
  {
   "cell_type": "code",
   "execution_count": null,
   "metadata": {},
   "outputs": [],
   "source": [
    "import subprocess\n",
    "def shellcommand(command):\n",
    "    \"\"\"\n",
    "    Execute a command in the host's terminal (bash)\n",
    "    command:\n",
    "    Specify the command to be executed\n",
    "    \"\"\"\n",
    "\n",
    "    subprocess.call(str(command))\n"
   ]
  }
 ],
 "metadata": {
  "kernelspec": {
   "display_name": "Python 3",
   "language": "python",
   "name": "python3"
  },
  "language_info": {
   "codemirror_mode": {
    "name": "ipython",
    "version": 3
   },
   "file_extension": ".py",
   "mimetype": "text/x-python",
   "name": "python",
   "nbconvert_exporter": "python",
   "pygments_lexer": "ipython3",
   "version": "3.7.0"
  }
 },
 "nbformat": 4,
 "nbformat_minor": 2
}
