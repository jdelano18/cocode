{
 "cells": [
  {
   "cell_type": "markdown",
   "metadata": {},
   "source": [
    "---\n",
    "title: \"Exit the current execution\"\n",
    "description: \"Exit the current execution using sys.exit\"\n",
    "tags: Python: Other, Error Handling\n",
    "URL: https://github.com/Richienb/quilt\n",
    "Licence: Apache License 2.0\n",
    "Creator: \n",
    "Meta: \"sys.exit(0) sys exit\"\n",
    "\n",
    "---"
   ]
  },
  {
   "cell_type": "markdown",
   "metadata": {},
   "source": [
    "# Key Code&"
   ]
  },
  {
   "cell_type": "code",
   "execution_count": null,
   "metadata": {},
   "outputs": [],
   "source": [
    "import sys\n",
    "def exitexec(arguments=0):\n",
    "    \"\"\"\n",
    "    Exit the current execution\n",
    "    \"\"\"\n",
    "    sys.exit(arguments)\n"
   ]
  }
 ],
 "metadata": {
  "kernelspec": {
   "display_name": "Python 3",
   "language": "python",
   "name": "python3"
  },
  "language_info": {
   "codemirror_mode": {
    "name": "ipython",
    "version": 3
   },
   "file_extension": ".py",
   "mimetype": "text/x-python",
   "name": "python",
   "nbconvert_exporter": "python",
   "pygments_lexer": "ipython3",
   "version": "3.7.0"
  }
 },
 "nbformat": 4,
 "nbformat_minor": 2
}
