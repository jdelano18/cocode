{
 "cells": [
  {
   "cell_type": "markdown",
   "metadata": {},
   "source": [
    "---\n",
    "title: \"Find the average of a list of numbers\"\n",
    "description: \"Find the average of a list of numbers. Types of averages include: mean, median, mode, min, max, and range.\"\n",
    "tags: Lists, Mathematics: Basics\n",
    "URL: https://github.com/Richienb/quilt\n",
    "Licence: Apache License 2.0\n",
    "Creator: \n",
    "Meta: \"mean, median, mode, min, max, and range of numbers in a list\"\n",
    "\n",
    "---"
   ]
  },
  {
   "cell_type": "markdown",
   "metadata": {},
   "source": [
    "# Key Code&"
   ]
  },
  {
   "cell_type": "code",
   "execution_count": null,
   "metadata": {},
   "outputs": [],
   "source": [
    "import statistics\n",
    "def average(numbers, averagetype='mean'):\n",
    "    \"\"\"\n",
    "    Find the average of a list of numbers\n",
    "\n",
    "    :type numbers: list\n",
    "    :param numbers: The list of numbers to find the average of.\n",
    "\n",
    "    :type averagetype: string\n",
    "    :param averagetype: The type of average to find.\n",
    "\n",
    "    >>> average([1, 2, 3, 4, 5], 'median')\n",
    "    3\n",
    "    \"\"\"\n",
    "\n",
    "    try:\n",
    "        # Try to get the mean of the numbers\n",
    "        statistics.mean(numbers)\n",
    "\n",
    "    except RuntimeError:\n",
    "        # Raise a warning\n",
    "        raise ValueError('Unable to parse the list.')\n",
    "\n",
    "    # If the lowercase version of the average type is 'mean'\n",
    "    if averagetype.lower() == 'mean':\n",
    "        # Return the answer\n",
    "        return statistics.mean(numbers)\n",
    "\n",
    "    # If the lowercase version of the average type is 'mode'\n",
    "    elif averagetype.lower() == 'mode':\n",
    "        # Return the answer\n",
    "        return statistics.mode(numbers)\n",
    "\n",
    "    # If the lowercase version of the average type is 'median'\n",
    "    elif averagetype.lower() == 'median':\n",
    "        # Return the answer\n",
    "        return statistics.median(numbers)\n",
    "\n",
    "    # If the lowercase version of the average type is 'min'\n",
    "    elif averagetype.lower() == 'min':\n",
    "        # Return the answer\n",
    "        return min(numbers)\n",
    "\n",
    "    # If the lowercase version of the average type is 'max'\n",
    "    elif averagetype.lower() == 'max':\n",
    "        # Return the answer\n",
    "        return max(numbers)\n",
    "\n",
    "    # If the lowercase version of the average type is 'range'\n",
    "    elif averagetype.lower() == 'range':\n",
    "        # Return the answer\n",
    "        return max(numbers) - min(numbers)\n",
    "\n",
    "    # Raise a warning\n",
    "    raise ValueError('Invalid average type provided.')\n",
    "\n",
    "\n"
   ]
  }
 ],
 "metadata": {
  "kernelspec": {
   "display_name": "Python 3",
   "language": "python",
   "name": "python3"
  },
  "language_info": {
   "codemirror_mode": {
    "name": "ipython",
    "version": 3
   },
   "file_extension": ".py",
   "mimetype": "text/x-python",
   "name": "python",
   "nbconvert_exporter": "python",
   "pygments_lexer": "ipython3",
   "version": "3.7.0"
  }
 },
 "nbformat": 4,
 "nbformat_minor": 2
}
