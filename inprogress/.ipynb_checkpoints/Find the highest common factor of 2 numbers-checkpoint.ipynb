{
 "cells": [
  {
   "cell_type": "markdown",
   "metadata": {},
   "source": [
    "---\n",
    "title: \"Find the greatest common factor of 2 numbers\"\n",
    "description: \"Find the greatest common factor of 2 numbers\"\n",
    "tags: Mathematics: Basics\n",
    "URL: https://github.com/Richienb/quilt\n",
    "Licence: Apache License 2.0\n",
    "Creator: \n",
    "Meta: \"\"\n",
    "\n",
    "---"
   ]
  },
  {
   "cell_type": "markdown",
   "metadata": {},
   "source": [
    "# Key Code&"
   ]
  },
  {
   "cell_type": "code",
   "execution_count": null,
   "metadata": {},
   "outputs": [],
   "source": [
    "def gcf(num1, num2):\n",
    "    \"\"\"\n",
    "    Find the highest common factor of 2 numbers\n",
    "\n",
    "    :type num1: number\n",
    "    :param num1: The first number to find the hcf for\n",
    "\n",
    "    :type num2: number\n",
    "    :param num2: The second number to find the hcf for\n",
    "    \"\"\"\n",
    "\n",
    "    if num1 > num2:\n",
    "        smaller = num2\n",
    "    else:\n",
    "        smaller = num1\n",
    "    for i in range(1, smaller + 1):\n",
    "        if ((num1 % i == 0) and (num2 % i == 0)):\n",
    "            return i\n"
   ]
  }
 ],
 "metadata": {
  "kernelspec": {
   "display_name": "Python 3",
   "language": "python",
   "name": "python3"
  },
  "language_info": {
   "codemirror_mode": {
    "name": "ipython",
    "version": 3
   },
   "file_extension": ".py",
   "mimetype": "text/x-python",
   "name": "python",
   "nbconvert_exporter": "python",
   "pygments_lexer": "ipython3",
   "version": "3.7.0"
  }
 },
 "nbformat": 4,
 "nbformat_minor": 2
}
