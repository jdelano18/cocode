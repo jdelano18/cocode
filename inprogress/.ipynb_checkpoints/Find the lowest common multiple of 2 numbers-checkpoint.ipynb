{
 "cells": [
  {
   "cell_type": "markdown",
   "metadata": {},
   "source": [
    "---\n",
    "title: \"Find the least common multiple of two numbers\"\n",
    "description: \"Find the least common multiple of 2 numbers.\"\n",
    "tags: Mathematics: Basics\n",
    "URL: https://github.com/Richienb/quilt\n",
    "Licence: Apache License 2.0\n",
    "Creator: \n",
    "Meta: \"lcm lowest\"\n",
    "\n",
    "---"
   ]
  },
  {
   "cell_type": "markdown",
   "metadata": {},
   "source": [
    "# Key Code&"
   ]
  },
  {
   "cell_type": "code",
   "execution_count": null,
   "metadata": {},
   "outputs": [],
   "source": [
    "def lcm(num1, num2):\n",
    "    \"\"\"\n",
    "    Find the lowest common multiple of 2 numbers\n",
    "\n",
    "    :type num1: number\n",
    "    :param num1: The first number to find the lcm for\n",
    "\n",
    "    :type num2: number\n",
    "    :param num2: The second number to find the lcm for\n",
    "    \"\"\"\n",
    "\n",
    "    if num1 > num2:\n",
    "        bigger = num1\n",
    "    else:\n",
    "        bigger = num2\n",
    "    while True:\n",
    "        if bigger % num1 == 0 and bigger % num2 == 0:\n",
    "            return bigger\n",
    "        bigger += 1\n",
    "\n",
    "\n"
   ]
  }
 ],
 "metadata": {
  "kernelspec": {
   "display_name": "Python 3",
   "language": "python",
   "name": "python3"
  },
  "language_info": {
   "codemirror_mode": {
    "name": "ipython",
    "version": 3
   },
   "file_extension": ".py",
   "mimetype": "text/x-python",
   "name": "python",
   "nbconvert_exporter": "python",
   "pygments_lexer": "ipython3",
   "version": "3.7.0"
  }
 },
 "nbformat": 4,
 "nbformat_minor": 2
}
