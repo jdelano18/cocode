{
 "cells": [
  {
   "cell_type": "markdown",
   "metadata": {},
   "source": [
    "---\n",
    "title: \"Find the quadrant a pair of coordinates are located in\"\n",
    "description: \"Find the quadrant (1, 2, 3, or 4) a pair of coordinates are located in on the cartesian plane.\"\n",
    "tags: Mathematics: Basics\n",
    "URL: https://github.com/Richienb/quilt\n",
    "Licence: Apache License 2.0\n",
    "Creator: \n",
    "Meta: \"\"\n",
    "\n",
    "---"
   ]
  },
  {
   "cell_type": "markdown",
   "metadata": {},
   "source": [
    "# Key Code&"
   ]
  },
  {
   "cell_type": "code",
   "execution_count": null,
   "metadata": {},
   "outputs": [],
   "source": [
    "def quadrant(xcoord, ycoord):\n",
    "    \"\"\"\n",
    "    Find the quadrant a pair of coordinates are located in\n",
    "\n",
    "    :type xcoord: integer\n",
    "    :param xcoord: The x coordinate to find the quadrant for\n",
    "\n",
    "    :type ycoord: integer\n",
    "    :param ycoord: The y coordinate to find the quadrant for\n",
    "    \"\"\"\n",
    "\n",
    "    xneg = bool(xcoord < 0)\n",
    "    yneg = bool(ycoord < 0)\n",
    "    if xneg is True:\n",
    "        if yneg is False:\n",
    "            return 2\n",
    "        return 3\n",
    "    if yneg is False:\n",
    "        return 1\n",
    "    return 4\n",
    "\n",
    "\n"
   ]
  }
 ],
 "metadata": {
  "kernelspec": {
   "display_name": "Python 3",
   "language": "python",
   "name": "python3"
  },
  "language_info": {
   "codemirror_mode": {
    "name": "ipython",
    "version": 3
   },
   "file_extension": ".py",
   "mimetype": "text/x-python",
   "name": "python",
   "nbconvert_exporter": "python",
   "pygments_lexer": "ipython3",
   "version": "3.7.0"
  }
 },
 "nbformat": 4,
 "nbformat_minor": 2
}
