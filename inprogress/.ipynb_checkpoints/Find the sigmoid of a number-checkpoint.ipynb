{
 "cells": [
  {
   "cell_type": "markdown",
   "metadata": {},
   "source": [
    "---\n",
    "title: \"Find the sigmoid of a number\"\n",
    "description: \"Find the sigmoid of a number. The sigmoid function is a common activation function for neural networks, meaning that it's a function you can use to get the output of a node. It's also used for models like logistic regression when you're trying to predict the probability as an output.\"\n",
    "tags: Machine Learning: Basics, Mathematics: Basics, Logistic Regression\n",
    "URL: https://github.com/Richienb/quilt\n",
    "Licence: Apache License 2.0\n",
    "Creator: \n",
    "Meta: \"sigmoid function probability\"\n",
    "\n",
    "---"
   ]
  },
  {
   "cell_type": "markdown",
   "metadata": {},
   "source": [
    "# Key Code&"
   ]
  },
  {
   "cell_type": "code",
   "execution_count": null,
   "metadata": {},
   "outputs": [],
   "source": [
    "import math\n",
    "def sigmoid(number):\n",
    "    \"\"\"\n",
    "    Find the sigmoid of a number.\n",
    "\n",
    "    :type number: number\n",
    "    :param number: The number to find the sigmoid of\n",
    "\n",
    "    :return: The result of the sigmoid\n",
    "    :rtype: number\n",
    "\n",
    "    >>> sigmoid(1)\n",
    "    0.7310585786300049\n",
    "    \"\"\"\n",
    "\n",
    "    # Return the calculated value\n",
    "    return 1 / (1 + math.exp(-number))\n"
   ]
  }
 ],
 "metadata": {
  "kernelspec": {
   "display_name": "Python 3",
   "language": "python",
   "name": "python3"
  },
  "language_info": {
   "codemirror_mode": {
    "name": "ipython",
    "version": 3
   },
   "file_extension": ".py",
   "mimetype": "text/x-python",
   "name": "python",
   "nbconvert_exporter": "python",
   "pygments_lexer": "ipython3",
   "version": "3.7.0"
  }
 },
 "nbformat": 4,
 "nbformat_minor": 2
}
