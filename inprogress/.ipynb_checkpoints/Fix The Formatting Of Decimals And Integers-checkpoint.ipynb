{
 "cells": [
  {
   "cell_type": "markdown",
   "metadata": {},
   "source": [
    "---\n",
    "title: \"Fix The Formatting Of Decimals And Integers\"\n",
    "description: \"Fix the formatting of decimals and integers. Removes the .0 if the number is actually an integer.\"\n",
    "tags: Mathematics: Basics, Python: Other\n",
    "URL: https://github.com/Richienb/quilt\n",
    "Licence: Apache License 2.0\n",
    "Creator: \n",
    "Meta: \"\"\n",
    "\n",
    "---"
   ]
  },
  {
   "cell_type": "markdown",
   "metadata": {},
   "source": [
    "# Key Code&"
   ]
  },
  {
   "cell_type": "code",
   "execution_count": 6,
   "metadata": {},
   "outputs": [],
   "source": [
    "def decintfix(decorint=0):\n",
    "    \"\"\"\n",
    "    Fix The Formatting Of Decimals And Integers\n",
    "    \"\"\"\n",
    "    if str(decorint)[-2:] == '.0':\n",
    "        return int(decorint)\n",
    "    return float(decorint)\n"
   ]
  }
 ],
 "metadata": {
  "kernelspec": {
   "display_name": "Python 3",
   "language": "python",
   "name": "python3"
  },
  "language_info": {
   "codemirror_mode": {
    "name": "ipython",
    "version": 3
   },
   "file_extension": ".py",
   "mimetype": "text/x-python",
   "name": "python",
   "nbconvert_exporter": "python",
   "pygments_lexer": "ipython3",
   "version": "3.7.0"
  }
 },
 "nbformat": 4,
 "nbformat_minor": 2
}
