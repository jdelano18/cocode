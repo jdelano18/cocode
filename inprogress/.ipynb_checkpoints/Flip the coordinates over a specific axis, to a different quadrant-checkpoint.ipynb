{
 "cells": [
  {
   "cell_type": "markdown",
   "metadata": {},
   "source": [
    "---\n",
    "title: \"Flip the coordinates over a specific axis to a different quadrant\"\n",
    "description: \"Flip the coordinates over a specific axis to a different quadrant. Specify if you want to flip a coordinate pair over the x or y axis.\"\n",
    "tags: Mathematics: Basics\n",
    "URL: https://github.com/Richienb/quilt\n",
    "Licence: Apache License 2.0\n",
    "Creator: \n",
    "Meta: \"\"\n",
    "\n",
    "---"
   ]
  },
  {
   "cell_type": "markdown",
   "metadata": {},
   "source": [
    "# Key Code&"
   ]
  },
  {
   "cell_type": "code",
   "execution_count": null,
   "metadata": {},
   "outputs": [],
   "source": [
    "def flipcoords(xcoord, ycoord, axis):\n",
    "    \"\"\"\n",
    "    Flip the coordinates over a specific axis, to a different quadrant\n",
    "\n",
    "    :type xcoord: integer\n",
    "    :param xcoord: The x coordinate to flip\n",
    "\n",
    "    :type ycoord: integer\n",
    "    :param ycoord: The y coordinate to flip\n",
    "\n",
    "    :type axis: string\n",
    "    :param axis: The axis to flip across. Could be 'x' or 'y'\n",
    "    \"\"\"\n",
    "\n",
    "    axis = axis.lower()\n",
    "    if axis == 'y':\n",
    "        if xcoord > 0:\n",
    "            return str(xcoord - xcoord - xcoord) + ', ' + str(ycoord)\n",
    "        elif xcoord < 0:\n",
    "            return str(xcoord + abs(xcoord) * 2) + ', ' + str(ycoord)\n",
    "        elif xcoord == 0:\n",
    "            return str(xcoord) + ', ' + str(ycoord)\n",
    "        raise ValueError(\n",
    "            \"The X coordinate is neither larger, smaller or the same as 0.\")\n",
    "\n",
    "    elif axis == 'x':\n",
    "        if ycoord > 0:\n",
    "            return str(xcoord) + ', ' + str(ycoord - ycoord - ycoord)\n",
    "        elif ycoord < 0:\n",
    "            return str(ycoord + abs(ycoord) * 2) + ', ' + str(xcoord)\n",
    "        elif ycoord == 0:\n",
    "            return str(xcoord) + ', ' + str(ycoord)\n",
    "        raise ValueError(\n",
    "            \"The Y coordinate is neither larger, smaller or the same as 0.\")\n",
    "    raise ValueError(\"Invalid axis. Neither x nor y was specified.\")\n",
    "\n",
    "\n"
   ]
  }
 ],
 "metadata": {
  "kernelspec": {
   "display_name": "Python 3",
   "language": "python",
   "name": "python3"
  },
  "language_info": {
   "codemirror_mode": {
    "name": "ipython",
    "version": 3
   },
   "file_extension": ".py",
   "mimetype": "text/x-python",
   "name": "python",
   "nbconvert_exporter": "python",
   "pygments_lexer": "ipython3",
   "version": "3.7.0"
  }
 },
 "nbformat": 4,
 "nbformat_minor": 2
}
