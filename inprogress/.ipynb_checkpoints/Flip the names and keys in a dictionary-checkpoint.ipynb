{
 "cells": [
  {
   "cell_type": "markdown",
   "metadata": {},
   "source": [
    "---\n",
    "title: \"Flip the keys and values in a dictionary\"\n",
    "description: \"Flip the keys and values in a dictionary, swapping the order in-place.\"\n",
    "tags: Dictionaries\n",
    "URL: https://github.com/Richienb/quilt\n",
    "Licence: Apache License 2.0\n",
    "Creator: \n",
    "Meta: \"\"\n",
    "\n",
    "---"
   ]
  },
  {
   "cell_type": "markdown",
   "metadata": {},
   "source": [
    "# Key Code&"
   ]
  },
  {
   "cell_type": "code",
   "execution_count": null,
   "metadata": {},
   "outputs": [],
   "source": [
    "def dictflip(dictionary):\n",
    "    \"\"\"\n",
    "    Flip the names and keys in a dictionary.\n",
    "\n",
    "    This means that this:\n",
    "    {'key1': 'value1', 'key2': 'value2'}\n",
    "    will be converted into this:\n",
    "    {'value1': 'key1', 'value2': 'key2'}\n",
    "\n",
    "    :type dictionary: dictionary\n",
    "    :param dictionary: The dictionary to flip.\n",
    "    \"\"\"\n",
    "\n",
    "    return {v: k for k, v in dictionary.items()}\n"
   ]
  }
 ],
 "metadata": {
  "kernelspec": {
   "display_name": "Python 3",
   "language": "python",
   "name": "python3"
  },
  "language_info": {
   "codemirror_mode": {
    "name": "ipython",
    "version": 3
   },
   "file_extension": ".py",
   "mimetype": "text/x-python",
   "name": "python",
   "nbconvert_exporter": "python",
   "pygments_lexer": "ipython3",
   "version": "3.7.0"
  }
 },
 "nbformat": 4,
 "nbformat_minor": 2
}
