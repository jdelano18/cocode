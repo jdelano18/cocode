{
 "cells": [
  {
   "cell_type": "markdown",
   "metadata": {},
   "source": [
    "---\n",
    "title: \"Generate a random number\"\n",
    "description: \"Generate a random integer number between a minimum and a maximum using the random module.\"\n",
    "tags: Python: Fundamentals\n",
    "URL: https://github.com/Richienb/quilt\n",
    "Licence: Apache License 2.0\n",
    "Creator: \n",
    "Meta: \"\"\n",
    "\n",
    "---"
   ]
  },
  {
   "cell_type": "markdown",
   "metadata": {},
   "source": [
    "# Key Code&"
   ]
  },
  {
   "cell_type": "code",
   "execution_count": null,
   "metadata": {},
   "outputs": [],
   "source": [
    "import random\n",
    "def randomnum(minimum=1, maximum=2, seed=None):\n",
    "    \"\"\"\n",
    "    Generate a random number.\n",
    "\n",
    "    :type minimum: integer\n",
    "    :param minimum: The minimum number to generate.\n",
    "\n",
    "    :type maximum: integer\n",
    "    :param maximum: The maximum number to generate.\n",
    "\n",
    "    :type seed: integer\n",
    "    :param seed: A seed to use when generating the random number.\n",
    "\n",
    "    :return: The randomized number.\n",
    "    :rtype: integer\n",
    "\n",
    "    :raises TypeError: Minimum number is not a number.\n",
    "    :raises TypeError: Maximum number is not a number.\n",
    "\n",
    "    >>> randomnum(1, 100, 150)\n",
    "    42\n",
    "    \"\"\"\n",
    "\n",
    "    if not (isnum(minimum)):\n",
    "        raise TypeError(\"Minimum number is not a number.\")\n",
    "\n",
    "    if not (isnum(maximum)):\n",
    "        raise TypeError(\"Maximum number is not a number.\")\n",
    "\n",
    "    if seed is None:\n",
    "        return random.randint(minimum, maximum)\n",
    "\n",
    "    random.seed(seed)\n",
    "    return random.randint(minimum, maximum)\n"
   ]
  }
 ],
 "metadata": {
  "kernelspec": {
   "display_name": "Python 3",
   "language": "python",
   "name": "python3"
  },
  "language_info": {
   "codemirror_mode": {
    "name": "ipython",
    "version": 3
   },
   "file_extension": ".py",
   "mimetype": "text/x-python",
   "name": "python",
   "nbconvert_exporter": "python",
   "pygments_lexer": "ipython3",
   "version": "3.7.0"
  }
 },
 "nbformat": 4,
 "nbformat_minor": 2
}
