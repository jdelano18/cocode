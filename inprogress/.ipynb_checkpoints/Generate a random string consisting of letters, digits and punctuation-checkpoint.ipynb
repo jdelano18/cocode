{
 "cells": [
  {
   "cell_type": "markdown",
   "metadata": {},
   "source": [
    "---\n",
    "title: \"Generate a random string consisting of letters, digits, and punctuation\"\n",
    "description: \"Generate a random string consisting of letters, digits, and punctuation using the random module.\"\n",
    "tags: Python: Other\n",
    "URL: https://github.com/Richienb/quilt\n",
    "Licence: Apache License 2.0\n",
    "Creator: \n",
    "Meta: \"\"\n",
    "\n",
    "---"
   ]
  },
  {
   "cell_type": "markdown",
   "metadata": {},
   "source": [
    "# Key Code&"
   ]
  },
  {
   "cell_type": "code",
   "execution_count": null,
   "metadata": {},
   "outputs": [],
   "source": [
    "import string\n",
    "import random\n",
    "def randstring(length=1):\n",
    "    \"\"\"\n",
    "    Generate a random string consisting of letters, digits and punctuation\n",
    "\n",
    "    :type length: integer\n",
    "    :param length: The length of the generated string.\n",
    "    \"\"\"\n",
    "    charstouse = string.ascii_letters + string.digits + string.punctuation\n",
    "    newpass = ''\n",
    "    for _ in range(length):\n",
    "        newpass += str(charstouse[random.randint(0, len(charstouse) - 1)])\n",
    "    return newpass\n",
    "\n"
   ]
  }
 ],
 "metadata": {
  "kernelspec": {
   "display_name": "Python 3",
   "language": "python",
   "name": "python3"
  },
  "language_info": {
   "codemirror_mode": {
    "name": "ipython",
    "version": 3
   },
   "file_extension": ".py",
   "mimetype": "text/x-python",
   "name": "python",
   "nbconvert_exporter": "python",
   "pygments_lexer": "ipython3",
   "version": "3.7.0"
  }
 },
 "nbformat": 4,
 "nbformat_minor": 2
}
