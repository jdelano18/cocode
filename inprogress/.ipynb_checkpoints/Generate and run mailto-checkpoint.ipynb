{
 "cells": [
  {
   "cell_type": "markdown",
   "metadata": {},
   "source": [
    "---\n",
    "title: \"Generate and run mailto\"\n",
    "description: \"Generate and run mailto. Provide the email address, cc, bcc, subject, and body of the email.\"\n",
    "tags: Send email and text\n",
    "URL: https://github.com/Richienb/quilt\n",
    "Licence: Apache License 2.0\n",
    "Creator: \n",
    "Meta: \"email send cc bcc\"\n",
    "\n",
    "---"
   ]
  },
  {
   "cell_type": "markdown",
   "metadata": {},
   "source": [
    "# Key Code&"
   ]
  },
  {
   "cell_type": "code",
   "execution_count": null,
   "metadata": {},
   "outputs": [],
   "source": [
    "def mailto(to, cc=None, bcc=None, subject=None, body=None):\n",
    "    \"\"\"\n",
    "    Generate and run mailto.\n",
    "\n",
    "    :type to: string\n",
    "    :param to: The recipient email address.\n",
    "\n",
    "    :type cc: string\n",
    "    :param cc: The recipient to copy to.\n",
    "\n",
    "    :type bcc: string\n",
    "    :param bcc: The recipient to blind copy to.\n",
    "\n",
    "    :type subject: string\n",
    "    :param subject: The subject to use.\n",
    "\n",
    "    :type body: string\n",
    "    :param body: The body content to use.\n",
    "    \"\"\"\n",
    "\n",
    "    mailurl = 'mailto:' + str(to)\n",
    "    if cc is None and bcc is None and subject is None and body is None:\n",
    "        return str(mailurl)\n",
    "    mailurl += '?'\n",
    "    if cc is not None:\n",
    "        mailurl += 'cc=' + str(cc)\n",
    "        added = True\n",
    "    added = False\n",
    "    if bcc is not None:\n",
    "        if added is True:\n",
    "            mailurl += '&'\n",
    "        mailurl += 'bcc=' + str(cc)\n",
    "        added = True\n",
    "    if subject is not None:\n",
    "        if added is True:\n",
    "            mailurl += '&'\n",
    "        mailurl += 'subject=' + str(subject)\n",
    "        added = True\n",
    "    if body is not None:\n",
    "        if added is True:\n",
    "            mailurl += '&'\n",
    "        mailurl += 'body=' + str(body)\n",
    "        added = True\n",
    "    return mailurl\n"
   ]
  }
 ],
 "metadata": {
  "kernelspec": {
   "display_name": "Python 3",
   "language": "python",
   "name": "python3"
  },
  "language_info": {
   "codemirror_mode": {
    "name": "ipython",
    "version": 3
   },
   "file_extension": ".py",
   "mimetype": "text/x-python",
   "name": "python",
   "nbconvert_exporter": "python",
   "pygments_lexer": "ipython3",
   "version": "3.7.0"
  }
 },
 "nbformat": 4,
 "nbformat_minor": 2
}
