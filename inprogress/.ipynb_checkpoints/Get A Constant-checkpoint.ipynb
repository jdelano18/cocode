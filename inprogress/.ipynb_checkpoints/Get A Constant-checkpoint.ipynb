{
 "cells": [
  {
   "cell_type": "markdown",
   "metadata": {},
   "source": [
    "---\n",
    "title: \"Get A Constant\"\n",
    "description: \"Get a mathematical constant from the math module. Constants are pi, e, tau, inf, phi, golden, and nan.\"\n",
    "tags: Mathematics: Basics\n",
    "URL: https://github.com/Richienb/quilt\n",
    "Licence: Apache License 2.0\n",
    "Creator: \n",
    "Meta: \"pi e tau inf phi golden nan\"\n",
    "\n",
    "---"
   ]
  },
  {
   "cell_type": "markdown",
   "metadata": {},
   "source": [
    "# Key Code&"
   ]
  },
  {
   "cell_type": "code",
   "execution_count": null,
   "metadata": {},
   "outputs": [],
   "source": [
    "import math\n",
    "def constant(constanttype):\n",
    "    \"\"\"\n",
    "    Get A Constant\n",
    "    \"\"\"\n",
    "    constanttype = constanttype.lower()\n",
    "    if constanttype == 'pi':\n",
    "        return math.pi\n",
    "    elif constanttype == 'e':\n",
    "        return math.e\n",
    "    elif constanttype == 'tau':\n",
    "        return math.tau\n",
    "    elif constanttype == 'inf':\n",
    "        return math.inf\n",
    "    elif constanttype == 'nan':\n",
    "        return math.nan\n",
    "    elif constanttype in ['phi', 'golden']:\n",
    "        return (1 + 5**0.5) / 2\n",
    "\n",
    "\n"
   ]
  }
 ],
 "metadata": {
  "kernelspec": {
   "display_name": "Python 3",
   "language": "python",
   "name": "python3"
  },
  "language_info": {
   "codemirror_mode": {
    "name": "ipython",
    "version": 3
   },
   "file_extension": ".py",
   "mimetype": "text/x-python",
   "name": "python",
   "nbconvert_exporter": "python",
   "pygments_lexer": "ipython3",
   "version": "3.7.0"
  }
 },
 "nbformat": 4,
 "nbformat_minor": 2
}
