{
 "cells": [
  {
   "cell_type": "markdown",
   "metadata": {},
   "source": [
    "---\n",
    "title: \"Get The Number Corresponding To A Letter\"\n",
    "description: \"Get the ascii number corresponding to a letter.\"\n",
    "tags: Python Fundamentals, Preprocessing Text\n",
    "URL: https://github.com/Richienb/quilt\n",
    "Licence: Apache License 2.0\n",
    "Creator: \n",
    "Meta: \"ascii\"\n",
    "\n",
    "---"
   ]
  },
  {
   "cell_type": "markdown",
   "metadata": {},
   "source": [
    "# Key Code&"
   ]
  },
  {
   "cell_type": "code",
   "execution_count": null,
   "metadata": {},
   "outputs": [],
   "source": [
    "import string\n",
    "def letternum(letter):\n",
    "    \"\"\"\n",
    "    Get The Number Corresponding To A Letter\n",
    "    \"\"\"\n",
    "    if not isinstance(letter, str):\n",
    "        raise TypeError(\"Invalid letter provided.\")\n",
    "    if not len(letter) == 1:\n",
    "        raise ValueError(\"Invalid letter length provided.\")\n",
    "    letter = letter.lower()\n",
    "    alphaletters = string.ascii_lowercase\n",
    "    for i in range(len(alphaletters)):\n",
    "        if letter[0] == alphaletters[i]:\n",
    "            return i + 1\n",
    "\n",
    "\n"
   ]
  }
 ],
 "metadata": {
  "kernelspec": {
   "display_name": "Python 3",
   "language": "python",
   "name": "python3"
  },
  "language_info": {
   "codemirror_mode": {
    "name": "ipython",
    "version": 3
   },
   "file_extension": ".py",
   "mimetype": "text/x-python",
   "name": "python",
   "nbconvert_exporter": "python",
   "pygments_lexer": "ipython3",
   "version": "3.7.0"
  }
 },
 "nbformat": 4,
 "nbformat_minor": 2
}
