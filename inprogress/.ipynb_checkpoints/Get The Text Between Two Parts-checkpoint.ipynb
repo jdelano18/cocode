{
 "cells": [
  {
   "cell_type": "markdown",
   "metadata": {},
   "source": [
    "---\n",
    "title: \"Get The Text Between Two Parts\"\n",
    "description: \"Get the text between two parts. Location of the text can be regular, toend, or tostart.\"\n",
    "tags: Python: Other\n",
    "URL: https://github.com/Richienb/quilt\n",
    "Licence: Apache License 2.0\n",
    "Creator: \n",
    "Meta: \"indexing\"\n",
    "\n",
    "---"
   ]
  },
  {
   "cell_type": "markdown",
   "metadata": {},
   "source": [
    "# Key Code&"
   ]
  },
  {
   "cell_type": "code",
   "execution_count": null,
   "metadata": {},
   "outputs": [],
   "source": [
    "def textbetween(variable, \n",
    "                firstnum=None, \n",
    "                secondnum=None,\n",
    "                locationoftext='regular'):\n",
    "    \"\"\"\n",
    "    Get The Text Between Two Parts\n",
    "    \"\"\"\n",
    "    if locationoftext == 'regular':\n",
    "        return variable[firstnum:secondnum]\n",
    "    elif locationoftext == 'toend':\n",
    "        return variable[firstnum:]\n",
    "    elif locationoftext == 'tostart':\n",
    "        return variable[:secondnum]\n"
   ]
  }
 ],
 "metadata": {
  "kernelspec": {
   "display_name": "Python 3",
   "language": "python",
   "name": "python3"
  },
  "language_info": {
   "codemirror_mode": {
    "name": "ipython",
    "version": 3
   },
   "file_extension": ".py",
   "mimetype": "text/x-python",
   "name": "python",
   "nbconvert_exporter": "python",
   "pygments_lexer": "ipython3",
   "version": "3.7.0"
  }
 },
 "nbformat": 4,
 "nbformat_minor": 2
}
