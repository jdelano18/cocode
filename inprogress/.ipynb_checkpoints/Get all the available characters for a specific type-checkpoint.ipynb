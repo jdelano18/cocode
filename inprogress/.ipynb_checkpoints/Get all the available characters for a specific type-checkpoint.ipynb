{
 "cells": [
  {
   "cell_type": "markdown",
   "metadata": {},
   "source": [
    "---\n",
    "title: \"Get all the available characters for a specific type\"\n",
    "description: \"Get all the available characters for a specific type. Types can be 'letters', 'lowercase, 'uppercase', 'digits', 'hexdigits', 'punctuation', 'printable', 'whitespace' or 'all'.\"\n",
    "tags: Python: Other\n",
    "URL: https://github.com/Richienb/quilt\n",
    "Licence: Apache License 2.0\n",
    "Creator: \n",
    "Meta: \"letters lowercase uppercase digits hexdigits punctuation printable whitespace or all\"\n",
    "\n",
    "---"
   ]
  },
  {
   "cell_type": "markdown",
   "metadata": {},
   "source": [
    "# Key Code&"
   ]
  },
  {
   "cell_type": "code",
   "execution_count": null,
   "metadata": {},
   "outputs": [],
   "source": [
    "import string\n",
    "def availchars(charactertype):\n",
    "    \"\"\"\n",
    "    Get all the available characters for a specific type.\n",
    "\n",
    "    :type charactertype: string\n",
    "    :param charactertype: The characters to get. Can be 'letters', 'lowercase, 'uppercase', 'digits', 'hexdigits', 'punctuation', 'printable', 'whitespace' or 'all'.\n",
    "\n",
    "    >>> availchars(\"lowercase\")\n",
    "    'abcdefghijklmnopqrstuvwxyz'\n",
    "    \"\"\"\n",
    "\n",
    "    # If the lowercase version of the character type is 'letters'\n",
    "    if charactertype.lower() == 'letters':\n",
    "        # Return the result\n",
    "        return string.ascii_letters\n",
    "\n",
    "    # If the lowercase version of the character type is 'lowercase'\n",
    "    elif charactertype.lower() == 'lowercase':\n",
    "        # Return the result\n",
    "        return string.ascii_lowercase\n",
    "\n",
    "    # If the lowercase version of the character type is 'uppercase'\n",
    "    elif charactertype.lower() == 'uppercase':\n",
    "        # Return the result\n",
    "        return string.ascii_uppercase\n",
    "\n",
    "    # If the lowercase version of the character type is 'digits'\n",
    "    elif charactertype.lower() == 'digits':\n",
    "        # Return the result\n",
    "        return string.digits\n",
    "\n",
    "    # If the lowercase version of the character type is 'hexdigits'\n",
    "    elif charactertype.lower() == 'hexdigits':\n",
    "        # Return the result\n",
    "        return string.hexdigits\n",
    "\n",
    "    # If the lowercase version of the character type is 'punctuation'\n",
    "    elif charactertype.lower() == 'punctuation':\n",
    "        # Return the result\n",
    "        return string.punctuation\n",
    "\n",
    "    # If the lowercase version of the character type is 'printable'\n",
    "    elif charactertype.lower() == 'printable':\n",
    "        # Return the result\n",
    "        return string.printable\n",
    "\n",
    "    # If the lowercase version of the character type is 'whitespace'\n",
    "    elif charactertype.lower() == 'whitespace':\n",
    "        # Return the result\n",
    "        return string.whitespace\n",
    "\n",
    "    # If the lowercase version of the character type is 'all'\n",
    "    elif charactertype.lower() == 'all':\n",
    "        # Return the result\n",
    "        return string.ascii_letters + string.ascii_lowercase + string.ascii_uppercase + string.digits + string.hexdigits + string.punctuation + string.printable + string.whitespace\n",
    "\n",
    "    # Raise a warning\n",
    "    raise ValueError(\"Invalid character type provided.\")\n",
    "\n",
    "\n"
   ]
  }
 ],
 "metadata": {
  "kernelspec": {
   "display_name": "Python 3",
   "language": "python",
   "name": "python3"
  },
  "language_info": {
   "codemirror_mode": {
    "name": "ipython",
    "version": 3
   },
   "file_extension": ".py",
   "mimetype": "text/x-python",
   "name": "python",
   "nbconvert_exporter": "python",
   "pygments_lexer": "ipython3",
   "version": "3.7.0"
  }
 },
 "nbformat": 4,
 "nbformat_minor": 2
}
