{
 "cells": [
  {
   "cell_type": "markdown",
   "metadata": {},
   "source": [
    "---\n",
    "title: \"Get the corresponding item in a object\"\n",
    "description: \"Get the corresponding item in a object with the string to get the letter from and the index of the letter to get.\"\n",
    "tags: Python: Other\n",
    "URL: https://github.com/Richienb/quilt\n",
    "Licence: Apache License 2.0\n",
    "Creator: \n",
    "Meta: \"\"\n",
    "\n",
    "---"
   ]
  },
  {
   "cell_type": "markdown",
   "metadata": {},
   "source": [
    "# Key Code&"
   ]
  },
  {
   "cell_type": "code",
   "execution_count": null,
   "metadata": {},
   "outputs": [],
   "source": [
    "def getletter(variable, letternumber):\n",
    "    \"\"\"\n",
    "    Get the corresponding item in a object\n",
    "\n",
    "    :type variable: string\n",
    "    :param variable: The string to get the letter from\n",
    "\n",
    "    :type letternumber: integer\n",
    "    :param letternumber: The index of the letter to get\n",
    "    \"\"\"\n",
    "\n",
    "    # Get the corresponding letter\n",
    "    return str(variable)[letternumber - 1]\n",
    "\n",
    "\n"
   ]
  }
 ],
 "metadata": {
  "kernelspec": {
   "display_name": "Python 3",
   "language": "python",
   "name": "python3"
  },
  "language_info": {
   "codemirror_mode": {
    "name": "ipython",
    "version": 3
   },
   "file_extension": ".py",
   "mimetype": "text/x-python",
   "name": "python",
   "nbconvert_exporter": "python",
   "pygments_lexer": "ipython3",
   "version": "3.7.0"
  }
 },
 "nbformat": 4,
 "nbformat_minor": 2
}
