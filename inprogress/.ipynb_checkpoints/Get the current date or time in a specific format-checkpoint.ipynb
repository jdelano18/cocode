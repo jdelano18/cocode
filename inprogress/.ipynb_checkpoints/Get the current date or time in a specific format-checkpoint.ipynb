{
 "cells": [
  {
   "cell_type": "markdown",
   "metadata": {},
   "source": [
    "---\n",
    "title: \"Get the current date or time in a specific format\"\n",
    "description: \"Get the current date or time in a specific format. The type of date to query for can be: day, month, year, hour, minute, second, millisecond, yearmonthday, daymonthyear, hourminutesecond, secondminutehour, complete, datetime or timedate.\"\n",
    "tags: Preprocessing Dates and Times, Datetime\n",
    "URL: https://github.com/Richienb/quilt\n",
    "Licence: Apache License 2.0\n",
    "Creator: \n",
    "Meta: \"complete datetime hour month year day minute second\"\n",
    "\n",
    "---"
   ]
  },
  {
   "cell_type": "markdown",
   "metadata": {},
   "source": [
    "# Key Code&"
   ]
  },
  {
   "cell_type": "code",
   "execution_count": null,
   "metadata": {},
   "outputs": [],
   "source": [
    "import datetime\n",
    "import time\n",
    "def getdatetime(timedateformat='complete'):\n",
    "    \"\"\"\n",
    "    Get the current date or time in a specific format.\n",
    "\n",
    "    :type timedateformat: string\n",
    "    :param timedateformat: The type of date to query for. Can be: day, month, year, hour, minute, second, millisecond, yearmonthday, daymonthyear, hourminutesecond, secondminutehour, complete, datetime or timedate.\n",
    "    \"\"\"\n",
    "\n",
    "    timedateformat = timedateformat.lower()\n",
    "    if timedateformat == 'day':\n",
    "        return ((str(datetime.datetime.now())).split(' ')[0]).split('-')[2]\n",
    "    elif timedateformat == 'month':\n",
    "        return ((str(datetime.datetime.now())).split(' ')[0]).split('-')[1]\n",
    "    elif timedateformat == 'year':\n",
    "        return ((str(datetime.datetime.now())).split(' ')[0]).split('-')[0]\n",
    "    elif timedateformat == 'hour':\n",
    "        return (((str(datetime.datetime.now())).split(' ')[1]).split('.')[0]\n",
    "               ).split(':')[0]\n",
    "    elif timedateformat == 'minute':\n",
    "        return (((str(datetime.datetime.now())).split(' ')[1]).split('.')[0]\n",
    "               ).split(':')[1]\n",
    "    elif timedateformat == 'second':\n",
    "        return (((str(datetime.datetime.now())).split(' ')[1]).split('.')[0]\n",
    "               ).split(':')[2]\n",
    "    elif timedateformat == 'millisecond':\n",
    "        return (str(datetime.datetime.now())).split('.')[1]\n",
    "    elif timedateformat == 'yearmonthday':\n",
    "        return (str(datetime.datetime.now())).split(' ')[0]\n",
    "    elif timedateformat == 'daymonthyear':\n",
    "        return ((str(datetime.datetime.now())).split(' ')[0]).split(\n",
    "            '-')[2] + '-' + ((str(\n",
    "                datetime.datetime.now())).split(' ')[0]).split('-')[1] + '-' + (\n",
    "                    (str(datetime.datetime.now())).split(' ')[0]).split('-')[0]\n",
    "    elif timedateformat == 'hourminutesecond':\n",
    "        return ((str(datetime.datetime.now())).split(' ')[1]).split('.')[0]\n",
    "    elif timedateformat == 'secondminutehour':\n",
    "        return (((str(datetime.datetime.now())).split(' ')[1]).split('.')[0]\n",
    "               ).split(':')[2] + ':' + (((str(datetime.datetime.now())).split(\n",
    "                   ' ')[1]).split('.')[0]).split(':')[1] + ':' + (\n",
    "                       ((str(datetime.datetime.now())).split(' ')[1]\n",
    "                       ).split('.')[0]).split(':')[0]\n",
    "    elif timedateformat == 'complete':\n",
    "        return str(datetime.datetime.now())\n",
    "    elif timedateformat == 'datetime':\n",
    "        return (str(datetime.datetime.now())).split('.')[0]\n",
    "    elif timedateformat == 'timedate':\n",
    "        return ((str(\n",
    "            datetime.datetime.now())).split('.')[0]).split(' ')[1] + ' ' + (\n",
    "                (str(datetime.datetime.now())).split('.')[0]).split(' ')[0]\n",
    "    else:\n",
    "        raise ValueError(\"Invalid time date format used.\")\n"
   ]
  }
 ],
 "metadata": {
  "kernelspec": {
   "display_name": "Python 3",
   "language": "python",
   "name": "python3"
  },
  "language_info": {
   "codemirror_mode": {
    "name": "ipython",
    "version": 3
   },
   "file_extension": ".py",
   "mimetype": "text/x-python",
   "name": "python",
   "nbconvert_exporter": "python",
   "pygments_lexer": "ipython3",
   "version": "3.7.0"
  }
 },
 "nbformat": 4,
 "nbformat_minor": 2
}
