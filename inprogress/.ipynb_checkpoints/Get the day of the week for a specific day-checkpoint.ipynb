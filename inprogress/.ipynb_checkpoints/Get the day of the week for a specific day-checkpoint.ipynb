{
 "cells": [
  {
   "cell_type": "markdown",
   "metadata": {},
   "source": [
    "---\n",
    "title: \"Get the day of the week for a specific day\"\n",
    "description: \"Get the day of the week for a specific day. The days can be entered as integers for month, day, and year and the output is formatted as 'Moday', or 'Tuesday' ...\"\n",
    "tags: Preprocessing Dates and Times\n",
    "URL: https://github.com/Richienb/quilt\n",
    "Licence: Apache License 2.0\n",
    "Creator: \n",
    "Meta: \"\"\n",
    "\n",
    "---"
   ]
  },
  {
   "cell_type": "markdown",
   "metadata": {},
   "source": [
    "# Key Code&"
   ]
  },
  {
   "cell_type": "code",
   "execution_count": 1,
   "metadata": {},
   "outputs": [],
   "source": [
    "import calendar\n",
    "def dayofweek(day, month, year, formatresult=True):\n",
    "    \"\"\"\n",
    "    Get the day of the week for a specific day\n",
    "\n",
    "    :type day: integer\n",
    "    :param day: The day to include in the search\n",
    "\n",
    "    :type month: integer\n",
    "    :param month: The month to include in the search\n",
    "\n",
    "    :type year: integer\n",
    "    :param year: The year to include in the search\n",
    "\n",
    "    :type formatresult: boolean\n",
    "    :param formatresult: Whether or not to format the result. A formatted date would look like: \"Monday\". A non formatted date would look like: 1.\n",
    "\n",
    "    \"\"\"\n",
    "    if formatresult is False:\n",
    "        return calendar.weekday(year, month, day) + 1\n",
    "    days = {\n",
    "        0: 'Monday',\n",
    "        1: \"Tuesday\",\n",
    "        2: \"Wednesday\",\n",
    "        3: \"Thursday\",\n",
    "        4: \"Friday\",\n",
    "        5: \"Saturday\",\n",
    "        6: \"Sunday\"\n",
    "    }\n",
    "    return days[calendar.weekday(year, month, day)]\n"
   ]
  }
 ],
 "metadata": {
  "kernelspec": {
   "display_name": "Python 3",
   "language": "python",
   "name": "python3"
  },
  "language_info": {
   "codemirror_mode": {
    "name": "ipython",
    "version": 3
   },
   "file_extension": ".py",
   "mimetype": "text/x-python",
   "name": "python",
   "nbconvert_exporter": "python",
   "pygments_lexer": "ipython3",
   "version": "3.7.0"
  }
 },
 "nbformat": 4,
 "nbformat_minor": 2
}
