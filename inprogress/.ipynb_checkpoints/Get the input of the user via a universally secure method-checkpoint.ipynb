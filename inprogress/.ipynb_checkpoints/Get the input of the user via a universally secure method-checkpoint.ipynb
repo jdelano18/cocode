{
 "cells": [
  {
   "cell_type": "markdown",
   "metadata": {},
   "source": [
    "---\n",
    "title: \"Get the input of the user via a universally secure method\"\n",
    "description: \"Get the input of the user via a universally secure method\"\n",
    "tags: User Input\n",
    "URL: https://github.com/Richienb/quilt\n",
    "Licence: Apache License 2.0\n",
    "Creator: \n",
    "Meta: \"\"\n",
    "\n",
    "---"
   ]
  },
  {
   "cell_type": "markdown",
   "metadata": {},
   "source": [
    "# Key Code&"
   ]
  },
  {
   "cell_type": "code",
   "execution_count": null,
   "metadata": {},
   "outputs": [],
   "source": [
    "def userinput(prompttext=\"\", times=1):\n",
    "    \"\"\"\n",
    "    Get the input of the user via a universally secure method.\n",
    "\n",
    "    :type prompttext: string\n",
    "    :param prompttext: The text to display while receiving the data.\n",
    "\n",
    "    :type times: integer\n",
    "    :param times: The amount of times to ask the user. If value is not 1, a list will be returned. Default is 1.\n",
    "\n",
    "    :return: What the user typed in.\n",
    "    :rtype: string\n",
    "    \"\"\"\n",
    "\n",
    "    # If times is 1\n",
    "    if times == 1:\n",
    "        # Return the result\n",
    "        return input(str(prompttext))\n",
    "\n",
    "    # Create new empty list\n",
    "    inputlist = []\n",
    "\n",
    "    # For each time in range\n",
    "    for _ in range(times):\n",
    "        # Append the result of another input request\n",
    "        inputlist.append(input(str(prompttext)))\n",
    "\n",
    "    # Return the final result\n",
    "    return inputlist\n"
   ]
  }
 ],
 "metadata": {
  "kernelspec": {
   "display_name": "Python 3",
   "language": "python",
   "name": "python3"
  },
  "language_info": {
   "codemirror_mode": {
    "name": "ipython",
    "version": 3
   },
   "file_extension": ".py",
   "mimetype": "text/x-python",
   "name": "python",
   "nbconvert_exporter": "python",
   "pygments_lexer": "ipython3",
   "version": "3.7.0"
  }
 },
 "nbformat": 4,
 "nbformat_minor": 2
}
