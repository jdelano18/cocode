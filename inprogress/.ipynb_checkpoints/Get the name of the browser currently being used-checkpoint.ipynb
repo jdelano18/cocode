{
 "cells": [
  {
   "cell_type": "markdown",
   "metadata": {},
   "source": [
    "---\n",
    "title: \"Get the name of the browser currently being used\"\n",
    "description: \"Get the name of the browser currently being used with the webbrowser module.\"\n",
    "tags: Python: Other\n",
    "URL: https://github.com/Richienb/quilt\n",
    "Licence: Apache License 2.0\n",
    "Creator: \n",
    "Meta: \"\"\n",
    "\n",
    "---"
   ]
  },
  {
   "cell_type": "markdown",
   "metadata": {},
   "source": [
    "# Key Code&"
   ]
  },
  {
   "cell_type": "code",
   "execution_count": 1,
   "metadata": {},
   "outputs": [],
   "source": [
    "import webbrowser\n",
    "def getbrowser():\n",
    "    \"\"\"\n",
    "    Get the name of the browser currently being used\n",
    "    \"\"\"\n",
    "\n",
    "    # Try to find the browser\n",
    "    try:\n",
    "        # Get the browser name\n",
    "        webbrowser.get(using=None)\n",
    "\n",
    "    # Catch an error\n",
    "    except RuntimeError:\n",
    "        # Return nothing\n",
    "        return None\n"
   ]
  }
 ],
 "metadata": {
  "kernelspec": {
   "display_name": "Python 3",
   "language": "python",
   "name": "python3"
  },
  "language_info": {
   "codemirror_mode": {
    "name": "ipython",
    "version": 3
   },
   "file_extension": ".py",
   "mimetype": "text/x-python",
   "name": "python",
   "nbconvert_exporter": "python",
   "pygments_lexer": "ipython3",
   "version": "3.7.0"
  }
 },
 "nbformat": 4,
 "nbformat_minor": 2
}
