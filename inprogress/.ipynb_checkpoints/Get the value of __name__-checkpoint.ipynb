{
 "cells": [
  {
   "cell_type": "markdown",
   "metadata": {},
   "source": [
    "---\n",
    "title: \"Get the value of __name__\"\n",
    "description: \"Get the value of __name__. Returns the value of __name__ or if ifmain is True, then if __name__ is equal to __main__.\"\n",
    "tags: Python: Other\n",
    "URL: https://github.com/Richienb/quilt\n",
    "Licence: Apache License 2.0\n",
    "Creator: \n",
    "Meta: \"__main__\"\n",
    "\n",
    "---"
   ]
  },
  {
   "cell_type": "markdown",
   "metadata": {},
   "source": [
    "# Key Code&"
   ]
  },
  {
   "cell_type": "code",
   "execution_count": null,
   "metadata": {},
   "outputs": [],
   "source": [
    "def pyname(ifmain=False):\n",
    "    \"\"\"\n",
    "    Get the value of __name__\n",
    "\n",
    "    :type ifmain: boolean\n",
    "    :param ifmain: If set to True then True will be returned if __name__ is equal to __main__\n",
    "\n",
    "    :return: The value of __name__ or if ifmain is True, then if __name__ is equal to __main__\n",
    "    :rtype: string or boolean\n",
    "    \"\"\"\n",
    "\n",
    "    if ifmain is True:\n",
    "        return __name__ == \"__main__\"\n",
    "    return __name__\n",
    "\n",
    "\n"
   ]
  }
 ],
 "metadata": {
  "kernelspec": {
   "display_name": "Python 3",
   "language": "python",
   "name": "python3"
  },
  "language_info": {
   "codemirror_mode": {
    "name": "ipython",
    "version": 3
   },
   "file_extension": ".py",
   "mimetype": "text/x-python",
   "name": "python",
   "nbconvert_exporter": "python",
   "pygments_lexer": "ipython3",
   "version": "3.7.0"
  }
 },
 "nbformat": 4,
 "nbformat_minor": 2
}
