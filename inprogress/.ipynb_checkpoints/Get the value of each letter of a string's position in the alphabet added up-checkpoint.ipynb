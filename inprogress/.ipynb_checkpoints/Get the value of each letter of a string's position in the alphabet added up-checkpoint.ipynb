{
 "cells": [
  {
   "cell_type": "markdown",
   "metadata": {},
   "source": [
    "---\n",
    "title: \"Add the value of each letter of a string's position in the alphabet\"\n",
    "description: \"Get the value of each letter of a string's position in the alphabet added up.\"\n",
    "tags: Python: Other\n",
    "URL: https://github.com/Richienb/quilt\n",
    "Licence: Apache License 2.0\n",
    "Creator: \n",
    "Meta: \"\"\n",
    "\n",
    "---"
   ]
  },
  {
   "cell_type": "markdown",
   "metadata": {},
   "source": [
    "# Key Code&"
   ]
  },
  {
   "cell_type": "code",
   "execution_count": null,
   "metadata": {},
   "outputs": [],
   "source": [
    "def wordvalue(word):\n",
    "    \"\"\"\n",
    "    Get the value of each letter of a string's position in the alphabet added up\n",
    "\n",
    "    :type word: string\n",
    "    :param word: The word to find the value of\n",
    "    \"\"\"\n",
    "\n",
    "    # Set total to 0\n",
    "    total = 0\n",
    "\n",
    "    # For each character of word\n",
    "    for i in enumerate(word):\n",
    "        # Add it's letter value to total\n",
    "        total += letternum(word[i[0]])\n",
    "\n",
    "    # Return the final value\n",
    "    return total\n",
    "\n",
    "\n"
   ]
  }
 ],
 "metadata": {
  "kernelspec": {
   "display_name": "Python 3",
   "language": "python",
   "name": "python3"
  },
  "language_info": {
   "codemirror_mode": {
    "name": "ipython",
    "version": 3
   },
   "file_extension": ".py",
   "mimetype": "text/x-python",
   "name": "python",
   "nbconvert_exporter": "python",
   "pygments_lexer": "ipython3",
   "version": "3.7.0"
  }
 },
 "nbformat": 4,
 "nbformat_minor": 2
}
