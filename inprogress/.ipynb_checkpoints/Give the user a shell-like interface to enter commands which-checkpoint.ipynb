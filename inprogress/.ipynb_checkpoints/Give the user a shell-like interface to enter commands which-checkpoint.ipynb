{
 "cells": [
  {
   "cell_type": "markdown",
   "metadata": {},
   "source": [
    "---\n",
    "title: \"Give the user a shell-like interface to enter commands\"\n",
    "description: \"Give the user a shell-like interface to enter commands which are returned as a multi-part list containing the command and each of the arguments.\"\n",
    "tags: Python: Other, Preprocessing Text\n",
    "URL: https://github.com/Richienb/quilt\n",
    "Licence: Apache License 2.0\n",
    "Creator: \n",
    "Meta: \"user input text\"\n",
    "\n",
    "---"
   ]
  },
  {
   "cell_type": "markdown",
   "metadata": {},
   "source": [
    "# Key Code&"
   ]
  },
  {
   "cell_type": "code",
   "execution_count": null,
   "metadata": {},
   "outputs": [],
   "source": [
    "def shellinput(initialtext='>> ', splitpart=' '):\n",
    "    \"\"\"\n",
    "    Give the user a shell-like interface to enter commands which\n",
    "    are returned as a multi-part list containing the command\n",
    "    and each of the arguments.\n",
    "\n",
    "    :type initialtext: string\n",
    "    :param initialtext: Set the text to be displayed as the prompt.\n",
    "\n",
    "    :type splitpart: string\n",
    "    :param splitpart: The character to split when generating the list item.\n",
    "\n",
    "    :return: A string of the user's input or a list of the user's input split by the split character.\n",
    "    :rtype: string or list\n",
    "    \"\"\"\n",
    "\n",
    "    # Get the user's input\n",
    "    shelluserinput = input(str(initialtext))\n",
    "\n",
    "    # Return the computed result\n",
    "    return shelluserinput if splitpart in (\n",
    "        '', None) else shelluserinput.split(splitpart)\n",
    "\n",
    "\n"
   ]
  }
 ],
 "metadata": {
  "kernelspec": {
   "display_name": "Python 3",
   "language": "python",
   "name": "python3"
  },
  "language_info": {
   "codemirror_mode": {
    "name": "ipython",
    "version": 3
   },
   "file_extension": ".py",
   "mimetype": "text/x-python",
   "name": "python",
   "nbconvert_exporter": "python",
   "pygments_lexer": "ipython3",
   "version": "3.7.0"
  }
 },
 "nbformat": 4,
 "nbformat_minor": 2
}
