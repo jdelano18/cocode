{
 "cells": [
  {
   "cell_type": "markdown",
   "metadata": {},
   "source": [
    "---\n",
    "title: \"Install one or more pip packages\"\n",
    "description: \"Install one or more pip packages\"\n",
    "tags: PIP\n",
    "URL: https://github.com/Richienb/quilt\n",
    "Licence: Apache License 2.0\n",
    "Creator: \n",
    "Meta: \"\"\n",
    "\n",
    "---"
   ]
  },
  {
   "cell_type": "markdown",
   "metadata": {},
   "source": [
    "# Key Code&"
   ]
  },
  {
   "cell_type": "code",
   "execution_count": null,
   "metadata": {},
   "outputs": [],
   "source": [
    "import pip\n",
    "def pipinstall(packages):\n",
    "    \"\"\"\n",
    "    Install one or more pip packages.\n",
    "\n",
    "    :type packages: string or list\n",
    "    :param packages: The package or list of packages to install.\n",
    "\n",
    "    :raises TypeError: Nor a string or a list was provided.\n",
    "    \"\"\"\n",
    "\n",
    "    if isinstance(packages, str):\n",
    "        if hasattr(pip, 'main'):\n",
    "            pip.main(['install', packages])\n",
    "        else:\n",
    "            pip._internal.main(['install', packages])\n",
    "    elif isinstance(packages, list):\n",
    "        for i in enumerate(packages):\n",
    "            if hasattr(pip, 'main'):\n",
    "                pip.main(['install', i[1]])\n",
    "            else:\n",
    "                pip._internal.main(['install', i[1]])\n",
    "    else:\n",
    "        raise TypeError(\"Nor a string or a list was provided.\")\n"
   ]
  }
 ],
 "metadata": {
  "kernelspec": {
   "display_name": "Python 3",
   "language": "python",
   "name": "python3"
  },
  "language_info": {
   "codemirror_mode": {
    "name": "ipython",
    "version": 3
   },
   "file_extension": ".py",
   "mimetype": "text/x-python",
   "name": "python",
   "nbconvert_exporter": "python",
   "pygments_lexer": "ipython3",
   "version": "3.7.0"
  }
 },
 "nbformat": 4,
 "nbformat_minor": 2
}
