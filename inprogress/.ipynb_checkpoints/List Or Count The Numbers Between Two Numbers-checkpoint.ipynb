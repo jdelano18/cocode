{
 "cells": [
  {
   "cell_type": "markdown",
   "metadata": {},
   "source": [
    "---\n",
    "title: \"List Or Count The Numbers Between Two Numbers\"\n",
    "description: \"List or count the numbers between two numbers. Option can be list or count and list option can be string or list.\"\n",
    "tags: Python: Other\n",
    "URL: https://github.com/Richienb/quilt\n",
    "Licence: Apache License 2.0\n",
    "Creator: \n",
    "Meta: \"\"\n",
    "\n",
    "---"
   ]
  },
  {
   "cell_type": "markdown",
   "metadata": {},
   "source": [
    "# Key Code&"
   ]
  },
  {
   "cell_type": "code",
   "execution_count": null,
   "metadata": {},
   "outputs": [],
   "source": [
    "def numlistbetween(num1, num2, option='list', listoption='string'):\n",
    "    \"\"\"\n",
    "    List Or Count The Numbers Between Two Numbers\n",
    "    \"\"\"\n",
    "    if option == 'list':\n",
    "        if listoption == 'string':\n",
    "            output = ''\n",
    "            output += str(num1)\n",
    "            for currentnum in range(num1 + 1, num2 + 1):\n",
    "                output += ','\n",
    "                output += str(currentnum)\n",
    "        elif listoption == 'list':\n",
    "            output = []\n",
    "            for currentnum in range(num1, num2 + 1):\n",
    "                output.append(str(currentnum))\n",
    "            return output\n",
    "    elif option == 'count':\n",
    "        return num2 - num1\n",
    "\n",
    "\n"
   ]
  }
 ],
 "metadata": {
  "kernelspec": {
   "display_name": "Python 3",
   "language": "python",
   "name": "python3"
  },
  "language_info": {
   "codemirror_mode": {
    "name": "ipython",
    "version": 3
   },
   "file_extension": ".py",
   "mimetype": "text/x-python",
   "name": "python",
   "nbconvert_exporter": "python",
   "pygments_lexer": "ipython3",
   "version": "3.7.0"
  }
 },
 "nbformat": 4,
 "nbformat_minor": 2
}
