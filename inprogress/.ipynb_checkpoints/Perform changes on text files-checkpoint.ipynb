{
 "cells": [
  {
   "cell_type": "markdown",
   "metadata": {},
   "source": [
    "---\n",
    "title: \"Perform changes on text files\"\n",
    "description: \"Perform changes on text files by appending or re-writing a file. Provide a filepath, the content for the file, and an operation (write or append).\"\n",
    "tags: Data Import / Connectivity / Injest\n",
    "URL: https://github.com/Richienb/quilt\n",
    "Licence: Apache License 2.0\n",
    "Creator: \n",
    "Meta: \"write append file\"\n",
    "\n",
    "---"
   ]
  },
  {
   "cell_type": "markdown",
   "metadata": {},
   "source": [
    "# Key Code&"
   ]
  },
  {
   "cell_type": "code",
   "execution_count": null,
   "metadata": {},
   "outputs": [],
   "source": [
    "def text(path, operation, content):\n",
    "    \"\"\"\n",
    "    Perform changes on text files\n",
    "\n",
    "    :type path: string\n",
    "    :param path: The path to perform the action on\n",
    "\n",
    "    :type operation: string\n",
    "    :param operation: The operation to use on the file\n",
    "\n",
    "    :type content: string\n",
    "    :param content: The content to use with the operation\n",
    "    \"\"\"\n",
    "\n",
    "    # If the operation is \"write\"\n",
    "    if operation.lower() == 'write':\n",
    "        # Open the file as \"fh\"\n",
    "        with open(path, 'w') as fh:\n",
    "            # Write to the file\n",
    "            fh.write(content)\n",
    "\n",
    "    # If the operation is \"append\"\n",
    "    elif operation.lower() == 'append':\n",
    "        # Open the file as \"fh\"\n",
    "        with open(path, 'a') as fh:\n",
    "            # Write to the file\n",
    "            fh.write(content)\n",
    "\n",
    "    # Raise a warning\n",
    "    raise ValueError(\"Invalid operation provided\")\n"
   ]
  }
 ],
 "metadata": {
  "kernelspec": {
   "display_name": "Python 3",
   "language": "python",
   "name": "python3"
  },
  "language_info": {
   "codemirror_mode": {
    "name": "ipython",
    "version": 3
   },
   "file_extension": ".py",
   "mimetype": "text/x-python",
   "name": "python",
   "nbconvert_exporter": "python",
   "pygments_lexer": "ipython3",
   "version": "3.7.0"
  }
 },
 "nbformat": 4,
 "nbformat_minor": 2
}
