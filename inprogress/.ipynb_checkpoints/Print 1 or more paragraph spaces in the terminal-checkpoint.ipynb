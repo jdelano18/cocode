{
 "cells": [
  {
   "cell_type": "markdown",
   "metadata": {},
   "source": [
    "---\n",
    "title: \"Print 1 or more paragraph spaces in the terminal\"\n",
    "description: \"Print 1 or more paragraph spaces in the terminal. Add white space with new lines.\"\n",
    "tags: Python Fundamentals\n",
    "URL: https://github.com/Richienb/quilt\n",
    "Licence: Apache License 2.0\n",
    "Creator: \n",
    "Meta: \"white space new lines\"\n",
    "\n",
    "---"
   ]
  },
  {
   "cell_type": "markdown",
   "metadata": {},
   "source": [
    "# Key Code&"
   ]
  },
  {
   "cell_type": "code",
   "execution_count": null,
   "metadata": {},
   "outputs": [],
   "source": [
    "def newline(lines=1):\n",
    "    \"\"\"\n",
    "    Print 1 or more paragraph spaces in the terminal.\n",
    "\n",
    "    :type lines: integer\n",
    "    :param lines: The amount of paragraph spaces to print.\n",
    "    \"\"\"\n",
    "\n",
    "    # Print the new line iterated by the amount of new lines\n",
    "    print('\\n' * lines)\n"
   ]
  }
 ],
 "metadata": {
  "kernelspec": {
   "display_name": "Python 3",
   "language": "python",
   "name": "python3"
  },
  "language_info": {
   "codemirror_mode": {
    "name": "ipython",
    "version": 3
   },
   "file_extension": ".py",
   "mimetype": "text/x-python",
   "name": "python",
   "nbconvert_exporter": "python",
   "pygments_lexer": "ipython3",
   "version": "3.7.0"
  }
 },
 "nbformat": 4,
 "nbformat_minor": 2
}
