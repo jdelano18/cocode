{
 "cells": [
  {
   "cell_type": "markdown",
   "metadata": {},
   "source": [
    "---\n",
    "title: \"Print out a console message\"\n",
    "description: \"Print out a console message any number of times.\"\n",
    "tags: Python: Other\n",
    "URL: https://github.com/Richienb/quilt\n",
    "Licence: Apache License 2.0\n",
    "Creator: \n",
    "Meta: \"\"\n",
    "\n",
    "---"
   ]
  },
  {
   "cell_type": "markdown",
   "metadata": {},
   "source": [
    "# Key Code&"
   ]
  },
  {
   "cell_type": "code",
   "execution_count": null,
   "metadata": {},
   "outputs": [],
   "source": [
    "def printmessage(text, amount=1):\n",
    "    \"\"\"\n",
    "    Print out a console message.\n",
    "\n",
    "    :type text: string\n",
    "    :param text: The text to print out.\n",
    "\n",
    "    :type amount: integer\n",
    "    :param amount: The amount of times to print it out.\n",
    "    \"\"\"\n",
    "\n",
    "    # Repeat for value of amount\n",
    "    for _ in range(amount):\n",
    "        # Print the text\n",
    "        print(text)\n"
   ]
  }
 ],
 "metadata": {
  "kernelspec": {
   "display_name": "Python 3",
   "language": "python",
   "name": "python3"
  },
  "language_info": {
   "codemirror_mode": {
    "name": "ipython",
    "version": 3
   },
   "file_extension": ".py",
   "mimetype": "text/x-python",
   "name": "python",
   "nbconvert_exporter": "python",
   "pygments_lexer": "ipython3",
   "version": "3.7.0"
  }
 },
 "nbformat": 4,
 "nbformat_minor": 2
}
