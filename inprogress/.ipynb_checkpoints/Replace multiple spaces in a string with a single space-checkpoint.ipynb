{
 "cells": [
  {
   "cell_type": "markdown",
   "metadata": {},
   "source": [
    "---\n",
    "title: \"Replace multiple spaces in a string with a single space\"\n",
    "description: \"Replace multiple spaces in a string with a single space. Remove unwanted spaces in a string.\"\n",
    "tags: Python Fundamentals, Preprocessing Text\n",
    "URL: https://github.com/Richienb/quilt\n",
    "Licence: Apache License 2.0\n",
    "Creator: \n",
    "Meta: \"join split\"\n",
    "\n",
    "---"
   ]
  },
  {
   "cell_type": "markdown",
   "metadata": {},
   "source": [
    "# Key Code&"
   ]
  },
  {
   "cell_type": "code",
   "execution_count": null,
   "metadata": {},
   "outputs": [],
   "source": [
    "def catwalk(text):\n",
    "    \"\"\"\n",
    "    Replace multiple spaces in a string with a single space.\n",
    "\n",
    "    :type text: string\n",
    "    :param text: The text to fix.\n",
    "\n",
    "    >>> catwalk(\"this  is    a long  sentence\")\n",
    "    'this is a long sentence'\n",
    "    \"\"\"\n",
    "\n",
    "    # Return the fixed version\n",
    "    return ' '.join(text.split())\n",
    "\n",
    "\n"
   ]
  }
 ],
 "metadata": {
  "kernelspec": {
   "display_name": "Python 3",
   "language": "python",
   "name": "python3"
  },
  "language_info": {
   "codemirror_mode": {
    "name": "ipython",
    "version": 3
   },
   "file_extension": ".py",
   "mimetype": "text/x-python",
   "name": "python",
   "nbconvert_exporter": "python",
   "pygments_lexer": "ipython3",
   "version": "3.7.0"
  }
 },
 "nbformat": 4,
 "nbformat_minor": 2
}
