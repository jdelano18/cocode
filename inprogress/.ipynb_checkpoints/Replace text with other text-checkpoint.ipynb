{
 "cells": [
  {
   "cell_type": "markdown",
   "metadata": {},
   "source": [
    "---\n",
    "title: \"Replace text with other text\"\n",
    "description: \"Replace text with other text. Enter the text with the next to replace, the text to look for in the string, and the text to replace the matching text with.\"\n",
    "tags: Python Fundamentals\n",
    "URL: https://github.com/Richienb/quilt\n",
    "Licence: Apache License 2.0\n",
    "Creator: \n",
    "Meta: \"\"\n",
    "\n",
    "---"
   ]
  },
  {
   "cell_type": "markdown",
   "metadata": {},
   "source": [
    "# Key Code&"
   ]
  },
  {
   "cell_type": "code",
   "execution_count": null,
   "metadata": {},
   "outputs": [],
   "source": [
    "import string\n",
    "def replacetext(string, texttofind, texttoreplace):\n",
    "    \"\"\"\n",
    "    Replace text with other text.\n",
    "\n",
    "    :type string: string\n",
    "    :param string: The string with the text to replace.\n",
    "\n",
    "    :type texttofind: string\n",
    "    :param texttofind: The text to look for in the string.\n",
    "\n",
    "    :type texttoreplace: string\n",
    "    :param texttoreplace: The text to replace the matching text with.\n",
    "    \"\"\"\n",
    "\n",
    "    # Return the replaced string\n",
    "    return string.replace(texttofind, texttoreplace)\n",
    "\n",
    "\n"
   ]
  }
 ],
 "metadata": {
  "kernelspec": {
   "display_name": "Python 3",
   "language": "python",
   "name": "python3"
  },
  "language_info": {
   "codemirror_mode": {
    "name": "ipython",
    "version": 3
   },
   "file_extension": ".py",
   "mimetype": "text/x-python",
   "name": "python",
   "nbconvert_exporter": "python",
   "pygments_lexer": "ipython3",
   "version": "3.7.0"
  }
 },
 "nbformat": 4,
 "nbformat_minor": 2
}
