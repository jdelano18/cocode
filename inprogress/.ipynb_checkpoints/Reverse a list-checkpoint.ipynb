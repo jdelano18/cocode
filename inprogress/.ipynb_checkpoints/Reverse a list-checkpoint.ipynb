{
 "cells": [
  {
   "cell_type": "markdown",
   "metadata": {},
   "source": [
    "---\n",
    "title: \"Reverse a list\"\n",
    "description: \"Reverse a list\"\n",
    "tags: Lists\n",
    "URL: https://github.com/Richienb/quilt\n",
    "Licence: Apache License 2.0\n",
    "Creator: \n",
    "Meta: \"\"\n",
    "\n",
    "---"
   ]
  },
  {
   "cell_type": "markdown",
   "metadata": {},
   "source": [
    "# Key Code&"
   ]
  },
  {
   "cell_type": "code",
   "execution_count": null,
   "metadata": {},
   "outputs": [],
   "source": [
    "def reverselist(listtoreverse):\n",
    "    \"\"\"\n",
    "    Reverse a list.\n",
    "\n",
    "    :type listtoreverse: list\n",
    "    :param listtoreverse: The list to reverse\n",
    "    \"\"\"\n",
    "\n",
    "    # Return the reversed list\n",
    "    return listtoreverse.reverse()\n"
   ]
  }
 ],
 "metadata": {
  "kernelspec": {
   "display_name": "Python 3",
   "language": "python",
   "name": "python3"
  },
  "language_info": {
   "codemirror_mode": {
    "name": "ipython",
    "version": 3
   },
   "file_extension": ".py",
   "mimetype": "text/x-python",
   "name": "python",
   "nbconvert_exporter": "python",
   "pygments_lexer": "ipython3",
   "version": "3.7.0"
  }
 },
 "nbformat": 4,
 "nbformat_minor": 2
}
