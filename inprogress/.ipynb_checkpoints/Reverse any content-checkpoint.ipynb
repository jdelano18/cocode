{
 "cells": [
  {
   "cell_type": "markdown",
   "metadata": {},
   "source": [
    "---\n",
    "title: \"Reverse any content\"\n",
    "description: \"Reverse any string or list with this function. Also, you can specify whether or not to reconvert the object back into its initial state.\"\n",
    "tags: Lists\n",
    "URL: https://github.com/Richienb/quilt\n",
    "Licence: Apache License 2.0\n",
    "Creator: \n",
    "Meta: \"\"\n",
    "\n",
    "---"
   ]
  },
  {
   "cell_type": "markdown",
   "metadata": {},
   "source": [
    "# Key Code&"
   ]
  },
  {
   "cell_type": "code",
   "execution_count": null,
   "metadata": {},
   "outputs": [],
   "source": [
    "def reversetext(contenttoreverse, reconvert=True):\n",
    "    \"\"\"\n",
    "    Reverse any content\n",
    "\n",
    "    :type contenttoreverse: string\n",
    "    :param contenttoreverse: The content to be reversed\n",
    "\n",
    "    :type reeval: boolean\n",
    "    :param reeval: Wether or not to reconvert the object back into it's initial state. Default is \"True\".\n",
    "    \"\"\"\n",
    "\n",
    "    # If reconvert is specified\n",
    "    if reconvert is True:\n",
    "        # Return the evalated form\n",
    "        return eval(\n",
    "            str(type(contenttoreverse)).split(\"'\")[1] + \"('\" +\n",
    "            str(contenttoreverse)[::-1] + \"')\")\n",
    "\n",
    "    # Return the raw version\n",
    "    return contenttoreverse[::-1]\n",
    "\n",
    "\n"
   ]
  }
 ],
 "metadata": {
  "kernelspec": {
   "display_name": "Python 3",
   "language": "python",
   "name": "python3"
  },
  "language_info": {
   "codemirror_mode": {
    "name": "ipython",
    "version": 3
   },
   "file_extension": ".py",
   "mimetype": "text/x-python",
   "name": "python",
   "nbconvert_exporter": "python",
   "pygments_lexer": "ipython3",
   "version": "3.7.0"
  }
 },
 "nbformat": 4,
 "nbformat_minor": 2
}
