{
 "cells": [
  {
   "cell_type": "markdown",
   "metadata": {},
   "source": [
    "---\n",
    "title: \"Set or get the logging level of Quilt\"\n",
    "description: \"Set or get the logging level of Quilt. This is a Quilt specific function\"\n",
    "tags: Python: Other\n",
    "URL: https://github.com/Richienb/quilt\n",
    "Licence: Apache License 2.0\n",
    "Creator: \n",
    "Meta: \"\"\n",
    "\n",
    "---"
   ]
  },
  {
   "cell_type": "markdown",
   "metadata": {},
   "source": [
    "# Key Code&"
   ]
  },
  {
   "cell_type": "code",
   "execution_count": null,
   "metadata": {},
   "outputs": [],
   "source": [
    "import logging\n",
    "def loglevel(leveltype=None, isequal=False):\n",
    "    \"\"\"\n",
    "    Set or get the logging level of Quilt\n",
    "\n",
    "    :type leveltype: string or integer\n",
    "    :param leveltype: Choose the logging level. Possible choices are none (0), debug (10), info (20), warning (30), error (40) and critical (50).\n",
    "\n",
    "    :type isequal: boolean\n",
    "    :param isequal: Check if level is equal to leveltype.\n",
    "\n",
    "    :return: If the level is equal to leveltype.\n",
    "    :rtype: boolean\n",
    "\n",
    "    >>> loglevel()\n",
    "    30\n",
    "    \"\"\"\n",
    "    log = logging.getLogger(__name__)\n",
    "    leveltype = leveltype\n",
    "    loglevels = {\n",
    "        \"none\": 0,\n",
    "        \"debug\": 10,\n",
    "        \"info\": 20,\n",
    "        \"warning\": 30,\n",
    "        \"error\": 40,\n",
    "        \"critical\": 50\n",
    "    }\n",
    "    if leveltype is None and isequal is False:\n",
    "        return log.getEffectiveLevel()\n",
    "    if leveltype is not None and isequal is True:\n",
    "        if leveltype in loglevels.values():\n",
    "            return leveltype == log.getEffectiveLevel()\n",
    "        elif leveltype in loglevels:\n",
    "            return loglevels[leveltype] == log.getEffectiveLevel()\n",
    "        raise ValueError(\n",
    "            \"Incorrect input provided. It should be none, debug, info, warning, error or critical.\"\n",
    "        )\n",
    "    if leveltype in loglevels.values():\n",
    "        log.basicConfig(level=leveltype)\n",
    "    elif leveltype in loglevels:\n",
    "        log.basicConfig(level=loglevels[leveltype])\n",
    "    else:\n",
    "        raise ValueError(\n",
    "            \"Incorrect input provided. It should be none, debug, info, warning, error or critical.\"\n",
    "        )\n"
   ]
  }
 ],
 "metadata": {
  "kernelspec": {
   "display_name": "Python 3",
   "language": "python",
   "name": "python3"
  },
  "language_info": {
   "codemirror_mode": {
    "name": "ipython",
    "version": 3
   },
   "file_extension": ".py",
   "mimetype": "text/x-python",
   "name": "python",
   "nbconvert_exporter": "python",
   "pygments_lexer": "ipython3",
   "version": "3.7.0"
  }
 },
 "nbformat": 4,
 "nbformat_minor": 2
}
