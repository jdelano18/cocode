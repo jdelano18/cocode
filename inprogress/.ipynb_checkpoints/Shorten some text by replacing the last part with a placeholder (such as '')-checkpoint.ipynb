{
 "cells": [
  {
   "cell_type": "markdown",
   "metadata": {},
   "source": [
    "---\n",
    "title: \"Shorten some text by replacing the last part with a placeholder\"\n",
    "description: \"Shorten some text by replacing the last part with a placeholder using the textwrap module. Enter the text to shorten, the minimum length before a shortening will occur, and a placeholder\"\n",
    "tags: Python: Other\n",
    "URL: https://github.com/Richienb/quilt\n",
    "Licence: Apache License 2.0\n",
    "Creator: \n",
    "Meta: \"\"\n",
    "\n",
    "---"
   ]
  },
  {
   "cell_type": "markdown",
   "metadata": {},
   "source": [
    "# Key Code&"
   ]
  },
  {
   "cell_type": "code",
   "execution_count": null,
   "metadata": {},
   "outputs": [],
   "source": [
    "import textwrap\n",
    "def shortentext(text, minlength, placeholder='...'):\n",
    "    \"\"\"\n",
    "    Shorten some text by replacing the last part with a placeholder (such as '...')\n",
    "\n",
    "    :type text: string\n",
    "    :param text: The text to shorten\n",
    "\n",
    "    :type minlength: integer\n",
    "    :param minlength: The minimum length before a shortening will occur\n",
    "\n",
    "    :type placeholder: string\n",
    "    :param placeholder: The text to append after removing protruding text.\n",
    "    \"\"\"\n",
    "\n",
    "    return textwrap.shorten(text, minlength, placeholder=str(placeholder))\n",
    "\n",
    "\n"
   ]
  }
 ],
 "metadata": {
  "kernelspec": {
   "display_name": "Python 3",
   "language": "python",
   "name": "python3"
  },
  "language_info": {
   "codemirror_mode": {
    "name": "ipython",
    "version": 3
   },
   "file_extension": ".py",
   "mimetype": "text/x-python",
   "name": "python",
   "nbconvert_exporter": "python",
   "pygments_lexer": "ipython3",
   "version": "3.7.0"
  }
 },
 "nbformat": 4,
 "nbformat_minor": 2
}
