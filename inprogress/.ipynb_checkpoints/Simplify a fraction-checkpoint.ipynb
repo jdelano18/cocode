{
 "cells": [
  {
   "cell_type": "markdown",
   "metadata": {},
   "source": [
    "---\n",
    "title: \"Simplify a fraction\"\n",
    "description: \"Simplify a fraction. Enter a numerator and a denominator of the fraction to simplify and get the simplified fraction returned as a list.\"\n",
    "tags: Mathematics: Basics\n",
    "URL: https://github.com/Richienb/quilt\n",
    "Licence: Apache License 2.0\n",
    "Creator: \n",
    "Meta: \"\"\n",
    "\n",
    "---"
   ]
  },
  {
   "cell_type": "markdown",
   "metadata": {},
   "source": [
    "# Key Code&"
   ]
  },
  {
   "cell_type": "code",
   "execution_count": null,
   "metadata": {},
   "outputs": [],
   "source": [
    "def fracsimplify(numerator, denominator):\n",
    "    \"\"\"\n",
    "    Simplify a fraction.\n",
    "\n",
    "    :type numerator: integer\n",
    "    :param numerator: The numerator of the fraction to simplify\n",
    "\n",
    "    :type denominator: integer\n",
    "    :param denominator: The denominator of the fraction to simplify\n",
    "\n",
    "    :return: The simplified fraction\n",
    "    :rtype: list\n",
    "    \"\"\"\n",
    "\n",
    "    # If the numerator is the same as the denominator\n",
    "    if numerator == denominator:\n",
    "        # Return the most simplified fraction\n",
    "        return '1/1'\n",
    "\n",
    "    # If the numerator is larger than the denominator\n",
    "    elif int(numerator) > int(denominator):\n",
    "        # Set the limit to half of the numerator\n",
    "        limit = int(numerator / 2)\n",
    "\n",
    "    elif int(numerator) < int(denominator):\n",
    "\n",
    "        # Set the limit to half of the denominator\n",
    "        limit = int(denominator / 2)\n",
    "\n",
    "    # For each item in range from 2 to the limit\n",
    "    for i in range(2, limit):\n",
    "        # Set the number to check as the limit minus i\n",
    "        checknum = limit - i\n",
    "        # If the number is divisible by the numerator and denominator\n",
    "        if numerator % checknum == 0 and denominator % checknum == 0:\n",
    "            # Set the numerator to half of the number\n",
    "            numerator = numerator / checknum\n",
    "            # Set the denominator to half of the number\n",
    "            denominator = denominator / checknum\n",
    "\n",
    "    # Return the integer version of the numerator and denominator\n",
    "    return [int(numerator), int(denominator)]\n",
    "\n",
    "\n"
   ]
  }
 ],
 "metadata": {
  "kernelspec": {
   "display_name": "Python 3",
   "language": "python",
   "name": "python3"
  },
  "language_info": {
   "codemirror_mode": {
    "name": "ipython",
    "version": 3
   },
   "file_extension": ".py",
   "mimetype": "text/x-python",
   "name": "python",
   "nbconvert_exporter": "python",
   "pygments_lexer": "ipython3",
   "version": "3.7.0"
  }
 },
 "nbformat": 4,
 "nbformat_minor": 2
}
