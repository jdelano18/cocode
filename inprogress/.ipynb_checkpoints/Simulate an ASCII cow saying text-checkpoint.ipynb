{
 "cells": [
  {
   "cell_type": "markdown",
   "metadata": {},
   "source": [
    "---\n",
    "title: \"Simulate an ASCII cow saying text\"\n",
    "description: \"Simulate an ASCII cow saying text. Enter the text to print out and where to align the cow.\"\n",
    "tags: Python: Other\n",
    "URL: https://github.com/Richienb/quilt\n",
    "Licence: Apache License 2.0\n",
    "Creator: \n",
    "Meta: \"\"\n",
    "\n",
    "---"
   ]
  },
  {
   "cell_type": "markdown",
   "metadata": {},
   "source": [
    "# Key Code&"
   ]
  },
  {
   "cell_type": "code",
   "execution_count": 1,
   "metadata": {},
   "outputs": [],
   "source": [
    "def cowsay(text='', align='centre'):\n",
    "    \"\"\"\n",
    "    Simulate an ASCII cow saying text.\n",
    "\n",
    "    :type text: string\n",
    "    :param text: The text to print out.\n",
    "\n",
    "    :type align: string\n",
    "    :param algin: Where to align the cow. Can be 'left', 'centre' or 'right'\n",
    "    \"\"\"\n",
    "\n",
    "    # Make align lowercase\n",
    "    align = align.lower()\n",
    "\n",
    "    # Set the cowtext\n",
    "    cowtext = str(text)\n",
    "\n",
    "    # Set top part of speech bubble to the length of the text plus 2\n",
    "    topbar = ' ' * (len(text) + 2)\n",
    "\n",
    "    # Set bottom part of speech bubble to the length of the text plus 2\n",
    "    bottombar = ' ' * (len(text) + 2)\n",
    "\n",
    "    # If align is centre\n",
    "    if align in [\"center\", \"centre\"]:\n",
    "        # Set the spacing before the cow to the length of half of the length of topbar plus 1\n",
    "        spacing = \" \" * (int(len(topbar) / 2) + 1)\n",
    "\n",
    "    # If align is left\n",
    "    elif align == 'left':\n",
    "        # Set spacing to a single space\n",
    "        spacing = ' '\n",
    "\n",
    "    # If align is right\n",
    "    elif align == 'right':\n",
    "        # Set the spacing to the length of the text plus 2\n",
    "        spacing = \" \" * (len(text) + 2)\n",
    "\n",
    "    else:\n",
    "        # Raise a runtime warning\n",
    "        raise ValueError(\"Invalid alignment provided.\")\n",
    "\n",
    "    # Print the top bar\n",
    "    print(topbar)\n",
    "\n",
    "    # Print the text\n",
    "    print('( ' + repr(str(cowtext)) + ' )')\n",
    "\n",
    "    # Print the bottom bar\n",
    "    print(bottombar)\n",
    "\n",
    "    # Print the cow with the spacing\n",
    "    print(spacing + r'o   ^__^ ')\n",
    "    print(spacing + r' o  (oO)\\_______')\n",
    "    print(spacing + r'    (__)\\       )\\/\\ ')\n",
    "    print(spacing + r'     U  ||----w | ')\n",
    "    print(spacing + r'        ||     || ')\n"
   ]
  }
 ],
 "metadata": {
  "kernelspec": {
   "display_name": "Python 3",
   "language": "python",
   "name": "python3"
  },
  "language_info": {
   "codemirror_mode": {
    "name": "ipython",
    "version": 3
   },
   "file_extension": ".py",
   "mimetype": "text/x-python",
   "name": "python",
   "nbconvert_exporter": "python",
   "pygments_lexer": "ipython3",
   "version": "3.7.0"
  }
 },
 "nbformat": 4,
 "nbformat_minor": 2
}
