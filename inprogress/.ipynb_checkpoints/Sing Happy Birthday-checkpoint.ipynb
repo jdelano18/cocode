{
 "cells": [
  {
   "cell_type": "markdown",
   "metadata": {},
   "source": [
    "---\n",
    "title: \"Sing Happy Birthday\"\n",
    "description: \"Method to sing happy birthday\"\n",
    "tags: Python: Other\n",
    "URL: https://github.com/Richienb/quilt\n",
    "Licence: Apache License 2.0\n",
    "Creator: \n",
    "Meta: \"\"\n",
    "\n",
    "---"
   ]
  },
  {
   "cell_type": "markdown",
   "metadata": {},
   "source": [
    "# Key Code&"
   ]
  },
  {
   "cell_type": "code",
   "execution_count": null,
   "metadata": {},
   "outputs": [],
   "source": [
    "import time\n",
    "def happybirthday(person):\n",
    "    \"\"\"\n",
    "    Sing Happy Birthday\n",
    "    \"\"\"\n",
    "    print('Happy Birthday To You')\n",
    "    time.sleep(2)\n",
    "    print('Happy Birthday To You')\n",
    "    time.sleep(2)\n",
    "    print('Happy Birthday Dear ' + str(person[0].upper()) + str(person[1:]))\n",
    "    time.sleep(2)\n",
    "    print('Happy Birthday To You')\n"
   ]
  }
 ],
 "metadata": {
  "kernelspec": {
   "display_name": "Python 3",
   "language": "python",
   "name": "python3"
  },
  "language_info": {
   "codemirror_mode": {
    "name": "ipython",
    "version": 3
   },
   "file_extension": ".py",
   "mimetype": "text/x-python",
   "name": "python",
   "nbconvert_exporter": "python",
   "pygments_lexer": "ipython3",
   "version": "3.7.0"
  }
 },
 "nbformat": 4,
 "nbformat_minor": 2
}
