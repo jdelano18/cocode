{
 "cells": [
  {
   "cell_type": "markdown",
   "metadata": {},
   "source": [
    "---\n",
    "title: \"Solve a simple maths equation manually\"\n",
    "description: \"Solve a simple maths equation manually if you want to spell out the operation you're performing.\"\n",
    "tags: Mathematics: Basics\n",
    "URL: https://github.com/Richienb/quilt\n",
    "Licence: Apache License 2.0\n",
    "Creator: \n",
    "Meta: \"\"\n",
    "\n",
    "---"
   ]
  },
  {
   "cell_type": "markdown",
   "metadata": {},
   "source": [
    "# Key Code&"
   ]
  },
  {
   "cell_type": "code",
   "execution_count": null,
   "metadata": {},
   "outputs": [],
   "source": [
    "def equation(operation, firstnum, secondnum):\n",
    "    \"\"\"\n",
    "    Solve a simple maths equation manually\n",
    "    \"\"\"\n",
    "    if operation == 'plus':\n",
    "        return firstnum + secondnum\n",
    "    elif operation == 'minus':\n",
    "        return firstnum - secondnum\n",
    "    elif operation == 'multiply':\n",
    "        return firstnum * secondnum\n",
    "    elif operation == 'divide':\n",
    "        if not secondnum == 0:\n",
    "            return firstnum / secondnum\n",
    "        raise ZeroDivisionError(\"Unable to divide by 0.\")\n",
    "    raise ValueError('Invalid operation provided.')\n"
   ]
  }
 ],
 "metadata": {
  "kernelspec": {
   "display_name": "Python 3",
   "language": "python",
   "name": "python3"
  },
  "language_info": {
   "codemirror_mode": {
    "name": "ipython",
    "version": 3
   },
   "file_extension": ".py",
   "mimetype": "text/x-python",
   "name": "python",
   "nbconvert_exporter": "python",
   "pygments_lexer": "ipython3",
   "version": "3.7.0"
  }
 },
 "nbformat": 4,
 "nbformat_minor": 2
}
