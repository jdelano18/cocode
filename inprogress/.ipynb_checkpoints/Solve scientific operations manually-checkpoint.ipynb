{
 "cells": [
  {
   "cell_type": "markdown",
   "metadata": {},
   "source": [
    "---\n",
    "title: \"Solve scientific operations\"\n",
    "description: \"Solve scientific operations with the math module. Operations include log, acos, asin, atan, cos, sin, tan, hypot\"\n",
    "tags: Mathematics: Basics\n",
    "URL: https://github.com/Richienb/quilt\n",
    "Licence: Apache License 2.0\n",
    "Creator: \n",
    "Meta: \"log acos asin atan cos sin tan hypot\"\n",
    "\n",
    "---"
   ]
  },
  {
   "cell_type": "markdown",
   "metadata": {},
   "source": [
    "# Key Code&"
   ]
  },
  {
   "cell_type": "code",
   "execution_count": null,
   "metadata": {},
   "outputs": [],
   "source": [
    "import math\n",
    "def scientific(number, operation, number2=None, logbase=10):\n",
    "    \"\"\"\n",
    "    Solve scientific operations manually\n",
    "    \"\"\"\n",
    "    if operation == 'log':\n",
    "        return math.log(number, logbase)\n",
    "    elif operation == 'acos':\n",
    "        return math.acos(number)\n",
    "    elif operation == 'asin':\n",
    "        return math.asin(number)\n",
    "    elif operation == 'atan':\n",
    "        return math.atan(number)\n",
    "    elif operation == 'cos':\n",
    "        return math.cos(number)\n",
    "    elif operation == 'hypot':\n",
    "        return math.hypot(number, number2)\n",
    "    elif operation == 'sin':\n",
    "        return math.sin(number)\n",
    "    elif operation == 'tan':\n",
    "        return math.tan(number)\n",
    "\n",
    "\n"
   ]
  }
 ],
 "metadata": {
  "kernelspec": {
   "display_name": "Python 3",
   "language": "python",
   "name": "python3"
  },
  "language_info": {
   "codemirror_mode": {
    "name": "ipython",
    "version": 3
   },
   "file_extension": ".py",
   "mimetype": "text/x-python",
   "name": "python",
   "nbconvert_exporter": "python",
   "pygments_lexer": "ipython3",
   "version": "3.7.0"
  }
 },
 "nbformat": 4,
 "nbformat_minor": 2
}
