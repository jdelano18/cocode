{
 "cells": [
  {
   "cell_type": "markdown",
   "metadata": {},
   "source": [
    "---\n",
    "title: \"Split a string based on a character and get the parts as a list\"\n",
    "description: \"Split a string based on a character and get the parts as a list\"\n",
    "tags: Python: Other\n",
    "URL: https://github.com/Richienb/quilt\n",
    "Licence: Apache License 2.0\n",
    "Creator: \n",
    "Meta: \"\"\n",
    "\n",
    "---"
   ]
  },
  {
   "cell_type": "markdown",
   "metadata": {},
   "source": [
    "# Key Code&"
   ]
  },
  {
   "cell_type": "code",
   "execution_count": null,
   "metadata": {},
   "outputs": [],
   "source": [
    "import string\n",
    "def splitstring(string, splitcharacter=' ', part=None):\n",
    "    \"\"\"\n",
    "    Split a string based on a character and get the parts as a list.\n",
    "\n",
    "    :type string: string\n",
    "    :param string: The string to split.\n",
    "\n",
    "    :type splitcharacter: string\n",
    "    :param splitcharacter: The character to split for the string.\n",
    "\n",
    "    :type part: integer\n",
    "    :param part: Get a specific part of the list.\n",
    "\n",
    "    :return: The split string or a specific part of it\n",
    "    :rtype: list or string\n",
    "\n",
    "    >>> splitstring('hello world !')\n",
    "    ['hello', 'world', '!']\n",
    "\n",
    "    >>> splitstring('hello world !', ' ', None)\n",
    "    ['hello', 'world', '!']\n",
    "\n",
    "    >>> splitstring('hello world !', ' ', None)\n",
    "    ['hello', 'world', '!']\n",
    "\n",
    "    >>> splitstring('hello world !', ' ', 0)\n",
    "    'hello'\n",
    "\n",
    "    \"\"\"\n",
    "\n",
    "    # If the part is empty\n",
    "    if part in [None, '']:\n",
    "        # Return an array of the splitted text\n",
    "        return str(string).split(splitcharacter)\n",
    "\n",
    "    # Return an array of the splitted text with a specific part\n",
    "    return str(string).split(splitcharacter)[part]\n"
   ]
  }
 ],
 "metadata": {
  "kernelspec": {
   "display_name": "Python 3",
   "language": "python",
   "name": "python3"
  },
  "language_info": {
   "codemirror_mode": {
    "name": "ipython",
    "version": 3
   },
   "file_extension": ".py",
   "mimetype": "text/x-python",
   "name": "python",
   "nbconvert_exporter": "python",
   "pygments_lexer": "ipython3",
   "version": "3.7.0"
  }
 },
 "nbformat": 4,
 "nbformat_minor": 2
}
