{
 "cells": [
  {
   "cell_type": "markdown",
   "metadata": {},
   "source": [
    "---\n",
    "title: \"Time how long a command takes to execute\"\n",
    "description: \"Time how long a command takes to execute using the time module. Enter the name of the function to time and get a decimal (or int if round_result = True) back.\"\n",
    "tags: Python Fundamentals\n",
    "URL: https://github.com/Richienb/quilt\n",
    "Licence: Apache License 2.0\n",
    "Creator: \n",
    "Meta: \"\"\n",
    "\n",
    "---"
   ]
  },
  {
   "cell_type": "markdown",
   "metadata": {},
   "source": [
    "# Key Code&"
   ]
  },
  {
   "cell_type": "code",
   "execution_count": null,
   "metadata": {},
   "outputs": [],
   "source": [
    "import time\n",
    "def timeit(command, round_result=True):\n",
    "    \"\"\"\n",
    "    Time how long a command takes to execute\n",
    "\n",
    "    command:\n",
    "    The command to time.\n",
    "\n",
    "    round_result:\n",
    "    Whether or not to round the number to an integer.\n",
    "\n",
    "    \"\"\"\n",
    "    t1 = time.clock()\n",
    "    exec(command)\n",
    "    t2 = time.clock()\n",
    "    if round_result is True:\n",
    "        return int(t2 - t1)\n",
    "    return t2 - t1\n",
    "\n"
   ]
  }
 ],
 "metadata": {
  "kernelspec": {
   "display_name": "Python 3",
   "language": "python",
   "name": "python3"
  },
  "language_info": {
   "codemirror_mode": {
    "name": "ipython",
    "version": 3
   },
   "file_extension": ".py",
   "mimetype": "text/x-python",
   "name": "python",
   "nbconvert_exporter": "python",
   "pygments_lexer": "ipython3",
   "version": "3.7.0"
  }
 },
 "nbformat": 4,
 "nbformat_minor": 2
}
