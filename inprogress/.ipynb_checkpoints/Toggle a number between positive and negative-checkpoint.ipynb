{
 "cells": [
  {
   "cell_type": "markdown",
   "metadata": {},
   "source": [
    "---\n",
    "title: \"Toggle a number between positive and negative\"\n",
    "description: \"Toggle a number between positive and negative\"\n",
    "tags: Python: Other\n",
    "URL: https://github.com/Richienb/quilt\n",
    "Licence: Apache License 2.0\n",
    "Creator: \n",
    "Meta: \"\"\n",
    "\n",
    "---"
   ]
  },
  {
   "cell_type": "markdown",
   "metadata": {},
   "source": [
    "# Key Code&"
   ]
  },
  {
   "cell_type": "code",
   "execution_count": 1,
   "metadata": {},
   "outputs": [],
   "source": [
    "def posnegtoggle(number):\n",
    "    \"\"\"\n",
    "    Toggle a number between positive and negative.\n",
    "    The converter works as follows:\n",
    "\n",
    "    - 1 > -1\n",
    "    - -1 > 1\n",
    "    - 0 > 0\n",
    "\n",
    "    :type number: number\n",
    "    :param number: The number to toggle.\n",
    "    \"\"\"\n",
    "    if bool(number > 0):\n",
    "        return number - number * 2\n",
    "    elif bool(number < 0):\n",
    "        return number + abs(number) * 2\n",
    "    elif bool(number == 0):\n",
    "        return number\n"
   ]
  }
 ],
 "metadata": {
  "kernelspec": {
   "display_name": "Python 3",
   "language": "python",
   "name": "python3"
  },
  "language_info": {
   "codemirror_mode": {
    "name": "ipython",
    "version": 3
   },
   "file_extension": ".py",
   "mimetype": "text/x-python",
   "name": "python",
   "nbconvert_exporter": "python",
   "pygments_lexer": "ipython3",
   "version": "3.7.0"
  }
 },
 "nbformat": 4,
 "nbformat_minor": 2
}
