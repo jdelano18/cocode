{
 "cells": [
  {
   "cell_type": "markdown",
   "metadata": {},
   "source": [
    "---\n",
    "title: \"Tools For Directories (If Exists, Make And Delete)\"\n",
    "description: \"Tools For Directories (If Exists, Make And Delete). Operations include exists, create, and delete.\"\n",
    "tags: Python: Other\n",
    "URL: https://github.com/Richienb/quilt\n",
    "Licence: Apache License 2.0\n",
    "Creator: \n",
    "Meta: \"\"\n",
    "\n",
    "---"
   ]
  },
  {
   "cell_type": "markdown",
   "metadata": {},
   "source": [
    "# Key Code&"
   ]
  },
  {
   "cell_type": "code",
   "execution_count": null,
   "metadata": {},
   "outputs": [],
   "source": [
    "import os\n",
    "def dirtool(operation, directory):\n",
    "    \"\"\"\n",
    "    Tools For Directories (If Exists, Make And Delete)\n",
    "\n",
    "    :raises ValueError: Nor a string or a list was provided.\n",
    "    \"\"\"\n",
    "    operation = operation.lower()\n",
    "    if operation == 'exists':\n",
    "        return bool(os.path.exists(directory))\n",
    "    if operation == 'create':\n",
    "        os.makedirs(directory)\n",
    "    elif operation == 'delete':\n",
    "        os.rmdir(directory)\n",
    "    else:\n",
    "        raise ValueError('Invalid operation provided.')\n",
    "\n",
    "\n"
   ]
  }
 ],
 "metadata": {
  "kernelspec": {
   "display_name": "Python 3",
   "language": "python",
   "name": "python3"
  },
  "language_info": {
   "codemirror_mode": {
    "name": "ipython",
    "version": 3
   },
   "file_extension": ".py",
   "mimetype": "text/x-python",
   "name": "python",
   "nbconvert_exporter": "python",
   "pygments_lexer": "ipython3",
   "version": "3.7.0"
  }
 },
 "nbformat": 4,
 "nbformat_minor": 2
}
