{
 "cells": [
  {
   "cell_type": "markdown",
   "metadata": {},
   "source": [
    "---\n",
    "title: \"Tools For Files (If Exists, Make And Delete)\"\n",
    "description: \"Tools For Files (If Exists, Make And Delete). Operations include exists, read, delete, create, and clear.\"\n",
    "tags: Python: Other\n",
    "URL: https://github.com/Richienb/quilt\n",
    "Licence: Apache License 2.0\n",
    "Creator: \n",
    "Meta: \"\"\n",
    "\n",
    "---"
   ]
  },
  {
   "cell_type": "markdown",
   "metadata": {},
   "source": [
    "# Key Code&"
   ]
  },
  {
   "cell_type": "code",
   "execution_count": null,
   "metadata": {},
   "outputs": [],
   "source": [
    "import os\n",
    "def file(operation, path):\n",
    "    \"\"\"\n",
    "    Tools For Files (If Exists, Make And Delete)\n",
    "    \"\"\"\n",
    "    operation = operation.lower()\n",
    "    if operation == 'exists':\n",
    "        return bool(os.path.isfile(path))\n",
    "    if operation == 'read':\n",
    "        with open(path, 'r') as f:\n",
    "            return [line.strip() for line in f]\n",
    "    elif operation == 'delete':\n",
    "        os.remove(path)\n",
    "    elif operation == 'create':\n",
    "        open(path, 'w').close()\n",
    "    elif operation == 'clear':\n",
    "        open(path, 'w').close()\n",
    "    else:\n",
    "        raise ValueError('Invalid operation provided.')\n",
    "\n",
    "\n"
   ]
  }
 ],
 "metadata": {
  "kernelspec": {
   "display_name": "Python 3",
   "language": "python",
   "name": "python3"
  },
  "language_info": {
   "codemirror_mode": {
    "name": "ipython",
    "version": 3
   },
   "file_extension": ".py",
   "mimetype": "text/x-python",
   "name": "python",
   "nbconvert_exporter": "python",
   "pygments_lexer": "ipython3",
   "version": "3.7.0"
  }
 },
 "nbformat": 4,
 "nbformat_minor": 2
}
