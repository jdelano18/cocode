{
 "cells": [
  {
   "cell_type": "markdown",
   "metadata": {},
   "source": [
    "---\n",
    "title: \"Wait for the user to press enter\"\n",
    "description: \"Wait for the user to press enter. Wait for the user to press enter any number of times.\"\n",
    "tags: User Input\n",
    "URL: https://github.com/Richienb/quilt\n",
    "Licence: Apache License 2.0\n",
    "Creator: \n",
    "Meta: \"\"\n",
    "\n",
    "---"
   ]
  },
  {
   "cell_type": "markdown",
   "metadata": {},
   "source": [
    "# Key Code&"
   ]
  },
  {
   "cell_type": "code",
   "execution_count": null,
   "metadata": {},
   "outputs": [],
   "source": [
    "def waitenter(times=1):\n",
    "    \"\"\"\n",
    "    Wait for the user to press enter.\n",
    "\n",
    "    :type times: integer\n",
    "    :param times: The times to ask for the user to press enter.\n",
    "    \"\"\"\n",
    "\n",
    "    # For each time\n",
    "    for _ in range(times):\n",
    "        # Ask for user input\n",
    "        input(\"\")\n",
    "\n",
    "\n"
   ]
  }
 ],
 "metadata": {
  "kernelspec": {
   "display_name": "Python 3",
   "language": "python",
   "name": "python3"
  },
  "language_info": {
   "codemirror_mode": {
    "name": "ipython",
    "version": 3
   },
   "file_extension": ".py",
   "mimetype": "text/x-python",
   "name": "python",
   "nbconvert_exporter": "python",
   "pygments_lexer": "ipython3",
   "version": "3.7.0"
  }
 },
 "nbformat": 4,
 "nbformat_minor": 2
}
