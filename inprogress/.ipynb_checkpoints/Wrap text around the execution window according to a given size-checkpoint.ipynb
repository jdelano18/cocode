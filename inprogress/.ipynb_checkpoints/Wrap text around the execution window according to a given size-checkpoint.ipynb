{
 "cells": [
  {
   "cell_type": "markdown",
   "metadata": {},
   "source": [
    "---\n",
    "title: \"Wrap text around the execution window according to a given size\"\n",
    "description: \"Wrap text around the execution window according to a given size. Make sure that text wont exceed a certian number of characters when printing using the textwrap module.\"\n",
    "tags: Python: Other\n",
    "URL: https://github.com/Richienb/quilt\n",
    "Licence: Apache License 2.0\n",
    "Creator: \n",
    "Meta: \"\"\n",
    "\n",
    "---"
   ]
  },
  {
   "cell_type": "markdown",
   "metadata": {},
   "source": [
    "# Key Code&"
   ]
  },
  {
   "cell_type": "code",
   "execution_count": null,
   "metadata": {},
   "outputs": [],
   "source": [
    "import textwrap\n",
    "def wraptext(text, maxlength):\n",
    "    \"\"\"\n",
    "    Wrap text around the execution window according to a given size\n",
    "\n",
    "    :type text: string\n",
    "    :param text: The text to be wraped\n",
    "\n",
    "    :type maxlength: integer\n",
    "    :param maxlength: The amount of text until a wrap will be added\n",
    "    \"\"\"\n",
    "\n",
    "    return textwrap.wrap(text, maxlength)\n"
   ]
  }
 ],
 "metadata": {
  "kernelspec": {
   "display_name": "Python 3",
   "language": "python",
   "name": "python3"
  },
  "language_info": {
   "codemirror_mode": {
    "name": "ipython",
    "version": 3
   },
   "file_extension": ".py",
   "mimetype": "text/x-python",
   "name": "python",
   "nbconvert_exporter": "python",
   "pygments_lexer": "ipython3",
   "version": "3.7.0"
  }
 },
 "nbformat": 4,
 "nbformat_minor": 2
}
