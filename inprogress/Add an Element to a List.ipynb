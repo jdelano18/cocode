{
 "cells": [
  {
   "cell_type": "markdown",
   "metadata": {},
   "source": [
    "---\n",
    "title: \"Add an Element to a List\"\n",
    "description: \"Understand how to add an element to the end of a list with the append and insert methods\"\n",
    "tags: Python Fundamentals, Lists, Iteration\n",
    "URL: https://learnxinyminutes.com/docs/python3/\n",
    "Licence: \n",
    "Creator: \n",
    "Meta: \"append insert\"\n",
    "\n",
    "---"
   ]
  },
  {
   "cell_type": "markdown",
   "metadata": {},
   "source": [
    "# Key Code&"
   ]
  },
  {
   "cell_type": "code",
   "execution_count": null,
   "metadata": {},
   "outputs": [],
   "source": [
    "# add the value 7 to the end of the list l\n",
    "your_list.append(val)"
   ]
  },
  {
   "cell_type": "code",
   "execution_count": null,
   "metadata": {},
   "outputs": [],
   "source": [
    "# Insert an element at index and shift all elements right if there's a collision\n",
    "# if index > len(list) - 1, insert works like append\n",
    "your_list.insert(index,\"value_to_insert\")"
   ]
  },
  {
   "cell_type": "code",
   "execution_count": null,
   "metadata": {},
   "outputs": [],
   "source": [
    "# += is short for l = l + __\n",
    "your_list += [val]"
   ]
  },
  {
   "cell_type": "markdown",
   "metadata": {},
   "source": [
    "---"
   ]
  },
  {
   "cell_type": "markdown",
   "metadata": {},
   "source": [
    "# Example&"
   ]
  },
  {
   "cell_type": "code",
   "execution_count": 15,
   "metadata": {},
   "outputs": [
    {
     "data": {
      "text/plain": [
       "[3, 1, 2, 4, 5]"
      ]
     },
     "execution_count": 15,
     "metadata": {},
     "output_type": "execute_result"
    }
   ],
   "source": [
    "l = []\n",
    "l.append(1)        # l is now [1]\n",
    "l.append(2)        # l is now [1, 2]\n",
    "l.insert(1000, 4)  # l is now [1, 2, 4]\n",
    "l.insert(0, 3)     # l is now [3, 1, 2, 4] \n",
    "l += [5]\n",
    "l"
   ]
  }
 ],
 "metadata": {
  "kernelspec": {
   "display_name": "Python 3",
   "language": "python",
   "name": "python3"
  },
  "language_info": {
   "codemirror_mode": {
    "name": "ipython",
    "version": 3
   },
   "file_extension": ".py",
   "mimetype": "text/x-python",
   "name": "python",
   "nbconvert_exporter": "python",
   "pygments_lexer": "ipython3",
   "version": "3.7.0"
  }
 },
 "nbformat": 4,
 "nbformat_minor": 2
}
