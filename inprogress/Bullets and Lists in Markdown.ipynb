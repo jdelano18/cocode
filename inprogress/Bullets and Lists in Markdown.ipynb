{
 "cells": [
  {
   "cell_type": "markdown",
   "metadata": {},
   "source": [
    "---\n",
    "title: \"Bullets and Lists in Markdown\"\n",
    "description: \"How to add bullets and numbered lists in markdown\"\n",
    "tags: Markdown\n",
    "URL:\n",
    "Licence:\n",
    "\n",
    "---"
   ]
  },
  {
   "cell_type": "markdown",
   "metadata": {},
   "source": [
    "# Bullets"
   ]
  },
  {
   "cell_type": "markdown",
   "metadata": {},
   "source": [
    "To create bullet points, use one of the following methods (spaces indicated by commas and tab by 3 commas):"
   ]
  },
  {
   "cell_type": "markdown",
   "metadata": {},
   "source": [
    "`-, A hyphen (-) followed by a space.` <br>\n",
    "`,-, A space, a hyphen (-) and a space to create indentation.`<br>\n",
    "`,,,-, A tab also works to create indentation.`<br>\n",
    "`*, An asterisk (*) followed by a space.`"
   ]
  },
  {
   "cell_type": "markdown",
   "metadata": {},
   "source": [
    "# Example&"
   ]
  },
  {
   "cell_type": "markdown",
   "metadata": {},
   "source": [
    "- item\n",
    " - sub item\n",
    "- item 2\n",
    "    - sub item 2\n",
    "* item 3"
   ]
  },
  {
   "cell_type": "markdown",
   "metadata": {},
   "source": [
    "# Numbered Lists"
   ]
  },
  {
   "cell_type": "markdown",
   "metadata": {},
   "source": [
    "To create numbered lists, use one of the following methods (spaces indicated by commas and tabs by 3 commas):"
   ]
  },
  {
   "cell_type": "markdown",
   "metadata": {},
   "source": [
    "`1., The number with a period 1. followed by one or two spaces.` <br>\n",
    "`1., Another '1. ' will make a the next number in the list.`<br>\n",
    "`,*, Unordered sub-item` <br>\n",
    "`216., You can actually enter any number to get the next number.`<br>\n",
    "`,,,1., A tab works to create indentation too and a number preceding it will give an ordered sub-item`"
   ]
  },
  {
   "cell_type": "markdown",
   "metadata": {},
   "source": [
    "# Example&"
   ]
  },
  {
   "cell_type": "markdown",
   "metadata": {},
   "source": [
    "1. item\n",
    "1. another item\n",
    " * Unordered sub-item\n",
    "216. item 3\n",
    "    1. Ordered sub-item"
   ]
  }
 ],
 "metadata": {
  "kernelspec": {
   "display_name": "Python 3",
   "language": "python",
   "name": "python3"
  },
  "language_info": {
   "codemirror_mode": {
    "name": "ipython",
    "version": 3
   },
   "file_extension": ".py",
   "mimetype": "text/x-python",
   "name": "python",
   "nbconvert_exporter": "python",
   "pygments_lexer": "ipython3",
   "version": "3.7.0"
  }
 },
 "nbformat": 4,
 "nbformat_minor": 2
}
