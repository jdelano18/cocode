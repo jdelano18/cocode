{
 "cells": [
  {
   "cell_type": "markdown",
   "metadata": {},
   "source": [
    "---\n",
    "title: \"Upload Files To An S3 Bucket Using AWS CLI\"\n",
    "description: \"Use the AWS command line interface to create a new bucket and upload files from your computer recursively to that bucket.\"\n",
    "tags: AWS, Bash\n",
    "URL: https://aws.amazon.com/cli/\n",
    "Licence: \n",
    "Creator: \n",
    "Meta: \"cp copy create bucket\"\n",
    "\n",
    "---"
   ]
  },
  {
   "cell_type": "markdown",
   "metadata": {},
   "source": [
    " <div>\n",
    "    \t<img src=\"./coco.png\" style=\"float: left;height: 55px\">\n",
    "    \t<div style=\"height: 150px;text-align: center; padding-top:5px\">\n",
    "        <h1>\n",
    "      \tUpload Files To An S3 Bucket Using AWS CLI\n",
    "        </h1>\n",
    "        <p>Use the AWS command line interface to create a new bucket and upload files from your computer recursively to that bucket.</p>\n",
    "    \t</div>\n",
    "\t\t</div> "
   ]
  },
  {
   "cell_type": "markdown",
   "metadata": {},
   "source": [
    " <div style=\"height:40px\">\n",
    "<div style=\"width:100%; text-align:center; border-bottom: 1px solid #000; line-height:0.1em; margin:40px 0 20px;\">\n",
    "<span style=\"background:#fff; padding:0 10px; font-size:25px; font-family: 'Open Sans', sans-serif;\">\n",
    "Key Code\n",
    "</span>\n",
    "</div>\n",
    "</div>\n",
    "\t"
   ]
  },
  {
   "cell_type": "code",
   "execution_count": null,
   "metadata": {},
   "outputs": [],
   "source": [
    "%%bash\n",
    "source venv/bin/activate\n",
    "export AWS_ACCESS_KEY_ID='YOURAWSKEY'\n",
    "export AWS_SECRET_ACCESS_KEY='YOURAWSSECRETKEY'\n",
    "aws s3 cp your-dir/ s3://your-bucket --recursive"
   ]
  },
  {
   "cell_type": "markdown",
   "metadata": {},
   "source": [
    "--recursive (boolean) Command is performed on all files or objects under the specified directory or prefix."
   ]
  },
  {
   "cell_type": "markdown",
   "metadata": {},
   "source": [
    "--dryrun (boolean) Displays the operations that would be performed using the specified command without actually running them."
   ]
  },
  {
   "cell_type": "markdown",
   "metadata": {},
   "source": [
    "--include (string) and --exclude (string) include or exclude files or objects in the command that match the specified pattern. For example, `--exclude \"*.ipynb_checkpoints\"`"
   ]
  },
  {
   "cell_type": "markdown",
   "metadata": {},
   "source": [
    " <div style=\"height:40px\">\n",
    "<div style=\"width:100%; text-align:center; border-bottom: 1px solid #000; line-height:0.1em; margin:40px 0 20px;\">\n",
    "<span style=\"background:#fff; padding:0 10px; font-size:25px; font-family: 'Open Sans', sans-serif;\">\n",
    "Example\n",
    "</span>\n",
    "</div>\n",
    "</div>\n",
    "\t"
   ]
  },
  {
   "cell_type": "markdown",
   "metadata": {},
   "source": [
    "## Set up virtual environment and configure CLI"
   ]
  },
  {
   "cell_type": "code",
   "execution_count": null,
   "metadata": {},
   "outputs": [],
   "source": [
    "%%bash\n",
    "virtualenv ~/aws-ve\n",
    "source ~/aws-ve/bin/activate\n",
    "export AWS_ACCESS_KEY_ID='YOURAWSKEY'\n",
    "export AWS_SECRET_ACCESS_KEY='YOURAWSSECRETKEY'\n",
    "pip3 install awscli"
   ]
  },
  {
   "cell_type": "markdown",
   "metadata": {},
   "source": [
    "## Make a new bucket"
   ]
  },
  {
   "cell_type": "markdown",
   "metadata": {},
   "source": [
    "**Note:** s3 bucket names must be globally unique and `mb` stands for make bucket"
   ]
  },
  {
   "cell_type": "code",
   "execution_count": null,
   "metadata": {},
   "outputs": [],
   "source": [
    "%%bash\n",
    "aws s3 mb s3://mybucket"
   ]
  },
  {
   "cell_type": "markdown",
   "metadata": {},
   "source": [
    "## See files in an existing bucket"
   ]
  },
  {
   "cell_type": "code",
   "execution_count": null,
   "metadata": {},
   "outputs": [],
   "source": [
    "%%bash\n",
    "aws s3 ls s3://bucket-name/ --recursive | wc"
   ]
  },
  {
   "cell_type": "markdown",
   "metadata": {},
   "source": [
    "## Upload all the files in a directory to your bucket"
   ]
  },
  {
   "cell_type": "code",
   "execution_count": null,
   "metadata": {},
   "outputs": [],
   "source": [
    "%%bash\n",
    "aws s3 cp your-dir/ s3://your-bucket --recursive"
   ]
  }
 ],
 "metadata": {
  "kernelspec": {
   "display_name": "Python 3",
   "language": "python",
   "name": "python3"
  },
  "language_info": {
   "codemirror_mode": {
    "name": "ipython",
    "version": 3
   },
   "file_extension": ".py",
   "mimetype": "text/x-python",
   "name": "python",
   "nbconvert_exporter": "python",
   "pygments_lexer": "ipython3",
   "version": "3.7.0"
  }
 },
 "nbformat": 4,
 "nbformat_minor": 2
}
