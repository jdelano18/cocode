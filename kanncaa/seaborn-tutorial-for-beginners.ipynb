{
 "cells": [
  {
   "cell_type": "markdown",
   "metadata": {
    "_cell_guid": "69d24818-3f7d-4a0d-ae23-1f9bd4ca53b9",
    "_uuid": "4102766d1ae4824fe1137c62125136d63d29138d"
   },
   "source": [
    "# INTRODUCTION\n",
    "1. Read datas\n",
    "1. Poverty rate of each state\n",
    "1. Most common 15 Name or Surname of killed people\n",
    "1. High school graduation rate of the population that is older than 25 in states\n",
    "1. Percentage of state's population according to races that are black,white,native american, asian and hispanic\n",
    "1. High school graduation rate vs Poverty rate of each state\n",
    "1. Kill properties\n",
    "    * Manner of death\n",
    "    * Kill weapon\n",
    "    * Age of killed people\n",
    "    * Race of killed people\n",
    "    * Most dangerous cities\n",
    "    * Most dangerous states\n",
    "    * Having mental ilness or not for killed people\n",
    "    * Threat types\n",
    "    * Flee types\n",
    "    * Having body cameras or not for police\n",
    "1. Race rates according to states in kill data \n",
    "1. Kill numbers from states in kill data\n",
    "1. Plotly Visualization Tutorial: https://www.kaggle.com/kanncaa1/plotly-tutorial-for-beginners\n",
    "<br>\n",
    "<br>\n",
    "Plot Contents:\n",
    "* [Bar Plot](#1)\n",
    "* [Point Plot](#2)\n",
    "* [Joint Plot](#3)\n",
    "* [Pie Chart](#4)\n",
    "* [Lm Plot](#5)\n",
    "* [Kde Plot](#6)\n",
    "* [Violin Plot](#7)\n",
    "* [Heatmap](#8)\n",
    "* [Box Plot](#9)\n",
    "* [Swarm Plot](#10)\n",
    "* [Pair Plot](#11)\n",
    "* [Count Plot](#12)\n",
    "    \n"
   ]
  },
  {
   "cell_type": "code",
   "execution_count": null,
   "metadata": {
    "_cell_guid": "5fdcd462-5466-40f5-9992-dc31a9a174f2",
    "_uuid": "dab5021d92c7210270cec270470e4ae179a1de01"
   },
   "outputs": [],
   "source": [
    "# This Python 3 environment comes with many helpful analytics libraries installed\n",
    "# It is defined by the kaggle/python docker image: https://github.com/kaggle/docker-python\n",
    "# For example, here's several helpful packages to load in \n",
    "\n",
    "import numpy as np # linear algebra\n",
    "import pandas as pd # data processing, CSV file I/O (e.g. pd.read_csv)\n",
    "import seaborn as sns\n",
    "import matplotlib.pyplot as plt\n",
    "from collections import Counter\n",
    "%matplotlib inline\n",
    "# Input data files are available in the \"../input/\" directory.\n",
    "# For example, running this (by clicking run or pressing Shift+Enter) will list the files in the input directory\n",
    "\n",
    "from subprocess import check_output\n",
    "#print(check_output([\"ls\", \"../input\"]).decode(\"utf8\"))\n",
    "\n",
    "# Any results you write to the current directory are saved as output."
   ]
  },
  {
   "cell_type": "code",
   "execution_count": null,
   "metadata": {
    "_cell_guid": "abb0685f-f844-43f8-84c0-4cd54361c7bf",
    "_uuid": "9c06ed7c41db79ae9d940f2d52aeff23621b3037"
   },
   "outputs": [],
   "source": [
    "# Read datas\n",
    "median_house_hold_in_come = pd.read_csv('./input/MedianHouseholdIncome2015.csv', encoding=\"windows-1252\")\n",
    "percentage_people_below_poverty_level = pd.read_csv('./input/PercentagePeopleBelowPovertyLevel.csv', encoding=\"windows-1252\")\n",
    "percent_over_25_completed_highSchool = pd.read_csv('./input/PercentOver25CompletedHighSchool.csv', encoding=\"windows-1252\")\n",
    "share_race_city = pd.read_csv('./input/ShareRaceByCity.csv', encoding=\"windows-1252\")\n",
    "kill = pd.read_csv('./input/PoliceKillingsUS.csv', encoding=\"windows-1252\")"
   ]
  },
  {
   "cell_type": "code",
   "execution_count": null,
   "metadata": {
    "_uuid": "8f69fba2d94c56a5aa755cc674b3301cbf73db7b"
   },
   "outputs": [],
   "source": [
    "percentage_people_below_poverty_level.head()"
   ]
  },
  {
   "cell_type": "code",
   "execution_count": null,
   "metadata": {
    "_uuid": "bd4748eb11fd769154f3baa9aecdf34bc4680824"
   },
   "outputs": [],
   "source": [
    "percentage_people_below_poverty_level.info()"
   ]
  },
  {
   "cell_type": "code",
   "execution_count": null,
   "metadata": {
    "_uuid": "e1563b52b64ed706c5c3243c54f888d35d2cf1bb"
   },
   "outputs": [],
   "source": [
    "#percentage_people_below_poverty_level.poverty_rate.value_counts()"
   ]
  },
  {
   "cell_type": "code",
   "execution_count": null,
   "metadata": {
    "_uuid": "b11231714a7df61e6d98ce7784707d1b0ae4106d"
   },
   "outputs": [],
   "source": [
    "percentage_people_below_poverty_level['Geographic Area'].unique()"
   ]
  },
  {
   "cell_type": "markdown",
   "metadata": {
    "_uuid": "52b308c936f5835c5cd186497fe3f96e96372483"
   },
   "source": [
    "<a id=\"1\"></a> \n",
    "## Bar Plot"
   ]
  },
  {
   "cell_type": "code",
   "execution_count": null,
   "metadata": {
    "_cell_guid": "7a684fb3-23d6-4b90-be65-b024d429aa16",
    "_uuid": "3dfac541bf3460105c2af62f7937bcca1adc0f78"
   },
   "outputs": [],
   "source": [
    "# Poverty rate of each state\n",
    "percentage_people_below_poverty_level.poverty_rate.replace(['-'],0.0,inplace = True)\n",
    "percentage_people_below_poverty_level.poverty_rate = percentage_people_below_poverty_level.poverty_rate.astype(float)\n",
    "area_list = list(percentage_people_below_poverty_level['Geographic Area'].unique())\n",
    "area_poverty_ratio = []\n",
    "for i in area_list:\n",
    "    x = percentage_people_below_poverty_level[percentage_people_below_poverty_level['Geographic Area']==i]\n",
    "    area_poverty_rate = sum(x.poverty_rate)/len(x)\n",
    "    area_poverty_ratio.append(area_poverty_rate)\n",
    "data = pd.DataFrame({'area_list': area_list,'area_poverty_ratio':area_poverty_ratio})\n",
    "new_index = (data['area_poverty_ratio'].sort_values(ascending=False)).index.values\n",
    "sorted_data = data.reindex(new_index)\n",
    "\n",
    "# visualization\n",
    "plt.figure(figsize=(15,10))\n",
    "sns.barplot(x=sorted_data['area_list'], y=sorted_data['area_poverty_ratio'])\n",
    "plt.xticks(rotation= 45)\n",
    "plt.xlabel('States')\n",
    "plt.ylabel('Poverty Rate')\n",
    "plt.title('Poverty Rate Given States')"
   ]
  },
  {
   "cell_type": "code",
   "execution_count": null,
   "metadata": {
    "_uuid": "bfb975b648fbcbd1c6cdf1634f01e01371924a8c"
   },
   "outputs": [],
   "source": [
    "kill.head()"
   ]
  },
  {
   "cell_type": "code",
   "execution_count": null,
   "metadata": {
    "_uuid": "9664fc4f6427543feb2ea71c494af65833432c9e"
   },
   "outputs": [],
   "source": [
    "# kill.name.value_counts()\n",
    "[\"ali\", \"haydar\"]"
   ]
  },
  {
   "cell_type": "code",
   "execution_count": null,
   "metadata": {
    "_cell_guid": "c2cd6681-42a4-44c2-ba1a-46d4d61b6eea",
    "_uuid": "b3b53866f9c794ca5f85f59bc5bfc0d01a830baf",
    "scrolled": true
   },
   "outputs": [],
   "source": [
    "# Most common 15 Name or Surname of killed people\n",
    "separate = kill.name[kill.name != 'TK TK'].str.split() \n",
    "a,b = zip(*separate)                    \n",
    "name_list = a+b                         \n",
    "name_count = Counter(name_list)         \n",
    "most_common_names = name_count.most_common(15)  \n",
    "x,y = zip(*most_common_names)\n",
    "x,y = list(x),list(y)\n",
    "# \n",
    "plt.figure(figsize=(15,10))\n",
    "ax= sns.barplot(x=x, y=y,palette = sns.cubehelix_palette(len(x)))\n",
    "plt.xlabel('Name or Surname of killed people')\n",
    "plt.ylabel('Frequency')\n",
    "plt.title('Most common 15 Name or Surname of killed people')"
   ]
  },
  {
   "cell_type": "code",
   "execution_count": null,
   "metadata": {
    "_uuid": "0156eb648c2456297c22fd95f9df14614b68bf19"
   },
   "outputs": [],
   "source": [
    "percent_over_25_completed_highSchool.head()"
   ]
  },
  {
   "cell_type": "code",
   "execution_count": null,
   "metadata": {
    "_uuid": "7dfb4ea0000095bbff6d5913f6c347cdc0e3a01e"
   },
   "outputs": [],
   "source": [
    "percent_over_25_completed_highSchool.info()"
   ]
  },
  {
   "cell_type": "code",
   "execution_count": null,
   "metadata": {
    "_uuid": "3b9f80c6f27bb39f21b882942ec47608edcb94b8"
   },
   "outputs": [],
   "source": [
    "#percent_over_25_completed_highSchool.percent_completed_hs.value_counts()"
   ]
  },
  {
   "cell_type": "code",
   "execution_count": null,
   "metadata": {
    "_cell_guid": "1cf95e0b-51f6-492d-b3b2-f2ac77bc9cb3",
    "_uuid": "adadf29ca681c1154e893996c66a4f915e51ffc7"
   },
   "outputs": [],
   "source": [
    "# High school graduation rate of the population that is older than 25 in states\n",
    "percent_over_25_completed_highSchool.percent_completed_hs.replace(['-'],0.0,inplace = True)\n",
    "percent_over_25_completed_highSchool.percent_completed_hs = percent_over_25_completed_highSchool.percent_completed_hs.astype(float)\n",
    "area_list = list(percent_over_25_completed_highSchool['Geographic Area'].unique())\n",
    "area_highschool = []\n",
    "for i in area_list:\n",
    "    x = percent_over_25_completed_highSchool[percent_over_25_completed_highSchool['Geographic Area']==i]\n",
    "    area_highschool_rate = sum(x.percent_completed_hs)/len(x)\n",
    "    area_highschool.append(area_highschool_rate)\n",
    "# sorting\n",
    "data = pd.DataFrame({'area_list': area_list,'area_highschool_ratio':area_highschool})\n",
    "new_index = (data['area_highschool_ratio'].sort_values(ascending=True)).index.values\n",
    "sorted_data2 = data.reindex(new_index)\n",
    "# visualization\n",
    "plt.figure(figsize=(15,10))\n",
    "sns.barplot(x=sorted_data2['area_list'], y=sorted_data2['area_highschool_ratio'])\n",
    "plt.xticks(rotation= 90)\n",
    "plt.xlabel('States')\n",
    "plt.ylabel('High School Graduate Rate')\n",
    "plt.title(\"Percentage of Given State's Population Above 25 that Has Graduated High School\")"
   ]
  },
  {
   "cell_type": "code",
   "execution_count": null,
   "metadata": {
    "_uuid": "3d77e4c48ff30df08f300b411b10890940b5f058"
   },
   "outputs": [],
   "source": [
    "share_race_city.head()"
   ]
  },
  {
   "cell_type": "code",
   "execution_count": null,
   "metadata": {
    "_uuid": "bedb40e1106a6409d51cfd1a2a9b5c2da3ef2b7b"
   },
   "outputs": [],
   "source": [
    "share_race_city.info()"
   ]
  },
  {
   "cell_type": "code",
   "execution_count": null,
   "metadata": {
    "_cell_guid": "ab6ca2e8-bd59-4486-b15e-8e5e072c7081",
    "_uuid": "12bb9d7e124f70fc4b8afdaa5d83914c8018e31e"
   },
   "outputs": [],
   "source": [
    "# Percentage of state's population according to races that are black,white,native american, asian and hispanic\n",
    "share_race_city.replace(['-'],0.0,inplace = True)\n",
    "share_race_city.replace(['(X)'],0.0,inplace = True)\n",
    "share_race_city.loc[:,['share_white','share_black','share_native_american','share_asian','share_hispanic']] = share_race_city.loc[:,['share_white','share_black','share_native_american','share_asian','share_hispanic']].astype(float)\n",
    "area_list = list(share_race_city['Geographic area'].unique())\n",
    "share_white = []\n",
    "share_black = []\n",
    "share_native_american = []\n",
    "share_asian = []\n",
    "share_hispanic = []\n",
    "for i in area_list:\n",
    "    x = share_race_city[share_race_city['Geographic area']==i]\n",
    "    share_white.append(sum(x.share_white)/len(x))\n",
    "    share_black.append(sum(x.share_black) / len(x))\n",
    "    share_native_american.append(sum(x.share_native_american) / len(x))\n",
    "    share_asian.append(sum(x.share_asian) / len(x))\n",
    "    share_hispanic.append(sum(x.share_hispanic) / len(x))\n",
    "\n",
    "# visualization\n",
    "f,ax = plt.subplots(figsize = (9,15))\n",
    "sns.barplot(x=share_white,y=area_list,color='green',alpha = 0.5,label='White' )\n",
    "sns.barplot(x=share_black,y=area_list,color='blue',alpha = 0.7,label='African American')\n",
    "sns.barplot(x=share_native_american,y=area_list,color='cyan',alpha = 0.6,label='Native American')\n",
    "sns.barplot(x=share_asian,y=area_list,color='yellow',alpha = 0.6,label='Asian')\n",
    "sns.barplot(x=share_hispanic,y=area_list,color='red',alpha = 0.6,label='Hispanic')\n",
    "\n",
    "ax.legend(loc='lower right',frameon = True)     # legendlarin gorunurlugu\n",
    "ax.set(xlabel='Percentage of Races', ylabel='States',title = \"Percentage of State's Population According to Races \")"
   ]
  },
  {
   "cell_type": "markdown",
   "metadata": {
    "_uuid": "65264e355b3ef48fd3ecfa12d33dce6050669d80"
   },
   "source": [
    "<a id=\"2\"></a>\n",
    "## Point Plot"
   ]
  },
  {
   "cell_type": "code",
   "execution_count": null,
   "metadata": {
    "_cell_guid": "05fd99be-f48d-4d9c-bd3b-3ed16d9736a6",
    "_uuid": "7ecb28f4286f2ae7e570a6146be7a55a38137a2d"
   },
   "outputs": [],
   "source": [
    "# high school graduation rate vs Poverty rate of each state\n",
    "sorted_data['area_poverty_ratio'] = sorted_data['area_poverty_ratio']/max( sorted_data['area_poverty_ratio'])\n",
    "sorted_data2['area_highschool_ratio'] = sorted_data2['area_highschool_ratio']/max( sorted_data2['area_highschool_ratio'])\n",
    "data = pd.concat([sorted_data,sorted_data2['area_highschool_ratio']],axis=1)\n",
    "data.sort_values('area_poverty_ratio',inplace=True)\n",
    "\n",
    "# visualize\n",
    "f,ax1 = plt.subplots(figsize =(20,10))\n",
    "sns.pointplot(x='area_list',y='area_poverty_ratio',data=data,color='lime',alpha=0.8)\n",
    "sns.pointplot(x='area_list',y='area_highschool_ratio',data=data,color='red',alpha=0.8)\n",
    "plt.text(40,0.6,'high school graduate ratio',color='red',fontsize = 17,style = 'italic')\n",
    "plt.text(40,0.55,'poverty ratio',color='lime',fontsize = 18,style = 'italic')\n",
    "plt.xlabel('States',fontsize = 15,color='blue')\n",
    "plt.ylabel('Values',fontsize = 15,color='blue')\n",
    "plt.title('High School Graduate  VS  Poverty Rate',fontsize = 20,color='blue')\n",
    "plt.grid()\n"
   ]
  },
  {
   "cell_type": "code",
   "execution_count": null,
   "metadata": {
    "_uuid": "3ab232f4a61bbb5f957fb417b33aa5b1a881c936"
   },
   "outputs": [],
   "source": [
    "data.head()"
   ]
  },
  {
   "cell_type": "markdown",
   "metadata": {
    "_uuid": "3c5c90b6b2b0e84291a50438092b32221890163e"
   },
   "source": [
    "<a id=\"3\"></a> \n",
    "## Joint Plot"
   ]
  },
  {
   "cell_type": "code",
   "execution_count": null,
   "metadata": {
    "_uuid": "fffdb7437b23ee43c6a0339243a6e5e0a315a605"
   },
   "outputs": [],
   "source": [
    "# Visualization of high school graduation rate vs Poverty rate of each state with different style of seaborn code\n",
    "# joint kernel density\n",
    "# pearsonr= if it is 1, there is positive correlation and if it is, -1 there is negative correlation.\n",
    "# If it is zero, there is no correlation between variables\n",
    "# Show the joint distribution using kernel density estimation \n",
    "g = sns.jointplot(data.area_poverty_ratio, data.area_highschool_ratio, kind=\"kde\", size=7)\n",
    "plt.savefig('graph.png')\n",
    "plt.show()"
   ]
  },
  {
   "cell_type": "code",
   "execution_count": null,
   "metadata": {
    "_uuid": "79dfb16ea46218f1d58ead4fa6066b73a0299a3c"
   },
   "outputs": [],
   "source": [
    "data.head()"
   ]
  },
  {
   "cell_type": "code",
   "execution_count": null,
   "metadata": {
    "_uuid": "685b32d115b92deb1f5974feb356f9c636411ef7"
   },
   "outputs": [],
   "source": [
    "# you can change parameters of joint plot\n",
    "# kind : { “scatter” | “reg” | “resid” | “kde” | “hex” }\n",
    "# Different usage of parameters but same plot with previous one\n",
    "g = sns.jointplot(\"area_poverty_ratio\", \"area_highschool_ratio\", data=data,size=5, ratio=3, color=\"r\")"
   ]
  },
  {
   "cell_type": "markdown",
   "metadata": {
    "_uuid": "77493cfd86a031612be8fb8d60f27713e74e6d80"
   },
   "source": [
    "<a id=\"4\"></a> \n",
    "## Pie Chart"
   ]
  },
  {
   "cell_type": "code",
   "execution_count": null,
   "metadata": {
    "_uuid": "73ef9a67518196c14338e28236b5054186fabdc1"
   },
   "outputs": [],
   "source": [
    "kill.race.head(15)"
   ]
  },
  {
   "cell_type": "code",
   "execution_count": null,
   "metadata": {
    "_uuid": "6c29c781f5774629ff3e7ed7f98963ce2657b6ae"
   },
   "outputs": [],
   "source": [
    "kill.race.value_counts()"
   ]
  },
  {
   "cell_type": "code",
   "execution_count": null,
   "metadata": {
    "_uuid": "d9ff7e72fbbf53e49ffb71730410a1e0b45e378a"
   },
   "outputs": [],
   "source": [
    "# Race rates according in kill data \n",
    "kill.race.dropna(inplace = True)\n",
    "labels = kill.race.value_counts().index\n",
    "colors = ['grey','blue','red','yellow','green','brown']\n",
    "explode = [0,0,0,0,0,0]\n",
    "sizes = kill.race.value_counts().values\n",
    "\n",
    "# visual\n",
    "plt.figure(figsize = (7,7))\n",
    "plt.pie(sizes, explode=explode, labels=labels, colors=colors, autopct='%1.1f%%')\n",
    "plt.title('Killed People According to Races',color = 'blue',fontsize = 15)"
   ]
  },
  {
   "cell_type": "markdown",
   "metadata": {
    "_uuid": "e78da18718323bc63382357a1008db4b55009092"
   },
   "source": [
    "<a id=\"5\"></a> \n",
    "## Lm Plot"
   ]
  },
  {
   "cell_type": "code",
   "execution_count": null,
   "metadata": {
    "_uuid": "5459a4bb20d878b186f8227efe24124a6b675385"
   },
   "outputs": [],
   "source": [
    "data.head()"
   ]
  },
  {
   "cell_type": "code",
   "execution_count": null,
   "metadata": {
    "_uuid": "afbe84772c53c36ed5a9331d16bb619082fe79b0",
    "scrolled": true
   },
   "outputs": [],
   "source": [
    "# Visualization of high school graduation rate vs Poverty rate of each state with different style of seaborn code\n",
    "# lmplot \n",
    "# Show the results of a linear regression within each dataset\n",
    "sns.lmplot(x=\"area_poverty_ratio\", y=\"area_highschool_ratio\", data=data)\n",
    "plt.show()"
   ]
  },
  {
   "cell_type": "markdown",
   "metadata": {
    "_uuid": "39a4b4688cae324bda99ba475c183e82a425f321"
   },
   "source": [
    "<a id=\"6\"></a> \n",
    "## Kde Plot"
   ]
  },
  {
   "cell_type": "code",
   "execution_count": null,
   "metadata": {
    "_uuid": "56be73cb58b0cdaa74845f7103427d70799be7ed"
   },
   "outputs": [],
   "source": [
    "data.head()"
   ]
  },
  {
   "cell_type": "code",
   "execution_count": null,
   "metadata": {
    "_uuid": "a9b717fba9c562db1b29f916acf06c1838e3c8ac"
   },
   "outputs": [],
   "source": [
    "# Visualization of high school graduation rate vs Poverty rate of each state with different style of seaborn code\n",
    "# cubehelix plot\n",
    "sns.kdeplot(data.area_poverty_ratio, data.area_highschool_ratio, shade=True, cut=3)\n",
    "plt.show()"
   ]
  },
  {
   "cell_type": "markdown",
   "metadata": {
    "_uuid": "ff405009778a021fc6cb6201ee245555c31c83a4"
   },
   "source": [
    "<a id=\"7\"></a> \n",
    "## Violin Plot"
   ]
  },
  {
   "cell_type": "code",
   "execution_count": null,
   "metadata": {
    "_uuid": "fcb0bd37bbbf87abdcf810900ca7cd2f511aa2ce"
   },
   "outputs": [],
   "source": [
    "data.head()"
   ]
  },
  {
   "cell_type": "code",
   "execution_count": null,
   "metadata": {
    "_uuid": "61d52acd12f2ee4505f9416428600d2b124376ef"
   },
   "outputs": [],
   "source": [
    "# Show each distribution with both violins and points\n",
    "# Use cubehelix to get a custom sequential palette\n",
    "pal = sns.cubehelix_palette(2, rot=-.5, dark=.3)\n",
    "sns.violinplot(data=data, palette=pal, inner=\"points\")\n",
    "plt.show()"
   ]
  },
  {
   "cell_type": "markdown",
   "metadata": {
    "_uuid": "aea4b794fd8a00cc87e7df9050ebbdc94ec5c6e1"
   },
   "source": [
    "<a id=\"8\"></a> \n",
    "## Heatmap"
   ]
  },
  {
   "cell_type": "code",
   "execution_count": null,
   "metadata": {
    "_uuid": "19c8a808d3f9d4f49cf017fe852ee8c20ff52b12"
   },
   "outputs": [],
   "source": [
    "data.corr()"
   ]
  },
  {
   "cell_type": "code",
   "execution_count": null,
   "metadata": {
    "_uuid": "165b7ef15843ee9ee30d8846e277349e499838db"
   },
   "outputs": [],
   "source": [
    "#correlation map\n",
    "# Visualization of high school graduation rate vs Poverty rate of each state with different style of seaborn code\n",
    "f,ax = plt.subplots(figsize=(5, 5))\n",
    "sns.heatmap(data.corr(), annot=True, linewidths=0.5,linecolor=\"red\", fmt= '.1f',ax=ax)\n",
    "plt.show()"
   ]
  },
  {
   "cell_type": "markdown",
   "metadata": {
    "_uuid": "cd1531c8421bfb6967cebf7039056779f9b960a6"
   },
   "source": [
    "<a id=\"9\"></a> \n",
    "## Box Plot"
   ]
  },
  {
   "cell_type": "code",
   "execution_count": null,
   "metadata": {
    "_uuid": "9d8a16335d60780773cba16fb23066e2cf48be8d"
   },
   "outputs": [],
   "source": [
    "kill.head()"
   ]
  },
  {
   "cell_type": "code",
   "execution_count": null,
   "metadata": {
    "_uuid": "9c0528daf1c171ae70c1c1f2f2c1f73ebacba85c"
   },
   "outputs": [],
   "source": [
    "kill.manner_of_death.unique()"
   ]
  },
  {
   "cell_type": "code",
   "execution_count": null,
   "metadata": {
    "_uuid": "d05b6d0119e423641a49770c28d22ee4069b83ff"
   },
   "outputs": [],
   "source": [
    "# manner of death(olum sekli) : ates edilerek, ates edilerek ve sok tabancasiyla\n",
    "# gender cinsiyet\n",
    "# age: yas\n",
    "# Plot the orbital period with horizontal boxes\n",
    "sns.boxplot(x=\"gender\", y=\"age\", hue=\"manner_of_death\", data=kill, palette=\"PRGn\")\n",
    "plt.show()"
   ]
  },
  {
   "cell_type": "markdown",
   "metadata": {
    "_uuid": "9b3ff5b459aa93bbce95ba93f6939708473ef040"
   },
   "source": [
    "<a id=\"10\"></a> \n",
    "## Swarm Plot"
   ]
  },
  {
   "cell_type": "code",
   "execution_count": null,
   "metadata": {
    "_uuid": "d3047353ff884eadd1dbb071bf399d72d70941bb"
   },
   "outputs": [],
   "source": [
    "kill.head()"
   ]
  },
  {
   "cell_type": "code",
   "execution_count": null,
   "metadata": {
    "_uuid": "556a9aedc3e3603530f75e5ae09db11c4524d735",
    "scrolled": true
   },
   "outputs": [],
   "source": [
    "# swarm plot\n",
    "# manner of death(olum sekli) : ates edilerek, ates edilerek ve sok tabancasiyla\n",
    "# gender cinsiyet\n",
    "# age: yas\n",
    "sns.swarmplot(x=\"gender\", y=\"age\",hue=\"manner_of_death\", data=kill)\n",
    "plt.show()"
   ]
  },
  {
   "cell_type": "markdown",
   "metadata": {
    "_uuid": "a9c25aafedf84d9c7521ac59e83a3983a9513e26"
   },
   "source": [
    "<a id=\"11\"></a> \n",
    "## Pair Plot"
   ]
  },
  {
   "cell_type": "code",
   "execution_count": null,
   "metadata": {
    "_uuid": "793e1c30359dbbcb1c026d3b6f603d1417072cb5"
   },
   "outputs": [],
   "source": [
    "data.head()"
   ]
  },
  {
   "cell_type": "code",
   "execution_count": null,
   "metadata": {
    "_uuid": "cc368f3850672b8043fd944a5f166c9a49b11526",
    "scrolled": true
   },
   "outputs": [],
   "source": [
    "# pair plot\n",
    "sns.pairplot(data)\n",
    "plt.show()"
   ]
  },
  {
   "cell_type": "markdown",
   "metadata": {
    "_uuid": "f514733c3d5d1bfca711f4c4ae41611848e23d20"
   },
   "source": [
    "<a id=\"12\"></a> \n",
    "## Count Plot"
   ]
  },
  {
   "cell_type": "code",
   "execution_count": null,
   "metadata": {
    "_uuid": "34929b55962ca54228263e5455b3900c17779e53"
   },
   "outputs": [],
   "source": [
    "kill.gender.value_counts()"
   ]
  },
  {
   "cell_type": "code",
   "execution_count": null,
   "metadata": {
    "_uuid": "ddb0cd799aeeff91d0a8644647044e83a1ceab15"
   },
   "outputs": [],
   "source": [
    "kill.head()"
   ]
  },
  {
   "cell_type": "code",
   "execution_count": null,
   "metadata": {
    "_cell_guid": "2432e07b-41c4-4893-9e31-b7945d9e4cd5",
    "_uuid": "8995af7e4b8b728d2bcfcff466fad8369841e1a7"
   },
   "outputs": [],
   "source": [
    "# kill properties\n",
    "# Manner of death\n",
    "sns.countplot(kill.gender)\n",
    "#sns.countplot(kill.manner_of_death)\n",
    "plt.title(\"gender\",color = 'blue',fontsize=15)"
   ]
  },
  {
   "cell_type": "code",
   "execution_count": null,
   "metadata": {
    "_cell_guid": "411ff3c0-b134-4e75-8dfa-187e94509f71",
    "_uuid": "848b0f0a11fb8b9c062da2f3bdf53d337e3b0fa0"
   },
   "outputs": [],
   "source": [
    "# kill weapon\n",
    "armed = kill.armed.value_counts()\n",
    "#print(armed)\n",
    "plt.figure(figsize=(10,7))\n",
    "sns.barplot(x=armed[:7].index,y=armed[:7].values)\n",
    "plt.ylabel('Number of Weapon')\n",
    "plt.xlabel('Weapon Types')\n",
    "plt.title('Kill weapon',color = 'blue',fontsize=15)"
   ]
  },
  {
   "cell_type": "code",
   "execution_count": null,
   "metadata": {
    "_cell_guid": "2eb8f78f-2ac7-4997-a200-282f90b8f7dc",
    "_uuid": "2eacfe5833f33799ee9100405846925a67080b24"
   },
   "outputs": [],
   "source": [
    "# age of killed people\n",
    "above25 =['above25' if i >= 25 else 'below25' for i in kill.age]\n",
    "df = pd.DataFrame({'age':above25})\n",
    "sns.countplot(x=df.age)\n",
    "plt.ylabel('Number of Killed People')\n",
    "plt.title('Age of killed people',color = 'blue',fontsize=15)"
   ]
  },
  {
   "cell_type": "code",
   "execution_count": null,
   "metadata": {
    "_cell_guid": "d58b6bb2-c3d8-442b-bada-c6760806a025",
    "_uuid": "7fb176fb40982d8ae3e78ad599ceb534db71d270"
   },
   "outputs": [],
   "source": [
    "# Race of killed people\n",
    "sns.countplot(data=kill, x='race')\n",
    "plt.title('Race of killed people',color = 'blue',fontsize=15)"
   ]
  },
  {
   "cell_type": "code",
   "execution_count": null,
   "metadata": {
    "_cell_guid": "e13099a8-d7e5-475e-b9a1-f878274d6e8c",
    "_uuid": "81a52a4f4ef038f99729d980ac87f07ebe7874de"
   },
   "outputs": [],
   "source": [
    "# Most dangerous cities\n",
    "city = kill.city.value_counts()\n",
    "plt.figure(figsize=(10,7))\n",
    "sns.barplot(x=city[:12].index,y=city[:12].values)\n",
    "plt.xticks(rotation=45)\n",
    "plt.title('Most dangerous cities',color = 'blue',fontsize=15)"
   ]
  },
  {
   "cell_type": "code",
   "execution_count": null,
   "metadata": {
    "_cell_guid": "6cf2ffb9-41e1-4928-a7c5-821609bb3393",
    "_uuid": "ee03b2c97467b751f5644a79a988ffb4de816360"
   },
   "outputs": [],
   "source": [
    "# most dangerous states\n",
    "state = kill.state.value_counts()\n",
    "plt.figure(figsize=(10,7))\n",
    "sns.barplot(x=state[:20].index,y=state[:20].values)\n",
    "plt.title('Most dangerous state',color = 'blue',fontsize=15)"
   ]
  },
  {
   "cell_type": "code",
   "execution_count": null,
   "metadata": {
    "_cell_guid": "927fbf5f-f86f-4880-ab69-96a4d25810b9",
    "_uuid": "801430710963c15aaf1c97e12bea01ab60a3812f"
   },
   "outputs": [],
   "source": [
    "# Having mental ilness or not for killed people\n",
    "sns.countplot(kill.signs_of_mental_illness)\n",
    "plt.xlabel('Mental illness')\n",
    "plt.ylabel('Number of Mental illness')\n",
    "plt.title('Having mental illness or not',color = 'blue', fontsize = 15)"
   ]
  },
  {
   "cell_type": "code",
   "execution_count": null,
   "metadata": {
    "_cell_guid": "ae54b1be-3c86-46c9-b789-34a45fa9c48b",
    "_uuid": "cc137ddad8e9148c37c9e433a91a7a8f1d9ff3ca"
   },
   "outputs": [],
   "source": [
    "# Threat types\n",
    "sns.countplot(kill.threat_level)\n",
    "plt.xlabel('Threat Types')\n",
    "plt.title('Threat types',color = 'blue', fontsize = 15)"
   ]
  },
  {
   "cell_type": "code",
   "execution_count": null,
   "metadata": {
    "_cell_guid": "c642816e-946b-4e65-8dcd-499f316ce110",
    "_uuid": "888ff93e7a5c5fe2843d3dd5da9ac9d0f9a0e1a5"
   },
   "outputs": [],
   "source": [
    "# Flee types\n",
    "sns.countplot(kill.flee)\n",
    "plt.xlabel('Flee Types')\n",
    "plt.title('Flee types',color = 'blue', fontsize = 15)"
   ]
  },
  {
   "cell_type": "code",
   "execution_count": null,
   "metadata": {
    "_cell_guid": "257cbde1-cd26-4c6d-b3eb-198550919643",
    "_uuid": "8a2617504b8cfbf49453a7e09a96278e35cb49a2"
   },
   "outputs": [],
   "source": [
    "# Having body cameras or not for police\n",
    "sns.countplot(kill.body_camera)\n",
    "plt.xlabel('Having Body Cameras')\n",
    "plt.title('Having body cameras or not on Police',color = 'blue',fontsize = 15)"
   ]
  },
  {
   "cell_type": "code",
   "execution_count": null,
   "metadata": {
    "_cell_guid": "bfa87962-07b9-4bd8-9107-0c6c9f8edd5a",
    "_uuid": "cc33704b4365aec330dbaf3428912458c4b74e74"
   },
   "outputs": [],
   "source": [
    "# Kill numbers from states in kill data\n",
    "sta = kill.state.value_counts().index[:10]\n",
    "sns.barplot(x=sta,y = kill.state.value_counts().values[:10])\n",
    "plt.title('Kill Numbers from States',color = 'blue',fontsize=15)"
   ]
  },
  {
   "cell_type": "markdown",
   "metadata": {
    "_cell_guid": "36f3c364-5491-4a37-a491-c44157ebcd9e",
    "_uuid": "36a1497a99c384809b486519619669a76e4fb6b0"
   },
   "source": [
    "# CONCLUSION\n",
    "**If you have any question, I will be happy to hear it!!!**\n",
    "Thanks"
   ]
  }
 ],
 "metadata": {
  "kernelspec": {
   "display_name": "Python 3",
   "language": "python",
   "name": "python3"
  },
  "language_info": {
   "codemirror_mode": {
    "name": "ipython",
    "version": 3
   },
   "file_extension": ".py",
   "mimetype": "text/x-python",
   "name": "python",
   "nbconvert_exporter": "python",
   "pygments_lexer": "ipython3",
   "version": "3.7.0"
  }
 },
 "nbformat": 4,
 "nbformat_minor": 1
}
