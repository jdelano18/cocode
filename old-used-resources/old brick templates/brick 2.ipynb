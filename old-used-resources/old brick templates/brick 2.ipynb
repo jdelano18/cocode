{
 "cells": [
  {
   "cell_type": "markdown",
   "metadata": {
    "cocode": {
     "tags": "Clustering"
    }
   },
   "source": [
    "---\n",
    "title: \"Match A Word\"\n",
    "description: \"Match a word in Python.\"\n",
    "tags: Clustering\n",
    "URL:\n",
    "Licence: BSD\n",
    "\n",
    "---"
   ]
  },
  {
   "cell_type": "markdown",
   "metadata": {},
   "source": [
    "<div class=\"alert alert-block alert-success\">\n",
    "<b> Find all words of a given length\n",
    "    \n",
    "```python\n",
    "# Find any word of three letters\n",
    "re.findall(r'\\b...\\b', text)```\n",
    "    \n",
    "</b>\n",
    "</div>"
   ]
  },
  {
   "cell_type": "markdown",
   "metadata": {},
   "source": [
    "<div class=\"alert alert-block alert-warning\">\n",
    "<b>Example\n",
    "\n",
    "```python\n",
    "# Load regex package\n",
    "import re\n",
    "\n",
    "# create some text\n",
    "text = 'The quick brown fox jumped over the lazy brown bear.'\n",
    "\n",
    "# Find any word of three letters\n",
    "re.findall(r'\\b...\\b', text)\n",
    "```\n",
    "\n",
    "</b> \n",
    "    \n",
    "</div>"
   ]
  },
  {
   "cell_type": "markdown",
   "metadata": {},
   "source": [
    "<div class=\"alert alert-block alert-info\">\n",
    " <b>Learn more about regular expressions here:</b> \n",
    "<ul>\n",
    "    https://en.wikipedia.org/wiki/Regular_expression\n",
    "</ul>\n",
    "\n",
    "\n",
    "</div>"
   ]
  },
  {
   "cell_type": "markdown",
   "metadata": {},
   "source": [
    "<div class=\"alert alert-block alert-danger\">\n",
    "<b>Common Mistakes:</b> \n",
    "<ul>\n",
    "    <li>Mistake 1</li>\n",
    "    <li>Mistake 2</li>\n",
    "</ul>\n",
    "</div>"
   ]
  }
 ],
 "metadata": {
  "kernelspec": {
   "display_name": "Python 3",
   "language": "python",
   "name": "python3"
  },
  "language_info": {
   "codemirror_mode": {
    "name": "ipython",
    "version": 3
   },
   "file_extension": ".py",
   "mimetype": "text/x-python",
   "name": "python",
   "nbconvert_exporter": "python",
   "pygments_lexer": "ipython3",
   "version": "3.7.0"
  }
 },
 "nbformat": 4,
 "nbformat_minor": 2
}
