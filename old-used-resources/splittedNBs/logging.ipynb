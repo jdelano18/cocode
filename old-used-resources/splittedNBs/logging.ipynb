{
 "cells": [
  {
   "cell_type": "markdown",
   "metadata": {},
   "source": [
    "---\n",
    "title: \"Logging Levels\"\n",
    "description: \"With the logging module imported, you can use something called a “logger” to log messages that you want to see. By default, there are 5 standard levels indicating the severity of events. Each has a corresponding method that can be used to log events at that level of severity.\"\n",
    "tags: Logging\n",
    "URL: https://realpython.com/python-logging/\n",
    "Licence: \n",
    "Creator:\n",
    "Meta: \"\"\n",
    "\n",
    "---"
   ]
  },
  {
   "cell_type": "markdown",
   "metadata": {},
   "source": [
    "# Key Code&"
   ]
  },
  {
   "cell_type": "code",
   "execution_count": 1,
   "metadata": {},
   "outputs": [],
   "source": [
    "import logging"
   ]
  },
  {
   "cell_type": "code",
   "execution_count": 2,
   "metadata": {},
   "outputs": [
    {
     "name": "stderr",
     "output_type": "stream",
     "text": [
      "WARNING:root:This is a warning message\n",
      "ERROR:root:This is an error message\n",
      "CRITICAL:root:This is a critical message\n"
     ]
    }
   ],
   "source": [
    "logging.debug('This is a debug message')\n",
    "logging.info('This is an info message')\n",
    "logging.warning('This is a warning message')\n",
    "logging.error('This is an error message')\n",
    "logging.critical('This is a critical message')"
   ]
  },
  {
   "cell_type": "markdown",
   "metadata": {},
   "source": [
    "---\n",
    "title: \"Basic Configurations For Logging\"\n",
    "description: \"Using the basicConfig method to configure the logging module.\"\n",
    "tags: Logging\n",
    "URL: https://realpython.com/python-logging/\n",
    "Licence: \n",
    "Creator: \n",
    "Meta: \"logging basicConfig\"\n",
    "\n",
    "---"
   ]
  },
  {
   "cell_type": "markdown",
   "metadata": {},
   "source": [
    "# Key Code&"
   ]
  },
  {
   "cell_type": "markdown",
   "metadata": {},
   "source": [
    "Some of the commonly used parameters for basicConfig() are the following:\n",
    "\n",
    "- `level`: The root logger will be set to the specified severity level.\n",
    "- `filename`: This specifies the file.\n",
    "- `filemode`: If filename is given, the file is opened in this mode. The default is a, which means append.\n",
    "- `format`: This is the format of the log message."
   ]
  },
  {
   "cell_type": "code",
   "execution_count": 3,
   "metadata": {},
   "outputs": [],
   "source": [
    "import logging"
   ]
  },
  {
   "cell_type": "markdown",
   "metadata": {},
   "source": [
    "# In Jupyter"
   ]
  },
  {
   "cell_type": "code",
   "execution_count": 4,
   "metadata": {},
   "outputs": [
    {
     "name": "stderr",
     "output_type": "stream",
     "text": [
      "DEBUG:root:This will get logged\n"
     ]
    }
   ],
   "source": [
    "logger = logging.getLogger()\n",
    "logger.setLevel(logging.DEBUG)\n",
    "logging.debug('This will get logged')"
   ]
  },
  {
   "cell_type": "markdown",
   "metadata": {},
   "source": [
    "# In A Python Script"
   ]
  },
  {
   "cell_type": "code",
   "execution_count": 5,
   "metadata": {},
   "outputs": [
    {
     "name": "stderr",
     "output_type": "stream",
     "text": [
      "DEBUG:root:This will get logged\n"
     ]
    }
   ],
   "source": [
    "logging.basicConfig(level = logging.DEBUG)\n",
    "logging.debug('This will get logged')"
   ]
  },
  {
   "cell_type": "markdown",
   "metadata": {},
   "source": [
    "---\n",
    "title: \"Logging To A File\"\n",
    "description: \"Logging to a file rather than the console. It should be noted that calling basicConfig() to configure the root logger works only if the root logger has not been configured before. Basically, this function can only be called once.\"\n",
    "tags: Logging\n",
    "URL: https://realpython.com/python-logging/\n",
    "Licence: \n",
    "Creator: \n",
    "Meta: \"logging\"\n",
    "\n",
    "---"
   ]
  },
  {
   "cell_type": "markdown",
   "metadata": {},
   "source": [
    "# Key Code&"
   ]
  },
  {
   "cell_type": "code",
   "execution_count": 1,
   "metadata": {},
   "outputs": [],
   "source": [
    "import logging"
   ]
  },
  {
   "cell_type": "code",
   "execution_count": 2,
   "metadata": {},
   "outputs": [],
   "source": [
    "logging.basicConfig(filename='app.log', \n",
    "                    filemode='w', \n",
    "                    format='%(name)s - %(levelname)s - %(message)s')\n",
    "logging.warning('This will get logged to a file')"
   ]
  },
  {
   "cell_type": "code",
   "execution_count": 3,
   "metadata": {},
   "outputs": [
    {
     "name": "stdout",
     "output_type": "stream",
     "text": [
      "root - WARNING - This will get logged to a file\n"
     ]
    }
   ],
   "source": [
    "%%bash\n",
    "more app.log"
   ]
  },
  {
   "cell_type": "markdown",
   "metadata": {},
   "source": [
    "---\n",
    "title: \"Format Logging Output\"\n",
    "description: \"While you can pass any variable that can be represented as a string from your program as a message to your logs, there are some basic elements that are already a part of the LogRecord and can be easily added to the output format.\"\n",
    "tags: Logging\n",
    "URL: https://realpython.com/python-logging/\n",
    "Licence: \n",
    "Creator: \n",
    "Meta: \"logging\"\n",
    "\n",
    "---"
   ]
  },
  {
   "cell_type": "markdown",
   "metadata": {},
   "source": [
    "# Key Code&"
   ]
  },
  {
   "cell_type": "code",
   "execution_count": 1,
   "metadata": {},
   "outputs": [],
   "source": [
    "import logging"
   ]
  },
  {
   "cell_type": "code",
   "execution_count": 2,
   "metadata": {},
   "outputs": [
    {
     "name": "stderr",
     "output_type": "stream",
     "text": [
      "2666-WARNING-This is a Warning\n"
     ]
    }
   ],
   "source": [
    "logging.basicConfig(format='%(process)d-%(levelname)s-%(message)s')\n",
    "logging.warning('This is a Warning')"
   ]
  },
  {
   "cell_type": "markdown",
   "metadata": {},
   "source": [
    "---\n",
    "title: \"Date And Time In Logging Output\"\n",
    "description: \"An example of how you can add the date and time info to your logging output. %(asctime)s adds the time of creation of the LogRecord. The format can be changed using the datefmt attribute, which uses the same formatting language as the formatting functions in the datetime module, such as time.strftime()\"\n",
    "tags: Logging\n",
    "URL: https://realpython.com/python-logging/\n",
    "Licence: \n",
    "Creator: \n",
    "Meta: \"logging\"\n",
    "\n",
    "---"
   ]
  },
  {
   "cell_type": "markdown",
   "metadata": {},
   "source": [
    "# Key Code&"
   ]
  },
  {
   "cell_type": "code",
   "execution_count": 1,
   "metadata": {},
   "outputs": [],
   "source": [
    "import logging"
   ]
  },
  {
   "cell_type": "code",
   "execution_count": 2,
   "metadata": {
    "scrolled": true
   },
   "outputs": [
    {
     "name": "stderr",
     "output_type": "stream",
     "text": [
      "2019-07-02 13:47:11,127 - Admin logged in\n"
     ]
    }
   ],
   "source": [
    "logging.basicConfig(format='%(asctime)s - %(message)s', level=logging.INFO)\n",
    "logging.info('Admin logged in')"
   ]
  },
  {
   "cell_type": "code",
   "execution_count": 3,
   "metadata": {},
   "outputs": [
    {
     "name": "stderr",
     "output_type": "stream",
     "text": [
      "02-Jul-19 13:49:25 - Admin logged out\n"
     ]
    }
   ],
   "source": [
    "logging.basicConfig(format='%(asctime)s - %(message)s', datefmt='%d-%b-%y %H:%M:%S')\n",
    "logging.warning('Admin logged out')"
   ]
  },
  {
   "cell_type": "markdown",
   "metadata": {},
   "source": [
    "---\n",
    "title: \"Logging Variable Data\"\n",
    "description: \"In many cases, you want to include dynamic information from your application in the logs. This can actually be done directly by using a f-string for the message and adding the variable data as arguments.\"\n",
    "tags: Logging\n",
    "URL: https://realpython.com/python-logging/\n",
    "Licence: \n",
    "Creator: \n",
    "Meta: \"f-strings logging\"\n",
    "\n",
    "---"
   ]
  },
  {
   "cell_type": "markdown",
   "metadata": {},
   "source": [
    "# Key Code&"
   ]
  },
  {
   "cell_type": "code",
   "execution_count": 1,
   "metadata": {},
   "outputs": [],
   "source": [
    "import logging"
   ]
  },
  {
   "cell_type": "code",
   "execution_count": 2,
   "metadata": {
    "scrolled": false
   },
   "outputs": [
    {
     "name": "stderr",
     "output_type": "stream",
     "text": [
      "ERROR:root:Jimmy raised another error... shocker i know.\n"
     ]
    }
   ],
   "source": [
    "# f strings are used in python 3.6 +\n",
    "name = 'Jimmy'\n",
    "logging.error(f'{name} raised another error... shocker i know.')"
   ]
  },
  {
   "cell_type": "markdown",
   "metadata": {},
   "source": [
    "---\n",
    "title: \"Capture Stack Trace\"\n",
    "description: \"The logging module also allows you to capture the full stack traces in an application. Exception information can be captured if the `exc_info` parameter is True.\"\n",
    "tags: Logging\n",
    "URL: https://realpython.com/python-logging/\n",
    "Licence: \n",
    "Creator: \n",
    "Meta: \"logging\"\n",
    "\n",
    "---"
   ]
  },
  {
   "cell_type": "markdown",
   "metadata": {},
   "source": [
    "# Key Code&"
   ]
  },
  {
   "cell_type": "code",
   "execution_count": 1,
   "metadata": {},
   "outputs": [],
   "source": [
    "import logging"
   ]
  },
  {
   "cell_type": "code",
   "execution_count": 3,
   "metadata": {
    "scrolled": false
   },
   "outputs": [
    {
     "name": "stderr",
     "output_type": "stream",
     "text": [
      "ERROR:root:Exception occurred\n",
      "Traceback (most recent call last):\n",
      "  File \"<ipython-input-3-de5dbd4164d1>\", line 2, in <module>\n",
      "    a = 100 / 0\n",
      "ZeroDivisionError: division by zero\n"
     ]
    }
   ],
   "source": [
    "try:\n",
    "    a = 100 / 0\n",
    "except Exception as e:\n",
    "    logging.error(\"Exception occurred\", exc_info=True)"
   ]
  },
  {
   "cell_type": "markdown",
   "metadata": {},
   "source": [
    "---\n",
    "title: \"Using Handlers\"\n",
    "description: \"Handlers come into the picture when you want to configure your own loggers and send the logs to multiple places when they are generated. Handlers send the log messages to configured destinations like the standard output stream or a file or over HTTP or to your email via SMTP.\n",
    "\n",
    "A logger that you create can have more than one handler, which means you can set it up to be saved to a log file and also send it over email.\"\n",
    "tags: Logging\n",
    "URL: https://realpython.com/python-logging/\n",
    "Licence: \n",
    "Creator: \n",
    "Meta: \"logging\"\n",
    "\n",
    "---"
   ]
  },
  {
   "cell_type": "markdown",
   "metadata": {},
   "source": [
    "# Key Code&"
   ]
  },
  {
   "cell_type": "code",
   "execution_count": 4,
   "metadata": {},
   "outputs": [],
   "source": [
    "import logging"
   ]
  },
  {
   "cell_type": "code",
   "execution_count": 5,
   "metadata": {},
   "outputs": [],
   "source": [
    "# Create a custom logger\n",
    "logger = logging.getLogger(__name__)"
   ]
  },
  {
   "cell_type": "code",
   "execution_count": 6,
   "metadata": {},
   "outputs": [],
   "source": [
    "# Create handlers\n",
    "c_handler = logging.StreamHandler()\n",
    "f_handler = logging.FileHandler('file.log')\n",
    "c_handler.setLevel(logging.WARNING)\n",
    "f_handler.setLevel(logging.ERROR)"
   ]
  },
  {
   "cell_type": "code",
   "execution_count": 7,
   "metadata": {},
   "outputs": [],
   "source": [
    "# Create formatters and add it to handlers\n",
    "c_format = logging.Formatter('%(name)s - %(levelname)s - %(message)s')\n",
    "f_format = logging.Formatter('%(asctime)s - %(name)s - %(levelname)s - %(message)s')\n",
    "c_handler.setFormatter(c_format)\n",
    "f_handler.setFormatter(f_format)"
   ]
  },
  {
   "cell_type": "code",
   "execution_count": 8,
   "metadata": {},
   "outputs": [
    {
     "name": "stderr",
     "output_type": "stream",
     "text": [
      "__main__ - WARNING - This is a warning\n",
      "WARNING:__main__:This is a warning\n",
      "__main__ - ERROR - This is an error\n",
      "ERROR:__main__:This is an error\n"
     ]
    }
   ],
   "source": [
    "# Add handlers to the logger\n",
    "logger.addHandler(c_handler)\n",
    "logger.addHandler(f_handler)\n",
    "\n",
    "logger.warning('This is a warning')\n",
    "logger.error('This is an error')"
   ]
  },
  {
   "cell_type": "markdown",
   "metadata": {},
   "source": [
    "---\n",
    "title: \"Configure Logging With A File\"\n",
    "description: \"You can configure logging by creating a config file and loading it using fileConfig().\"\n",
    "tags: Logging\n",
    "URL: https://realpython.com/python-logging/\n",
    "Licence: \n",
    "Creator: \n",
    "Meta: \"fileConfig\"\n",
    "\n",
    "---"
   ]
  },
  {
   "cell_type": "markdown",
   "metadata": {},
   "source": [
    "# Key Code&"
   ]
  },
  {
   "cell_type": "code",
   "execution_count": 10,
   "metadata": {},
   "outputs": [],
   "source": [
    "import logging\n",
    "import logging.config"
   ]
  },
  {
   "cell_type": "code",
   "execution_count": 16,
   "metadata": {},
   "outputs": [
    {
     "name": "stdout",
     "output_type": "stream",
     "text": [
      "2019-07-02 14:15:15,938 - __main__ - DEBUG - This is a debug message\n"
     ]
    }
   ],
   "source": [
    "logging.config.fileConfig(fname='file.conf',\n",
    "                          disable_existing_loggers=False)\n",
    "\n",
    "# Get the logger specified in the file\n",
    "logger = logging.getLogger(__name__)\n",
    "\n",
    "logger.debug('This is a debug message')"
   ]
  },
  {
   "cell_type": "markdown",
   "metadata": {},
   "source": [
    "# Example&"
   ]
  },
  {
   "cell_type": "code",
   "execution_count": 12,
   "metadata": {},
   "outputs": [
    {
     "name": "stdout",
     "output_type": "stream",
     "text": [
      "[loggers]\n",
      "keys=root,sampleLogger\n",
      "\n",
      "[handlers]\n",
      "keys=consoleHandler\n",
      "\n",
      "[formatters]\n",
      "keys=sampleFormatter\n",
      "\n",
      "[logger_root]\n",
      "level=DEBUG\n",
      "handlers=consoleHandler\n",
      "\n",
      "[logger_sampleLogger]\n",
      "level=DEBUG\n",
      "handlers=consoleHandler\n",
      "qualname=sampleLogger\n",
      "propagate=0\n",
      "\n",
      "[handler_consoleHandler]\n",
      "class=StreamHandler\n",
      "level=DEBUG\n",
      "formatter=sampleFormatter\n",
      "args=(sys.stdout,)\n",
      "\n",
      "[formatter_sampleFormatter]\n",
      "format=%(asctime)s - %(name)s - %(levelname)s - %(message)s"
     ]
    }
   ],
   "source": [
    "%%bash\n",
    "cat file.conf"
   ]
  },
  {
   "cell_type": "markdown",
   "metadata": {},
   "source": [
    "---\n",
    "title: \"Configure Logging With A Dictionary (yaml file)\"\n",
    "description: \"You can configure logging by creating a dictionary in a .yaml file and loading it using dictConfig().\"\n",
    "tags: Logging\n",
    "URL: https://realpython.com/python-logging/\n",
    "Licence: \n",
    "Creator: \n",
    "Meta: \"dictConfig\"\n",
    "\n",
    "---"
   ]
  },
  {
   "cell_type": "markdown",
   "metadata": {},
   "source": [
    "# Key Code&"
   ]
  },
  {
   "cell_type": "code",
   "execution_count": 1,
   "metadata": {},
   "outputs": [],
   "source": [
    "import logging\n",
    "import logging.config\n",
    "import yaml"
   ]
  },
  {
   "cell_type": "code",
   "execution_count": 2,
   "metadata": {},
   "outputs": [
    {
     "name": "stdout",
     "output_type": "stream",
     "text": [
      "2019-07-02 14:18:39,431 - __main__ - DEBUG - This is a debug message\n"
     ]
    }
   ],
   "source": [
    "with open('file.yaml', 'r') as f:\n",
    "    config = yaml.safe_load(f.read())\n",
    "    logging.config.dictConfig(config)\n",
    "\n",
    "logger = logging.getLogger(__name__)\n",
    "\n",
    "logger.debug('This is a debug message')"
   ]
  }
 ],
 "metadata": {
  "kernelspec": {
   "display_name": "Python 3",
   "language": "python",
   "name": "python3"
  },
  "language_info": {
   "codemirror_mode": {
    "name": "ipython",
    "version": 3
   },
   "file_extension": ".py",
   "mimetype": "text/x-python",
   "name": "python",
   "nbconvert_exporter": "python",
   "pygments_lexer": "ipython3",
   "version": "3.7.0"
  }
 },
 "nbformat": 4,
 "nbformat_minor": 2
}
