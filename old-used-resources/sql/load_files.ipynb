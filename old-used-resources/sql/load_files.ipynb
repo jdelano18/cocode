{
 "cells": [
  {
   "cell_type": "markdown",
   "metadata": {},
   "source": [
    "Turn laoding the file and putting it into a dict as a function with test code"
   ]
  },
  {
   "cell_type": "code",
   "execution_count": 359,
   "metadata": {},
   "outputs": [],
   "source": [
    "import json\n",
    "import os\n",
    "import random"
   ]
  },
  {
   "cell_type": "code",
   "execution_count": 379,
   "metadata": {},
   "outputs": [],
   "source": [
    "# pre: takes in json from a jupyter notebook with the correct title header and filename to report error\n",
    "# post: returns tuple of (title, description, tags)\n",
    "\n",
    "def infoFromFirstCell(code, filename):\n",
    "    nextfile = ()\n",
    "    \n",
    "    assert (len(code[\"cells\"][0][\"source\"]) > 4), f\"the title block is missing in {filename}\"\n",
    "    assert (\"title: \" in code[\"cells\"][0][\"source\"][1]), f\"there's a formatting issue with the title in {filename}\"\n",
    "    assert (\"description: \" in code[\"cells\"][0][\"source\"][2]), f\"there's a formatting issue with the description in {filename}\"\n",
    "    assert (\"tags: \" in code[\"cells\"][0][\"source\"][3]), f\"there's a formatting issue with the tags in {filename}\"\n",
    " \n",
    "    for item in code[\"cells\"][0][\"source\"][1:4]:\n",
    "        print(item)\n",
    "        item = item.replace('\\\"','').strip()\n",
    "        index = item.find(':')\n",
    "        nextfile += (item[index+2:],)\n",
    "\n",
    "    return nextfile"
   ]
  },
  {
   "cell_type": "code",
   "execution_count": 380,
   "metadata": {},
   "outputs": [],
   "source": [
    "# pre: takes in a file name (example ~/Desktop/file.ipynb)\n",
    "# post: returns dict with id, title, description, code, and tags, (html)\n",
    "\n",
    "def getDict(filename):\n",
    "    with open(filename) as json_file:\n",
    "        code = json.load(json_file)\n",
    "        try:\n",
    "            nextfile = infoFromFirstCell(code, filename)\n",
    "            \n",
    "            new_brick = dict()\n",
    "            new_brick['title'], new_brick['description'], new_brick['tags'] = nextfile\n",
    "            new_brick['code'] = code\n",
    "            temp_id = random.randint(1, 100000000)\n",
    "            new_brick['id'] = temp_id\n",
    "            return new_brick\n",
    "        except AssertionError as e:\n",
    "            print(e)\n",
    "        else:\n",
    "            print(\"somethings really wrong\")"
   ]
  },
  {
   "cell_type": "markdown",
   "metadata": {},
   "source": [
    "## Tests"
   ]
  },
  {
   "cell_type": "code",
   "execution_count": 382,
   "metadata": {},
   "outputs": [
    {
     "name": "stdout",
     "output_type": "stream",
     "text": [
      "the title block is missing in ./test_for_correct_headers.ipynb\n"
     ]
    }
   ],
   "source": [
    "# this has format error with tags -- should fail\n",
    "getDict(\"./test_for_correct_headers.ipynb\")"
   ]
  },
  {
   "cell_type": "code",
   "execution_count": null,
   "metadata": {},
   "outputs": [],
   "source": []
  }
 ],
 "metadata": {
  "kernelspec": {
   "display_name": "Python 3",
   "language": "python",
   "name": "python3"
  },
  "language_info": {
   "codemirror_mode": {
    "name": "ipython",
    "version": 3
   },
   "file_extension": ".py",
   "mimetype": "text/x-python",
   "name": "python",
   "nbconvert_exporter": "python",
   "pygments_lexer": "ipython3",
   "version": "3.7.0"
  }
 },
 "nbformat": 4,
 "nbformat_minor": 2
}
