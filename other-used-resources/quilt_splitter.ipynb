{
 "cells": [
  {
   "cell_type": "code",
   "execution_count": 6,
   "metadata": {},
   "outputs": [],
   "source": [
    "import json\n",
    "modules = ['warnings.', 'keyword.', 'importlib.', 'string.', 'secrets.', 'textwrap.', 'subprocess.', 'os.', \n",
    "           'sys.', 'logging.', 'pkg_resources.', 'pip.', 'tempfile.', 'base64.', 'math.', 'statistics.', \n",
    "           'random.', 'datetime.', 'time.', 'calendar.', 'webbrowser.', 'urllib.', 'httplib.']"
   ]
  },
  {
   "cell_type": "code",
   "execution_count": 7,
   "metadata": {},
   "outputs": [],
   "source": [
    "functions = []\n",
    "titles = []\n",
    "with open(\"./quilt.py\") as f_obj:\n",
    "    lines = f_obj.readlines()\n",
    "    \n",
    "functions_by_file = []\n",
    "nextup = []\n",
    "for line in lines:\n",
    "    if line.startswith('def '):\n",
    "        functions_by_file.append(nextup)\n",
    "        nextup = []\n",
    "        \n",
    "    nextup.append(line)\n",
    "functions_by_file.append(nextup)\n",
    "\n",
    "    \n",
    "functions_by_file = functions_by_file[1:]\n",
    "titles_by_file = []\n",
    "for f in functions_by_file:\n",
    "    titles_by_file.append(f[2].strip().replace('.',''))\n",
    "        \n",
    "        \n",
    "functions.extend(functions_by_file)\n",
    "titles.extend(titles_by_file)"
   ]
  },
  {
   "cell_type": "code",
   "execution_count": 8,
   "metadata": {},
   "outputs": [
    {
     "data": {
      "text/plain": [
       "114"
      ]
     },
     "execution_count": 8,
     "metadata": {},
     "output_type": "execute_result"
    }
   ],
   "source": [
    "len(titles)"
   ]
  },
  {
   "cell_type": "code",
   "execution_count": 9,
   "metadata": {},
   "outputs": [],
   "source": [
    "def write_to_file(title, content):\n",
    "    with open ('./quilt-template.ipynb') as json_file:\n",
    "        data = json.load(json_file)\n",
    "        data['cells'][0]['source'][1] = 'title: \"'+title+'\"\\n'\n",
    "        data['cells'][0]['source'][2] = 'description: \"'+title+'\"\\n'\n",
    "        data['cells'][2]['source'] = content\n",
    "        \n",
    "    with open ('./inprogress/'+title+'.ipynb', 'w') as outfile:\n",
    "        json.dump(data, outfile)"
   ]
  },
  {
   "cell_type": "code",
   "execution_count": 10,
   "metadata": {},
   "outputs": [],
   "source": [
    "for title, code in zip(titles, functions):\n",
    "    mods = set()\n",
    "    for line in code:\n",
    "        for module in modules:\n",
    "            if line.find(module) != -1:\n",
    "                mods.add(module)\n",
    "    \n",
    "    for mod in mods:\n",
    "        if mod == 'httplib.':\n",
    "            code.insert(0, \"import http.client as \"+mod[:-1]+\"\\n\")\n",
    "        else:\n",
    "            code.insert(0, \"import \"+mod[:-1]+\"\\n\")\n",
    "    \n",
    "    try:\n",
    "        write_to_file(title, code)\n",
    "    except:\n",
    "        print(title, code)"
   ]
  },
  {
   "cell_type": "code",
   "execution_count": 153,
   "metadata": {},
   "outputs": [
    {
     "name": "stdout",
     "output_type": "stream",
     "text": [
      "WARNING: You didn't enter a dir_to_convert or dir_to_dump_to. By default, both are now ../inprogress/\n"
     ]
    }
   ],
   "source": [
    "%%bash\n",
    "cd scripts/\n",
    "python3 midas.py"
   ]
  },
  {
   "cell_type": "code",
   "execution_count": null,
   "metadata": {},
   "outputs": [],
   "source": []
  }
 ],
 "metadata": {
  "kernelspec": {
   "display_name": "Python 3",
   "language": "python",
   "name": "python3"
  },
  "language_info": {
   "codemirror_mode": {
    "name": "ipython",
    "version": 3
   },
   "file_extension": ".py",
   "mimetype": "text/x-python",
   "name": "python",
   "nbconvert_exporter": "python",
   "pygments_lexer": "ipython3",
   "version": "3.7.0"
  }
 },
 "nbformat": 4,
 "nbformat_minor": 2
}
