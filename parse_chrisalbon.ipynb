{
 "cells": [
  {
   "cell_type": "code",
   "execution_count": 74,
   "metadata": {},
   "outputs": [],
   "source": [
    "import subprocess\n",
    "import re\n",
    "import json\n",
    "from os import walk"
   ]
  },
  {
   "cell_type": "code",
   "execution_count": 75,
   "metadata": {},
   "outputs": [],
   "source": [
    "class Snippet():\n",
    "    def __init__(self,full_path,tag_path,file):\n",
    "        self.full_path = full_path\n",
    "        self.tag_path = tag_path\n",
    "        self.file = file\n",
    "        self.tags = []\n",
    "        self.tagId = []\n",
    "        \n",
    "    def setTags(self):\n",
    "        tags = self.tag_path.split('/')\n",
    "        if tags[-1] in ['basics','other']:\n",
    "            tags = [': '.join(tags)]\n",
    "        self.tags = tags\n",
    "        \n",
    "    def createHTML(self):\n",
    "        command = f\"jupyter nbconvert --to html --template basic {self.full_path}/{self.file}\"\n",
    "        parsed_command = command.split(' ')\n",
    "        subprocess.run(parsed_command)\n",
    "        \n",
    "    def setHTML(self):\n",
    "        html_file = self.file.replace('ipynb','html')\n",
    "        with open(self.full_path +'/'+ html_file, 'r') as myfile:\n",
    "            self.html = myfile.read()\n",
    "        self.html = self.cleanAttr()\n",
    "        \n",
    "    def setNotebook(self):\n",
    "        with open(self.full_path +'/'+ self.file, 'r') as myfile:\n",
    "            self.notebook = json.loads(myfile.read()) \n",
    "            \n",
    "    def cleanAttr(self):\n",
    "        regex = r\"---((.|\\n)*?)---\"\n",
    "        subst = \"\"\n",
    "        return re.sub(regex, subst, self.html, 0)\n",
    "    \n",
    "#     def clean_notebook_attr(self):\n",
    "#         ''' Removes the first cell in a notebook, where the attribution is'''\n",
    "#         try:\n",
    "#             nb = self.notebook\n",
    "#             start = find_nth(nb,\"{\",2)\n",
    "#             end_indicator = find_nth(nb,\"---\",2)\n",
    "#             next_bracket = nb[end_indicator:].index(',') + 1\n",
    "#             end = end_indicator+next_bracket\n",
    "#             pre_attr = nb[0:start]\n",
    "#             post_attr = nb[end+1:]\n",
    "#             self.notebook = pre_attr + post_attr\n",
    "#         except:\n",
    "#             print('index not found')\n",
    "        \n",
    "\n",
    "    def asJSON(self,pk,ipynb=True):\n",
    "        title = self.file.replace('.ipynb','').replace('_',' ')\n",
    "#         html = self.html.replace('\"','\\\\\"')\n",
    "        if ipynb:\n",
    "            code = json.dumps(self.notebook)\n",
    "        else:\n",
    "            code = json.dumps(self.html)\n",
    "        one = f'{{\"model\": \"snippet.snippet\",\"pk\": {pk},\"fields\": {{'\n",
    "        two = f'\"title\": \"{title}\",\"code\": {code},\"tags\": {self.tagId}'\n",
    "        three = \"}}\"\n",
    "        return(one+two+three)    \n",
    "    \n",
    "    def convertTags(self,tag_map):\n",
    "        tagId = []\n",
    "        for tag in self.tags:\n",
    "            self.tagId.append(tag_map[tag])"
   ]
  },
  {
   "cell_type": "code",
   "execution_count": 76,
   "metadata": {},
   "outputs": [],
   "source": [
    "mypath='/Users/jimmydelano/notes/content/'\n",
    "\n",
    "snippet_list = []\n",
    "for (dirpath, dirnames, filenames) in walk(mypath):\n",
    "    for file in filenames:\n",
    "        if ('.ipynb' in file) and not ('.ipynb_checkpoints' in dirpath):\n",
    "            clean_dir = dirpath.replace(mypath,'')\n",
    "            s = Snippet(dirpath,clean_dir,file)\n",
    "            snippet_list.append(s)\n",
    "            \n",
    "tag_set = set()\n",
    "for snippet in snippet_list:\n",
    "    snippet.setTags()\n",
    "    #snippet.createHTML() # Only need to run once\n",
    "    for tag in snippet.tags:\n",
    "        tag_set.add(tag)\n",
    "    snippet.setNotebook()    \n",
    "    \n",
    "        \n",
    "        \n",
    "tag_list = list(tag_set)   \n",
    "tag_map = { tag_list[i]:i+1 for i in range(0, len(tag_list)) }  "
   ]
  },
  {
   "cell_type": "code",
   "execution_count": 77,
   "metadata": {},
   "outputs": [],
   "source": [
    "for snippet in snippet_list:\n",
    "    snippet.convertTags(tag_map)"
   ]
  },
  {
   "cell_type": "markdown",
   "metadata": {},
   "source": [
    "---"
   ]
  },
  {
   "cell_type": "code",
   "execution_count": 96,
   "metadata": {},
   "outputs": [],
   "source": [
    "def convertHeader(raw_cell, tags):\n",
    "    markdown_cell = {'cell_type': 'markdown', \n",
    "         'metadata': {}, \n",
    "         'source': ['---\\n', \n",
    "            'title: \"title\"\\n', \n",
    "            'description: \"\"\\n', \n",
    "            'tags: Python\\n', \n",
    "            'URL: https://github.com/chrisalbon/notes\\n', \n",
    "            'Licence: \\n', \n",
    "            'Creator: \\n', \n",
    "            'Meta: \\n', \n",
    "            '\\n', \n",
    "            '---']}\n",
    "    \n",
    "    markdown_cell['source'][1] = raw_cell['source'][1]\n",
    "    #markdown_cell['source'][2] = raw_cell['source'][4]\n",
    "    markdown_cell['source'][3] = 'tags: '+ ', '.join(tags)+'\\n'\n",
    "    return markdown_cell"
   ]
  },
  {
   "cell_type": "code",
   "execution_count": 97,
   "metadata": {},
   "outputs": [],
   "source": [
    "for snippet in snippet_list:\n",
    "    snippet.notebook['cells'][0] = convertHeader(\n",
    "                                            snippet.notebook['cells'][0], \n",
    "                                            snippet.tags)\n",
    "    with open('/Users/jimmydelano/cocode/inprogress/'+snippet.file, 'w') as outfile:\n",
    "        json.dump(snippet.notebook, outfile)"
   ]
  },
  {
   "cell_type": "code",
   "execution_count": null,
   "metadata": {},
   "outputs": [],
   "source": []
  },
  {
   "cell_type": "code",
   "execution_count": null,
   "metadata": {},
   "outputs": [],
   "source": []
  },
  {
   "cell_type": "code",
   "execution_count": null,
   "metadata": {},
   "outputs": [],
   "source": []
  },
  {
   "cell_type": "markdown",
   "metadata": {},
   "source": [
    "# Tests"
   ]
  },
  {
   "cell_type": "code",
   "execution_count": 39,
   "metadata": {},
   "outputs": [
    {
     "data": {
      "text/plain": [
       "{'patterns': 1,\n",
       " 'nearest_neighbors': 2,\n",
       " 'python': 3,\n",
       " 'support_vector_machines': 4,\n",
       " 'regex': 5,\n",
       " 'deep_learning': 6,\n",
       " 'data_wrangling': 7,\n",
       " 'model_selection': 8,\n",
       " 'keras': 9,\n",
       " 'frequentist': 10,\n",
       " 'feature_engineering': 11,\n",
       " 'logging': 12,\n",
       " 'algorithms': 13,\n",
       " 'machine_learning': 14,\n",
       " 'preprocessing_images': 15,\n",
       " 'python: basics': 16,\n",
       " 'linear_regression': 17,\n",
       " 'testing': 18,\n",
       " 'preprocessing_dates_and_times': 19,\n",
       " 'logistic_regression': 20,\n",
       " 'naive_bayes': 21,\n",
       " 'scala: basics': 22,\n",
       " 'mathematics: basics': 23,\n",
       " 'statistics': 24,\n",
       " 'preprocessing_structured_data': 25,\n",
       " 'machine_learning: basics': 26,\n",
       " 'data_visualization': 27,\n",
       " 'preprocessing_text': 28,\n",
       " 'feature_selection': 29,\n",
       " 'model_evaluation': 30,\n",
       " 'python: other': 31,\n",
       " 'vectors_matrices_and_arrays': 32,\n",
       " 'clustering': 33,\n",
       " 'trees_and_forests': 34,\n",
       " 'postgresql: basics': 35,\n",
       " 'computer_science': 36,\n",
       " 'web_scraping': 37}"
      ]
     },
     "execution_count": 39,
     "metadata": {},
     "output_type": "execute_result"
    }
   ],
   "source": [
    "tag_map"
   ]
  },
  {
   "cell_type": "code",
   "execution_count": 23,
   "metadata": {},
   "outputs": [
    {
     "name": "stdout",
     "output_type": "stream",
     "text": [
      "lots of other stuff\n"
     ]
    }
   ],
   "source": [
    "import re\n",
    "regex = r\"---(.*?)---\"\n",
    "test_str = \"lots of other ---title: \\\"Extract Substrings Using Regex\\\"author: \\\"Chris Albon\\\"date: 2017-12-20T11:53:49-07:00description: \\\"Extract substrings using regex using Scala.\\\"type: technical_notedraft: false---stuff\"\n",
    "subst = \"\"\n",
    "# You can manually specify the number of replacements by changing the 4th argument\n",
    "result = re.sub(regex, subst, test_str, 0)\n",
    "if result:\n",
    "    print (result)  "
   ]
  },
  {
   "cell_type": "code",
   "execution_count": 64,
   "metadata": {},
   "outputs": [
    {
     "data": {
      "text/plain": [
       "'{\"html\": \"---title: \\\\\"Spearmans Rank Correlation\\\\\"author: \\\\\"Chris Albon\\\\\"date: 2017-12-20T11:53:49-07:00description: \\\\\"Spearman\\'s Rank Correlation in Python.\\\\\"type: technical_notedraft: false---<div class=\\\\\"cell border-box-sizing text_cell rendered\\\\\"><div class=\\\\\"prompt input_prompt\\\\\"></div><div class=\\\\\"inner_cell\\\\\"><div class=\\\\\"text_cell_render border-box-sizing rendered_html\\\\\"><h2 id=\\\\\"Preliminaries\\\\\">Preliminaries<a class=\\\\\"anchor-link\\\\\" href=\\\\\"#Preliminaries\\\\\">&#182;</a></h2></div></div></div><div class=\\\\\"cell border-box-sizing code_cell rendered\\\\\"><div class=\\\\\"input\\\\\"><div class=\\\\\"prompt input_prompt\\\\\">In&nbsp;[1]:</div><div class=\\\\\"inner_cell\\\\\">    <div class=\\\\\"input_area\\\\\"><div class=\\\\\" highlight hl-ipython3\\\\\"><pre><span></span><span class=\\\\\"kn\\\\\">import</span> <span class=\\\\\"nn\\\\\">numpy</span> <span class=\\\\\"k\\\\\">as</span> <span class=\\\\\"nn\\\\\">np</span><span class=\\\\\"kn\\\\\">import</span> <span class=\\\\\"nn\\\\\">pandas</span> <span class=\\\\\"k\\\\\">as</span> <span class=\\\\\"nn\\\\\">pd</span><span class=\\\\\"kn\\\\\">import</span> <span class=\\\\\"nn\\\\\">scipy.stats</span></pre></div></div></div></div></div><div class=\\\\\"cell border-box-sizing text_cell rendered\\\\\"><div class=\\\\\"prompt input_prompt\\\\\"></div><div class=\\\\\"inner_cell\\\\\"><div class=\\\\\"text_cell_render border-box-sizing rendered_html\\\\\"><h2 id=\\\\\"Create-Data\\\\\">Create Data<a class=\\\\\"anchor-link\\\\\" href=\\\\\"#Create-Data\\\\\">&#182;</a></h2></div></div></div><div class=\\\\\"cell border-box-sizing code_cell rendered\\\\\"><div class=\\\\\"input\\\\\"><div class=\\\\\"prompt input_prompt\\\\\">In&nbsp;[2]:</div><div class=\\\\\"inner_cell\\\\\">    <div class=\\\\\"input_area\\\\\"><div class=\\\\\" highlight hl-ipython3\\\\\"><pre><span></span><span class=\\\\\"c1\\\\\"># Create two lists of random values</span><span class=\\\\\"n\\\\\">x</span> <span class=\\\\\"o\\\\\">=</span> <span class=\\\\\"p\\\\\">[</span><span class=\\\\\"mi\\\\\">1</span><span class=\\\\\"p\\\\\">,</span><span class=\\\\\"mi\\\\\">2</span><span class=\\\\\"p\\\\\">,</span><span class=\\\\\"mi\\\\\">3</span><span class=\\\\\"p\\\\\">,</span><span class=\\\\\"mi\\\\\">4</span><span class=\\\\\"p\\\\\">,</span><span class=\\\\\"mi\\\\\">5</span><span class=\\\\\"p\\\\\">,</span><span class=\\\\\"mi\\\\\">6</span><span class=\\\\\"p\\\\\">,</span><span class=\\\\\"mi\\\\\">7</span><span class=\\\\\"p\\\\\">,</span><span class=\\\\\"mi\\\\\">8</span><span class=\\\\\"p\\\\\">,</span><span class=\\\\\"mi\\\\\">9</span><span class=\\\\\"p\\\\\">]</span><span class=\\\\\"n\\\\\">y</span> <span class=\\\\\"o\\\\\">=</span> <span class=\\\\\"p\\\\\">[</span><span class=\\\\\"mi\\\\\">2</span><span class=\\\\\"p\\\\\">,</span><span class=\\\\\"mi\\\\\">1</span><span class=\\\\\"p\\\\\">,</span><span class=\\\\\"mi\\\\\">2</span><span class=\\\\\"p\\\\\">,</span><span class=\\\\\"mf\\\\\">4.5</span><span class=\\\\\"p\\\\\">,</span><span class=\\\\\"mi\\\\\">7</span><span class=\\\\\"p\\\\\">,</span><span class=\\\\\"mf\\\\\">6.5</span><span class=\\\\\"p\\\\\">,</span><span class=\\\\\"mi\\\\\">6</span><span class=\\\\\"p\\\\\">,</span><span class=\\\\\"mi\\\\\">9</span><span class=\\\\\"p\\\\\">,</span><span class=\\\\\"mf\\\\\">9.5</span><span class=\\\\\"p\\\\\">]</span></pre></div></div></div></div></div><div class=\\\\\"cell border-box-sizing text_cell rendered\\\\\"><div class=\\\\\"prompt input_prompt\\\\\"></div><div class=\\\\\"inner_cell\\\\\"><div class=\\\\\"text_cell_render border-box-sizing rendered_html\\\\\"><h2 id=\\\\\"Calculate-Spearman\\'s-Rank-Correlation\\\\\">Calculate Spearman\\'s Rank Correlation<a class=\\\\\"anchor-link\\\\\" href=\\\\\"#Calculate-Spearman\\'s-Rank-Correlation\\\\\">&#182;</a></h2><p>Spearman\\'s rank correlation is the Pearson\\'s correlation coefficient of the ranked version of the variables.</p></div></div></div><div class=\\\\\"cell border-box-sizing code_cell rendered\\\\\"><div class=\\\\\"input\\\\\"><div class=\\\\\"prompt input_prompt\\\\\">In&nbsp;[3]:</div><div class=\\\\\"inner_cell\\\\\">    <div class=\\\\\"input_area\\\\\"><div class=\\\\\" highlight hl-ipython3\\\\\"><pre><span></span><span class=\\\\\"c1\\\\\"># Create a function that takes in x&#39;s and y&#39;s</span><span class=\\\\\"k\\\\\">def</span> <span class=\\\\\"nf\\\\\">spearmans_rank_correlation</span><span class=\\\\\"p\\\\\">(</span><span class=\\\\\"n\\\\\">xs</span><span class=\\\\\"p\\\\\">,</span> <span class=\\\\\"n\\\\\">ys</span><span class=\\\\\"p\\\\\">):</span>        <span class=\\\\\"c1\\\\\"># Calculate the rank of x&#39;s</span>    <span class=\\\\\"n\\\\\">xranks</span> <span class=\\\\\"o\\\\\">=</span> <span class=\\\\\"n\\\\\">pd</span><span class=\\\\\"o\\\\\">.</span><span class=\\\\\"n\\\\\">Series</span><span class=\\\\\"p\\\\\">(</span><span class=\\\\\"n\\\\\">xs</span><span class=\\\\\"p\\\\\">)</span><span class=\\\\\"o\\\\\">.</span><span class=\\\\\"n\\\\\">rank</span><span class=\\\\\"p\\\\\">()</span>        <span class=\\\\\"c1\\\\\"># Caclulate the ranking of the y&#39;s</span>    <span class=\\\\\"n\\\\\">yranks</span> <span class=\\\\\"o\\\\\">=</span> <span class=\\\\\"n\\\\\">pd</span><span class=\\\\\"o\\\\\">.</span><span class=\\\\\"n\\\\\">Series</span><span class=\\\\\"p\\\\\">(</span><span class=\\\\\"n\\\\\">ys</span><span class=\\\\\"p\\\\\">)</span><span class=\\\\\"o\\\\\">.</span><span class=\\\\\"n\\\\\">rank</span><span class=\\\\\"p\\\\\">()</span>        <span class=\\\\\"c1\\\\\"># Calculate Pearson&#39;s correlation coefficient on the ranked versions of the data</span>    <span class=\\\\\"k\\\\\">return</span> <span class=\\\\\"n\\\\\">scipy</span><span class=\\\\\"o\\\\\">.</span><span class=\\\\\"n\\\\\">stats</span><span class=\\\\\"o\\\\\">.</span><span class=\\\\\"n\\\\\">pearsonr</span><span class=\\\\\"p\\\\\">(</span><span class=\\\\\"n\\\\\">xranks</span><span class=\\\\\"p\\\\\">,</span> <span class=\\\\\"n\\\\\">yranks</span><span class=\\\\\"p\\\\\">)</span></pre></div></div></div></div></div><div class=\\\\\"cell border-box-sizing code_cell rendered\\\\\"><div class=\\\\\"input\\\\\"><div class=\\\\\"prompt input_prompt\\\\\">In&nbsp;[4]:</div><div class=\\\\\"inner_cell\\\\\">    <div class=\\\\\"input_area\\\\\"><div class=\\\\\" highlight hl-ipython3\\\\\"><pre><span></span><span class=\\\\\"c1\\\\\"># Run the function</span><span class=\\\\\"n\\\\\">spearmans_rank_correlation</span><span class=\\\\\"p\\\\\">(</span><span class=\\\\\"n\\\\\">x</span><span class=\\\\\"p\\\\\">,</span> <span class=\\\\\"n\\\\\">y</span><span class=\\\\\"p\\\\\">)[</span><span class=\\\\\"mi\\\\\">0</span><span class=\\\\\"p\\\\\">]</span></pre></div></div></div></div><div class=\\\\\"output_wrapper\\\\\"><div class=\\\\\"output\\\\\"><div class=\\\\\"output_area\\\\\"><div class=\\\\\"prompt output_prompt\\\\\">Out[4]:</div><div class=\\\\\"output_text output_subarea output_execute_result\\\\\"><pre>0.90377360145618091</pre></div></div></div></div></div><div class=\\\\\"cell border-box-sizing text_cell rendered\\\\\"><div class=\\\\\"prompt input_prompt\\\\\"></div><div class=\\\\\"inner_cell\\\\\"><div class=\\\\\"text_cell_render border-box-sizing rendered_html\\\\\"><h2 id=\\\\\"Calculate-Spearman\\'s-Correlation-Using-SciPy\\\\\">Calculate Spearman\\'s Correlation Using SciPy<a class=\\\\\"anchor-link\\\\\" href=\\\\\"#Calculate-Spearman\\'s-Correlation-Using-SciPy\\\\\">&#182;</a></h2></div></div></div><div class=\\\\\"cell border-box-sizing code_cell rendered\\\\\"><div class=\\\\\"input\\\\\"><div class=\\\\\"prompt input_prompt\\\\\">In&nbsp;[5]:</div><div class=\\\\\"inner_cell\\\\\">    <div class=\\\\\"input_area\\\\\"><div class=\\\\\" highlight hl-ipython3\\\\\"><pre><span></span><span class=\\\\\"c1\\\\\"># Just to check our results, here it Spearman&#39;s using Scipy</span><span class=\\\\\"n\\\\\">scipy</span><span class=\\\\\"o\\\\\">.</span><span class=\\\\\"n\\\\\">stats</span><span class=\\\\\"o\\\\\">.</span><span class=\\\\\"n\\\\\">spearmanr</span><span class=\\\\\"p\\\\\">(</span><span class=\\\\\"n\\\\\">x</span><span class=\\\\\"p\\\\\">,</span> <span class=\\\\\"n\\\\\">y</span><span class=\\\\\"p\\\\\">)[</span><span class=\\\\\"mi\\\\\">0</span><span class=\\\\\"p\\\\\">]</span></pre></div></div></div></div><div class=\\\\\"output_wrapper\\\\\"><div class=\\\\\"output\\\\\"><div class=\\\\\"output_area\\\\\"><div class=\\\\\"prompt output_prompt\\\\\">Out[5]:</div><div class=\\\\\"output_text output_subarea output_execute_result\\\\\"><pre>0.90377360145618102</pre></div></div></div></div></div> \"}'"
      ]
     },
     "execution_count": 64,
     "metadata": {},
     "output_type": "execute_result"
    }
   ],
   "source": [
    "html = f[0].html\n",
    "json.dumps({\"html\":html})"
   ]
  },
  {
   "cell_type": "code",
   "execution_count": 59,
   "metadata": {},
   "outputs": [
    {
     "data": {
      "text/plain": [
       "'{\\n \"cells\": [\\n  {\\n   \"cell_type\": \"raw\",\\n   \"metadata\": {},\\n   \"source\": [\\n    \"---\\\\n\",\\n    \"title: \\\\\"Spearmans Rank Correlation\\\\\"\\\\n\",\\n    \"author: \\\\\"Chris Albon\\\\\"\\\\n\",\\n    \"date: 2017-12-20T11:53:49-07:00\\\\n\",\\n    \"description: \\\\\"Spearman\\'s Rank Correlation in Python.\\\\\"\\\\n\",\\n    \"type: technical_note\\\\n\",\\n    \"draft: false\\\\n\",\\n    \"---\"\\n   ]\\n  },\\n  {\\n   \"cell_type\": \"markdown\",\\n   \"metadata\": {},\\n   \"source\": [\\n    \"## Preliminaries\"\\n   ]\\n  },\\n  {\\n   \"cell_type\": \"code\",\\n   \"execution_count\": 1,\\n   \"metadata\": {\\n    \"collapsed\": true\\n   },\\n   \"outputs\": [],\\n   \"source\": [\\n    \"import numpy as np\\\\n\",\\n    \"import pandas as pd\\\\n\",\\n    \"import scipy.stats\"\\n   ]\\n  },\\n  {\\n   \"cell_type\": \"markdown\",\\n   \"metadata\": {},\\n   \"source\": [\\n    \"## Create Data\"\\n   ]\\n  },\\n  {\\n   \"cell_type\": \"code\",\\n   \"execution_count\": 2,\\n   \"metadata\": {\\n    \"collapsed\": true\\n   },\\n   \"outputs\": [],\\n   \"source\": [\\n    \"# Create two lists of random values\\\\n\",\\n    \"x = [1,2,3,4,5,6,7,8,9]\\\\n\",\\n    \"y = [2,1,2,4.5,7,6.5,6,9,9.5]\"\\n   ]\\n  },\\n  {\\n   \"cell_type\": \"markdown\",\\n   \"metadata\": {},\\n   \"source\": [\\n    \"## Calculate Spearman\\'s Rank Correlation\\\\n\",\\n    \"\\\\n\",\\n    \"Spearman\\'s rank correlation is the Pearson\\'s correlation coefficient of the ranked version of the variables.\"\\n   ]\\n  },\\n  {\\n   \"cell_type\": \"code\",\\n   \"execution_count\": 3,\\n   \"metadata\": {\\n    \"collapsed\": true\\n   },\\n   \"outputs\": [],\\n   \"source\": [\\n    \"# Create a function that takes in x\\'s and y\\'s\\\\n\",\\n    \"def spearmans_rank_correlation(xs, ys):\\\\n\",\\n    \"    \\\\n\",\\n    \"    # Calculate the rank of x\\'s\\\\n\",\\n    \"    xranks = pd.Series(xs).rank()\\\\n\",\\n    \"    \\\\n\",\\n    \"    # Caclulate the ranking of the y\\'s\\\\n\",\\n    \"    yranks = pd.Series(ys).rank()\\\\n\",\\n    \"    \\\\n\",\\n    \"    # Calculate Pearson\\'s correlation coefficient on the ranked versions of the data\\\\n\",\\n    \"    return scipy.stats.pearsonr(xranks, yranks)\"\\n   ]\\n  },\\n  {\\n   \"cell_type\": \"code\",\\n   \"execution_count\": 4,\\n   \"metadata\": {\\n    \"scrolled\": true\\n   },\\n   \"outputs\": [\\n    {\\n     \"data\": {\\n      \"text/plain\": [\\n       \"0.90377360145618091\"\\n      ]\\n     },\\n     \"execution_count\": 4,\\n     \"metadata\": {},\\n     \"output_type\": \"execute_result\"\\n    }\\n   ],\\n   \"source\": [\\n    \"# Run the function\\\\n\",\\n    \"spearmans_rank_correlation(x, y)[0]\"\\n   ]\\n  },\\n  {\\n   \"cell_type\": \"markdown\",\\n   \"metadata\": {},\\n   \"source\": [\\n    \"## Calculate Spearman\\'s Correlation Using SciPy\"\\n   ]\\n  },\\n  {\\n   \"cell_type\": \"code\",\\n   \"execution_count\": 5,\\n   \"metadata\": {\\n    \"scrolled\": true\\n   },\\n   \"outputs\": [\\n    {\\n     \"data\": {\\n      \"text/plain\": [\\n       \"0.90377360145618102\"\\n      ]\\n     },\\n     \"execution_count\": 5,\\n     \"metadata\": {},\\n     \"output_type\": \"execute_result\"\\n    }\\n   ],\\n   \"source\": [\\n    \"# Just to check our results, here it Spearman\\'s using Scipy\\\\n\",\\n    \"scipy.stats.spearmanr(x, y)[0]\"\\n   ]\\n  }\\n ],\\n \"metadata\": {\\n  \"kernelspec\": {\\n   \"display_name\": \"Python 3\",\\n   \"language\": \"python\",\\n   \"name\": \"python3\"\\n  },\\n  \"language_info\": {\\n   \"codemirror_mode\": {\\n    \"name\": \"ipython\",\\n    \"version\": 3\\n   },\\n   \"file_extension\": \".py\",\\n   \"mimetype\": \"text/x-python\",\\n   \"name\": \"python\",\\n   \"nbconvert_exporter\": \"python\",\\n   \"pygments_lexer\": \"ipython3\",\\n   \"version\": \"3.6.3\"\\n  }\\n },\\n \"nbformat\": 4,\\n \"nbformat_minor\": 2\\n}\\n'"
      ]
     },
     "execution_count": 59,
     "metadata": {},
     "output_type": "execute_result"
    }
   ],
   "source": [
    "snippet_list[0].notebook"
   ]
  },
  {
   "cell_type": "code",
   "execution_count": 61,
   "metadata": {},
   "outputs": [
    {
     "data": {
      "text/plain": [
       "{'cells': [{'cell_type': 'raw',\n",
       "   'metadata': {},\n",
       "   'source': ['---\\n',\n",
       "    'title: \"Spearmans Rank Correlation\"\\n',\n",
       "    'author: \"Chris Albon\"\\n',\n",
       "    'date: 2017-12-20T11:53:49-07:00\\n',\n",
       "    'description: \"Spearman\\'s Rank Correlation in Python.\"\\n',\n",
       "    'type: technical_note\\n',\n",
       "    'draft: false\\n',\n",
       "    '---']},\n",
       "  {'cell_type': 'markdown', 'metadata': {}, 'source': ['## Preliminaries']},\n",
       "  {'cell_type': 'code',\n",
       "   'execution_count': 1,\n",
       "   'metadata': {'collapsed': True},\n",
       "   'outputs': [],\n",
       "   'source': ['import numpy as np\\n',\n",
       "    'import pandas as pd\\n',\n",
       "    'import scipy.stats']},\n",
       "  {'cell_type': 'markdown', 'metadata': {}, 'source': ['## Create Data']},\n",
       "  {'cell_type': 'code',\n",
       "   'execution_count': 2,\n",
       "   'metadata': {'collapsed': True},\n",
       "   'outputs': [],\n",
       "   'source': ['# Create two lists of random values\\n',\n",
       "    'x = [1,2,3,4,5,6,7,8,9]\\n',\n",
       "    'y = [2,1,2,4.5,7,6.5,6,9,9.5]']},\n",
       "  {'cell_type': 'markdown',\n",
       "   'metadata': {},\n",
       "   'source': [\"## Calculate Spearman's Rank Correlation\\n\",\n",
       "    '\\n',\n",
       "    \"Spearman's rank correlation is the Pearson's correlation coefficient of the ranked version of the variables.\"]},\n",
       "  {'cell_type': 'code',\n",
       "   'execution_count': 3,\n",
       "   'metadata': {'collapsed': True},\n",
       "   'outputs': [],\n",
       "   'source': [\"# Create a function that takes in x's and y's\\n\",\n",
       "    'def spearmans_rank_correlation(xs, ys):\\n',\n",
       "    '    \\n',\n",
       "    \"    # Calculate the rank of x's\\n\",\n",
       "    '    xranks = pd.Series(xs).rank()\\n',\n",
       "    '    \\n',\n",
       "    \"    # Caclulate the ranking of the y's\\n\",\n",
       "    '    yranks = pd.Series(ys).rank()\\n',\n",
       "    '    \\n',\n",
       "    \"    # Calculate Pearson's correlation coefficient on the ranked versions of the data\\n\",\n",
       "    '    return scipy.stats.pearsonr(xranks, yranks)']},\n",
       "  {'cell_type': 'code',\n",
       "   'execution_count': 4,\n",
       "   'metadata': {'scrolled': True},\n",
       "   'outputs': [{'data': {'text/plain': ['0.90377360145618091']},\n",
       "     'execution_count': 4,\n",
       "     'metadata': {},\n",
       "     'output_type': 'execute_result'}],\n",
       "   'source': ['# Run the function\\n', 'spearmans_rank_correlation(x, y)[0]']},\n",
       "  {'cell_type': 'markdown',\n",
       "   'metadata': {},\n",
       "   'source': [\"## Calculate Spearman's Correlation Using SciPy\"]},\n",
       "  {'cell_type': 'code',\n",
       "   'execution_count': 5,\n",
       "   'metadata': {'scrolled': True},\n",
       "   'outputs': [{'data': {'text/plain': ['0.90377360145618102']},\n",
       "     'execution_count': 5,\n",
       "     'metadata': {},\n",
       "     'output_type': 'execute_result'}],\n",
       "   'source': [\"# Just to check our results, here it Spearman's using Scipy\\n\",\n",
       "    'scipy.stats.spearmanr(x, y)[0]']}],\n",
       " 'metadata': {'kernelspec': {'display_name': 'Python 3',\n",
       "   'language': 'python',\n",
       "   'name': 'python3'},\n",
       "  'language_info': {'codemirror_mode': {'name': 'ipython', 'version': 3},\n",
       "   'file_extension': '.py',\n",
       "   'mimetype': 'text/x-python',\n",
       "   'name': 'python',\n",
       "   'nbconvert_exporter': 'python',\n",
       "   'pygments_lexer': 'ipython3',\n",
       "   'version': '3.6.3'}},\n",
       " 'nbformat': 4,\n",
       " 'nbformat_minor': 2}"
      ]
     },
     "execution_count": 61,
     "metadata": {},
     "output_type": "execute_result"
    }
   ],
   "source": [
    "json.loads(snippet_list[0].notebook)"
   ]
  },
  {
   "cell_type": "code",
   "execution_count": 68,
   "metadata": {},
   "outputs": [
    {
     "data": {
      "text/plain": [
       "False"
      ]
     },
     "execution_count": 68,
     "metadata": {},
     "output_type": "execute_result"
    }
   ],
   "source": [
    "# This proves that we can't just load\n",
    "json.dumps(str(json.loads(snippet_list[0].notebook))) == json.dumps(snippet_list[0].notebook)"
   ]
  },
  {
   "cell_type": "code",
   "execution_count": 155,
   "metadata": {},
   "outputs": [],
   "source": [
    "nb = snippet_list[21].notebook"
   ]
  },
  {
   "cell_type": "code",
   "execution_count": 156,
   "metadata": {},
   "outputs": [],
   "source": [
    "def find_nth(haystack, needle, n):\n",
    "    start = haystack.find(needle)\n",
    "    while start >= 0 and n > 1:\n",
    "        start = haystack.find(needle, start+len(needle))\n",
    "        n -= 1\n",
    "    return start"
   ]
  },
  {
   "cell_type": "code",
   "execution_count": 162,
   "metadata": {},
   "outputs": [],
   "source": []
  },
  {
   "cell_type": "code",
   "execution_count": 163,
   "metadata": {},
   "outputs": [
    {
     "data": {
      "text/plain": [
       "'{\"cells\": [{\"cell_type\": \"markdown\", \"metadata\": {}, \"source\": [\"### Create a variable with the status of the conflict.\\\\n\", \"\\\\n\", \"- 1 if the conflict is active\\\\n\", \"- 0 if the conflict is not active\\\\n\", \"- unknown if the status of the conflict is unknwon\"]}, {\"cell_type\": \"code\", \"execution_count\": 10, \"metadata\": {}, \"outputs\": [], \"source\": [\"conflict_active = 1\"]}, {\"cell_type\": \"markdown\", \"metadata\": {}, \"source\": [\"### If the conflict is active print a statement\"]}, {\"cell_type\": \"code\", \"execution_count\": 17, \"metadata\": {\"collapsed\": true}, \"outputs\": [{\"name\": \"stdout\", \"output_type\": \"stream\", \"text\": [\"The conflict is active.\\\\n\"]}], \"source\": [\"if conflict_active == 1:\\\\n\", \"    print(\\'The conflict is active.\\')\"]}, {\"cell_type\": \"markdown\", \"metadata\": {}, \"source\": [\"### If the conflict is active print a statement, if not, print a different statement\"]}, {\"cell_type\": \"code\", \"execution_count\": 18, \"metadata\": {}, \"outputs\": [{\"name\": \"stdout\", \"output_type\": \"stream\", \"text\": [\"The conflict is active.\\\\n\"]}], \"source\": [\"if conflict_active == 1:\\\\n\", \"    print(\\'The conflict is active.\\')\\\\n\", \"else:\\\\n\", \"    print(\\'The conflict is not active.\\')\"]}, {\"cell_type\": \"markdown\", \"metadata\": {}, \"source\": [\"### If the conflict is active print a statement, if not, print a different statement, if unknown, state a third statement.\"]}, {\"cell_type\": \"code\", \"execution_count\": 19, \"metadata\": {}, \"outputs\": [{\"name\": \"stdout\", \"output_type\": \"stream\", \"text\": [\"The conflict is active.\\\\n\"]}], \"source\": [\"if conflict_active == 1:\\\\n\", \"    print(\\'The conflict is active.\\')\\\\n\", \"elif conflict_active == \\'unknown\\':\\\\n\", \"    print(\\'The status of the conflict is unknown\\')\\\\n\", \"else:\\\\n\", \"    print(\\'The conflict is not active.\\')\"]}], \"metadata\": {\"kernelspec\": {\"display_name\": \"Python 3\", \"language\": \"python\", \"name\": \"python3\"}, \"language_info\": {\"codemirror_mode\": {\"name\": \"ipython\", \"version\": 3}, \"file_extension\": \".py\", \"mimetype\": \"text/x-python\", \"name\": \"python\", \"nbconvert_exporter\": \"python\", \"pygments_lexer\": \"ipython3\", \"version\": \"3.6.3\"}}, \"nbformat\": 4, \"nbformat_minor\": 1}'"
      ]
     },
     "execution_count": 163,
     "metadata": {},
     "output_type": "execute_result"
    }
   ],
   "source": []
  },
  {
   "cell_type": "code",
   "execution_count": 101,
   "metadata": {},
   "outputs": [
    {
     "data": {
      "text/plain": [
       "'{\"cells\": [{\"cell_type\": \"raw\", \"metadata\": {}, \"source\": [\"---\\\\n\", \"title: \\\\\"Spearmans Rank Correlation\\\\\"\\\\n\", \"author: \\\\\"Chris Albon\\\\\"\\\\n\", \"date: 2017-12-20T11:53:49-07:00\\\\n\", \"description: \\\\\"Spearman\\'s Rank Correlation in Python.\\\\\"\\\\n\", \"type: technical_note\\\\n\", \"draft: false\\\\n\", \"---\"]}, {\"cell_type\": \"markdown\", \"metadata\": {}, \"source\": [\"## Preliminaries\"]}, {\"cell_type\": \"code\", \"execution_count\": 1, \"metadata\": {\"collapsed\": true}, \"outputs\": [], \"source\": [\"import numpy as np\\\\n\", \"import pandas as pd\\\\n\", \"import scipy.stats\"]}, {\"cell_type\": \"markdown\", \"metadata\": {}, \"source\": [\"## Create Data\"]}, {\"cell_type\": \"code\", \"execution_count\": 2, \"metadata\": {\"collapsed\": true}, \"outputs\": [], \"source\": [\"# Create two lists of random values\\\\n\", \"x = [1,2,3,4,5,6,7,8,9]\\\\n\", \"y = [2,1,2,4.5,7,6.5,6,9,9.5]\"]}, {\"cell_type\": \"markdown\", \"metadata\": {}, \"source\": [\"## Calculate Spearman\\'s Rank Correlation\\\\n\", \"\\\\n\", \"Spearman\\'s rank correlation is the Pearson\\'s correlation coefficient of the ranked version of the variables.\"]}, {\"cell_type\": \"code\", \"execution_count\": 3, \"metadata\": {\"collapsed\": true}, \"outputs\": [], \"source\": [\"# Create a function that takes in x\\'s and y\\'s\\\\n\", \"def spearmans_rank_correlation(xs, ys):\\\\n\", \"    \\\\n\", \"    # Calculate the rank of x\\'s\\\\n\", \"    xranks = pd.Series(xs).rank()\\\\n\", \"    \\\\n\", \"    # Caclulate the ranking of the y\\'s\\\\n\", \"    yranks = pd.Series(ys).rank()\\\\n\", \"    \\\\n\", \"    # Calculate Pearson\\'s correlation coefficient on the ranked versions of the data\\\\n\", \"    return scipy.stats.pearsonr(xranks, yranks)\"]}, {\"cell_type\": \"code\", \"execution_count\": 4, \"metadata\": {\"scrolled\": true}, \"outputs\": [{\"data\": {\"text/plain\": [\"0.90377360145618091\"]}, \"execution_count\": 4, \"metadata\": {}, \"output_type\": \"execute_result\"}], \"source\": [\"# Run the function\\\\n\", \"spearmans_rank_correlation(x, y)[0]\"]}, {\"cell_type\": \"markdown\", \"metadata\": {}, \"source\": [\"## Calculate Spearman\\'s Correlation Using SciPy\"]}, {\"cell_type\": \"code\", \"execution_count\": 5, \"metadata\": {\"scrolled\": true}, \"outputs\": [{\"data\": {\"text/plain\": [\"0.90377360145618102\"]}, \"execution_count\": 5, \"metadata\": {}, \"output_type\": \"execute_result\"}], \"source\": [\"# Just to check our results, here it Spearman\\'s using Scipy\\\\n\", \"scipy.stats.spearmanr(x, y)[0]\"]}], \"metadata\": {\"kernelspec\": {\"display_name\": \"Python 3\", \"language\": \"python\", \"name\": \"python3\"}, \"language_info\": {\"codemirror_mode\": {\"name\": \"ipython\", \"version\": 3}, \"file_extension\": \".py\", \"mimetype\": \"text/x-python\", \"name\": \"python\", \"nbconvert_exporter\": \"python\", \"pygments_lexer\": \"ipython3\", \"version\": \"3.6.3\"}}, \"nbformat\": 4, \"nbformat_minor\": 2}'"
      ]
     },
     "execution_count": 101,
     "metadata": {},
     "output_type": "execute_result"
    }
   ],
   "source": [
    "json.dumps(json.loads(snippet_list[0].notebook,))"
   ]
  },
  {
   "cell_type": "code",
   "execution_count": null,
   "metadata": {},
   "outputs": [],
   "source": []
  }
 ],
 "metadata": {
  "kernelspec": {
   "display_name": "Python 3",
   "language": "python",
   "name": "python3"
  },
  "language_info": {
   "codemirror_mode": {
    "name": "ipython",
    "version": 3
   },
   "file_extension": ".py",
   "mimetype": "text/x-python",
   "name": "python",
   "nbconvert_exporter": "python",
   "pygments_lexer": "ipython3",
   "version": "3.7.0"
  }
 },
 "nbformat": 4,
 "nbformat_minor": 2
}
