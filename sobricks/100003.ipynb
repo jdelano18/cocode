{
 "cells": [
  {
   "cell_type": "markdown",
   "metadata": {},
   "source": [
    "---\n",
    "title: \"What are metaclasses in Python?\"\n",
    "description: \"\"\n",
    "tags: \"python, oop, metaclass, python-datamodel\"\n",
    "URL: https://stackoverflow.com/questions/100003\n",
    "Licence: \n",
    "Creator: \n",
    "Meta: \"\"\n",
    "\n",
    "---"
   ]
  },
  {
   "cell_type": "markdown",
   "metadata": {},
   "source": [
    " <div>\n",
    "    \t<img src=\"./coco.png\" style=\"float: left;height: 55px\">\n",
    "    \t<div style=\"height: 75px;text-align: center; padding-top:5px\">\n",
    "        <h1>\n",
    "      \tWhat are metaclasses in Python?\n",
    "        </h1>\n",
    "        <p></p>\n",
    "    \t</div>\n",
    "\t\t</div> "
   ]
  },
  {
   "cell_type": "markdown",
   "metadata": {},
   "source": [
    " <div style=\"height:40px\">\n",
    "<div style=\"width:100%; text-align:center; border-bottom: 1px solid #000; line-height:0.1em; margin:40px 0 20px;\">\n",
    "<span style=\"background:#fff; padding:0 10px; font-size:25px; font-family: 'Open Sans', sans-serif;\">\n",
    "Question\n",
    "</span>\n",
    "</div>\n",
    "</div>\n",
    "\t"
   ]
  },
  {
   "cell_type": "markdown",
   "metadata": {},
   "source": [
    "<p>What are metaclasses and what do we use them for?</p>\n"
   ]
  },
  {
   "cell_type": "markdown",
   "metadata": {},
   "source": [
    " <div style=\"height:40px\">\n",
    "<div style=\"width:100%; text-align:center; border-bottom: 1px solid #000; line-height:0.1em; margin:40px 0 20px;\">\n",
    "<span style=\"background:#fff; padding:0 10px; font-size:25px; font-family: 'Open Sans', sans-serif;\">\n",
    "Answer\n",
    "</span>\n",
    "</div>\n",
    "</div>\n",
    "\t"
   ]
  },
  {
   "cell_type": "markdown",
   "metadata": {},
   "source": [
    "<p>A metaclass is the class of a class. A class defines how an instance of the class (i.e. an object) behaves while a metaclass defines how a class behaves. A class is an instance of a metaclass.</p>\n",
    "\n",
    "<p>While in Python you can use arbitrary callables for metaclasses (like <a href=\"https://stackoverflow.com/questions/100003/what-is-a-metaclass-in-python/100037#100037\">Jerub</a> shows), the better approach is to make it an actual class itself. <code>type</code> is the usual metaclass in Python. <code>type</code> is itself a class, and it is its own type. You won't be able to recreate something like <code>type</code> purely in Python, but Python cheats a little. To create your own metaclass in Python you really just want to subclass <code>type</code>.</p>\n",
    "\n",
    "<p>A metaclass is most commonly used as a class-factory. When you create an object by calling the class, Python creates a new class (when it executes the 'class' statement) by calling the metaclass. Combined with the normal <code>__init__</code> and <code>__new__</code> methods, metaclasses therefore allow you to do 'extra things' when creating a class, like registering the new class with some registry or replace the class with something else entirely.</p>\n",
    "\n",
    "<p>When the <code>class</code> statement is executed, Python first executes the body of the <code>class</code> statement as a normal block of code. The resulting namespace (a dict) holds the attributes of the class-to-be. The metaclass is determined by looking at the baseclasses of the class-to-be (metaclasses are inherited), at the <code>__metaclass__</code> attribute of the class-to-be (if any) or the <code>__metaclass__</code> global variable. The metaclass is then called with the name, bases and attributes of the class to instantiate it.</p>\n",
    "\n",
    "<p>However, metaclasses actually define the <em>type</em> of a class, not just a factory for it, so you can do much more with them. You can, for instance, define normal methods on the metaclass. These metaclass-methods are like classmethods in that they can be called on the class without an instance, but they are also not like classmethods in that they cannot be called on an instance of the class. <code>type.__subclasses__()</code> is an example of a method on the <code>type</code> metaclass. You can also define the normal 'magic' methods, like <code>__add__</code>, <code>__iter__</code> and <code>__getattr__</code>, to implement or change how the class behaves.</p>\n",
    "\n",
    "<p>Here's an aggregated example of the bits and pieces:</p>\n",
    "\n",
    "<pre><code>def make_hook(f):\n",
    "    \"\"\"Decorator to turn 'foo' method into '__foo__'\"\"\"\n",
    "    f.is_hook = 1\n",
    "    return f\n",
    "\n",
    "class MyType(type):\n",
    "    def __new__(mcls, name, bases, attrs):\n",
    "\n",
    "        if name.startswith('None'):\n",
    "            return None\n",
    "\n",
    "        # Go over attributes and see if they should be renamed.\n",
    "        newattrs = {}\n",
    "        for attrname, attrvalue in attrs.iteritems():\n",
    "            if getattr(attrvalue, 'is_hook', 0):\n",
    "                newattrs['__%s__' % attrname] = attrvalue\n",
    "            else:\n",
    "                newattrs[attrname] = attrvalue\n",
    "\n",
    "        return super(MyType, mcls).__new__(mcls, name, bases, newattrs)\n",
    "\n",
    "    def __init__(self, name, bases, attrs):\n",
    "        super(MyType, self).__init__(name, bases, attrs)\n",
    "\n",
    "        # classregistry.register(self, self.interfaces)\n",
    "        print \"Would register class %s now.\" % self\n",
    "\n",
    "    def __add__(self, other):\n",
    "        class AutoClass(self, other):\n",
    "            pass\n",
    "        return AutoClass\n",
    "        # Alternatively, to autogenerate the classname as well as the class:\n",
    "        # return type(self.__name__ + other.__name__, (self, other), {})\n",
    "\n",
    "    def unregister(self):\n",
    "        # classregistry.unregister(self)\n",
    "        print \"Would unregister class %s now.\" % self\n",
    "\n",
    "class MyObject:\n",
    "    __metaclass__ = MyType\n",
    "\n",
    "\n",
    "class NoneSample(MyObject):\n",
    "    pass\n",
    "\n",
    "# Will print \"NoneType None\"\n",
    "print type(NoneSample), repr(NoneSample)\n",
    "\n",
    "class Example(MyObject):\n",
    "    def __init__(self, value):\n",
    "        self.value = value\n",
    "    @make_hook\n",
    "    def add(self, other):\n",
    "        return self.__class__(self.value + other.value)\n",
    "\n",
    "# Will unregister the class\n",
    "Example.unregister()\n",
    "\n",
    "inst = Example(10)\n",
    "# Will fail with an AttributeError\n",
    "#inst.unregister()\n",
    "\n",
    "print inst + inst\n",
    "class Sibling(MyObject):\n",
    "    pass\n",
    "\n",
    "ExampleSibling = Example + Sibling\n",
    "# ExampleSibling is now a subclass of both Example and Sibling (with no\n",
    "# content of its own) although it will believe it's called 'AutoClass'\n",
    "print ExampleSibling\n",
    "print ExampleSibling.__mro__\n",
    "</code></pre>\n"
   ]
  },
  {
   "cell_type": "markdown",
   "metadata": {},
   "source": [
    " <div style=\"height:40px\">\n",
    "<div style=\"width:100%; text-align:center; border-bottom: 1px solid #000; line-height:0.1em; margin:40px 0 20px;\">\n",
    "<span style=\"background:#fff; padding:0 10px; font-size:25px; font-family: 'Open Sans', sans-serif;\">\n",
    "Attribution\n",
    "</span>\n",
    "</div>\n",
    "</div>\n",
    "\t"
   ]
  },
  {
   "cell_type": "markdown",
   "metadata": {},
   "source": [
    "Thank you to [e-satis](https://stackoverflow.com/users/9951) for providing this answer to [Thomas Wouters](https://stackoverflow.com/users/17624)'s question on [Stack Overflow](https://stackoverflow.com/). "
   ]
  },
  {
   "cell_type": "markdown",
   "metadata": {},
   "source": [
    "You can check out the link to the original question [here](https://stackoverflow.com/questions/100003)."
   ]
  }
 ],
 "metadata": {
  "kernelspec": {
   "display_name": "Python 3",
   "language": "python",
   "name": "python3"
  },
  "language_info": {
   "codemirror_mode": {
    "name": "ipython",
    "version": 3
   },
   "file_extension": ".py",
   "mimetype": "text/x-python",
   "name": "python",
   "nbconvert_exporter": "python",
   "pygments_lexer": "ipython3",
   "version": "3.7.0"
  }
 },
 "nbformat": 4,
 "nbformat_minor": 2
}
