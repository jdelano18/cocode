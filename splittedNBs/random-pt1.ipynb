{
 "cells": [
  {
   "cell_type": "markdown",
   "metadata": {},
   "source": [
    "---\n",
    "title: \"Difference Between Instance, Static, And Class Methods\"\n",
    "description: \"Explaning the difference between instance, static, and class methods and when to use which type. Instance methods (the most common type) need an instance of the class and it's accessed through self. Class methods don't need a class instance. They can't access the instance with self, but they must access the class through cls. Static methods cannot access cls or self.\"\n",
    "tags: Python Fundamentals\n",
    "URL: https://learnxinyminutes.com/docs/python3/\n",
    "Licence: \n",
    "Creator: \n",
    "Meta: \"\"\n",
    "\n",
    "---"
   ]
  },
  {
   "cell_type": "markdown",
   "metadata": {},
   "source": [
    "# Key Code&"
   ]
  },
  {
   "cell_type": "code",
   "execution_count": 1,
   "metadata": {},
   "outputs": [],
   "source": [
    "class Example:\n",
    "    def instance_method(self):\n",
    "        print(\"this is an instance method\", self)\n",
    "    \n",
    "    @classmethod\n",
    "    def class_method(cls):\n",
    "        print(\"this is a class method\", cls)\n",
    "        \n",
    "    @staticmethod\n",
    "    def static_method():\n",
    "        print(\"this is a static method\")"
   ]
  },
  {
   "cell_type": "markdown",
   "metadata": {},
   "source": [
    "# Example&"
   ]
  },
  {
   "cell_type": "markdown",
   "metadata": {},
   "source": [
    "## Instance Methods"
   ]
  },
  {
   "cell_type": "markdown",
   "metadata": {},
   "source": [
    "Instance methods must take `self` as the first parameter. These are the most common type that you'll use most of the time."
   ]
  },
  {
   "cell_type": "code",
   "execution_count": 24,
   "metadata": {},
   "outputs": [],
   "source": [
    "class Human:\n",
    "    species = \"H. sapiens\"\n",
    "    \n",
    "    def __init__(self, name):\n",
    "        self.name = name\n",
    "        self._age = 0\n",
    "    \n",
    "    def hi(self):\n",
    "        print(f\"hi my name is {self.name}\")"
   ]
  },
  {
   "cell_type": "code",
   "execution_count": 25,
   "metadata": {},
   "outputs": [
    {
     "name": "stdout",
     "output_type": "stream",
     "text": [
      "hi my name is Jimmy\n"
     ]
    }
   ],
   "source": [
    "me = Human(\"Jimmy\")\n",
    "me.hi()"
   ]
  },
  {
   "cell_type": "markdown",
   "metadata": {},
   "source": [
    "# Example&"
   ]
  },
  {
   "cell_type": "markdown",
   "metadata": {},
   "source": [
    "## Class Methods"
   ]
  },
  {
   "cell_type": "markdown",
   "metadata": {},
   "source": [
    "Class methods are bound to class itself not the instance of any particular object. "
   ]
  },
  {
   "cell_type": "code",
   "execution_count": 22,
   "metadata": {},
   "outputs": [],
   "source": [
    "class Human:\n",
    "    species = \"H. sapiens\"\n",
    "\n",
    "    def __init__(self, name):\n",
    "        self.name = name\n",
    "        self._age = 0\n",
    "\n",
    "    # A class method is shared among all instances\n",
    "    @classmethod\n",
    "    def get_species(cls):\n",
    "        return cls.species"
   ]
  },
  {
   "cell_type": "code",
   "execution_count": 23,
   "metadata": {},
   "outputs": [
    {
     "data": {
      "text/plain": [
       "'H. sapiens'"
      ]
     },
     "execution_count": 23,
     "metadata": {},
     "output_type": "execute_result"
    }
   ],
   "source": [
    "bob = Human(\"bob\")\n",
    "bob.get_species()"
   ]
  },
  {
   "cell_type": "markdown",
   "metadata": {},
   "source": [
    "# Example&"
   ]
  },
  {
   "cell_type": "markdown",
   "metadata": {},
   "source": [
    "## Static Methods"
   ]
  },
  {
   "cell_type": "code",
   "execution_count": 28,
   "metadata": {},
   "outputs": [],
   "source": [
    "class Human:\n",
    "    species = \"H. sapiens\"\n",
    "\n",
    "    def __init__(self, name):\n",
    "        self.name = name\n",
    "        self._age = 0\n",
    "    \n",
    "    @staticmethod\n",
    "    def speak():\n",
    "        return \"yo \"*3"
   ]
  },
  {
   "cell_type": "code",
   "execution_count": 29,
   "metadata": {},
   "outputs": [
    {
     "data": {
      "text/plain": [
       "'yo yo yo '"
      ]
     },
     "execution_count": 29,
     "metadata": {},
     "output_type": "execute_result"
    }
   ],
   "source": [
    "alice = Human(\"alice\")\n",
    "alice.speak()"
   ]
  },
  {
   "cell_type": "markdown",
   "metadata": {},
   "source": [
    "---\n",
    "title: \"Property Decorator\"\n",
    "description: \"A property in python is just like a getter. It can turn methods into read-only attributes of the same name.\"\n",
    "tags: Python Fundamentals\n",
    "URL: https://learnxinyminutes.com/docs/python3/\n",
    "Licence: \n",
    "Creator: \n",
    "Meta: \"getter getters properties\"\n",
    "\n",
    "---"
   ]
  },
  {
   "cell_type": "markdown",
   "metadata": {},
   "source": [
    "# Key Code&"
   ]
  },
  {
   "cell_type": "code",
   "execution_count": null,
   "metadata": {},
   "outputs": [],
   "source": [
    "class Example:\n",
    "    def __init__(self, x):\n",
    "        self._x = x\n",
    "    \n",
    "    @property\n",
    "    def x(self):\n",
    "        return self._x"
   ]
  },
  {
   "cell_type": "markdown",
   "metadata": {},
   "source": [
    "# Example&"
   ]
  },
  {
   "cell_type": "code",
   "execution_count": 31,
   "metadata": {},
   "outputs": [],
   "source": [
    "class Human:\n",
    "    species = \"H. sapiens\"\n",
    "\n",
    "    def __init__(self, name):\n",
    "        self._name = name\n",
    "        self._age = 0\n",
    "    \n",
    "    @property\n",
    "    def name(self):\n",
    "        return self._name\n",
    "    \n",
    "    @property\n",
    "    def age(self):\n",
    "        return self._age"
   ]
  },
  {
   "cell_type": "code",
   "execution_count": 32,
   "metadata": {},
   "outputs": [
    {
     "name": "stdout",
     "output_type": "stream",
     "text": [
      "alice\n",
      "0\n"
     ]
    }
   ],
   "source": [
    "alice = Human(\"alice\")\n",
    "print(alice.name)\n",
    "print(alice.age)"
   ]
  },
  {
   "cell_type": "markdown",
   "metadata": {},
   "source": [
    "---\n",
    "title: \"Setter Decorator\"\n",
    "description: \"A setter in python is a method to set the value of a property.\"\n",
    "tags: Python Fundamentals\n",
    "URL: https://learnxinyminutes.com/docs/python3/\n",
    "Licence: \n",
    "Creator: \n",
    "Meta: \"setter setters properties\"\n",
    "\n",
    "---"
   ]
  },
  {
   "cell_type": "markdown",
   "metadata": {},
   "source": [
    "# Key Code&"
   ]
  },
  {
   "cell_type": "code",
   "execution_count": null,
   "metadata": {},
   "outputs": [],
   "source": [
    "class Example:\n",
    "    def __init__(self, x):\n",
    "        self._x = x\n",
    "    \n",
    "    @property\n",
    "    def x(self):\n",
    "        return self._x\n",
    "    \n",
    "    @x.setter\n",
    "    def x(self, x):\n",
    "        self._x = x"
   ]
  },
  {
   "cell_type": "markdown",
   "metadata": {},
   "source": [
    "# Example&"
   ]
  },
  {
   "cell_type": "code",
   "execution_count": 41,
   "metadata": {},
   "outputs": [],
   "source": [
    "class Human:\n",
    "    species = \"H. sapiens\"\n",
    "\n",
    "    def __init__(self, name):\n",
    "        self._name = name\n",
    "        self._age = 0\n",
    "    \n",
    "    @property\n",
    "    def age(self):\n",
    "        return self._age\n",
    "    \n",
    "    @age.setter\n",
    "    def age(self, age):\n",
    "        self._age = age"
   ]
  },
  {
   "cell_type": "code",
   "execution_count": 42,
   "metadata": {},
   "outputs": [
    {
     "name": "stdout",
     "output_type": "stream",
     "text": [
      "0\n",
      "23\n"
     ]
    }
   ],
   "source": [
    "alice = Human(\"alice\")\n",
    "print(alice.age)\n",
    "alice.age = 23\n",
    "print(alice.age)"
   ]
  },
  {
   "cell_type": "markdown",
   "metadata": {},
   "source": [
    "---\n",
    "title: \"Deleter Decorator\"\n",
    "description: \"A deleter in python is a method to delete a property.\"\n",
    "tags: Python Fundamentals\n",
    "URL: https://learnxinyminutes.com/docs/python3/\n",
    "Licence: \n",
    "Creator: \n",
    "Meta: \"deleter deleters properties\"\n",
    "\n",
    "---"
   ]
  },
  {
   "cell_type": "markdown",
   "metadata": {},
   "source": [
    "# Key Code&"
   ]
  },
  {
   "cell_type": "code",
   "execution_count": null,
   "metadata": {},
   "outputs": [],
   "source": [
    "class Example:\n",
    "    def __init__(self, x):\n",
    "        self._x = x\n",
    "    \n",
    "    @property\n",
    "    def x(self):\n",
    "        return self._x\n",
    "    \n",
    "    @x.deleter\n",
    "    def x(self):\n",
    "        del self._x"
   ]
  },
  {
   "cell_type": "markdown",
   "metadata": {},
   "source": [
    "# Example&"
   ]
  },
  {
   "cell_type": "code",
   "execution_count": 46,
   "metadata": {},
   "outputs": [],
   "source": [
    "class Human:\n",
    "    species = \"H. sapiens\"\n",
    "\n",
    "    def __init__(self, name):\n",
    "        self._name = name\n",
    "        self._age = 0\n",
    "    \n",
    "    @property\n",
    "    def age(self):\n",
    "        return self._age\n",
    "    \n",
    "    @age.deleter\n",
    "    def age(self):\n",
    "        del self._age"
   ]
  },
  {
   "cell_type": "code",
   "execution_count": 48,
   "metadata": {},
   "outputs": [
    {
     "name": "stdout",
     "output_type": "stream",
     "text": [
      "0\n"
     ]
    }
   ],
   "source": [
    "alice = Human(\"alice\")\n",
    "print(alice.age)\n",
    "del(alice.age)"
   ]
  },
  {
   "cell_type": "code",
   "execution_count": 49,
   "metadata": {},
   "outputs": [
    {
     "ename": "AttributeError",
     "evalue": "'Human' object has no attribute '_age'",
     "output_type": "error",
     "traceback": [
      "\u001b[0;31m---------------------------------------------------------------------------\u001b[0m",
      "\u001b[0;31mAttributeError\u001b[0m                            Traceback (most recent call last)",
      "\u001b[0;32m<ipython-input-49-77b766f5dcba>\u001b[0m in \u001b[0;36m<module>\u001b[0;34m\u001b[0m\n\u001b[0;32m----> 1\u001b[0;31m \u001b[0mprint\u001b[0m\u001b[0;34m(\u001b[0m\u001b[0malice\u001b[0m\u001b[0;34m.\u001b[0m\u001b[0mage\u001b[0m\u001b[0;34m)\u001b[0m\u001b[0;34m\u001b[0m\u001b[0m\n\u001b[0m",
      "\u001b[0;32m<ipython-input-46-2ad7316f2db8>\u001b[0m in \u001b[0;36mage\u001b[0;34m(self)\u001b[0m\n\u001b[1;32m      8\u001b[0m     \u001b[0;34m@\u001b[0m\u001b[0mproperty\u001b[0m\u001b[0;34m\u001b[0m\u001b[0m\n\u001b[1;32m      9\u001b[0m     \u001b[0;32mdef\u001b[0m \u001b[0mage\u001b[0m\u001b[0;34m(\u001b[0m\u001b[0mself\u001b[0m\u001b[0;34m)\u001b[0m\u001b[0;34m:\u001b[0m\u001b[0;34m\u001b[0m\u001b[0m\n\u001b[0;32m---> 10\u001b[0;31m         \u001b[0;32mreturn\u001b[0m \u001b[0mself\u001b[0m\u001b[0;34m.\u001b[0m\u001b[0m_age\u001b[0m\u001b[0;34m\u001b[0m\u001b[0m\n\u001b[0m\u001b[1;32m     11\u001b[0m \u001b[0;34m\u001b[0m\u001b[0m\n\u001b[1;32m     12\u001b[0m     \u001b[0;34m@\u001b[0m\u001b[0mage\u001b[0m\u001b[0;34m.\u001b[0m\u001b[0mdeleter\u001b[0m\u001b[0;34m\u001b[0m\u001b[0m\n",
      "\u001b[0;31mAttributeError\u001b[0m: 'Human' object has no attribute '_age'"
     ]
    }
   ],
   "source": [
    "print(alice.age)"
   ]
  },
  {
   "cell_type": "markdown",
   "metadata": {},
   "source": [
    "---\n",
    "title: \"Decorators\"\n",
    "description: \"Decorators are tools that allow you to modify the behavior of a method by wrapping one function with another function. A function is taken as the argument into a second function and then called inside the wrapper function.\"\n",
    "tags: Python Fundamentals\n",
    "URL: https://learnxinyminutes.com/docs/python3/\n",
    "Licence: \n",
    "Creator: \n",
    "Meta: \"function inside function\"\n",
    "\n",
    "---"
   ]
  },
  {
   "cell_type": "markdown",
   "metadata": {},
   "source": [
    "# Key Code&"
   ]
  },
  {
   "cell_type": "code",
   "execution_count": 56,
   "metadata": {},
   "outputs": [],
   "source": [
    "def my_decorator(function):\n",
    "    def wrapper():\n",
    "        print(\"about to call function\")\n",
    "        function()\n",
    "        print(\"called the function\")\n",
    "    return wrapper\n",
    "\n",
    "@my_decorator\n",
    "def method():\n",
    "    print(\"Woop!\")"
   ]
  },
  {
   "cell_type": "markdown",
   "metadata": {},
   "source": [
    "# Example&"
   ]
  },
  {
   "cell_type": "markdown",
   "metadata": {},
   "source": [
    "In this example `beg` wraps `say`. If `say_please` is True then it will change the returned message."
   ]
  },
  {
   "cell_type": "code",
   "execution_count": 57,
   "metadata": {},
   "outputs": [
    {
     "name": "stdout",
     "output_type": "stream",
     "text": [
      "Can you get me a cookie?\n",
      "Can you get me a cookie? Please! I'd really like one :)\n"
     ]
    }
   ],
   "source": [
    "from functools import wraps\n",
    "\n",
    "\n",
    "def beg(target_function):\n",
    "    @wraps(target_function)\n",
    "    def wrapper(*args, **kwargs):\n",
    "        msg, say_please = target_function(*args, **kwargs)\n",
    "        if say_please:\n",
    "            return \"{} {}\".format(msg, \"Please! I'd really like one :)\")\n",
    "        return msg\n",
    "\n",
    "    return wrapper\n",
    "\n",
    "\n",
    "@beg\n",
    "def ask(say_please=False):\n",
    "    msg = \"Can you get me a cookie?\"\n",
    "    return msg, say_please\n",
    "\n",
    "\n",
    "print(ask())\n",
    "print(ask(say_please=True))"
   ]
  },
  {
   "cell_type": "markdown",
   "metadata": {},
   "source": [
    "---\n",
    "title: \"Selection Sort\"\n",
    "description: \"Selection sort is an inplace comparison sort. Selection sort has an O(n^2) time complexity which is quite slow for large arrays. Selection sort works by dividing the input array into two parts: the sorted and unsorted part. Initially, the sorted part is an empty list and the unsorted part is the input array. The algorithm works by finding the smallest value in the unsorted array, swapping it with the leftmost unsorted element (putting it in sorted order), and moving sublist boundaries one element to the right. Conceptualize how this algorithm works with the animation from Wikipedia.\"\n",
    "tags: Python Fundamentals, Lists\n",
    "URL: https://en.wikipedia.org/wiki/Selection_sort\n",
    "Licence: \n",
    "Creator: \n",
    "Meta: \"\"\n",
    "\n",
    "---"
   ]
  },
  {
   "cell_type": "markdown",
   "metadata": {},
   "source": [
    "![](Selection-Sort-Animation.gif)"
   ]
  },
  {
   "cell_type": "markdown",
   "metadata": {},
   "source": [
    "# Key Code&"
   ]
  },
  {
   "cell_type": "code",
   "execution_count": 65,
   "metadata": {},
   "outputs": [],
   "source": [
    "def selection_sort(arr):\n",
    "    for i in range(len(arr)): \n",
    "\n",
    "        # Find the index of the minimum element \n",
    "        # in remaining unsorted array \n",
    "        minimum = i \n",
    "        for j in range(i+1, len(arr)): \n",
    "            if arr[minimum] > arr[j]: \n",
    "                minimum = j \n",
    "\n",
    "        # Swap the found minimum element with the first element         \n",
    "        arr[i], arr[minimum] = arr[minimum], arr[i] \n",
    "    return arr"
   ]
  },
  {
   "cell_type": "markdown",
   "metadata": {},
   "source": [
    "# Example&"
   ]
  },
  {
   "cell_type": "code",
   "execution_count": 68,
   "metadata": {},
   "outputs": [
    {
     "data": {
      "text/plain": [
       "[1, 3, 3, 4, 5, 7, 8, 9, 14, 23, 46, 78, 689]"
      ]
     },
     "execution_count": 68,
     "metadata": {},
     "output_type": "execute_result"
    }
   ],
   "source": [
    "l = [3,46,78,5,23,7,8,14,4,3,689,9,1]\n",
    "selection_sort(l)"
   ]
  },
  {
   "cell_type": "markdown",
   "metadata": {},
   "source": [
    "# Learn More&"
   ]
  },
  {
   "cell_type": "markdown",
   "metadata": {},
   "source": [
    "Learn more about selection sort's implementations and efficiencies on the wikipedia page https://en.wikipedia.org/wiki/Selection_sort"
   ]
  },
  {
   "cell_type": "markdown",
   "metadata": {},
   "source": [
    "---\n",
    "title: \"Insertion Sort\"\n",
    "description: \"Insertion sort is a stable, inplace, comparison sort. Insertion sort has an O(n^2) time complexity on average unless the array is already sorted (in which case it's O(n) trivially). Insertion sort works by building a sorted array one item at a time. At each iteration, insertion sort removes one element from the input data, finds the location it belongs within the sorted list, and inserts it there. Conceptualize how this algorithm works with the animation from Wikipedia.\"\n",
    "tags: Python Fundamentals, Lists\n",
    "URL: https://en.wikipedia.org/wiki/Insertion_sort\n",
    "Licence: \n",
    "Creator: \n",
    "Meta: \"\"\n",
    "\n",
    "---"
   ]
  },
  {
   "cell_type": "markdown",
   "metadata": {},
   "source": [
    "![](Insertion-sort-example-300px.gif)"
   ]
  },
  {
   "cell_type": "markdown",
   "metadata": {},
   "source": [
    "# Key Code&"
   ]
  },
  {
   "cell_type": "code",
   "execution_count": 67,
   "metadata": {},
   "outputs": [],
   "source": [
    "def insertionSort(arr): \n",
    "      for i in range(1, len(arr)): \n",
    "        current = arr[i] \n",
    "  \n",
    "        # Move elements that are greater than current, \n",
    "        # to one position ahead of their position \n",
    "        j = i-1\n",
    "        while j >= 0 and current < arr[j] : \n",
    "                arr[j+1] = arr[j] \n",
    "                j -= 1\n",
    "        arr[j+1] = current "
   ]
  },
  {
   "cell_type": "markdown",
   "metadata": {},
   "source": [
    "# Example&"
   ]
  },
  {
   "cell_type": "code",
   "execution_count": 70,
   "metadata": {},
   "outputs": [
    {
     "name": "stdout",
     "output_type": "stream",
     "text": [
      "[1, 3, 3, 4, 5, 7, 8, 9, 14, 23, 46, 78, 689]\n"
     ]
    }
   ],
   "source": [
    "l = [3,46,78,5,23,7,8,14,4,3,689,9,1]\n",
    "insertionSort(l)\n",
    "print(l)"
   ]
  },
  {
   "cell_type": "markdown",
   "metadata": {},
   "source": [
    "# Learn More&"
   ]
  },
  {
   "cell_type": "markdown",
   "metadata": {},
   "source": [
    "Learn more about insertion sort's implementations and efficiencies on the wikipedia page https://en.wikipedia.org/wiki/Insertion_sort"
   ]
  },
  {
   "cell_type": "markdown",
   "metadata": {},
   "source": [
    "---\n",
    "title: \"Bubble Sort\"\n",
    "description: \"Bubble sort is a simple, inplace, comparison sort. It's named for how the values in the array 'bubble' up to the top. Bubble sort has an O(n^2) average time complexity which is quite poor. The algorithm works by starting at the beginning of the list, comparing every two adjacent values, and swapping them if they're out of order. For every iteration through the list, the largest value bubbles up to the top and is in the correct final order. Conceptualize how this algorithm works with the animation from Wikipedia.\"\n",
    "tags: Python Fundamentals, Lists\n",
    "URL: https://en.wikipedia.org/wiki/Bubble_sort\n",
    "Licence: \n",
    "Creator: \n",
    "Meta: \"\"\n",
    "\n",
    "---"
   ]
  },
  {
   "cell_type": "markdown",
   "metadata": {},
   "source": [
    "![](Bubble-sort-example-300px.gif)"
   ]
  },
  {
   "cell_type": "markdown",
   "metadata": {},
   "source": [
    "# Key Code&"
   ]
  },
  {
   "cell_type": "code",
   "execution_count": 71,
   "metadata": {},
   "outputs": [],
   "source": [
    "def bubbleSort(arr):\n",
    "    n = len(arr)\n",
    "    for i in range(n):\n",
    " \n",
    "        # Last i elements are already in order\n",
    "        for j in range(n-i-1):\n",
    " \n",
    "            # Swap if the element found is greater\n",
    "            # than the next element\n",
    "            if arr[j] > arr[j+1]:\n",
    "                arr[j], arr[j+1] = arr[j+1], arr[j]\n",
    "    return arr"
   ]
  },
  {
   "cell_type": "markdown",
   "metadata": {},
   "source": [
    "# Example&"
   ]
  },
  {
   "cell_type": "code",
   "execution_count": 72,
   "metadata": {},
   "outputs": [
    {
     "name": "stdout",
     "output_type": "stream",
     "text": [
      "[1, 3, 3, 4, 5, 7, 8, 9, 14, 23, 46, 78, 689]\n"
     ]
    }
   ],
   "source": [
    "l = [3,46,78,5,23,7,8,14,4,3,689,9,1]\n",
    "bubbleSort(l)\n",
    "print(l)"
   ]
  },
  {
   "cell_type": "markdown",
   "metadata": {},
   "source": [
    "# Learn More&"
   ]
  },
  {
   "cell_type": "markdown",
   "metadata": {},
   "source": [
    "Learn more about bubble sort's implementations and efficiencies on the wikipedia page https://en.wikipedia.org/wiki/Bubble_sort"
   ]
  },
  {
   "attachments": {},
   "cell_type": "markdown",
   "metadata": {},
   "source": [
    "---\n",
    "title: \"Quicksort\"\n",
    "description: \"Quicksort is an efficient, in-place, comparison sorting algorithm that uses the divide and conquer technique. On average, quicksort's time complexity is O(n* log n). In the worst case, it can take O(n^2); however, this case is quite unlikely especially as the size of the array grows. The algorithm works by partitioning the data into two arrays around a pivot (a fixed element, like the first or last element). It swaps the data such that one array contains elements smaller than the pivot and the other array contains elements larger than the pivot. This ensures that, at each step, the pivot is in the correct position in the array. For each of the sub-arrays on the left and right of the pivot, quick sort recursively applies the same steps. Conceptualize how this algorithm works with the animation from Wikipedia.\"\n",
    "tags: Python Fundamentals, Lists\n",
    "URL: https://en.wikipedia.org/wiki/Quicksort\n",
    "Licence: \n",
    "Creator: \n",
    "Meta: \"quick sort\"\n",
    "\n",
    "---"
   ]
  },
  {
   "cell_type": "markdown",
   "metadata": {},
   "source": [
    "![](Quicksort.gif)"
   ]
  },
  {
   "cell_type": "markdown",
   "metadata": {},
   "source": [
    "# Key Code&"
   ]
  },
  {
   "cell_type": "code",
   "execution_count": 77,
   "metadata": {},
   "outputs": [],
   "source": [
    "def quicksort(arr):\n",
    "    quicksort_helper(arr, 0, len(arr)-1)"
   ]
  },
  {
   "cell_type": "code",
   "execution_count": 78,
   "metadata": {},
   "outputs": [],
   "source": [
    "def quicksort_helper(arr, low, high): \n",
    "    if low < high: \n",
    "        # p is partitioning index\n",
    "        p = partition(arr, low, high) \n",
    "  \n",
    "        # Sort elements before and after partition \n",
    "        quicksort_helper(arr, low, p-1) \n",
    "        quicksort_helper(arr, p+1, high)"
   ]
  },
  {
   "cell_type": "code",
   "execution_count": 79,
   "metadata": {},
   "outputs": [],
   "source": [
    "def partition(arr, low, high): \n",
    "    i = (low-1)\n",
    "    pivot = arr[high] \n",
    "  \n",
    "    for j in range(low , high):\n",
    "        if arr[j] <= pivot: \n",
    "            # increment index of smaller element \n",
    "            i += 1 \n",
    "            arr[i], arr[j] = arr[j], arr[i] \n",
    "  \n",
    "    arr[i+1], arr[high] = arr[high], arr[i+1] \n",
    "    return (i+1)"
   ]
  },
  {
   "cell_type": "markdown",
   "metadata": {},
   "source": [
    "# Example&"
   ]
  },
  {
   "cell_type": "code",
   "execution_count": 76,
   "metadata": {
    "scrolled": true
   },
   "outputs": [
    {
     "name": "stdout",
     "output_type": "stream",
     "text": [
      "[1, 3, 3, 4, 5, 7, 8, 9, 14, 23, 46, 78, 689]\n"
     ]
    }
   ],
   "source": [
    "l = [3,46,78,5,23,7,8,14,4,3,689,9,1]\n",
    "quicksort(l)\n",
    "print(l)"
   ]
  },
  {
   "cell_type": "markdown",
   "metadata": {},
   "source": [
    "# Learn More&"
   ]
  },
  {
   "cell_type": "markdown",
   "metadata": {},
   "source": [
    "Learn more about quicksort's implementations and efficiencies on the wikipedia page https://en.wikipedia.org/wiki/Quicksort"
   ]
  },
  {
   "attachments": {},
   "cell_type": "markdown",
   "metadata": {},
   "source": [
    "---\n",
    "title: \"Merge Sort\"\n",
    "description: \"Merge sort is an efficient, out-of-place, comparison sorting algorithm that uses the divide and conquer technique. Merge sort's best, worst, and average time complexities are O(n* log n). The algorithm works by partitioning the array into n sublists, each containing 1 element. It then repeatedly merges the elements back together in sorted order, eventually creating 1 new list all in sorted order. Conceptualize how this algorithm works with the animation from Wikipedia.\"\n",
    "tags: Python Fundamentals, Lists\n",
    "URL: https://en.wikipedia.org/wiki/Quicksort\n",
    "Licence: \n",
    "Creator: \n",
    "Meta: \"\"\n",
    "\n",
    "---"
   ]
  },
  {
   "cell_type": "markdown",
   "metadata": {},
   "source": [
    "![](Merge-sort-example-300px.gif)"
   ]
  },
  {
   "cell_type": "markdown",
   "metadata": {},
   "source": [
    "# Key Code&"
   ]
  },
  {
   "cell_type": "code",
   "execution_count": 80,
   "metadata": {},
   "outputs": [],
   "source": [
    "def mergeSort(arr):\n",
    "    if len(arr) > 1:\n",
    "        mid = len(arr)//2\n",
    "        left = arr[:mid]\n",
    "        right = arr[mid:]\n",
    "\n",
    "        mergeSort(left)\n",
    "        mergeSort(right)\n",
    "        \n",
    "        i = j = k = 0       \n",
    "        while i < len(left) and j < len(right):\n",
    "            if left[i] < right[j]:\n",
    "                arr[k] = left[i]\n",
    "                i += 1\n",
    "            else:\n",
    "                arr[k] = right[j]\n",
    "                j += 1\n",
    "            k += 1\n",
    "\n",
    "        while i < len(left):\n",
    "            arr[k] = left[i]\n",
    "            i += 1\n",
    "            k += 1\n",
    "\n",
    "        while j < len(right):\n",
    "            arr[k] = right[j]\n",
    "            j += 1\n",
    "            k += 1\n",
    "    return arr"
   ]
  },
  {
   "cell_type": "markdown",
   "metadata": {},
   "source": [
    "# Example&"
   ]
  },
  {
   "cell_type": "code",
   "execution_count": 81,
   "metadata": {
    "scrolled": true
   },
   "outputs": [
    {
     "name": "stdout",
     "output_type": "stream",
     "text": [
      "[1, 3, 3, 4, 5, 7, 8, 9, 14, 23, 46, 78, 689]\n"
     ]
    }
   ],
   "source": [
    "l = [3,46,78,5,23,7,8,14,4,3,689,9,1]\n",
    "mergeSort(l)\n",
    "print(l)"
   ]
  },
  {
   "cell_type": "markdown",
   "metadata": {},
   "source": [
    "# Learn More&"
   ]
  },
  {
   "cell_type": "markdown",
   "metadata": {},
   "source": [
    "Learn more about merge sort's implementations and efficiencies on the wikipedia page https://en.wikipedia.org/wiki/Merge_sort"
   ]
  },
  {
   "cell_type": "markdown",
   "metadata": {},
   "source": [
    "---\n",
    "title: \"Difference Between Sorted and Sort\"\n",
    "description: \"The list.sort() method modifies the original list in-place, whereas the sorted(list) will create a new list in sorted order and leave the original untouched.\"\n",
    "tags: Python Fundamentals, Lists\n",
    "URL: https://learnxinyminutes.com/docs/python3/\n",
    "Licence: \n",
    "Creator: \n",
    "Meta: \"sorted(list) vs. list.sort()\"\n",
    "\n",
    "---"
   ]
  },
  {
   "cell_type": "markdown",
   "metadata": {},
   "source": [
    "# Example&"
   ]
  },
  {
   "cell_type": "code",
   "execution_count": 87,
   "metadata": {},
   "outputs": [],
   "source": [
    "my_list = [5,2,3,4,1]"
   ]
  },
  {
   "cell_type": "code",
   "execution_count": 88,
   "metadata": {},
   "outputs": [
    {
     "name": "stdout",
     "output_type": "stream",
     "text": [
      "[1, 2, 3, 4, 5]\n",
      "[5, 2, 3, 4, 1]\n"
     ]
    }
   ],
   "source": [
    "sorted_list = sorted(my_list)\n",
    "print(sorted_list)\n",
    "print(my_list)"
   ]
  },
  {
   "cell_type": "code",
   "execution_count": 89,
   "metadata": {},
   "outputs": [
    {
     "name": "stdout",
     "output_type": "stream",
     "text": [
      "[1, 2, 3, 4, 5]\n"
     ]
    }
   ],
   "source": [
    "my_list.sort()\n",
    "print(my_list)"
   ]
  }
 ],
 "metadata": {
  "kernelspec": {
   "display_name": "Python 3",
   "language": "python",
   "name": "python3"
  },
  "language_info": {
   "codemirror_mode": {
    "name": "ipython",
    "version": 3
   },
   "file_extension": ".py",
   "mimetype": "text/x-python",
   "name": "python",
   "nbconvert_exporter": "python",
   "pygments_lexer": "ipython3",
   "version": "3.7.0"
  }
 },
 "nbformat": 4,
 "nbformat_minor": 2
}
