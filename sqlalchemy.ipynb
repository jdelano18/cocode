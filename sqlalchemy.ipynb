{
 "cells": [
  {
   "cell_type": "code",
   "execution_count": 56,
   "metadata": {},
   "outputs": [],
   "source": [
    "import pandas as pd\n",
    "import os\n",
    "import json\n",
    "import sqlalchemy"
   ]
  },
  {
   "cell_type": "code",
   "execution_count": 57,
   "metadata": {},
   "outputs": [],
   "source": [
    "class a_brick:\n",
    "    __slots__ = ['_idNum', '_title','_desc','_code','_tags']\n",
    "    \n",
    "    def __init__ (self, idNum, title, desc, code, tags):\n",
    "        self._idNum = idNum\n",
    "        self._title = str(title)\n",
    "        self._desc = str(desc)\n",
    "        self._code = str(code)\n",
    "        self._tags = str(tags)\n",
    "    \n",
    "    @property\n",
    "    def idNum(self):\n",
    "        return self._idNum\n",
    "    \n",
    "    @property\n",
    "    def title(self):\n",
    "        return self._title\n",
    "    \n",
    "    @property\n",
    "    def desc(self):\n",
    "        return self._desc\n",
    "    \n",
    "    @property\n",
    "    def code(self):\n",
    "        return self._code\n",
    "    \n",
    "    @property\n",
    "    def tags(self):\n",
    "        return self._tags\n",
    "    \n",
    "    @property\n",
    "    def astuple(self):\n",
    "        return (self.idNum, self.title, self.desc, self.code, self.tags)"
   ]
  },
  {
   "cell_type": "code",
   "execution_count": 58,
   "metadata": {},
   "outputs": [],
   "source": [
    "rootdir = \"../finalbricks/\"\n",
    "files = []\n",
    "output = []\n",
    "\n",
    "for filename in os.listdir(rootdir):\n",
    "    if filename.endswith(\".ipynb\"): \n",
    "        files.append(filename)\n",
    "    else:\n",
    "        continue\n",
    "\n",
    "#open each notebook in JSON format\n",
    "for name in files:\n",
    "    with open(rootdir+name) as json_file:\n",
    "        code = json.load(json_file)\n",
    "        nextfile = ()\n",
    "        \n",
    "        for item in code[\"cells\"][0][\"source\"][1:4]: # we want title, description, and tags only\n",
    "            item = item.replace('\\\"','').strip()\n",
    "            index = item.find(':')\n",
    "            nextfile += (item[index+2:],)\n",
    "            \n",
    "        title, desc, tags = nextfile\n",
    "        # figure out how to fix the tags later\n",
    "        brick = a_brick(None, title, desc, code, tags)\n",
    "        output.append(brick.astuple)\n"
   ]
  },
  {
   "cell_type": "code",
   "execution_count": 59,
   "metadata": {},
   "outputs": [],
   "source": [
    "from sqlalchemy import create_engine"
   ]
  },
  {
   "cell_type": "code",
   "execution_count": 60,
   "metadata": {},
   "outputs": [],
   "source": [
    "#db_uri = 'sqlite:///db.sqlite'\n",
    "#engine = create_engine(db_uri)\n",
    "\n",
    "# Create connection\n",
    "#conn = engine.connect()"
   ]
  },
  {
   "cell_type": "code",
   "execution_count": 61,
   "metadata": {},
   "outputs": [
    {
     "name": "stdout",
     "output_type": "stream",
     "text": [
      "sqlite:///bricks5.sqlite\n"
     ]
    }
   ],
   "source": [
    "from sqlalchemy.engine.url import URL\n",
    "sqlite_db = {'drivername': 'sqlite', 'database': 'bricks5.sqlite'}\n",
    "print(URL(**sqlite_db))"
   ]
  },
  {
   "cell_type": "code",
   "execution_count": 62,
   "metadata": {},
   "outputs": [],
   "source": [
    "from sqlalchemy import create_engine\n",
    "\n",
    "db_uri = URL(**sqlite_db)\n",
    "engine = create_engine(db_uri)\n",
    "conn = engine.connect()"
   ]
  },
  {
   "cell_type": "code",
   "execution_count": 63,
   "metadata": {},
   "outputs": [],
   "source": [
    "for o in output:\n",
    "    engine.execute('INSERT INTO bricks5 VALUES (?,?,?,?,?)',o)\n",
    "#result = engine.execute('SELECT * FROM bricks5')\n",
    "#print(result.fetchall())"
   ]
  },
  {
   "cell_type": "code",
   "execution_count": 49,
   "metadata": {},
   "outputs": [],
   "source": [
    "#result = engine.execute('SELECT * FROM bricks5')\n",
    "#for _r in result:\n",
    "    #print(_r)"
   ]
  },
  {
   "cell_type": "code",
   "execution_count": 52,
   "metadata": {},
   "outputs": [
    {
     "data": {
      "text/plain": [
       "<sqlalchemy.engine.result.ResultProxy at 0x7fbf68253470>"
      ]
     },
     "execution_count": 52,
     "metadata": {},
     "output_type": "execute_result"
    }
   ],
   "source": [
    "engine.execute('DELETE from bricks5 where id < 100;')"
   ]
  },
  {
   "cell_type": "code",
   "execution_count": 64,
   "metadata": {},
   "outputs": [
    {
     "name": "stdout",
     "output_type": "stream",
     "text": [
      "[(1, 'Pandas select rows containing values', 'Pandas select rows containing values', '{\\'cells\\': [{\\'cell_type\\': \\'markdown\\', \\'metadata\\': {}, \\'source\\': [\\'---\\\\n\\', \\'title: \"Pandas select rows containing values\"\\\\n\\', \\'descrip ... (3856 characters truncated) ... : \\'python\\', \\'nbconvert_exporter\\': \\'python\\', \\'pygments_lexer\\': \\'ipython3\\', \\'version\\': \\'3.6.7\\'}}, \\'nbformat\\': 4, \\'nbformat_minor\\': 2}', 'Pandas, EDA'), (2, 'Pandas Crosstabs', 'using the crosstabs method pandas', '{\\'cells\\': [{\\'cell_type\\': \\'markdown\\', \\'metadata\\': {}, \\'source\\': [\\'---\\\\n\\', \\'title: \"Pandas Crosstabs\"\\\\n\\', \\'description: \"using the cro ... (10702 characters truncated) ... : \\'python\\', \\'nbconvert_exporter\\': \\'python\\', \\'pygments_lexer\\': \\'ipython3\\', \\'version\\': \\'3.6.7\\'}}, \\'nbformat\\': 4, \\'nbformat_minor\\': 2}', 'Pandas, Data Cleaning / Preprocessing, EDA'), (3, 'pandas select rows when the column has certain values', 'pandas select rows when the column has certain values', '{\\'cells\\': [{\\'cell_type\\': \\'markdown\\', \\'metadata\\': {}, \\'source\\': [\\'---\\\\n\\', \\'title: \"pandas select rows when the column has certain values ... (6960 characters truncated) ... : \\'python\\', \\'nbconvert_exporter\\': \\'python\\', \\'pygments_lexer\\': \\'ipython3\\', \\'version\\': \\'3.6.7\\'}}, \\'nbformat\\': 4, \\'nbformat_minor\\': 2}', 'Pandas, EDA'), (4, 'Covert String to Float in Pandas', 'Changing the data type from string to float in column in pandas', '{\\'cells\\': [{\\'cell_type\\': \\'markdown\\', \\'metadata\\': {}, \\'source\\': [\\'---\\\\n\\', \\'title: \"Covert String to Float in Pandas\"\\\\n\\', \\'description ... (2305 characters truncated) ... : \\'python\\', \\'nbconvert_exporter\\': \\'python\\', \\'pygments_lexer\\': \\'ipython3\\', \\'version\\': \\'3.6.7\\'}}, \\'nbformat\\': 4, \\'nbformat_minor\\': 2}', 'Pandas, Data Cleaning / Preprocessing, Text Processing'), (5, 'Converting Prices to Floats in Pandas', 'Turning a column of prices into floats in pandas', '{\\'cells\\': [{\\'cell_type\\': \\'markdown\\', \\'metadata\\': {}, \\'source\\': [\\'---\\\\n\\', \\'title: \"Converting Prices to Floats in Pandas\"\\\\n\\', \\'descri ... (5123 characters truncated) ... : \\'python\\', \\'nbconvert_exporter\\': \\'python\\', \\'pygments_lexer\\': \\'ipython3\\', \\'version\\': \\'3.6.7\\'}}, \\'nbformat\\': 4, \\'nbformat_minor\\': 2}', 'Pandas, Data Cleaning / Preprocessing, Regex, Text Processing'), (6, 'Pandas List the Unique Values in a Column', 'find the unique values in a column pandas', '{\\'cells\\': [{\\'cell_type\\': \\'markdown\\', \\'metadata\\': {}, \\'source\\': [\\'---\\\\n\\', \\'title: \"Pandas List the Unique Values in a Column\"\\\\n\\', \\'de ... (4451 characters truncated) ... : \\'python\\', \\'nbconvert_exporter\\': \\'python\\', \\'pygments_lexer\\': \\'ipython3\\', \\'version\\': \\'3.6.7\\'}}, \\'nbformat\\': 4, \\'nbformat_minor\\': 2}', 'Pandas, Data Cleaning / Preprocessing'), (7, 'Pandas Delete Duplicates', 'deleting and dropping duplicates pandas', '{\\'cells\\': [{\\'cell_type\\': \\'markdown\\', \\'metadata\\': {}, \\'source\\': [\\'---\\\\n\\', \\'title: \"Pandas Delete Duplicates\"\\\\n\\', \\'description: \"delet ... (10053 characters truncated) ... : \\'python\\', \\'nbconvert_exporter\\': \\'python\\', \\'pygments_lexer\\': \\'ipython3\\', \\'version\\': \\'3.6.7\\'}}, \\'nbformat\\': 4, \\'nbformat_minor\\': 2}', 'Pandas, Data Cleaning / Preprocessing'), (8, 'Pandas Find Unique Values', 'Finding unique values in a column pandas', '{\\'cells\\': [{\\'cell_type\\': \\'markdown\\', \\'metadata\\': {}, \\'source\\': [\\'---\\\\n\\', \\'title: \"Pandas Find Unique Values\"\\\\n\\', \\'description: \"Find ... (5799 characters truncated) ... : \\'python\\', \\'nbconvert_exporter\\': \\'python\\', \\'pygments_lexer\\': \\'ipython3\\', \\'version\\': \\'3.6.7\\'}}, \\'nbformat\\': 4, \\'nbformat_minor\\': 2}', 'Pandas, EDA'), (9, 'Pandas Groupy Rows By', 'grouby in pandas', '{\\'cells\\': [{\\'cell_type\\': \\'markdown\\', \\'metadata\\': {}, \\'source\\': [\\'---\\\\n\\', \\'title: \"Pandas Groupy Rows By\"\\\\n\\', \\'description: \"grouby i ... (7045 characters truncated) ... : \\'python\\', \\'nbconvert_exporter\\': \\'python\\', \\'pygments_lexer\\': \\'ipython3\\', \\'version\\': \\'3.6.7\\'}}, \\'nbformat\\': 4, \\'nbformat_minor\\': 2}', 'Pandas, Data Cleaning / Preprocessing'), (10, 'Sum The Column of a DataFrame in Pandas', 'sum the column of a dataframe pandas', '{\\'cells\\': [{\\'cell_type\\': \\'markdown\\', \\'metadata\\': {}, \\'source\\': [\\'---\\\\n\\', \\'title: \"Sum The Column of a DataFrame in Pandas\"\\\\n\\', \\'desc ... (2715 characters truncated) ... : \\'python\\', \\'nbconvert_exporter\\': \\'python\\', \\'pygments_lexer\\': \\'ipython3\\', \\'version\\': \\'3.6.7\\'}}, \\'nbformat\\': 4, \\'nbformat_minor\\': 2}', 'Pandas, Data Cleaning / Preprocessing, EDA'), (11, 'Remove a Given Character from a String', 'removing a character from a string', '{\\'cells\\': [{\\'cell_type\\': \\'markdown\\', \\'metadata\\': {}, \\'source\\': [\\'---\\\\n\\', \\'title: \"Remove a Given Character from a String\"\\\\n\\', \\'descr ... (5425 characters truncated) ... : \\'python\\', \\'nbconvert_exporter\\': \\'python\\', \\'pygments_lexer\\': \\'ipython3\\', \\'version\\': \\'3.6.7\\'}}, \\'nbformat\\': 4, \\'nbformat_minor\\': 2}', 'Data Cleaning / Preprocessing, Python Fundamentals, Regex, Pandas'), (12, 'Replacing Values in Pandas', 'Replacing values in pandas dataframe', '{\\'cells\\': [{\\'cell_type\\': \\'markdown\\', \\'metadata\\': {}, \\'source\\': [\\'---\\\\n\\', \\'title: \"Replacing Values in Pandas\"\\\\n\\', \\'description: \"Rep ... (9168 characters truncated) ... : \\'python\\', \\'nbconvert_exporter\\': \\'python\\', \\'pygments_lexer\\': \\'ipython3\\', \\'version\\': \\'3.6.7\\'}}, \\'nbformat\\': 4, \\'nbformat_minor\\': 2}', 'Pandas, Data Cleaning / Preprocessing, Regex, Text Processing'), (13, 'Change Data Type', 'Changing the data type for value and column in pandas', '{\\'cells\\': [{\\'cell_type\\': \\'markdown\\', \\'metadata\\': {}, \\'source\\': [\\'---\\\\n\\', \\'title: \"Change Data Type\"\\\\n\\', \\'description: \"Changing the  ... (4039 characters truncated) ... : \\'python\\', \\'nbconvert_exporter\\': \\'python\\', \\'pygments_lexer\\': \\'ipython3\\', \\'version\\': \\'3.6.7\\'}}, \\'nbformat\\': 4, \\'nbformat_minor\\': 2}', 'Pandas, Data Cleaning / Preprocessing, Text Processing'), (14, 'Replace Characters', 'replacing characters in a string', '{\\'cells\\': [{\\'cell_type\\': \\'markdown\\', \\'metadata\\': {}, \\'source\\': [\\'---\\\\n\\', \\'title: \"Replace Characters\"\\\\n\\', \\'description: \"replacing c ... (2561 characters truncated) ... : \\'python\\', \\'nbconvert_exporter\\': \\'python\\', \\'pygments_lexer\\': \\'ipython3\\', \\'version\\': \\'3.6.7\\'}}, \\'nbformat\\': 4, \\'nbformat_minor\\': 2}', 'Data Cleaning / Preprocessing, Text Processing, Regex, Python Fundamentals')]\n"
     ]
    }
   ],
   "source": [
    "result = engine.execute('SELECT * FROM bricks5')\n",
    "print(result.fetchall())"
   ]
  },
  {
   "cell_type": "code",
   "execution_count": null,
   "metadata": {},
   "outputs": [],
   "source": []
  }
 ],
 "metadata": {
  "kernelspec": {
   "display_name": "Python 3",
   "language": "python",
   "name": "python3"
  },
  "language_info": {
   "codemirror_mode": {
    "name": "ipython",
    "version": 3
   },
   "file_extension": ".py",
   "mimetype": "text/x-python",
   "name": "python",
   "nbconvert_exporter": "python",
   "pygments_lexer": "ipython3",
   "version": "3.7.0"
  }
 },
 "nbformat": 4,
 "nbformat_minor": 2
}
