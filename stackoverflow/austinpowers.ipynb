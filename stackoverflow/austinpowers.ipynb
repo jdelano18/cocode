{
 "cells": [
  {
   "cell_type": "code",
   "execution_count": 1,
   "metadata": {},
   "outputs": [],
   "source": [
    "import pandas as pd\n",
    "import json"
   ]
  },
  {
   "cell_type": "code",
   "execution_count": 2,
   "metadata": {},
   "outputs": [],
   "source": [
    "df = pd.read_csv('./batch1.csv', low_memory = False)"
   ]
  },
  {
   "cell_type": "code",
   "execution_count": 3,
   "metadata": {},
   "outputs": [],
   "source": [
    "def write_to_file(ID, title, tags, url, question, answer, questioner, answerer, qlink, alink):\n",
    "    with open ('./austinpowers-template.ipynb') as json_file:\n",
    "        data = json.load(json_file)\n",
    "        \n",
    "        data['cells'][0]['source'][1] = 'title: \"'+title+'\"\\n'\n",
    "        data['cells'][0]['source'][3] = 'tags: \"'+tags+'\"\\n'\n",
    "        data['cells'][0]['source'][4] = 'URL: '+url+'\\n'\n",
    "\n",
    "        data['cells'][2]['source'] = question\n",
    "        data['cells'][4]['source'] = answer\n",
    "        \n",
    "        data['cells'][6]['source'][0] = data['cells'][6]['source'][0].replace(\n",
    "            'answerer&', answerer).replace('questioner&', questioner).replace(\n",
    "            'qlink&', qlink).replace('alink&', alink)\n",
    "        data['cells'][7]['source'][0] = data['cells'][7]['source'][0].replace(\n",
    "            'answerer&', answerer).replace('questioner&', questioner).replace('orig&', url)\n",
    "        \n",
    "    with open ('../sobricks/'+str(ID)+'.ipynb', 'w') as outfile:\n",
    "        json.dump(data, outfile)"
   ]
  },
  {
   "cell_type": "code",
   "execution_count": 4,
   "metadata": {},
   "outputs": [],
   "source": [
    "for i, row in df.iterrows():\n",
    "    tags = str(row['Tags']).replace('><',', ')[1:-1]\n",
    "    url = f\"https://stackoverflow.com/questions/{row['PostId']}\"\n",
    "    qlink = f\"https://stackoverflow.com/users/{row['Id.3']}\"\n",
    "    alink = f\"https://stackoverflow.com/users/{row['Id.4']}\"\n",
    "    \n",
    "    write_to_file(ID = row['PostId'], title = row['Title'], tags = tags, url = url, question = row['Body'], \n",
    "                  answer = row['Body.1'], questioner = row['DisplayName'], answerer = row['DisplayName.1'],\n",
    "                  qlink = qlink, alink = alink)\n",
    "    if i == 3000:\n",
    "        break"
   ]
  },
  {
   "cell_type": "code",
   "execution_count": 5,
   "metadata": {},
   "outputs": [
    {
     "name": "stdout",
     "output_type": "stream",
     "text": [
      "WARNING: You didn't enter a dir_to_dump_to. By default, it is now ../sobricks/\n"
     ]
    }
   ],
   "source": [
    "%%bash\n",
    "cd ../scripts/\n",
    "python3 midas.py ../sobricks/"
   ]
  },
  {
   "cell_type": "code",
   "execution_count": null,
   "metadata": {},
   "outputs": [],
   "source": []
  }
 ],
 "metadata": {
  "kernelspec": {
   "display_name": "Python 3",
   "language": "python",
   "name": "python3"
  },
  "language_info": {
   "codemirror_mode": {
    "name": "ipython",
    "version": 3
   },
   "file_extension": ".py",
   "mimetype": "text/x-python",
   "name": "python",
   "nbconvert_exporter": "python",
   "pygments_lexer": "ipython3",
   "version": "3.7.0"
  }
 },
 "nbformat": 4,
 "nbformat_minor": 2
}
