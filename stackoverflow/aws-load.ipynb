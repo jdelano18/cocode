{
 "cells": [
  {
   "cell_type": "code",
   "execution_count": 1,
   "metadata": {},
   "outputs": [],
   "source": [
    "import boto\n",
    "from boto.s3.connection import S3Connection\n",
    "from boto.s3.key import Key\n",
    "from boto.s3.connection import Location"
   ]
  },
  {
   "cell_type": "code",
   "execution_count": 14,
   "metadata": {},
   "outputs": [
    {
     "name": "stdout",
     "output_type": "stream",
     "text": [
      "APNortheast\n",
      "APSoutheast\n",
      "APSoutheast2\n",
      "CNNorth1\n",
      "DEFAULT\n",
      "EU\n",
      "EUCentral1\n",
      "SAEast\n",
      "USWest\n",
      "USWest2\n"
     ]
    }
   ],
   "source": [
    "print('\\n'.join(i for i in dir(Location) if i[0].isupper()))"
   ]
  },
  {
   "cell_type": "code",
   "execution_count": 7,
   "metadata": {},
   "outputs": [
    {
     "data": {
      "text/plain": [
       "S3Connection:s3.amazonaws.com"
      ]
     },
     "execution_count": 7,
     "metadata": {},
     "output_type": "execute_result"
    }
   ],
   "source": [
    "conn = S3Connection(\"---\", \"----\")\n",
    "conn"
   ]
  },
  {
   "cell_type": "code",
   "execution_count": 2,
   "metadata": {},
   "outputs": [],
   "source": [
    "import boto3\n",
    "from botocore.exceptions import ClientError\n",
    "import logging"
   ]
  },
  {
   "cell_type": "code",
   "execution_count": 18,
   "metadata": {},
   "outputs": [
    {
     "name": "stderr",
     "output_type": "stream",
     "text": [
      "ERROR:root:An error occurred (NotSignedUp) when calling the CreateBucket operation: Your account is not signed up for the S3 service. You must sign up before you can use S3.\n"
     ]
    }
   ],
   "source": [
    "s3 = boto3.client('s3', \n",
    "                  aws_access_key_id = \"---\", \n",
    "                  aws_secret_access_key = \"----\")\n",
    "try:\n",
    "    s3.create_bucket(Bucket=\"sobricks\")\n",
    "except ClientError as e:\n",
    "    logging.error(e)"
   ]
  },
  {
   "cell_type": "code",
   "execution_count": null,
   "metadata": {},
   "outputs": [],
   "source": []
  },
  {
   "cell_type": "code",
   "execution_count": null,
   "metadata": {},
   "outputs": [],
   "source": []
  },
  {
   "cell_type": "code",
   "execution_count": null,
   "metadata": {},
   "outputs": [],
   "source": []
  },
  {
   "cell_type": "code",
   "execution_count": 3,
   "metadata": {},
   "outputs": [],
   "source": [
    "import boto3\n",
    "s3 = boto3.client('s3',\n",
    "        aws_access_key_id='---',\n",
    "        aws_secret_access_key= '----')\n",
    "bucket_name = 'mytestbricks'"
   ]
  },
  {
   "cell_type": "code",
   "execution_count": 4,
   "metadata": {},
   "outputs": [],
   "source": [
    "import os\n",
    "files = []\n",
    "for filename in os.listdir('.'):\n",
    "    if filename.endswith(\".ipynb\"):\n",
    "        files.append(filename)\n",
    "    else:\n",
    "        continue"
   ]
  },
  {
   "cell_type": "code",
   "execution_count": 5,
   "metadata": {},
   "outputs": [
    {
     "data": {
      "text/plain": [
       "['format issue with description.ipynb',\n",
       " 'format issue with title.ipynb',\n",
       " 'format issue with tags.ipynb',\n",
       " 'prices_to_floats.ipynb',\n",
       " 'missing title block.ipynb']"
      ]
     },
     "execution_count": 5,
     "metadata": {},
     "output_type": "execute_result"
    }
   ],
   "source": [
    "tests = files[:2]+files[3:5]+[files[-3]]\n",
    "tests"
   ]
  },
  {
   "cell_type": "code",
   "execution_count": 6,
   "metadata": {},
   "outputs": [],
   "source": [
    "for filename in tests:\n",
    "    #filename = '/Users/jimmydelano/ccbe/testbricks/'+str(file)\n",
    "    s3.upload_file(filename, bucket_name, filename)"
   ]
  },
  {
   "cell_type": "code",
   "execution_count": 7,
   "metadata": {},
   "outputs": [],
   "source": [
    "test2 = 'Access Rows of a DataFrame By Index Label (loc).ipynb'\n",
    "s3.upload_file(test2, bucket_name, test2)"
   ]
  },
  {
   "cell_type": "code",
   "execution_count": 9,
   "metadata": {},
   "outputs": [
    {
     "name": "stdout",
     "output_type": "stream",
     "text": [
      "Applications\n",
      "Desktop\n",
      "Documents\n",
      "Downloads\n",
      "Jupyter stuff\n",
      "Library\n",
      "Movies\n",
      "Music\n",
      "Pictures\n",
      "Public\n",
      "ccbe\n",
      "cocode\n",
      "cs134\n",
      "cs136\n",
      "iCloud Drive (Archive)\n",
      "packages for html.R\n"
     ]
    }
   ],
   "source": [
    "%%bash\n",
    "cd /Users/jimmydelano/ccbe\n",
    "ls"
   ]
  },
  {
   "cell_type": "code",
   "execution_count": null,
   "metadata": {},
   "outputs": [],
   "source": []
  }
 ],
 "metadata": {
  "kernelspec": {
   "display_name": "Python 3",
   "language": "python",
   "name": "python3"
  },
  "language_info": {
   "codemirror_mode": {
    "name": "ipython",
    "version": 3
   },
   "file_extension": ".py",
   "mimetype": "text/x-python",
   "name": "python",
   "nbconvert_exporter": "python",
   "pygments_lexer": "ipython3",
   "version": "3.7.0"
  }
 },
 "nbformat": 4,
 "nbformat_minor": 2
}
