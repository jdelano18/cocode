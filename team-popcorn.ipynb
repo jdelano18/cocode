{
 "cells": [
  {
   "cell_type": "markdown",
   "metadata": {},
   "source": [
    "# Team Popcorn\n",
    "\n",
    "---\n",
    "\n",
    "You're a force to be reckoned with. You are team \"Popcorn\". Working for a big movie studio, you need to report on metrics that will help: **A)** sell movie ideas to potential investors, and **B)** maximize product placement and / or sponsorships.\n",
    "\n",
    "**Your studios lead data scientist has given you some direction / starting points:**\n",
    " - Which movies remained in the top 10 the longest?\n",
    " - Which movies were good investments?\n",
    " - Are there any interesting trends throughout the year?\n",
    " - Google anything interesting about flagship movies in terms of partnerships and how those deals could be relevant to consider in our own research.\n",
    " \n",
    "**Bonus:**\n",
    " - Do any holidays impact sales performance or position?  How could we leverage this?\n",
    " - What could we look at outside our dataset that may help project good investments?\n",
    "\n",
    "\n",
    "#### End with some kind of recommendation for new partnership engagements, tied to your opening goals / metrics.\n",
    "\n",
    "How reliable can your reocmmendation(s) be?  Back up your assumptions with facts and data.\n",
    "\n",
    "_[There's a data dictionary available!](http://www.amstat.org/publications/jse/v17n1/datasets.mclaren.html)_\n",
    "\n",
    "Keep in mind the main points when presenting your findings!  It's interesting to share details and sidepoints, but make sure they're supporting and relating to pitching movies to investment, and helping maximize our partnership goals.\n"
   ]
  },
  {
   "cell_type": "code",
   "execution_count": 15,
   "metadata": {
    "collapsed": true
   },
   "outputs": [
    {
     "data": {
      "text/html": [
       "<div>\n",
       "<style scoped>\n",
       "    .dataframe tbody tr th:only-of-type {\n",
       "        vertical-align: middle;\n",
       "    }\n",
       "\n",
       "    .dataframe tbody tr th {\n",
       "        vertical-align: top;\n",
       "    }\n",
       "\n",
       "    .dataframe thead th {\n",
       "        text-align: right;\n",
       "    }\n",
       "</style>\n",
       "<table border=\"1\" class=\"dataframe\">\n",
       "  <thead>\n",
       "    <tr style=\"text-align: right;\">\n",
       "      <th></th>\n",
       "      <th>NUMBER</th>\n",
       "      <th>MOVIE</th>\n",
       "      <th>WEEK_NUM</th>\n",
       "      <th>WEEKEND_PER_THEATER</th>\n",
       "      <th>WEEKEND_DATE</th>\n",
       "    </tr>\n",
       "  </thead>\n",
       "  <tbody>\n",
       "    <tr>\n",
       "      <th>0</th>\n",
       "      <td>1.0</td>\n",
       "      <td>A Beautiful Mind</td>\n",
       "      <td>1.0</td>\n",
       "      <td>701.0</td>\n",
       "      <td>12/21/01</td>\n",
       "    </tr>\n",
       "    <tr>\n",
       "      <th>1</th>\n",
       "      <td>1.0</td>\n",
       "      <td>A Beautiful Mind</td>\n",
       "      <td>2.0</td>\n",
       "      <td>14820.0</td>\n",
       "      <td>12/28/01</td>\n",
       "    </tr>\n",
       "    <tr>\n",
       "      <th>2</th>\n",
       "      <td>1.0</td>\n",
       "      <td>A Beautiful Mind</td>\n",
       "      <td>3.0</td>\n",
       "      <td>8940.0</td>\n",
       "      <td>1/4/02</td>\n",
       "    </tr>\n",
       "    <tr>\n",
       "      <th>3</th>\n",
       "      <td>1.0</td>\n",
       "      <td>A Beautiful Mind</td>\n",
       "      <td>4.0</td>\n",
       "      <td>6850.0</td>\n",
       "      <td>1/11/02</td>\n",
       "    </tr>\n",
       "    <tr>\n",
       "      <th>4</th>\n",
       "      <td>1.0</td>\n",
       "      <td>A Beautiful Mind</td>\n",
       "      <td>5.0</td>\n",
       "      <td>5280.0</td>\n",
       "      <td>1/18/02</td>\n",
       "    </tr>\n",
       "  </tbody>\n",
       "</table>\n",
       "</div>"
      ],
      "text/plain": [
       "   NUMBER             MOVIE  WEEK_NUM  WEEKEND_PER_THEATER WEEKEND_DATE\n",
       "0     1.0  A Beautiful Mind       1.0                701.0     12/21/01\n",
       "1     1.0  A Beautiful Mind       2.0              14820.0     12/28/01\n",
       "2     1.0  A Beautiful Mind       3.0               8940.0       1/4/02\n",
       "3     1.0  A Beautiful Mind       4.0               6850.0      1/11/02\n",
       "4     1.0  A Beautiful Mind       5.0               5280.0      1/18/02"
      ]
     },
     "execution_count": 15,
     "metadata": {},
     "output_type": "execute_result"
    }
   ],
   "source": [
    "import pandas as pd\n",
    "import numpy as np\n",
    "\n",
    "movies = pd.read_csv(\"./movie_weekend.csv\")\n",
    "movies.head()"
   ]
  },
  {
   "cell_type": "code",
   "execution_count": 25,
   "metadata": {},
   "outputs": [],
   "source": [
    "# weekend per box office number of reciepts\n",
    "g = movies['WEEKEND_PER_THEATER'].groupby(movies['MOVIE'])"
   ]
  },
  {
   "cell_type": "code",
   "execution_count": 27,
   "metadata": {},
   "outputs": [
    {
     "data": {
      "text/plain": [
       "MOVIE\n",
       "Star Wars                   228181.0\n",
       "ET                          201257.0\n",
       "Empire Strikes Back, The    178013.0\n",
       "American Beauty             165891.0\n",
       "Titanic                     165701.0\n",
       "Return of the Jedi          163572.0\n",
       "Million Dollar Baby         154115.0\n",
       "Chicago                     146062.0\n",
       "Raiders of the Lost Ark     144778.0\n",
       "Forrest Gump                128534.0\n",
       "Name: WEEKEND_PER_THEATER, dtype: float64"
      ]
     },
     "execution_count": 27,
     "metadata": {},
     "output_type": "execute_result"
    }
   ],
   "source": [
    "g.sum().sort_values(ascending = False)[:10]"
   ]
  },
  {
   "cell_type": "code",
   "execution_count": 30,
   "metadata": {},
   "outputs": [],
   "source": [
    "most = movies['WEEK_NUM'].groupby(movies['MOVIE'])"
   ]
  },
  {
   "cell_type": "code",
   "execution_count": 34,
   "metadata": {},
   "outputs": [
    {
     "data": {
      "text/plain": [
       "MOVIE\n",
       "ET                         52.0\n",
       "Raiders of the Lost Ark    43.0\n",
       "Return of the Jedi         42.0\n",
       "Forrest Gump               42.0\n",
       "Titanic                    41.0\n",
       "American Beauty            38.0\n",
       "Chicago                    36.0\n",
       "Beverly Hills Cop          33.0\n",
       "Shakespeare in Love        33.0\n",
       "Gladiator                  33.0\n",
       "Name: WEEK_NUM, dtype: float64"
      ]
     },
     "execution_count": 34,
     "metadata": {},
     "output_type": "execute_result"
    }
   ],
   "source": [
    "most.max().sort_values(ascending = False)[:10]"
   ]
  },
  {
   "cell_type": "code",
   "execution_count": 39,
   "metadata": {},
   "outputs": [
    {
     "data": {
      "text/plain": [
       "MOVIE\n",
       "Empire Strikes Back, The    11867.533333\n",
       "Star Wars                    7360.677419\n",
       "Million Dollar Baby          6164.600000\n",
       "Spider-Man                   5865.875000\n",
       "Spider-Man 3                 5864.000000\n",
       "Batman                       5604.692308\n",
       "Shrek 2                      5564.000000\n",
       "Shrek the Third              5366.333333\n",
       "Jurassic Park                4643.809524\n",
       "American Beauty              4365.552632\n",
       "dtype: float64"
      ]
     },
     "execution_count": 39,
     "metadata": {},
     "output_type": "execute_result"
    }
   ],
   "source": [
    "per_bo_per_weekend = g.sum() / most.max()\n",
    "per_bo_per_weekend.sort_values(ascending = False)[:10]"
   ]
  },
  {
   "cell_type": "code",
   "execution_count": 57,
   "metadata": {},
   "outputs": [
    {
     "data": {
      "text/plain": [
       "MOVIE\n",
       "Empire Strikes Back, The    11867.533333\n",
       "Star Wars                    7360.677419\n",
       "Million Dollar Baby          6164.600000\n",
       "Spider-Man                   5865.875000\n",
       "Spider-Man 3                 5864.000000\n",
       "Batman                       5604.692308\n",
       "Shrek 2                      5564.000000\n",
       "Shrek the Third              5366.333333\n",
       "Jurassic Park                4643.809524\n",
       "American Beauty              4365.552632\n",
       "Name: WEEKEND_PER_THEATER, dtype: float64"
      ]
     },
     "execution_count": 57,
     "metadata": {},
     "output_type": "execute_result"
    }
   ],
   "source": [
    "g.mean().sort_values(ascending = False)[:10]"
   ]
  },
  {
   "cell_type": "code",
   "execution_count": 51,
   "metadata": {},
   "outputs": [],
   "source": [
    "movies['date'] = pd.to_datetime(movies['WEEKEND_DATE'])\n",
    "movies['month'] = movies['date'].apply(lambda x: x.month)"
   ]
  },
  {
   "cell_type": "code",
   "execution_count": 52,
   "metadata": {},
   "outputs": [
    {
     "data": {
      "text/html": [
       "<div>\n",
       "<style scoped>\n",
       "    .dataframe tbody tr th:only-of-type {\n",
       "        vertical-align: middle;\n",
       "    }\n",
       "\n",
       "    .dataframe tbody tr th {\n",
       "        vertical-align: top;\n",
       "    }\n",
       "\n",
       "    .dataframe thead th {\n",
       "        text-align: right;\n",
       "    }\n",
       "</style>\n",
       "<table border=\"1\" class=\"dataframe\">\n",
       "  <thead>\n",
       "    <tr style=\"text-align: right;\">\n",
       "      <th></th>\n",
       "      <th>NUMBER</th>\n",
       "      <th>MOVIE</th>\n",
       "      <th>WEEK_NUM</th>\n",
       "      <th>WEEKEND_PER_THEATER</th>\n",
       "      <th>WEEKEND_DATE</th>\n",
       "      <th>date</th>\n",
       "      <th>month</th>\n",
       "    </tr>\n",
       "  </thead>\n",
       "  <tbody>\n",
       "    <tr>\n",
       "      <th>0</th>\n",
       "      <td>1.0</td>\n",
       "      <td>A Beautiful Mind</td>\n",
       "      <td>1.0</td>\n",
       "      <td>701.0</td>\n",
       "      <td>12/21/01</td>\n",
       "      <td>2001-12-21</td>\n",
       "      <td>12.0</td>\n",
       "    </tr>\n",
       "    <tr>\n",
       "      <th>1</th>\n",
       "      <td>1.0</td>\n",
       "      <td>A Beautiful Mind</td>\n",
       "      <td>2.0</td>\n",
       "      <td>14820.0</td>\n",
       "      <td>12/28/01</td>\n",
       "      <td>2001-12-28</td>\n",
       "      <td>12.0</td>\n",
       "    </tr>\n",
       "    <tr>\n",
       "      <th>2</th>\n",
       "      <td>1.0</td>\n",
       "      <td>A Beautiful Mind</td>\n",
       "      <td>3.0</td>\n",
       "      <td>8940.0</td>\n",
       "      <td>1/4/02</td>\n",
       "      <td>2002-01-04</td>\n",
       "      <td>1.0</td>\n",
       "    </tr>\n",
       "    <tr>\n",
       "      <th>3</th>\n",
       "      <td>1.0</td>\n",
       "      <td>A Beautiful Mind</td>\n",
       "      <td>4.0</td>\n",
       "      <td>6850.0</td>\n",
       "      <td>1/11/02</td>\n",
       "      <td>2002-01-11</td>\n",
       "      <td>1.0</td>\n",
       "    </tr>\n",
       "    <tr>\n",
       "      <th>4</th>\n",
       "      <td>1.0</td>\n",
       "      <td>A Beautiful Mind</td>\n",
       "      <td>5.0</td>\n",
       "      <td>5280.0</td>\n",
       "      <td>1/18/02</td>\n",
       "      <td>2002-01-18</td>\n",
       "      <td>1.0</td>\n",
       "    </tr>\n",
       "  </tbody>\n",
       "</table>\n",
       "</div>"
      ],
      "text/plain": [
       "   NUMBER             MOVIE  WEEK_NUM  WEEKEND_PER_THEATER WEEKEND_DATE  \\\n",
       "0     1.0  A Beautiful Mind       1.0                701.0     12/21/01   \n",
       "1     1.0  A Beautiful Mind       2.0              14820.0     12/28/01   \n",
       "2     1.0  A Beautiful Mind       3.0               8940.0       1/4/02   \n",
       "3     1.0  A Beautiful Mind       4.0               6850.0      1/11/02   \n",
       "4     1.0  A Beautiful Mind       5.0               5280.0      1/18/02   \n",
       "\n",
       "        date  month  \n",
       "0 2001-12-21   12.0  \n",
       "1 2001-12-28   12.0  \n",
       "2 2002-01-04    1.0  \n",
       "3 2002-01-11    1.0  \n",
       "4 2002-01-18    1.0  "
      ]
     },
     "execution_count": 52,
     "metadata": {},
     "output_type": "execute_result"
    }
   ],
   "source": [
    "movies.head()"
   ]
  },
  {
   "cell_type": "code",
   "execution_count": 55,
   "metadata": {},
   "outputs": [
    {
     "data": {
      "text/plain": [
       "month\n",
       "6.0     5747.409091\n",
       "5.0     5666.909091\n",
       "7.0     4897.986111\n",
       "12.0    4428.346535\n",
       "1.0     4179.762887\n",
       "11.0    3723.229167\n",
       "8.0     3158.563380\n",
       "2.0     2845.222222\n",
       "3.0     2357.727273\n",
       "9.0     2292.787611\n",
       "10.0    1698.093750\n",
       "4.0     1509.526316\n",
       "Name: WEEKEND_PER_THEATER, dtype: float64"
      ]
     },
     "execution_count": 55,
     "metadata": {},
     "output_type": "execute_result"
    }
   ],
   "source": [
    "months = movies['WEEKEND_PER_THEATER'].groupby(movies['month']).mean()\n",
    "months.sort_values(ascending = False)"
   ]
  },
  {
   "cell_type": "code",
   "execution_count": 58,
   "metadata": {},
   "outputs": [
    {
     "data": {
      "text/plain": [
       "year\n",
       "1980.0    13985.500000\n",
       "1990.0    10547.428571\n",
       "1977.0     8236.909091\n",
       "1989.0     5604.692308\n",
       "1978.0     5218.777778\n",
       "1993.0     5014.736842\n",
       "1998.0     4717.560000\n",
       "1981.0     4155.000000\n",
       "1997.0     4067.222222\n",
       "2002.0     4047.650602\n",
       "1994.0     4039.625000\n",
       "1982.0     4034.854167\n",
       "1984.0     3679.818182\n",
       "1983.0     3642.277778\n",
       "2004.0     3631.077670\n",
       "2005.0     3565.937500\n",
       "1999.0     3292.270492\n",
       "2003.0     3082.861702\n",
       "2007.0     3074.260870\n",
       "1996.0     2994.208333\n",
       "2000.0     2871.819672\n",
       "1985.0     2780.724138\n",
       "2006.0     2737.015152\n",
       "2001.0     2559.634409\n",
       "1991.0     2375.652174\n",
       "1995.0     1244.821429\n",
       "Name: WEEKEND_PER_THEATER, dtype: float64"
      ]
     },
     "execution_count": 58,
     "metadata": {},
     "output_type": "execute_result"
    }
   ],
   "source": [
    "movies['year'] = movies['date'].apply(lambda x: x.year)\n",
    "years = movies['WEEKEND_PER_THEATER'].groupby(movies['year']).mean()\n",
    "years.sort_values(ascending = False)"
   ]
  },
  {
   "cell_type": "markdown",
   "metadata": {},
   "source": [
    "`how = 'any'` sfsfs"
   ]
  },
  {
   "cell_type": "code",
   "execution_count": null,
   "metadata": {},
   "outputs": [],
   "source": []
  }
 ],
 "metadata": {
  "kernelspec": {
   "display_name": "Python 3",
   "language": "python",
   "name": "python3"
  },
  "language_info": {
   "codemirror_mode": {
    "name": "ipython",
    "version": 3
   },
   "file_extension": ".py",
   "mimetype": "text/x-python",
   "name": "python",
   "nbconvert_exporter": "python",
   "pygments_lexer": "ipython3",
   "version": "3.7.0"
  }
 },
 "nbformat": 4,
 "nbformat_minor": 2
}
