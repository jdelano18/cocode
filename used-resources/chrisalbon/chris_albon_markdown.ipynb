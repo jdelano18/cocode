{
 "cells": [
  {
   "cell_type": "markdown",
   "metadata": {},
   "source": [
    "# turns all the relevant markdown files in chris albon into bricks. No template needed for this"
   ]
  },
  {
   "cell_type": "code",
   "execution_count": 12,
   "metadata": {},
   "outputs": [],
   "source": [
    "import subprocess\n",
    "import re\n",
    "import json\n",
    "from os import walk"
   ]
  },
  {
   "cell_type": "code",
   "execution_count": 13,
   "metadata": {},
   "outputs": [],
   "source": [
    "markdown = ['linux/basics', 'linux/environment', 'linux/inputs_and_outputs', 'linux/search', 'linux/text', \n",
    "            'postgresql/add_delete_change', 'postgresql/basics', 'postgresql/dates', 'postgresql/merging_and_joining',\n",
    "            'postgresql/numeric', 'postgresql/tables', 'postgresql/text']\n"
   ]
  },
  {
   "cell_type": "code",
   "execution_count": 14,
   "metadata": {},
   "outputs": [],
   "source": [
    "class Snippet():\n",
    "    def __init__(self, full_path, tag_path, file):\n",
    "        self.full_path = full_path\n",
    "        self.tag_path = tag_path\n",
    "        self.file = file\n",
    "        self.setTags()\n",
    "        self.getMarkdown()\n",
    "        self._setProperties()\n",
    "        self.name = self.title.split('\\\"')[1]\n",
    "\n",
    "        \n",
    "    def setTags(self):\n",
    "        tags = self.tag_path.split('/')\n",
    "        if tags[-1] in ['basics','other']:\n",
    "            tags = [': '.join(tags)]\n",
    "        self.tags = tags\n",
    "        \n",
    "    def getMarkdown(self):\n",
    "        with open(self.full_path +'/'+ self.file, 'r') as myfile:\n",
    "            self.lines = myfile.readlines()\n",
    "            self.markdown = ''.join(self.lines[9:]).replace(\n",
    "                '{{< highlight sql >}}', '```sql').replace('{{< /highlight >}}', '```').replace(\n",
    "                '{{< highlight markdown >}}', '```')\n",
    "    \n",
    "    def _setProperties(self):\n",
    "        self.title = self.lines[1]\n",
    "        self.desc = self.lines[4]\n",
    "            \n",
    "    def _firstcell(self):\n",
    "        markdown_cell = {'cell_type': 'markdown',\n",
    "            'metadata': {},\n",
    "            'source': ['---\\n',\n",
    "            self.title,\n",
    "            self.desc,\n",
    "            'tags: '+ ', '.join(self.tags)+'\\n',\n",
    "            'URL: https://github.com/ActiveState/code\\n',\n",
    "            #'Licence: '+self.copyright+'\\n',\n",
    "            'Creator: \\n',\n",
    "            'Meta: \\n',\n",
    "            '\\n',\n",
    "            '---']}\n",
    "\n",
    "        return markdown_cell\n",
    "    \n",
    "    def _nextCell(self):\n",
    "        markdown_cell = {'cell_type': 'markdown',\n",
    "            'metadata': {},\n",
    "            'source': [self.markdown]\n",
    "            }\n",
    "\n",
    "        return markdown_cell\n",
    "    \n",
    "\n",
    "    def write_to_file(self):\n",
    "        s = '''{\n",
    "                 \"cells\": [{\n",
    "                   \"cell_type\": \"markdown\",\n",
    "                   \"metadata\": {},\n",
    "                   \"source\": [\"# Example&\"]\n",
    "                  }],\n",
    "                 \"metadata\": {\n",
    "                  \"kernelspec\": {\n",
    "                   \"display_name\": \"Python 3\",\n",
    "                   \"language\": \"python\",\n",
    "                   \"name\": \"python3\"\n",
    "                  },\n",
    "                  \"language_info\": {\n",
    "                   \"codemirror_mode\": {\n",
    "                    \"name\": \"ipython\",\n",
    "                    \"version\": 3\n",
    "                   },\n",
    "                   \"file_extension\": \".py\",\n",
    "                   \"mimetype\": \"text/x-python\",\n",
    "                   \"name\": \"python\",\n",
    "                   \"nbconvert_exporter\": \"python\",\n",
    "                   \"pygments_lexer\": \"ipython3\",\n",
    "                   \"version\": \"3.7.0\"\n",
    "                  }\n",
    "                 },\n",
    "                 \"nbformat\": 4,\n",
    "                 \"nbformat_minor\": 2\n",
    "                }\n",
    "                '''\n",
    "        data = json.loads(s)\n",
    "        data['cells'].insert(0, self._firstcell())\n",
    "        data['cells'].insert(2, self._nextCell())\n",
    "\n",
    "        with open ('./inprogress/'+str(self.name)+'.ipynb', 'w') as outfile:\n",
    "            json.dump(data, outfile)"
   ]
  },
  {
   "cell_type": "code",
   "execution_count": 15,
   "metadata": {},
   "outputs": [],
   "source": [
    "mypath = '/Users/jimmydelano/notes/content/'\n",
    "\n",
    "snippet_list = []\n",
    "for (dirpath, dirnames, filenames) in walk(mypath):\n",
    "    if dirpath[len(mypath):] in markdown:\n",
    "        for file in filenames:\n",
    "            if file.endswith('.md'):\n",
    "                clean_dir = dirpath.replace(mypath,'')\n",
    "                s = Snippet(dirpath, clean_dir, file)\n",
    "                snippet_list.append(s)\n",
    "          "
   ]
  },
  {
   "cell_type": "code",
   "execution_count": 16,
   "metadata": {},
   "outputs": [],
   "source": [
    "for s in snippet_list:\n",
    "    s.write_to_file()"
   ]
  }
 ],
 "metadata": {
  "kernelspec": {
   "display_name": "Python 3",
   "language": "python",
   "name": "python3"
  },
  "language_info": {
   "codemirror_mode": {
    "name": "ipython",
    "version": 3
   },
   "file_extension": ".py",
   "mimetype": "text/x-python",
   "name": "python",
   "nbconvert_exporter": "python",
   "pygments_lexer": "ipython3",
   "version": "3.7.0"
  }
 },
 "nbformat": 4,
 "nbformat_minor": 2
}
