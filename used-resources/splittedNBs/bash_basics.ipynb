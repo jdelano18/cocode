{
 "cells": [
  {
   "cell_type": "markdown",
   "metadata": {},
   "source": [
    "---\n",
    "title: \"Navigating In Bash\"\n",
    "description: \"Basic navigation commands in bash. Learn how to go in and out of different directories and see which directory you are in at any given time.\"\n",
    "tags: Bash\n",
    "URL: https://github.com/kickstartcoding/cheatsheets/blob/master/kickstart-backend/2-bash-git.md\n",
    "Licence: Apache License 2.0\n",
    "Creator: \n",
    "Meta: \"cd go up one level\"\n",
    "\n",
    "---"
   ]
  },
  {
   "cell_type": "markdown",
   "metadata": {},
   "source": [
    "# Key Code&"
   ]
  },
  {
   "cell_type": "code",
   "execution_count": null,
   "metadata": {},
   "outputs": [],
   "source": [
    "%%bash\n",
    "cd name_of_directory\n",
    "cd ..     # Go up one\n",
    "cd ~      # Go to home\n",
    "pwd       # Where am I?"
   ]
  },
  {
   "cell_type": "markdown",
   "metadata": {},
   "source": [
    "# Example&"
   ]
  },
  {
   "cell_type": "code",
   "execution_count": 40,
   "metadata": {},
   "outputs": [
    {
     "name": "stdout",
     "output_type": "stream",
     "text": [
      "/Users/jimmydelano\n"
     ]
    }
   ],
   "source": [
    "%%bash\n",
    "cd ~\n",
    "pwd"
   ]
  },
  {
   "cell_type": "markdown",
   "metadata": {},
   "source": [
    "# Example&"
   ]
  },
  {
   "cell_type": "code",
   "execution_count": 41,
   "metadata": {},
   "outputs": [
    {
     "name": "stdout",
     "output_type": "stream",
     "text": [
      "/Users/jimmydelano/Desktop/myfolder\n",
      "/Users/jimmydelano/Desktop\n",
      "/Users/jimmydelano/Downloads\n"
     ]
    }
   ],
   "source": [
    "%%bash\n",
    "cd ~/Desktop/myfolder\n",
    "pwd\n",
    "cd ..\n",
    "pwd\n",
    "cd ../Downloads/\n",
    "pwd"
   ]
  },
  {
   "cell_type": "markdown",
   "metadata": {},
   "source": [
    "---\n",
    "title: \"Listing Files In Bash\"\n",
    "description: \"Listing files in a directory in bash. Learn how to see all files in a directory, see hidden files, more info, and recursively.\"\n",
    "tags: Bash\n",
    "URL: https://github.com/kickstartcoding/cheatsheets/blob/master/kickstart-backend/2-bash-git.md\n",
    "Licence: Apache License 2.0\n",
    "Creator: \n",
    "Meta: \"\"\n",
    "\n",
    "---"
   ]
  },
  {
   "cell_type": "markdown",
   "metadata": {},
   "source": [
    "# Key Code&"
   ]
  },
  {
   "cell_type": "code",
   "execution_count": null,
   "metadata": {},
   "outputs": [],
   "source": [
    "%%bash\n",
    "ls        # List files\n",
    "ls -a     # See hidden\n",
    "ls -l     # See more info\n",
    "ls -R     # Recursive"
   ]
  },
  {
   "cell_type": "markdown",
   "metadata": {},
   "source": [
    "# Example&"
   ]
  },
  {
   "cell_type": "code",
   "execution_count": 47,
   "metadata": {
    "scrolled": false
   },
   "outputs": [
    {
     "name": "stdout",
     "output_type": "stream",
     "text": [
      "anotherfolder\n",
      "dir2\n",
      "dir3\n",
      "hi.py\n",
      "my_notebook.ipynb\n",
      "there.ipynb\n"
     ]
    }
   ],
   "source": [
    "%%bash\n",
    "cd ~/Desktop/myfolder\n",
    "ls"
   ]
  },
  {
   "cell_type": "markdown",
   "metadata": {},
   "source": [
    "# Example&"
   ]
  },
  {
   "cell_type": "code",
   "execution_count": 48,
   "metadata": {},
   "outputs": [
    {
     "name": "stdout",
     "output_type": "stream",
     "text": [
      ".\n",
      "..\n",
      ".ipynb_checkpoints\n",
      "anotherfolder\n",
      "dir2\n",
      "dir3\n",
      "hi.py\n",
      "my_notebook.ipynb\n",
      "there.ipynb\n"
     ]
    }
   ],
   "source": [
    "%%bash\n",
    "cd ~/Desktop/myfolder\n",
    "ls -a"
   ]
  },
  {
   "cell_type": "markdown",
   "metadata": {},
   "source": [
    "# Example&"
   ]
  },
  {
   "cell_type": "code",
   "execution_count": 44,
   "metadata": {
    "scrolled": false
   },
   "outputs": [
    {
     "name": "stdout",
     "output_type": "stream",
     "text": [
      "total 16\n",
      "drwxr-xr-x  3 jimmydelano  staff   96 Jun 13 11:47 anotherfolder\n",
      "drwxr-xr-x  3 jimmydelano  staff   96 Jun 13 11:47 dir2\n",
      "drwxr-xr-x  4 jimmydelano  staff  128 Jun 13 11:54 dir3\n",
      "-rw-r--r--  1 jimmydelano  staff   20 Jun 13 11:42 hi.py\n",
      "-rw-r--r--  1 jimmydelano  staff    6 Jun 13 11:43 there.ipynb\n"
     ]
    }
   ],
   "source": [
    "%%bash\n",
    "cd ~/Desktop/myfolder\n",
    "ls -l"
   ]
  },
  {
   "cell_type": "markdown",
   "metadata": {},
   "source": [
    "# Example&"
   ]
  },
  {
   "cell_type": "code",
   "execution_count": 46,
   "metadata": {
    "scrolled": false
   },
   "outputs": [
    {
     "name": "stdout",
     "output_type": "stream",
     "text": [
      "anotherfolder\n",
      "dir2\n",
      "dir3\n",
      "hi.py\n",
      "my_notebook.ipynb\n",
      "there.ipynb\n",
      "\n",
      "./anotherfolder:\n",
      "surprise.txt\n",
      "\n",
      "./dir2:\n",
      "more.txt\n",
      "\n",
      "./dir3:\n",
      "files.txt\n"
     ]
    }
   ],
   "source": [
    "%%bash\n",
    "cd ~/Desktop/myfolder\n",
    "ls -R"
   ]
  },
  {
   "cell_type": "markdown",
   "metadata": {},
   "source": [
    "---\n",
    "title: \"Move And Rename Files\"\n",
    "description: \"Learn how to move a file to a new folder and rename files in bash.\"\n",
    "tags: Bash\n",
    "URL: https://github.com/kickstartcoding/cheatsheets/blob/master/kickstart-backend/2-bash-git.md\n",
    "Licence: Apache License 2.0\n",
    "Creator: \n",
    "Meta: \"mv\"\n",
    "\n",
    "---"
   ]
  },
  {
   "cell_type": "markdown",
   "metadata": {},
   "source": [
    "# Key Code&"
   ]
  },
  {
   "cell_type": "code",
   "execution_count": null,
   "metadata": {},
   "outputs": [],
   "source": [
    "%%bash\n",
    "mv file.txt new_name.txt # rename\n",
    "mv file.txt ../new/place/ # move"
   ]
  },
  {
   "cell_type": "markdown",
   "metadata": {},
   "source": [
    "# Example&"
   ]
  },
  {
   "cell_type": "code",
   "execution_count": 49,
   "metadata": {},
   "outputs": [
    {
     "name": "stdout",
     "output_type": "stream",
     "text": [
      "anotherfolder\n",
      "dir2\n",
      "dir3\n",
      "hi.py\n",
      "my_notebook.ipynb\n",
      "there.ipynb\n",
      "------\n",
      "anotherfolder\n",
      "dir2\n",
      "dir3\n",
      "hello.py\n",
      "my_notebook.ipynb\n",
      "there.ipynb\n"
     ]
    }
   ],
   "source": [
    "%%bash\n",
    "cd ~/Desktop/myfolder\n",
    "ls\n",
    "echo ------\n",
    "mv hi.py hello.py\n",
    "ls"
   ]
  },
  {
   "cell_type": "markdown",
   "metadata": {},
   "source": [
    "# Example&"
   ]
  },
  {
   "cell_type": "code",
   "execution_count": 50,
   "metadata": {
    "scrolled": false
   },
   "outputs": [
    {
     "name": "stdout",
     "output_type": "stream",
     "text": [
      "anotherfolder\n",
      "dir2\n",
      "dir3\n",
      "hello.py\n",
      "my_notebook.ipynb\n",
      "there.ipynb\n",
      "------\n",
      "anotherfolder\n",
      "dir2\n",
      "dir3\n",
      "hello.py\n",
      "there.ipynb\n",
      "\n",
      "./anotherfolder:\n",
      "surprise.txt\n",
      "\n",
      "./dir2:\n",
      "more.txt\n",
      "\n",
      "./dir3:\n",
      "files.txt\n",
      "my_notebook.ipynb\n"
     ]
    }
   ],
   "source": [
    "%%bash\n",
    "cd ~/Desktop/myfolder\n",
    "ls\n",
    "echo ------\n",
    "mv my_notebook.ipynb dir3\n",
    "ls -R"
   ]
  },
  {
   "cell_type": "markdown",
   "metadata": {},
   "source": [
    "---\n",
    "title: \"Copy Files and Directories\"\n",
    "description: \"Learn how to copy a file and a directory in bash.\"\n",
    "tags: Bash\n",
    "URL: https://github.com/kickstartcoding/cheatsheets/blob/master/kickstart-backend/2-bash-git.md\n",
    "Licence: Apache License 2.0\n",
    "Creator: \n",
    "Meta: \"cp\"\n",
    "\n",
    "---"
   ]
  },
  {
   "cell_type": "markdown",
   "metadata": {},
   "source": [
    "# Key Code&"
   ]
  },
  {
   "cell_type": "code",
   "execution_count": null,
   "metadata": {},
   "outputs": [],
   "source": [
    "%%bash\n",
    "cp file.txt file_backup.txt\n",
    "cp -r directory/ backup/"
   ]
  },
  {
   "cell_type": "markdown",
   "metadata": {},
   "source": [
    "# Example&"
   ]
  },
  {
   "cell_type": "code",
   "execution_count": 51,
   "metadata": {},
   "outputs": [
    {
     "name": "stdout",
     "output_type": "stream",
     "text": [
      "anotherfolder\n",
      "dir2\n",
      "dir3\n",
      "hello.py\n",
      "there.ipynb\n",
      "-------\n",
      "anotherfolder\n",
      "dir2\n",
      "dir3\n",
      "hello.py\n",
      "hello_copy.py\n",
      "there.ipynb\n"
     ]
    }
   ],
   "source": [
    "%%bash\n",
    "cd ~/Desktop/myfolder\n",
    "ls\n",
    "echo -------\n",
    "cp hello.py hello_copy.py\n",
    "ls"
   ]
  },
  {
   "cell_type": "markdown",
   "metadata": {},
   "source": [
    "# Example&"
   ]
  },
  {
   "cell_type": "code",
   "execution_count": 52,
   "metadata": {
    "scrolled": true
   },
   "outputs": [
    {
     "name": "stdout",
     "output_type": "stream",
     "text": [
      "anotherfolder\n",
      "dir2\n",
      "dir3\n",
      "hello.py\n",
      "hello_copy.py\n",
      "there.ipynb\n",
      "\n",
      "./anotherfolder:\n",
      "surprise.txt\n",
      "\n",
      "./dir2:\n",
      "more.txt\n",
      "\n",
      "./dir3:\n",
      "files.txt\n",
      "my_notebook.ipynb\n",
      "------\n",
      "anotherfolder\n",
      "backup_folder\n",
      "dir2\n",
      "dir3\n",
      "hello.py\n",
      "hello_copy.py\n",
      "there.ipynb\n",
      "\n",
      "./anotherfolder:\n",
      "surprise.txt\n",
      "\n",
      "./backup_folder:\n",
      "files.txt\n",
      "my_notebook.ipynb\n",
      "\n",
      "./dir2:\n",
      "more.txt\n",
      "\n",
      "./dir3:\n",
      "files.txt\n",
      "my_notebook.ipynb\n"
     ]
    }
   ],
   "source": [
    "%%bash\n",
    "cd ~/Desktop/myfolder\n",
    "ls -R\n",
    "echo ------\n",
    "cp -r dir3/ backup_folder/\n",
    "ls -R"
   ]
  },
  {
   "cell_type": "markdown",
   "metadata": {},
   "source": [
    "---\n",
    "title: \"Remove File or Directory\"\n",
    "description: \"Learn how to remove a file or directory in bash.\"\n",
    "tags: Bash\n",
    "URL: https://github.com/kickstartcoding/cheatsheets/blob/master/kickstart-backend/2-bash-git.md\n",
    "Licence: Apache License 2.0\n",
    "Creator: \n",
    "Meta: \"rm\"\n",
    "\n",
    "---"
   ]
  },
  {
   "cell_type": "markdown",
   "metadata": {},
   "source": [
    "# Key Code&"
   ]
  },
  {
   "cell_type": "code",
   "execution_count": null,
   "metadata": {},
   "outputs": [],
   "source": [
    "%%bash\n",
    "rm file.txt\n",
    "rmdir empty_directory/\n",
    "rm -r full_directory/"
   ]
  },
  {
   "cell_type": "markdown",
   "metadata": {},
   "source": [
    "# Example&"
   ]
  },
  {
   "cell_type": "code",
   "execution_count": 53,
   "metadata": {},
   "outputs": [
    {
     "name": "stdout",
     "output_type": "stream",
     "text": [
      "anotherfolder\n",
      "backup_folder\n",
      "dir2\n",
      "dir3\n",
      "hello.py\n",
      "hello_copy.py\n",
      "there.ipynb\n",
      "-----\n",
      "anotherfolder\n",
      "backup_folder\n",
      "dir2\n",
      "dir3\n",
      "hello_copy.py\n",
      "there.ipynb\n"
     ]
    }
   ],
   "source": [
    "%%bash\n",
    "cd ~/Desktop/myfolder\n",
    "ls\n",
    "echo -----\n",
    "rm hello.py\n",
    "ls"
   ]
  },
  {
   "cell_type": "markdown",
   "metadata": {},
   "source": [
    "# Example&"
   ]
  },
  {
   "cell_type": "code",
   "execution_count": 54,
   "metadata": {
    "scrolled": false
   },
   "outputs": [
    {
     "name": "stdout",
     "output_type": "stream",
     "text": [
      "anotherfolder\n",
      "backup_folder\n",
      "dir2\n",
      "dir3\n",
      "hello_copy.py\n",
      "there.ipynb\n",
      "\n",
      "./anotherfolder:\n",
      "surprise.txt\n",
      "\n",
      "./backup_folder:\n",
      "files.txt\n",
      "my_notebook.ipynb\n",
      "\n",
      "./dir2:\n",
      "more.txt\n",
      "\n",
      "./dir3:\n",
      "files.txt\n",
      "my_notebook.ipynb\n",
      "-----\n",
      "anotherfolder\n",
      "dir2\n",
      "dir3\n",
      "hello_copy.py\n",
      "there.ipynb\n"
     ]
    }
   ],
   "source": [
    "%%bash\n",
    "cd ~/Desktop/myfolder\n",
    "ls -R\n",
    "echo -----\n",
    "rm -r backup_folder\n",
    "ls"
   ]
  },
  {
   "cell_type": "markdown",
   "metadata": {},
   "source": [
    "---\n",
    "title: \"Make File or Directory\"\n",
    "description: \"Learn how to make a file or directory in bash.\"\n",
    "tags: Bash\n",
    "URL: https://github.com/kickstartcoding/cheatsheets/blob/master/kickstart-backend/2-bash-git.md\n",
    "Licence: Apache License 2.0\n",
    "Creator: \n",
    "Meta: \"mkdir touch\"\n",
    "\n",
    "---"
   ]
  },
  {
   "cell_type": "markdown",
   "metadata": {},
   "source": [
    "# Key Code&"
   ]
  },
  {
   "cell_type": "code",
   "execution_count": null,
   "metadata": {},
   "outputs": [],
   "source": [
    "%%bash\n",
    "mkdir my_directory\n",
    "touch empty_file.py"
   ]
  },
  {
   "cell_type": "markdown",
   "metadata": {},
   "source": [
    "# Example&"
   ]
  },
  {
   "cell_type": "code",
   "execution_count": 55,
   "metadata": {
    "scrolled": true
   },
   "outputs": [
    {
     "name": "stdout",
     "output_type": "stream",
     "text": [
      "anotherfolder\n",
      "dir2\n",
      "dir3\n",
      "hello_copy.py\n",
      "there.ipynb\n",
      "-----\n",
      "anotherfolder\n",
      "dir2\n",
      "dir3\n",
      "example\n",
      "hello_copy.py\n",
      "there.ipynb\n"
     ]
    }
   ],
   "source": [
    "%%bash\n",
    "cd ~/Desktop/myfolder\n",
    "ls\n",
    "echo -----\n",
    "mkdir example\n",
    "ls"
   ]
  },
  {
   "cell_type": "markdown",
   "metadata": {},
   "source": [
    "# Example&"
   ]
  },
  {
   "cell_type": "code",
   "execution_count": 56,
   "metadata": {
    "scrolled": true
   },
   "outputs": [
    {
     "name": "stdout",
     "output_type": "stream",
     "text": [
      "anotherfolder\n",
      "dir2\n",
      "dir3\n",
      "example\n",
      "hello_copy.py\n",
      "there.ipynb\n",
      "-----\n",
      "anotherfolder\n",
      "dir2\n",
      "dir3\n",
      "example\n",
      "hello_copy.py\n",
      "test.txt\n",
      "there.ipynb\n"
     ]
    }
   ],
   "source": [
    "%%bash\n",
    "cd ~/Desktop/myfolder\n",
    "ls\n",
    "echo -----\n",
    "touch test.txt\n",
    "ls"
   ]
  },
  {
   "cell_type": "markdown",
   "metadata": {},
   "source": [
    "---\n",
    "title: \"Read Data From A File In Bash\"\n",
    "description: \"Learn how to read data from a file in bash.\"\n",
    "tags: Bash\n",
    "URL: https://github.com/kickstartcoding/cheatsheets/blob/master/kickstart-backend/2-bash-git.md\n",
    "Licence: Apache License 2.0\n",
    "Creator: \n",
    "Meta: \"cat\"\n",
    "\n",
    "---"
   ]
  },
  {
   "cell_type": "markdown",
   "metadata": {},
   "source": [
    "# Key Code&"
   ]
  },
  {
   "cell_type": "code",
   "execution_count": null,
   "metadata": {},
   "outputs": [],
   "source": [
    "%%bash\n",
    "cat filename.txt\n",
    "cat file1 file2 file3"
   ]
  },
  {
   "cell_type": "markdown",
   "metadata": {},
   "source": [
    "# Example&"
   ]
  },
  {
   "cell_type": "code",
   "execution_count": 57,
   "metadata": {
    "scrolled": true
   },
   "outputs": [
    {
     "name": "stdout",
     "output_type": "stream",
     "text": [
      "this is my example text file with some words\n"
     ]
    }
   ],
   "source": [
    "%%bash\n",
    "cd ~/Desktop/myfolder\n",
    "cat test.txt"
   ]
  },
  {
   "cell_type": "markdown",
   "metadata": {},
   "source": [
    "# Example&"
   ]
  },
  {
   "cell_type": "code",
   "execution_count": 59,
   "metadata": {
    "scrolled": false
   },
   "outputs": [
    {
     "name": "stdout",
     "output_type": "stream",
     "text": [
      "this is my example text file with some words\n",
      "this is another file with some more stuff\n"
     ]
    }
   ],
   "source": [
    "%%bash\n",
    "cd ~/Desktop/myfolder\n",
    "cat test.txt test2.txt"
   ]
  }
 ],
 "metadata": {
  "kernelspec": {
   "display_name": "Python 3",
   "language": "python",
   "name": "python3"
  },
  "language_info": {
   "codemirror_mode": {
    "name": "ipython",
    "version": 3
   },
   "file_extension": ".py",
   "mimetype": "text/x-python",
   "name": "python",
   "nbconvert_exporter": "python",
   "pygments_lexer": "ipython3",
   "version": "3.7.0"
  }
 },
 "nbformat": 4,
 "nbformat_minor": 2
}
