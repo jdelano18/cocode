{
 "cells": [
  {
   "cell_type": "markdown",
   "metadata": {},
   "source": [
    "---\n",
    "title: \"Find The Version Of Git\"\n",
    "description: \"Find the version of git that's running on your computer\"\n",
    "tags: GIT, Bash\n",
    "URL: https://github.com/chrisalbon/notes/\n",
    "Licence: \n",
    "Creator:\n",
    "Meta: \"\"\n",
    "\n",
    "---"
   ]
  },
  {
   "cell_type": "markdown",
   "metadata": {},
   "source": [
    "# Key Code&"
   ]
  },
  {
   "cell_type": "code",
   "execution_count": 1,
   "metadata": {},
   "outputs": [
    {
     "name": "stdout",
     "output_type": "stream",
     "text": [
      "git version 2.21.0 (Apple Git-120)\n"
     ]
    }
   ],
   "source": [
    "%%bash\n",
    "git --version"
   ]
  },
  {
   "cell_type": "markdown",
   "metadata": {},
   "source": [
    "---\n",
    "title: \"Create A New Git Repository\"\n",
    "description: \"Initialize a new git repo by going to the folder of your choice and running git init\"\n",
    "tags: GIT, Bash\n",
    "URL: https://github.com/chrisalbon/notes/\n",
    "Licence: \n",
    "Creator:\n",
    "Meta: \"initialize repo\"\n",
    "\n",
    "---"
   ]
  },
  {
   "cell_type": "markdown",
   "metadata": {},
   "source": [
    "# Key Code&"
   ]
  },
  {
   "cell_type": "code",
   "execution_count": 2,
   "metadata": {},
   "outputs": [
    {
     "name": "stdout",
     "output_type": "stream",
     "text": [
      "Initialized empty Git repository in /Users/jimmydelano/Documents/yourfolder/.git/\n"
     ]
    }
   ],
   "source": [
    "%%bash\n",
    "cd ~/Documents/yourfolder/\n",
    "git init"
   ]
  },
  {
   "cell_type": "markdown",
   "metadata": {},
   "source": [
    "---\n",
    "title: \"Clone An Existing Git Repository\"\n",
    "description: \"Cloning is the process of pulling down a copy of a repository stored on a server. Go to the parent folder of where you want to repository's folder to be in, then run git clone.\"\n",
    "tags: GIT, Bash\n",
    "URL: https://github.com/chrisalbon/notes/\n",
    "Licence: \n",
    "Creator:\n",
    "Meta: \"initialize\"\n",
    "\n",
    "---"
   ]
  },
  {
   "cell_type": "markdown",
   "metadata": {},
   "source": [
    "# Key Code&"
   ]
  },
  {
   "cell_type": "code",
   "execution_count": null,
   "metadata": {},
   "outputs": [],
   "source": [
    "%%bash\n",
    "cd ~/Documents\n",
    "git clone [url to repository] [name of folder / repository you want]"
   ]
  },
  {
   "cell_type": "markdown",
   "metadata": {},
   "source": [
    "---\n",
    "title: \"Check The Status Of A Git Repository\"\n",
    "description: \"Using the git status command.\"\n",
    "tags: GIT, Bash\n",
    "URL: https://github.com/chrisalbon/notes/\n",
    "Licence: \n",
    "Creator:\n",
    "Meta: \"-uno\"\n",
    "\n",
    "---"
   ]
  },
  {
   "cell_type": "markdown",
   "metadata": {},
   "source": [
    "# Key Code&"
   ]
  },
  {
   "cell_type": "code",
   "execution_count": 3,
   "metadata": {},
   "outputs": [
    {
     "name": "stdout",
     "output_type": "stream",
     "text": [
      "On branch master\n",
      "\n",
      "No commits yet\n",
      "\n",
      "nothing to commit (create/copy files and use \"git add\" to track)\n"
     ]
    }
   ],
   "source": [
    "%%bash\n",
    "cd ~/Documents/yourfolder/\n",
    "git status"
   ]
  },
  {
   "cell_type": "code",
   "execution_count": 4,
   "metadata": {},
   "outputs": [
    {
     "name": "stdout",
     "output_type": "stream",
     "text": [
      "On branch master\n",
      "\n",
      "No commits yet\n",
      "\n",
      "nothing to commit (create/copy files and use \"git add\" to track)\n"
     ]
    }
   ],
   "source": [
    "%%bash\n",
    "# only untracked files\n",
    "cd ~/Documents/yourfolder/\n",
    "git status -uno"
   ]
  },
  {
   "cell_type": "markdown",
   "metadata": {},
   "source": [
    "---\n",
    "title: \"Tell Git To Track A File\"\n",
    "description: \"Tell git to track a specific file with git add. You can also tell git to track a folder or everything in your repo.\"\n",
    "tags: GIT, Bash\n",
    "URL: https://github.com/chrisalbon/notes/\n",
    "Licence: \n",
    "Creator:\n",
    "Meta: \"\"\n",
    "\n",
    "---"
   ]
  },
  {
   "cell_type": "markdown",
   "metadata": {},
   "source": [
    "# Key Code&"
   ]
  },
  {
   "cell_type": "markdown",
   "metadata": {},
   "source": [
    "## Add one file"
   ]
  },
  {
   "cell_type": "code",
   "execution_count": 5,
   "metadata": {},
   "outputs": [],
   "source": [
    "%%bash\n",
    "cd ~/Documents/yourfolder/\n",
    "git add readme.md"
   ]
  },
  {
   "cell_type": "markdown",
   "metadata": {},
   "source": [
    "## Add one folder"
   ]
  },
  {
   "cell_type": "code",
   "execution_count": 7,
   "metadata": {},
   "outputs": [],
   "source": [
    "%%bash\n",
    "cd ~/Documents/yourfolder/\n",
    "git add subfolder/"
   ]
  },
  {
   "cell_type": "markdown",
   "metadata": {},
   "source": [
    "## Add everything in repo"
   ]
  },
  {
   "cell_type": "code",
   "execution_count": 8,
   "metadata": {},
   "outputs": [],
   "source": [
    "%%bash\n",
    "cd ~/Documents/yourfolder/\n",
    "git add ."
   ]
  },
  {
   "cell_type": "markdown",
   "metadata": {},
   "source": [
    "---\n",
    "title: \"Make A Commit\"\n",
    "description: \"Make a commit in a git repository.\"\n",
    "tags: GIT, Bash\n",
    "URL: https://github.com/chrisalbon/notes/\n",
    "Licence: \n",
    "Creator:\n",
    "Meta: \"\"\n",
    "\n",
    "---"
   ]
  },
  {
   "cell_type": "markdown",
   "metadata": {},
   "source": [
    "# Key Code&"
   ]
  },
  {
   "cell_type": "code",
   "execution_count": 9,
   "metadata": {},
   "outputs": [
    {
     "name": "stdout",
     "output_type": "stream",
     "text": [
      "[master (root-commit) c03ee30] First commit\n",
      " 1 file changed, 0 insertions(+), 0 deletions(-)\n",
      " create mode 100644 readme.md\n"
     ]
    }
   ],
   "source": [
    "%%bash\n",
    "cd ~/Documents/yourfolder/\n",
    "git commit --m \"First commit\""
   ]
  },
  {
   "cell_type": "markdown",
   "metadata": {},
   "source": [
    "---\n",
    "title: \"Tell Git To Track A Whole Folder\"\n",
    "description: \"Add a whole folder in one line for git add.\"\n",
    "tags: GIT, Bash\n",
    "URL: https://github.com/chrisalbon/notes/\n",
    "Licence: \n",
    "Creator:\n",
    "Meta: \"\"\n",
    "\n",
    "---"
   ]
  },
  {
   "cell_type": "markdown",
   "metadata": {},
   "source": [
    "# Key Code&"
   ]
  },
  {
   "cell_type": "code",
   "execution_count": 10,
   "metadata": {},
   "outputs": [],
   "source": [
    "%%bash\n",
    "cd ~/Documents/yourfolder/\n",
    "git add subfolder/"
   ]
  },
  {
   "cell_type": "markdown",
   "metadata": {},
   "source": [
    "---\n",
    "title: \"Tell Git To Track (And Stage) All Files And Subfolders In A Directory\"\n",
    "description: \"Git add all files and subfolders in a directory in one line.\"\n",
    "tags: GIT, Bash\n",
    "URL: https://github.com/chrisalbon/notes/\n",
    "Licence: \n",
    "Creator:\n",
    "Meta: \"\"\n",
    "\n",
    "---"
   ]
  },
  {
   "cell_type": "markdown",
   "metadata": {},
   "source": [
    "# Key Code&"
   ]
  },
  {
   "cell_type": "code",
   "execution_count": null,
   "metadata": {},
   "outputs": [],
   "source": [
    "%%bash\n",
    "cd ~/Documents/yourfolder/\n",
    "git add -A"
   ]
  },
  {
   "cell_type": "markdown",
   "metadata": {},
   "source": [
    "---\n",
    "title: \"View All Branches\"\n",
    "description: \"View all existing branches in your git repository.\"\n",
    "tags: GIT, Bash\n",
    "URL: https://github.com/chrisalbon/notes/\n",
    "Licence: \n",
    "Creator:\n",
    "Meta: \"\"\n",
    "\n",
    "---"
   ]
  },
  {
   "cell_type": "markdown",
   "metadata": {},
   "source": [
    "# Key Code&"
   ]
  },
  {
   "cell_type": "code",
   "execution_count": 11,
   "metadata": {},
   "outputs": [
    {
     "name": "stdout",
     "output_type": "stream",
     "text": [
      "* master\n"
     ]
    }
   ],
   "source": [
    "%%bash\n",
    "cd ~/Documents/yourfolder/\n",
    "git branch"
   ]
  },
  {
   "cell_type": "markdown",
   "metadata": {},
   "source": [
    "---\n",
    "title: \"Create A New Branch\"\n",
    "description: \"Create a new branch in your git repository.\"\n",
    "tags: GIT, Bash\n",
    "URL: https://github.com/chrisalbon/notes/\n",
    "Licence: \n",
    "Creator:\n",
    "Meta: \"\"\n",
    "\n",
    "---"
   ]
  },
  {
   "cell_type": "markdown",
   "metadata": {},
   "source": [
    "# Key Code&"
   ]
  },
  {
   "cell_type": "code",
   "execution_count": 12,
   "metadata": {},
   "outputs": [],
   "source": [
    "%%bash\n",
    "cd ~/Documents/yourfolder/\n",
    "git branch new_branch"
   ]
  },
  {
   "cell_type": "markdown",
   "metadata": {},
   "source": [
    "---\n",
    "title: \"Create A New Branch And Switch To It\"\n",
    "description: \"Create a new branch and switch to it in one line.\"\n",
    "tags: GIT, Bash\n",
    "URL: https://github.com/chrisalbon/notes/\n",
    "Licence: \n",
    "Creator:\n",
    "Meta: \"\"\n",
    "\n",
    "---"
   ]
  },
  {
   "cell_type": "markdown",
   "metadata": {},
   "source": [
    "# Key Code&"
   ]
  },
  {
   "cell_type": "code",
   "execution_count": 14,
   "metadata": {},
   "outputs": [
    {
     "name": "stderr",
     "output_type": "stream",
     "text": [
      "Switched to a new branch 'branch_name'\n"
     ]
    }
   ],
   "source": [
    "%%bash\n",
    "cd ~/Documents/yourfolder/\n",
    "git checkout -b branch_name"
   ]
  },
  {
   "cell_type": "markdown",
   "metadata": {},
   "source": [
    "---\n",
    "title: \"Switch To A Branch\"\n",
    "description: \"Switch to an existing branch in your repository.\"\n",
    "tags: GIT, Bash\n",
    "URL: https://github.com/chrisalbon/notes/\n",
    "Licence: \n",
    "Creator:\n",
    "Meta: \"\"\n",
    "\n",
    "---"
   ]
  },
  {
   "cell_type": "markdown",
   "metadata": {},
   "source": [
    "# Key Code&"
   ]
  },
  {
   "cell_type": "code",
   "execution_count": 17,
   "metadata": {},
   "outputs": [
    {
     "name": "stderr",
     "output_type": "stream",
     "text": [
      "Switched to branch 'branch_name'\n"
     ]
    }
   ],
   "source": [
    "%%bash\n",
    "cd ~/Documents/yourfolder/\n",
    "git checkout branch_name"
   ]
  },
  {
   "cell_type": "markdown",
   "metadata": {},
   "source": [
    "---\n",
    "title: \"Merge One Branch Into Another\"\n",
    "description: \"Merge one branch into another in your git repository.\"\n",
    "tags: GIT, Bash\n",
    "URL: https://github.com/chrisalbon/notes/\n",
    "Licence: \n",
    "Creator:\n",
    "Meta: \"\"\n",
    "\n",
    "---"
   ]
  },
  {
   "cell_type": "markdown",
   "metadata": {},
   "source": [
    "# Key Code&"
   ]
  },
  {
   "cell_type": "markdown",
   "metadata": {},
   "source": [
    "1. Switch to the branch you want to pull changes into: `git checkout master`"
   ]
  },
  {
   "cell_type": "code",
   "execution_count": 18,
   "metadata": {},
   "outputs": [
    {
     "name": "stderr",
     "output_type": "stream",
     "text": [
      "Switched to branch 'master'\n"
     ]
    }
   ],
   "source": [
    "%%bash\n",
    "cd ~/Documents/yourfolder/\n",
    "git checkout master"
   ]
  },
  {
   "cell_type": "markdown",
   "metadata": {},
   "source": [
    "2. Pull changes from another branch into your branch: `git merge new_ux`"
   ]
  },
  {
   "cell_type": "code",
   "execution_count": 20,
   "metadata": {},
   "outputs": [
    {
     "name": "stdout",
     "output_type": "stream",
     "text": [
      "Already up to date.\n"
     ]
    }
   ],
   "source": [
    "%%bash\n",
    "cd ~/Documents/yourfolder/\n",
    "git merge branch_name"
   ]
  },
  {
   "cell_type": "markdown",
   "metadata": {},
   "source": [
    "---\n",
    "title: \"Push Master Branch To A Github Repository\"\n",
    "description: \"The -u sets the origin as the default for this branch.\"\n",
    "tags: GIT, Bash\n",
    "URL: https://github.com/chrisalbon/notes/\n",
    "Licence: \n",
    "Creator:\n",
    "Meta: \"\"\n",
    "\n",
    "---"
   ]
  },
  {
   "cell_type": "markdown",
   "metadata": {},
   "source": [
    "# Key Code&"
   ]
  },
  {
   "cell_type": "code",
   "execution_count": null,
   "metadata": {},
   "outputs": [],
   "source": [
    "%%bash\n",
    "cd ~/Documents/yourfolder/\n",
    "git push -u origin master"
   ]
  },
  {
   "cell_type": "markdown",
   "metadata": {},
   "source": [
    "---\n",
    "title: \"Pull Down From A Branch From A GitHub Repository To Local Repository\"\n",
    "description: \"\"\n",
    "tags: GIT, Bash\n",
    "URL: https://github.com/chrisalbon/notes/\n",
    "Licence: \n",
    "Creator:\n",
    "Meta: \"\"\n",
    "\n",
    "---"
   ]
  },
  {
   "cell_type": "markdown",
   "metadata": {},
   "source": [
    "# Key Code&"
   ]
  },
  {
   "cell_type": "code",
   "execution_count": null,
   "metadata": {},
   "outputs": [],
   "source": [
    "%%bash\n",
    "cd ~/Documents/yourfolder/\n",
    "git pull origin master"
   ]
  },
  {
   "cell_type": "markdown",
   "metadata": {},
   "source": [
    "---\n",
    "title: \"Pull Down (Fetch) All Branches From GitHub\"\n",
    "description: \"\"\n",
    "tags: GIT, Bash\n",
    "URL: https://github.com/chrisalbon/notes/\n",
    "Licence: \n",
    "Creator:\n",
    "Meta: \"\"\n",
    "\n",
    "---"
   ]
  },
  {
   "cell_type": "markdown",
   "metadata": {},
   "source": [
    "# Key Code&"
   ]
  },
  {
   "cell_type": "code",
   "execution_count": null,
   "metadata": {},
   "outputs": [],
   "source": [
    "%%bash\n",
    "cd ~/Documents/yourfolder/\n",
    "git fetch origin"
   ]
  },
  {
   "cell_type": "markdown",
   "metadata": {},
   "source": [
    "---\n",
    "title: \"View All Remote Branches\"\n",
    "description: \"\"\n",
    "tags: GIT, Bash\n",
    "URL: https://github.com/chrisalbon/notes/\n",
    "Licence: \n",
    "Creator:\n",
    "Meta: \"\"\n",
    "\n",
    "---"
   ]
  },
  {
   "cell_type": "markdown",
   "metadata": {},
   "source": [
    "# Key Code&"
   ]
  },
  {
   "cell_type": "code",
   "execution_count": null,
   "metadata": {},
   "outputs": [],
   "source": [
    "%%bash\n",
    "cd ~/Documents/yourfolder/\n",
    "git branch --remote"
   ]
  },
  {
   "cell_type": "markdown",
   "metadata": {},
   "source": [
    "---\n",
    "title: \"View Log\"\n",
    "description: \"View the log of commits in your repository.\"\n",
    "tags: GIT, Bash\n",
    "URL: https://github.com/chrisalbon/notes/\n",
    "Licence: \n",
    "Creator:\n",
    "Meta: \"\"\n",
    "\n",
    "---"
   ]
  },
  {
   "cell_type": "markdown",
   "metadata": {},
   "source": [
    "# Key Code&"
   ]
  },
  {
   "cell_type": "code",
   "execution_count": null,
   "metadata": {},
   "outputs": [],
   "source": [
    "%%bash\n",
    "cd ~/Documents/yourfolder/\n",
    "git log"
   ]
  },
  {
   "cell_type": "markdown",
   "metadata": {},
   "source": [
    "---\n",
    "title: \"View Unstagged Changes To Files\"\n",
    "description: \"\"\n",
    "tags: GIT, Bash\n",
    "URL: https://github.com/chrisalbon/notes/\n",
    "Licence: \n",
    "Creator:\n",
    "Meta: \"\"\n",
    "\n",
    "---"
   ]
  },
  {
   "cell_type": "markdown",
   "metadata": {},
   "source": [
    "# Key Code&"
   ]
  },
  {
   "cell_type": "code",
   "execution_count": null,
   "metadata": {},
   "outputs": [],
   "source": [
    "%%bash\n",
    "cd ~/Documents/yourfolder/\n",
    "git diff"
   ]
  },
  {
   "cell_type": "markdown",
   "metadata": {},
   "source": [
    "---\n",
    "title: \"Unstage A File\"\n",
    "description: \"Reverse/undo the git add command.\"\n",
    "tags: GIT, Bash\n",
    "URL: https://github.com/chrisalbon/notes/\n",
    "Licence: \n",
    "Creator:\n",
    "Meta: \"undo git add\"\n",
    "\n",
    "---"
   ]
  },
  {
   "cell_type": "markdown",
   "metadata": {},
   "source": [
    "# Key Code&"
   ]
  },
  {
   "cell_type": "code",
   "execution_count": null,
   "metadata": {},
   "outputs": [],
   "source": [
    "%%bash\n",
    "cd ~/Documents/yourfolder/\n",
    "git reset filename"
   ]
  },
  {
   "cell_type": "markdown",
   "metadata": {},
   "source": [
    "---\n",
    "title: \"Undo Last Commit And Move Commits Changes To Staging\"\n",
    "description: \"\"\n",
    "tags: GIT, Bash\n",
    "URL: https://github.com/chrisalbon/notes/\n",
    "Licence: \n",
    "Creator:\n",
    "Meta: \"\"\n",
    "\n",
    "---"
   ]
  },
  {
   "cell_type": "markdown",
   "metadata": {},
   "source": [
    "# Key Code&"
   ]
  },
  {
   "cell_type": "code",
   "execution_count": null,
   "metadata": {},
   "outputs": [],
   "source": [
    "%%bash\n",
    "cd ~/Documents/yourfolder/\n",
    "git reset --soft HEAD^"
   ]
  },
  {
   "cell_type": "markdown",
   "metadata": {},
   "source": [
    "---\n",
    "title: \"Undo Last Commit And Remove All Changes In Your Working Directory\"\n",
    "description: \"\"\n",
    "tags: GIT, Bash\n",
    "URL: https://github.com/chrisalbon/notes/\n",
    "Licence: \n",
    "Creator:\n",
    "Meta: \"\"\n",
    "\n",
    "---"
   ]
  },
  {
   "cell_type": "markdown",
   "metadata": {},
   "source": [
    "# Key Code&"
   ]
  },
  {
   "cell_type": "markdown",
   "metadata": {},
   "source": [
    "**Warning:** be careful! This command is very powerful"
   ]
  },
  {
   "cell_type": "code",
   "execution_count": null,
   "metadata": {},
   "outputs": [],
   "source": [
    "%%bash\n",
    "cd ~/Documents/yourfolder/\n",
    "git reset --hard HEAD^"
   ]
  },
  {
   "cell_type": "markdown",
   "metadata": {},
   "source": [
    "---\n",
    "title: \"Clone A Remote Repository Locally\"\n",
    "description: \"\"\n",
    "tags: GIT, Bash\n",
    "URL: https://github.com/chrisalbon/notes/\n",
    "Licence: \n",
    "Creator:\n",
    "Meta: \"\"\n",
    "\n",
    "---"
   ]
  },
  {
   "cell_type": "markdown",
   "metadata": {},
   "source": [
    "# Key Code&"
   ]
  },
  {
   "cell_type": "code",
   "execution_count": null,
   "metadata": {},
   "outputs": [],
   "source": [
    "%%bash\n",
    "cd ~/Documents/yourfolder/\n",
    "git clone url"
   ]
  },
  {
   "cell_type": "markdown",
   "metadata": {},
   "source": [
    "---\n",
    "title: \"Show Changes From A Particular Commit\"\n",
    "description: \"You can find the commitID in the git log.\"\n",
    "tags: GIT, Bash\n",
    "URL: https://github.com/chrisalbon/notes/\n",
    "Licence: \n",
    "Creator:\n",
    "Meta: \"\"\n",
    "\n",
    "---"
   ]
  },
  {
   "cell_type": "markdown",
   "metadata": {},
   "source": [
    "# Key Code&"
   ]
  },
  {
   "cell_type": "code",
   "execution_count": null,
   "metadata": {},
   "outputs": [],
   "source": [
    "%%bash\n",
    "cd ~/Documents/yourfolder/\n",
    "git show --pretty=\"format:\" <commitID>"
   ]
  },
  {
   "cell_type": "markdown",
   "metadata": {},
   "source": [
    "---\n",
    "title: \"Revert A Commit By Creating A New Commit With Opposite Changes\"\n",
    "description: \"You can find the commitID in the git log.\"\n",
    "tags: GIT, Bash\n",
    "URL: https://github.com/chrisalbon/notes/\n",
    "Licence: \n",
    "Creator:\n",
    "Meta: \"\"\n",
    "\n",
    "---"
   ]
  },
  {
   "cell_type": "markdown",
   "metadata": {},
   "source": [
    "# Key Code&"
   ]
  },
  {
   "cell_type": "code",
   "execution_count": null,
   "metadata": {},
   "outputs": [],
   "source": [
    "%%bash\n",
    "cd ~/Documents/yourfolder/\n",
    "git revert <commitID>"
   ]
  }
 ],
 "metadata": {
  "kernelspec": {
   "display_name": "Python 3",
   "language": "python",
   "name": "python3"
  },
  "language_info": {
   "codemirror_mode": {
    "name": "ipython",
    "version": 3
   },
   "file_extension": ".py",
   "mimetype": "text/x-python",
   "name": "python",
   "nbconvert_exporter": "python",
   "pygments_lexer": "ipython3",
   "version": "3.7.0"
  }
 },
 "nbformat": 4,
 "nbformat_minor": 2
}
